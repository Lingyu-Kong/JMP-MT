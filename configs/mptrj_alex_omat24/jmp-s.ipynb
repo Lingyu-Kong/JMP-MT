{
 "cells": [
  {
   "cell_type": "code",
   "execution_count": 5,
   "metadata": {},
   "outputs": [
    {
     "data": {
      "text/html": [
       "<script> (()=>{ if (customElements.get('treescope-container') === undefined) { class TreescopeContainer extends HTMLElement { constructor() { super(); this.attachShadow({mode: \"open\"}); this.defns = {}; this.state = {}; } } customElements.define(\"treescope-container\", TreescopeContainer); } if (customElements.get('treescope-run-here') === undefined) { class RunHere extends HTMLElement { constructor() { super() } connectedCallback() { const run = child => { const fn = new Function(child.textContent); child.textContent = \"\"; fn.call(this); this.remove(); }; const child = this.querySelector(\"script\"); if (child) { run(child); } else { new MutationObserver(()=>{ run(this.querySelector(\"script\")); }).observe(this, {childList: true}); } } } customElements.define(\"treescope-run-here\", RunHere); } })(); </script> <treescope-container class=\"treescope_out_7e491d99c9b84bf7b84d92e2889574f5\" ></treescope-container> <treescope-run-here><script type=\"application/octet-stream\"> const root = ( Array.from(document.getElementsByClassName( \"treescope_out_7e491d99c9b84bf7b84d92e2889574f5\")) .filter((elt) => !elt.dataset.setup) )[0]; root.dataset.setup = 1; const msg = document.createElement(\"span\"); msg.style = \"color: #cccccc; font-family: monospace;\"; msg.textContent = \"(Loading...)\"; root.state.loadingMsg = msg; root.shadowRoot.appendChild(msg); root.state.chain = new Promise((resolve, reject) => { const observer = new IntersectionObserver((entries) => { for (const entry of entries) { if (entry.isIntersecting) { resolve(); observer.disconnect(); return; } } }, {rootMargin: \"1000px\"}); window.setTimeout(() => { observer.observe(root); }, 0); }); root.state.deferring = false; const _insertNode = (node) => { for (let oldScript of node.querySelectorAll(\"script\")) { let newScript = document.createElement(\"script\"); newScript.type = oldScript.type; newScript.textContent = oldScript.textContent; oldScript.parentNode.replaceChild(newScript, oldScript); } if (root.state.loadingMsg) { root.state.loadingMsg.remove(); root.state.loadingMsg = null; } root.shadowRoot.appendChild(node); }; root.defns.insertContent = ((contentNode, compressed) => { if (compressed) { root.state.deferring = true; } if (root.state.deferring) { root.state.chain = (async () => { await root.state.chain; if (compressed) { const encoded = contentNode.textContent; const blob = new Blob([ Uint8Array.from(atob(encoded), (m) => m.codePointAt(0)) ]); const reader = blob.stream().pipeThrough( new DecompressionStream(\"deflate\") ).pipeThrough( new TextDecoderStream(\"utf-8\") ).getReader(); const parts = []; while (true) { const step = await reader.read(); if (step.done) { break; } parts.push(step.value); } const tpl = document.createElement('template'); tpl.innerHTML = parts.join(\"\"); _insertNode(tpl.content); } else { _insertNode(contentNode.content); } })(); } else { _insertNode(contentNode.content); } }); </script></treescope-run-here><div style=\"display:none\"> <script type=\"application/octet-stream\" >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</script> <treescope-run-here><script type=\"application/octet-stream\"> const root = ( Array.from(document.getElementsByClassName( \"treescope_out_7e491d99c9b84bf7b84d92e2889574f5\")) .filter((elt) => !elt.dataset['step0']) )[0]; root.dataset['step0'] = 1; root.defns.insertContent( this.parentNode.querySelector('script[type=\"application/octet-stream\"]'), true ); this.parentNode.remove(); </script></treescope-run-here> </div>"
      ],
      "text/plain": [
       "<IPython.core.display.HTML object>"
      ]
     },
     "metadata": {},
     "output_type": "display_data"
    },
    {
     "data": {
      "text/html": [
       "<script> (()=>{ if (customElements.get('treescope-container') === undefined) { class TreescopeContainer extends HTMLElement { constructor() { super(); this.attachShadow({mode: \"open\"}); this.defns = {}; this.state = {}; } } customElements.define(\"treescope-container\", TreescopeContainer); } if (customElements.get('treescope-run-here') === undefined) { class RunHere extends HTMLElement { constructor() { super() } connectedCallback() { const run = child => { const fn = new Function(child.textContent); child.textContent = \"\"; fn.call(this); this.remove(); }; const child = this.querySelector(\"script\"); if (child) { run(child); } else { new MutationObserver(()=>{ run(this.querySelector(\"script\")); }).observe(this, {childList: true}); } } } customElements.define(\"treescope-run-here\", RunHere); } })(); </script> <treescope-container class=\"treescope_out_f84433d7ac174a0cbd11fdd11f266f3e\" ></treescope-container> <treescope-run-here><script type=\"application/octet-stream\"> const root = ( Array.from(document.getElementsByClassName( \"treescope_out_f84433d7ac174a0cbd11fdd11f266f3e\")) .filter((elt) => !elt.dataset.setup) )[0]; root.dataset.setup = 1; const msg = document.createElement(\"span\"); msg.style = \"color: #cccccc; font-family: monospace;\"; msg.textContent = \"(Loading...)\"; root.state.loadingMsg = msg; root.shadowRoot.appendChild(msg); root.state.chain = new Promise((resolve, reject) => { const observer = new IntersectionObserver((entries) => { for (const entry of entries) { if (entry.isIntersecting) { resolve(); observer.disconnect(); return; } } }, {rootMargin: \"1000px\"}); window.setTimeout(() => { observer.observe(root); }, 0); }); root.state.deferring = false; const _insertNode = (node) => { for (let oldScript of node.querySelectorAll(\"script\")) { let newScript = document.createElement(\"script\"); newScript.type = oldScript.type; newScript.textContent = oldScript.textContent; oldScript.parentNode.replaceChild(newScript, oldScript); } if (root.state.loadingMsg) { root.state.loadingMsg.remove(); root.state.loadingMsg = null; } root.shadowRoot.appendChild(node); }; root.defns.insertContent = ((contentNode, compressed) => { if (compressed) { root.state.deferring = true; } if (root.state.deferring) { root.state.chain = (async () => { await root.state.chain; if (compressed) { const encoded = contentNode.textContent; const blob = new Blob([ Uint8Array.from(atob(encoded), (m) => m.codePointAt(0)) ]); const reader = blob.stream().pipeThrough( new DecompressionStream(\"deflate\") ).pipeThrough( new TextDecoderStream(\"utf-8\") ).getReader(); const parts = []; while (true) { const step = await reader.read(); if (step.done) { break; } parts.push(step.value); } const tpl = document.createElement('template'); tpl.innerHTML = parts.join(\"\"); _insertNode(tpl.content); } else { _insertNode(contentNode.content); } })(); } else { _insertNode(contentNode.content); } }); </script></treescope-run-here><div style=\"display:none\"> <script type=\"application/octet-stream\" >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</script> <treescope-run-here><script type=\"application/octet-stream\"> const root = ( Array.from(document.getElementsByClassName( \"treescope_out_f84433d7ac174a0cbd11fdd11f266f3e\")) .filter((elt) => !elt.dataset['step0']) )[0]; root.dataset['step0'] = 1; root.defns.insertContent( this.parentNode.querySelector('script[type=\"application/octet-stream\"]'), true ); this.parentNode.remove(); </script></treescope-run-here> </div>"
      ],
      "text/plain": [
       "<IPython.core.display.HTML object>"
      ]
     },
     "metadata": {},
     "output_type": "display_data"
    }
   ],
   "source": [
    "from pathlib import Path\n",
    "\n",
    "import nshconfig_extra as CE\n",
    "import nshtrainer as nt\n",
    "import nshutils as nu\n",
    "from jmp.lightning_datamodule import MPTrjAlexOMAT24DataModuleConfig\n",
    "from jmp.lightning_module import Config, TargetsConfig\n",
    "from jmp.models.gemnet.graph import (\n",
    "    CutoffsConfig,\n",
    "    GraphComputerConfig,\n",
    "    MaxNeighborsConfig,\n",
    ")\n",
    "from jmp.nn.energy_head import EnergyTargetConfig\n",
    "from jmp.nn.force_head import ForceTargetConfig\n",
    "from jmp.nn.stress_head import StressTargetConfig\n",
    "\n",
    "cwd = Path(\"/net/csefiles/coc-fung-cluster/nima/shared/experiment-data/\")\n",
    "env = {\n",
    "    \"HF_HOME\": \"/net/csefiles/coc-fung-cluster/nima/shared/cache/huggingface\",\n",
    "}\n",
    "\n",
    "config = Config.draft()\n",
    "config.pretrained_ckpt = CE.CachedPath(\n",
    "    uri=\"/net/csefiles/coc-fung-cluster/nima/shared/checkpoints/jmp-s.pt\"\n",
    ")\n",
    "config.graph_computer = GraphComputerConfig(\n",
    "    cutoffs=CutoffsConfig.from_constant(8.0),\n",
    "    max_neighbors=MaxNeighborsConfig(main=20, aeaint=20, aint=1000, qint=8),\n",
    "    pbc=True,\n",
    "    per_graph_radius_graph=True,\n",
    ")\n",
    "config.optimizer = nt.config.AdamWConfig(lr=5.0e-5, weight_decay=0.001)\n",
    "config.lr_scheduler = nt.config.LinearWarmupCosineDecayLRSchedulerConfig(\n",
    "    warmup_duration=nt.config.StepsConfig(value=5000),\n",
    "    warmup_start_lr_factor=0.001,\n",
    "    max_duration=nt.config.StepsConfig(value=500_000),\n",
    "    min_lr_factor=0.1,\n",
    ")\n",
    "config.targets = TargetsConfig(\n",
    "    energy=EnergyTargetConfig(max_atomic_number=120),\n",
    "    force=ForceTargetConfig(),\n",
    "    stress=StressTargetConfig(num_layers=5),\n",
    ")\n",
    "config.trainer.precision = \"16-mixed-auto\"\n",
    "config.trainer.set_float32_matmul_precision = \"medium\"\n",
    "config = config.finalize()\n",
    "nu.display(config)\n",
    "\n",
    "data_config = MPTrjAlexOMAT24DataModuleConfig.draft()\n",
    "data_config.batch_size = 100\n",
    "data_config.num_workers = 8\n",
    "data_config.salex.local_path = Path(\"/storage/nima/salex-ocp/hf/\")\n",
    "data_config.omat24.local_path = Path(\"/storage/nima/omat24/hf/\")\n",
    "data_config.with_linear_reference_(\"mptrj-salex\")\n",
    "data_config = data_config.finalize()\n",
    "nu.display(data_config)"
   ]
  },
  {
   "cell_type": "code",
   "execution_count": 6,
   "metadata": {},
   "outputs": [],
   "source": [
    "from jmp.lightning_datamodule import MPTrjAlexOMAT24DataModule\n",
    "from jmp.lightning_module import Module\n",
    "\n",
    "\n",
    "def run(config: Config, data_config: MPTrjAlexOMAT24DataModuleConfig):\n",
    "    module = Module(config)\n",
    "    datamodule = MPTrjAlexOMAT24DataModule(data_config)\n",
    "    trainer = nt.Trainer(config)\n",
    "    trainer.fit(module, datamodule)"
   ]
  },
  {
   "cell_type": "code",
   "execution_count": null,
   "metadata": {},
   "outputs": [
    {
     "data": {
      "application/vnd.jupyter.widget-view+json": {
       "model_id": "2156b0c6fe09468bb20f6a90ec91fd2e",
       "version_major": 2,
       "version_minor": 0
      },
      "text/plain": [
       "  0%|          | 0/1 [00:00<?, ?it/s]"
      ]
     },
     "metadata": {},
     "output_type": "display_data"
    },
    {
     "name": "stderr",
     "output_type": "stream",
     "text": [
      "Seed set to 0\n",
      "INFO:jmp.models.gemnet.layers.radial_basis_dynamic_cutoff:[RadialBasis] Using absolute cutoff of 12.0 Angstroms.\n",
      "INFO:jmp.models.gemnet.layers.radial_basis_dynamic_cutoff:[RadialBasis] Using absolute cutoff of 12.0 Angstroms.\n",
      "INFO:jmp.models.gemnet.layers.radial_basis_dynamic_cutoff:[RadialBasis] Using absolute cutoff of 12.0 Angstroms.\n",
      "INFO:jmp.models.gemnet.layers.radial_basis_dynamic_cutoff:[RadialBasis] Using absolute cutoff of 12.0 Angstroms.\n"
     ]
    },
    {
     "name": "stdout",
     "output_type": "stream",
     "text": [
      "Unrecognized arguments:  dict_keys(['ln', 'dropout', 'replace_scale_factors_with_ln', 'learnable_rbf', 'learnable_rbf_stds', 'unique_basis_per_layer', 'old_gaussian_implementation', 'edge_dropout'])\n"
     ]
    },
    {
     "name": "stderr",
     "output_type": "stream",
     "text": [
      "INFO:jmp.models.gemnet.layers.radial_basis_dynamic_cutoff:[RadialBasis] Using absolute cutoff of 12.0 Angstroms.\n",
      "INFO:jmp.models.gemnet.layers.radial_basis_dynamic_cutoff:[RadialBasis] Using absolute cutoff of 12.0 Angstroms.\n",
      "INFO:jmp.models.gemnet.layers.radial_basis_dynamic_cutoff:[RadialBasis] Using absolute cutoff of 12.0 Angstroms.\n",
      "CRITICAL:root:Found the following scale factors: [('int_blocks.0.trip_interaction.scale_rbf', 'int_blocks.0.trip_interaction.scale_rbf'), ('int_blocks.0.trip_interaction.scale_cbf_sum', 'int_blocks.0.trip_interaction.scale_cbf_sum'), ('int_blocks.0.quad_interaction.scale_rbf', 'int_blocks.0.quad_interaction.scale_rbf'), ('int_blocks.0.quad_interaction.scale_cbf', 'int_blocks.0.quad_interaction.scale_cbf'), ('int_blocks.0.quad_interaction.scale_sbf_sum', 'int_blocks.0.quad_interaction.scale_sbf_sum'), ('int_blocks.0.atom_edge_interaction.scale_rbf', 'int_blocks.0.atom_edge_interaction.scale_rbf'), ('int_blocks.0.atom_edge_interaction.scale_cbf_sum', 'int_blocks.0.atom_edge_interaction.scale_cbf_sum'), ('int_blocks.0.edge_atom_interaction.scale_rbf', 'int_blocks.0.edge_atom_interaction.scale_rbf'), ('int_blocks.0.edge_atom_interaction.scale_cbf_sum', 'int_blocks.0.edge_atom_interaction.scale_cbf_sum'), ('int_blocks.0.atom_interaction.scale_rbf_sum', 'int_blocks.0.atom_interaction.scale_rbf_sum'), ('int_blocks.0.atom_update.scale_sum', 'int_blocks.0.atom_update.scale_sum'), ('int_blocks.1.trip_interaction.scale_rbf', 'int_blocks.1.trip_interaction.scale_rbf'), ('int_blocks.1.trip_interaction.scale_cbf_sum', 'int_blocks.1.trip_interaction.scale_cbf_sum'), ('int_blocks.1.quad_interaction.scale_rbf', 'int_blocks.1.quad_interaction.scale_rbf'), ('int_blocks.1.quad_interaction.scale_cbf', 'int_blocks.1.quad_interaction.scale_cbf'), ('int_blocks.1.quad_interaction.scale_sbf_sum', 'int_blocks.1.quad_interaction.scale_sbf_sum'), ('int_blocks.1.atom_edge_interaction.scale_rbf', 'int_blocks.1.atom_edge_interaction.scale_rbf'), ('int_blocks.1.atom_edge_interaction.scale_cbf_sum', 'int_blocks.1.atom_edge_interaction.scale_cbf_sum'), ('int_blocks.1.edge_atom_interaction.scale_rbf', 'int_blocks.1.edge_atom_interaction.scale_rbf'), ('int_blocks.1.edge_atom_interaction.scale_cbf_sum', 'int_blocks.1.edge_atom_interaction.scale_cbf_sum'), ('int_blocks.1.atom_interaction.scale_rbf_sum', 'int_blocks.1.atom_interaction.scale_rbf_sum'), ('int_blocks.1.atom_update.scale_sum', 'int_blocks.1.atom_update.scale_sum'), ('int_blocks.2.trip_interaction.scale_rbf', 'int_blocks.2.trip_interaction.scale_rbf'), ('int_blocks.2.trip_interaction.scale_cbf_sum', 'int_blocks.2.trip_interaction.scale_cbf_sum'), ('int_blocks.2.quad_interaction.scale_rbf', 'int_blocks.2.quad_interaction.scale_rbf'), ('int_blocks.2.quad_interaction.scale_cbf', 'int_blocks.2.quad_interaction.scale_cbf'), ('int_blocks.2.quad_interaction.scale_sbf_sum', 'int_blocks.2.quad_interaction.scale_sbf_sum'), ('int_blocks.2.atom_edge_interaction.scale_rbf', 'int_blocks.2.atom_edge_interaction.scale_rbf'), ('int_blocks.2.atom_edge_interaction.scale_cbf_sum', 'int_blocks.2.atom_edge_interaction.scale_cbf_sum'), ('int_blocks.2.edge_atom_interaction.scale_rbf', 'int_blocks.2.edge_atom_interaction.scale_rbf'), ('int_blocks.2.edge_atom_interaction.scale_cbf_sum', 'int_blocks.2.edge_atom_interaction.scale_cbf_sum'), ('int_blocks.2.atom_interaction.scale_rbf_sum', 'int_blocks.2.atom_interaction.scale_rbf_sum'), ('int_blocks.2.atom_update.scale_sum', 'int_blocks.2.atom_update.scale_sum'), ('int_blocks.3.trip_interaction.scale_rbf', 'int_blocks.3.trip_interaction.scale_rbf'), ('int_blocks.3.trip_interaction.scale_cbf_sum', 'int_blocks.3.trip_interaction.scale_cbf_sum'), ('int_blocks.3.quad_interaction.scale_rbf', 'int_blocks.3.quad_interaction.scale_rbf'), ('int_blocks.3.quad_interaction.scale_cbf', 'int_blocks.3.quad_interaction.scale_cbf'), ('int_blocks.3.quad_interaction.scale_sbf_sum', 'int_blocks.3.quad_interaction.scale_sbf_sum'), ('int_blocks.3.atom_edge_interaction.scale_rbf', 'int_blocks.3.atom_edge_interaction.scale_rbf'), ('int_blocks.3.atom_edge_interaction.scale_cbf_sum', 'int_blocks.3.atom_edge_interaction.scale_cbf_sum'), ('int_blocks.3.edge_atom_interaction.scale_rbf', 'int_blocks.3.edge_atom_interaction.scale_rbf'), ('int_blocks.3.edge_atom_interaction.scale_cbf_sum', 'int_blocks.3.edge_atom_interaction.scale_cbf_sum'), ('int_blocks.3.atom_interaction.scale_rbf_sum', 'int_blocks.3.atom_interaction.scale_rbf_sum'), ('int_blocks.3.atom_update.scale_sum', 'int_blocks.3.atom_update.scale_sum'), ('out_blocks.0.scale_sum', 'out_blocks.0.scale_sum'), ('out_blocks.0.scale_rbf_F', 'out_blocks.0.scale_rbf_F'), ('out_blocks.1.scale_sum', 'out_blocks.1.scale_sum'), ('out_blocks.1.scale_rbf_F', 'out_blocks.1.scale_rbf_F'), ('out_blocks.2.scale_sum', 'out_blocks.2.scale_sum'), ('out_blocks.2.scale_rbf_F', 'out_blocks.2.scale_rbf_F'), ('out_blocks.3.scale_sum', 'out_blocks.3.scale_sum'), ('out_blocks.3.scale_rbf_F', 'out_blocks.3.scale_rbf_F'), ('out_blocks.4.scale_sum', 'out_blocks.4.scale_sum'), ('out_blocks.4.scale_rbf_F', 'out_blocks.4.scale_rbf_F')].\n",
      "CRITICAL:root:Loaded the following scale factors: ['int_blocks.0.atom_update.scale_sum', 'out_blocks.3.scale_rbf_F', 'int_blocks.3.atom_edge_interaction.scale_rbf', 'int_blocks.2.atom_edge_interaction.scale_cbf_sum', 'int_blocks.2.trip_interaction.scale_rbf', 'out_blocks.2.scale_rbf_F', 'int_blocks.0.trip_interaction.scale_cbf_sum', 'int_blocks.3.quad_interaction.scale_cbf', 'int_blocks.1.atom_update.scale_sum', 'out_blocks.2.scale_sum', 'out_blocks.4.scale_sum', 'int_blocks.0.atom_edge_interaction.scale_rbf', 'int_blocks.3.atom_update.scale_sum', 'out_blocks.1.scale_sum', 'int_blocks.2.quad_interaction.scale_sbf_sum', 'int_blocks.3.trip_interaction.scale_cbf_sum', 'int_blocks.3.atom_edge_interaction.scale_cbf_sum', 'int_blocks.1.quad_interaction.scale_cbf', 'out_blocks.4.scale_rbf_F', 'int_blocks.1.atom_edge_interaction.scale_rbf', 'int_blocks.1.trip_interaction.scale_cbf_sum', 'int_blocks.1.quad_interaction.scale_rbf', 'int_blocks.0.trip_interaction.scale_rbf', 'int_blocks.2.trip_interaction.scale_cbf_sum', 'int_blocks.0.atom_interaction.scale_rbf_sum', 'int_blocks.3.quad_interaction.scale_rbf', 'int_blocks.2.atom_edge_interaction.scale_rbf', 'int_blocks.2.quad_interaction.scale_cbf', 'int_blocks.0.quad_interaction.scale_sbf_sum', 'int_blocks.2.atom_interaction.scale_rbf_sum', 'int_blocks.3.quad_interaction.scale_sbf_sum', 'int_blocks.3.edge_atom_interaction.scale_cbf_sum', 'out_blocks.0.scale_rbf_F', 'int_blocks.0.edge_atom_interaction.scale_cbf_sum', 'int_blocks.0.atom_edge_interaction.scale_cbf_sum', 'out_blocks.3.scale_sum', 'int_blocks.0.quad_interaction.scale_rbf', 'int_blocks.1.edge_atom_interaction.scale_cbf_sum', 'int_blocks.2.edge_atom_interaction.scale_cbf_sum', 'out_blocks.1.scale_rbf_F', 'int_blocks.0.quad_interaction.scale_cbf', 'int_blocks.3.trip_interaction.scale_rbf', 'int_blocks.0.edge_atom_interaction.scale_rbf', 'int_blocks.1.atom_edge_interaction.scale_cbf_sum', 'int_blocks.3.edge_atom_interaction.scale_rbf', 'int_blocks.1.trip_interaction.scale_rbf', 'int_blocks.1.quad_interaction.scale_sbf_sum', 'int_blocks.2.atom_update.scale_sum', 'int_blocks.1.edge_atom_interaction.scale_rbf', 'int_blocks.2.edge_atom_interaction.scale_rbf', 'int_blocks.2.quad_interaction.scale_rbf', 'int_blocks.3.atom_interaction.scale_rbf_sum', 'int_blocks.1.atom_interaction.scale_rbf_sum', 'out_blocks.0.scale_sum'].\n",
      "Did not load the following scale factors: [].\n",
      "INFO:jmp.models.gemnet.backbone:Removed the following unnecessary state dict keys from the checkpoint: ['output.out_energy.0.0.weight', 'output.out_energy.0.0.bias', 'output.out_energy.0.2.weight', 'output.out_energy.0.2.bias', 'output.out_energy.0.4.weight', 'output.out_energy.0.4.bias', 'output.out_energy.0.6.weight', 'output.out_energy.0.6.bias', 'output.out_energy.0.8.weight', 'output.out_energy.1.0.weight', 'output.out_energy.1.0.bias', 'output.out_energy.1.2.weight', 'output.out_energy.1.2.bias', 'output.out_energy.1.4.weight', 'output.out_energy.1.4.bias', 'output.out_energy.1.6.weight', 'output.out_energy.1.6.bias', 'output.out_energy.1.8.weight', 'output.out_energy.2.0.weight', 'output.out_energy.2.0.bias', 'output.out_energy.2.2.weight', 'output.out_energy.2.2.bias', 'output.out_energy.2.4.weight', 'output.out_energy.2.4.bias', 'output.out_energy.2.6.weight', 'output.out_energy.2.6.bias', 'output.out_energy.2.8.weight', 'output.out_energy.3.0.weight', 'output.out_energy.3.0.bias', 'output.out_energy.3.2.weight', 'output.out_energy.3.2.bias', 'output.out_energy.3.4.weight', 'output.out_energy.3.4.bias', 'output.out_energy.3.6.weight', 'output.out_energy.3.6.bias', 'output.out_energy.3.8.weight', 'output.out_forces.0.0.weight', 'output.out_forces.0.0.bias', 'output.out_forces.0.2.weight', 'output.out_forces.0.2.bias', 'output.out_forces.0.4.weight', 'output.out_forces.0.4.bias', 'output.out_forces.0.6.weight', 'output.out_forces.0.6.bias', 'output.out_forces.0.8.weight', 'output.out_forces.1.0.weight', 'output.out_forces.1.0.bias', 'output.out_forces.1.2.weight', 'output.out_forces.1.2.bias', 'output.out_forces.1.4.weight', 'output.out_forces.1.4.bias', 'output.out_forces.1.6.weight', 'output.out_forces.1.6.bias', 'output.out_forces.1.8.weight', 'output.out_forces.2.0.weight', 'output.out_forces.2.0.bias', 'output.out_forces.2.2.weight', 'output.out_forces.2.2.bias', 'output.out_forces.2.4.weight', 'output.out_forces.2.4.bias', 'output.out_forces.2.6.weight', 'output.out_forces.2.6.bias', 'output.out_forces.2.8.weight', 'output.out_forces.3.0.weight', 'output.out_forces.3.0.bias', 'output.out_forces.3.2.weight', 'output.out_forces.3.2.bias', 'output.out_forces.3.4.weight', 'output.out_forces.3.4.bias', 'output.out_forces.3.6.weight', 'output.out_forces.3.6.bias', 'output.out_forces.3.8.weight', 'task_steps._module_dict._typed_moduledict_oc20.value', 'task_steps._module_dict._typed_moduledict_oc22.value', 'task_steps._module_dict._typed_moduledict_ani1x.value', 'task_steps._module_dict._typed_moduledict_transition1x.value']\n",
      "CRITICAL:nshtrainer.trainer.trainer:Auto-resolving precision='16-mixed-auto' to resolved_precision='bf16-mixed'.\n",
      "CRITICAL:nshtrainer.loggers.wandb:Using the `wandb-core` backend for WandB.\n",
      "INFO:nshtrainer.trainer.trainer:config.trainer.auto_determine_num_nodes ignored because no SLURM or LSF detected.\n",
      "CRITICAL:nshtrainer.trainer.trainer:LightningTrainer.__init__ with kwargs={'deterministic': None, 'fast_dev_run': 256, 'max_epochs': None, 'min_epochs': None, 'max_steps': -1, 'min_steps': None, 'max_time': None, 'limit_train_batches': None, 'limit_val_batches': None, 'limit_test_batches': None, 'limit_predict_batches': None, 'overfit_batches': 0.0, 'val_check_interval': None, 'num_sanity_val_steps': None, 'log_every_n_steps': None, 'inference_mode': True, 'callbacks': [<lightning.pytorch.callbacks.lr_monitor.LearningRateMonitor object at 0x7febf0114ad0>, <nshtrainer.callbacks.log_epoch.LogEpochCallback object at 0x7febeebb3990>, <nshtrainer.loggers.wandb.FinishWandbOnTeardownCallback object at 0x7febeebb38d0>, <nshtrainer.callbacks.wandb_watch.WandbWatchCallback object at 0x7febeebb3410>, <nshtrainer.callbacks.wandb_upload_code.WandbUploadCodeCallback object at 0x7febf1220ed0>, <nshtrainer._hf_hub.HFHubCallback object at 0x7febee5d0dd0>, <nshtrainer.callbacks.shared_parameters.SharedParametersCallback object at 0x7febeebb3450>, <nshtrainer.callbacks.rlp_sanity_checks.RLPSanityChecksCallback object at 0x7febeebb31d0>, <nshtrainer.callbacks.debug_flag.DebugFlagCallback object at 0x7febeebb3110>], 'plugins': [], 'logger': [<lightning.pytorch.loggers.wandb.WandbLogger object at 0x7febeebb2bd0>, <lightning.pytorch.loggers.tensorboard.TensorBoardLogger object at 0x7febf0f4f250>, <lightning.pytorch.loggers.csv_logs.CSVLogger object at 0x7febeeb9a910>], 'default_root_dir': PosixPath('/net/csefiles/coc-fung-cluster/nima/shared/repositories/jmp-backbone/configs/mptrj_alex_omat24/nshtrainer/moge19j9'), 'precision': 'bf16-mixed'}.\n",
      "Trainer will use only 1 of 8 GPUs because it is running inside an interactive / notebook environment. You may try to set `Trainer(devices=8)` but please note that multi-GPU inside interactive / notebook environments is considered experimental and unstable. Your mileage may vary.\n",
      "Using bfloat16 Automatic Mixed Precision (AMP)\n",
      "GPU available: True (cuda), used: True\n",
      "TPU available: False, using: 0 TPU cores\n",
      "HPU available: False, using: 0 HPUs\n",
      "Running in `fast_dev_run` mode: will run the requested loop using 256 batch(es). Logging and checkpointing is suppressed.\n",
      "CRITICAL:nshtrainer.trainer.trainer:LightningTrainer log directory: None.\n",
      "WARNING:nshtrainer._checkpoint.loader:No checkpoint candidates found for `last` checkpoint strategy.\n",
      "INFO:nshtrainer.trainer.checkpoint_connector:No checkpoint found for the current trainer state. Training will start from scratch.\n",
      "INFO:nshtrainer.trainer.checkpoint_connector:Loading checkpoint from: None\n"
     ]
    },
    {
     "data": {
      "application/vnd.jupyter.widget-view+json": {
       "model_id": "44d20d4432be4dfabe289c3ae66abf1b",
       "version_major": 2,
       "version_minor": 0
      },
      "text/plain": [
       "Loading dataset from disk:   0%|          | 0/212 [00:00<?, ?it/s]"
      ]
     },
     "metadata": {},
     "output_type": "display_data"
    },
    {
     "data": {
      "application/vnd.jupyter.widget-view+json": {
       "model_id": "a35165f97a8f4e2e94124ef669daa7e9",
       "version_major": 2,
       "version_minor": 0
      },
      "text/plain": [
       "Loading dataset from disk:   0%|          | 0/212 [00:00<?, ?it/s]"
      ]
     },
     "metadata": {},
     "output_type": "display_data"
    },
    {
     "name": "stderr",
     "output_type": "stream",
     "text": [
      "WARNING:nshtrainer.callbacks.wandb_upload_code:Wandb logger not found. Skipping code upload.\n",
      "CRITICAL:nshtrainer.callbacks.debug_flag:Fast dev run detected, setting debug flag to True.\n",
      "LOCAL_RANK: 0 - CUDA_VISIBLE_DEVICES: [0,1,2,3,4,5,6,7]\n",
      "Loading `train_dataloader` to estimate number of stepping batches.\n"
     ]
    },
    {
     "data": {
      "application/vnd.jupyter.widget-view+json": {
       "model_id": "53567079d9a4468eb964892369fd1e52",
       "version_major": 2,
       "version_minor": 0
      },
      "text/plain": [
       "Loading dataset from disk:   0%|          | 0/212 [00:00<?, ?it/s]"
      ]
     },
     "metadata": {},
     "output_type": "display_data"
    },
    {
     "name": "stderr",
     "output_type": "stream",
     "text": [
      "\n",
      "  | Name           | Type              | Params | Mode \n",
      "-------------------------------------------------------------\n",
      "0 | backbone       | GemNetOCBackbone  | 38.9 M | train\n",
      "1 | energy_head    | EnergyOutputHead  | 263 K  | train\n",
      "2 | force_head     | ForceOutputHead   | 1.1 M  | train\n",
      "3 | stress_head    | StressOutputHead  | 2.1 M  | train\n",
      "4 | graph_computer | GraphComputer     | 0      | train\n",
      "5 | train_metrics  | ForceFieldMetrics | 0      | train\n",
      "6 | val_metrics    | ForceFieldMetrics | 0      | train\n",
      "7 | test_metrics   | ForceFieldMetrics | 0      | train\n",
      "-------------------------------------------------------------\n",
      "42.3 M    Trainable params\n",
      "0         Non-trainable params\n",
      "42.3 M    Total params\n",
      "169.161   Total estimated model params size (MB)\n",
      "INFO:nshtrainer.trainer.signal_connector:No auto-requeue signals found. Reverting to default Lightning behavior.\n"
     ]
    },
    {
     "data": {
      "application/vnd.jupyter.widget-view+json": {
       "model_id": "9ddaef02f3ca4e02b7f47d13699d58ac",
       "version_major": 2,
       "version_minor": 0
      },
      "text/plain": [
       "Loading dataset from disk:   0%|          | 0/212 [00:00<?, ?it/s]"
      ]
     },
     "metadata": {},
     "output_type": "display_data"
    },
    {
     "data": {
      "application/vnd.jupyter.widget-view+json": {
       "model_id": "041482d7713d4397bd75f19707c5863e",
       "version_major": 2,
       "version_minor": 0
      },
      "text/plain": [
       "Training: |          | 0/? [00:00<?, ?it/s]"
      ]
     },
     "metadata": {},
     "output_type": "display_data"
    }
   ],
   "source": [
    "import nshrunner as nr\n",
    "\n",
    "configs = [(config.fast_dev_run(256), data_config)]\n",
    "\n",
    "runner = nr.Runner(run, nr.RunnerConfig(working_dir=\".\", env=env))\n",
    "runner.local(configs)"
   ]
  }
 ],
 "metadata": {
  "kernelspec": {
   "display_name": "jmp-peft",
   "language": "python",
   "name": "python3"
  },
  "language_info": {
   "codemirror_mode": {
    "name": "ipython",
    "version": 3
   },
   "file_extension": ".py",
   "mimetype": "text/x-python",
   "name": "python",
   "nbconvert_exporter": "python",
   "pygments_lexer": "ipython3",
   "version": "3.11.9"
  }
 },
 "nbformat": 4,
 "nbformat_minor": 2
}
