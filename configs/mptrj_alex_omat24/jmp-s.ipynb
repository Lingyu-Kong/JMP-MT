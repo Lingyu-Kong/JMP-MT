{
 "cells": [
  {
   "cell_type": "code",
   "execution_count": 1,
   "metadata": {},
   "outputs": [
    {
     "name": "stderr",
     "output_type": "stream",
     "text": [
      "Type checking the following modules: ('jmppeft',)\n"
     ]
    },
    {
     "data": {
      "text/html": [
       "<script> (()=>{ if (customElements.get('treescope-container') === undefined) { class TreescopeContainer extends HTMLElement { constructor() { super(); this.attachShadow({mode: \"open\"}); this.defns = {}; this.state = {}; } } customElements.define(\"treescope-container\", TreescopeContainer); } if (customElements.get('treescope-run-here') === undefined) { class RunHere extends HTMLElement { constructor() { super() } connectedCallback() { const run = child => { const fn = new Function(child.textContent); child.textContent = \"\"; fn.call(this); this.remove(); }; const child = this.querySelector(\"script\"); if (child) { run(child); } else { new MutationObserver(()=>{ run(this.querySelector(\"script\")); }).observe(this, {childList: true}); } } } customElements.define(\"treescope-run-here\", RunHere); } })(); </script> <treescope-container class=\"treescope_out_d00265b9711c4882a4ba3a04af8d7bd7\" ></treescope-container> <treescope-run-here><script type=\"application/octet-stream\"> const root = ( Array.from(document.getElementsByClassName( \"treescope_out_d00265b9711c4882a4ba3a04af8d7bd7\")) .filter((elt) => !elt.dataset.setup) )[0]; root.dataset.setup = 1; const msg = document.createElement(\"span\"); msg.style = \"color: #cccccc; font-family: monospace;\"; msg.textContent = \"(Loading...)\"; root.state.loadingMsg = msg; root.shadowRoot.appendChild(msg); root.state.chain = new Promise((resolve, reject) => { const observer = new IntersectionObserver((entries) => { for (const entry of entries) { if (entry.isIntersecting) { resolve(); observer.disconnect(); return; } } }, {rootMargin: \"1000px\"}); window.setTimeout(() => { observer.observe(root); }, 0); }); root.state.deferring = false; const _insertNode = (node) => { for (let oldScript of node.querySelectorAll(\"script\")) { let newScript = document.createElement(\"script\"); newScript.type = oldScript.type; newScript.textContent = oldScript.textContent; oldScript.parentNode.replaceChild(newScript, oldScript); } if (root.state.loadingMsg) { root.state.loadingMsg.remove(); root.state.loadingMsg = null; } root.shadowRoot.appendChild(node); }; root.defns.insertContent = ((contentNode, compressed) => { if (compressed) { root.state.deferring = true; } if (root.state.deferring) { root.state.chain = (async () => { await root.state.chain; if (compressed) { const encoded = contentNode.textContent; const blob = new Blob([ Uint8Array.from(atob(encoded), (m) => m.codePointAt(0)) ]); const reader = blob.stream().pipeThrough( new DecompressionStream(\"deflate\") ).pipeThrough( new TextDecoderStream(\"utf-8\") ).getReader(); const parts = []; while (true) { const step = await reader.read(); if (step.done) { break; } parts.push(step.value); } const tpl = document.createElement('template'); tpl.innerHTML = parts.join(\"\"); _insertNode(tpl.content); } else { _insertNode(contentNode.content); } })(); } else { _insertNode(contentNode.content); } }); </script></treescope-run-here><div style=\"display:none\"> <script type=\"application/octet-stream\" >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</script> <treescope-run-here><script type=\"application/octet-stream\"> const root = ( Array.from(document.getElementsByClassName( \"treescope_out_d00265b9711c4882a4ba3a04af8d7bd7\")) .filter((elt) => !elt.dataset['step0']) )[0]; root.dataset['step0'] = 1; root.defns.insertContent( this.parentNode.querySelector('script[type=\"application/octet-stream\"]'), true ); this.parentNode.remove(); </script></treescope-run-here> </div>"
      ],
      "text/plain": [
       "<IPython.core.display.HTML object>"
      ]
     },
     "metadata": {},
     "output_type": "display_data"
    },
    {
     "data": {
      "text/html": [
       "<script> (()=>{ if (customElements.get('treescope-container') === undefined) { class TreescopeContainer extends HTMLElement { constructor() { super(); this.attachShadow({mode: \"open\"}); this.defns = {}; this.state = {}; } } customElements.define(\"treescope-container\", TreescopeContainer); } if (customElements.get('treescope-run-here') === undefined) { class RunHere extends HTMLElement { constructor() { super() } connectedCallback() { const run = child => { const fn = new Function(child.textContent); child.textContent = \"\"; fn.call(this); this.remove(); }; const child = this.querySelector(\"script\"); if (child) { run(child); } else { new MutationObserver(()=>{ run(this.querySelector(\"script\")); }).observe(this, {childList: true}); } } } customElements.define(\"treescope-run-here\", RunHere); } })(); </script> <treescope-container class=\"treescope_out_0575117adc25411f9bfd07c0d2c20c76\" ></treescope-container> <treescope-run-here><script type=\"application/octet-stream\"> const root = ( Array.from(document.getElementsByClassName( \"treescope_out_0575117adc25411f9bfd07c0d2c20c76\")) .filter((elt) => !elt.dataset.setup) )[0]; root.dataset.setup = 1; const msg = document.createElement(\"span\"); msg.style = \"color: #cccccc; font-family: monospace;\"; msg.textContent = \"(Loading...)\"; root.state.loadingMsg = msg; root.shadowRoot.appendChild(msg); root.state.chain = new Promise((resolve, reject) => { const observer = new IntersectionObserver((entries) => { for (const entry of entries) { if (entry.isIntersecting) { resolve(); observer.disconnect(); return; } } }, {rootMargin: \"1000px\"}); window.setTimeout(() => { observer.observe(root); }, 0); }); root.state.deferring = false; const _insertNode = (node) => { for (let oldScript of node.querySelectorAll(\"script\")) { let newScript = document.createElement(\"script\"); newScript.type = oldScript.type; newScript.textContent = oldScript.textContent; oldScript.parentNode.replaceChild(newScript, oldScript); } if (root.state.loadingMsg) { root.state.loadingMsg.remove(); root.state.loadingMsg = null; } root.shadowRoot.appendChild(node); }; root.defns.insertContent = ((contentNode, compressed) => { if (compressed) { root.state.deferring = true; } if (root.state.deferring) { root.state.chain = (async () => { await root.state.chain; if (compressed) { const encoded = contentNode.textContent; const blob = new Blob([ Uint8Array.from(atob(encoded), (m) => m.codePointAt(0)) ]); const reader = blob.stream().pipeThrough( new DecompressionStream(\"deflate\") ).pipeThrough( new TextDecoderStream(\"utf-8\") ).getReader(); const parts = []; while (true) { const step = await reader.read(); if (step.done) { break; } parts.push(step.value); } const tpl = document.createElement('template'); tpl.innerHTML = parts.join(\"\"); _insertNode(tpl.content); } else { _insertNode(contentNode.content); } })(); } else { _insertNode(contentNode.content); } }); </script></treescope-run-here><div style=\"display:none\"> <script type=\"application/octet-stream\" >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</script> <treescope-run-here><script type=\"application/octet-stream\"> const root = ( Array.from(document.getElementsByClassName( \"treescope_out_0575117adc25411f9bfd07c0d2c20c76\")) .filter((elt) => !elt.dataset['step0']) )[0]; root.dataset['step0'] = 1; root.defns.insertContent( this.parentNode.querySelector('script[type=\"application/octet-stream\"]'), true ); this.parentNode.remove(); </script></treescope-run-here> </div>"
      ],
      "text/plain": [
       "<IPython.core.display.HTML object>"
      ]
     },
     "metadata": {},
     "output_type": "display_data"
    }
   ],
   "source": [
    "from pathlib import Path\n",
    "\n",
    "import nshconfig_extra as CE\n",
    "import nshtrainer as nt\n",
    "import nshutils as nu\n",
    "from jmp.lightning_datamodule import MPTrjAlexOMAT24DataModuleConfig\n",
    "from jmp.lightning_module import Config, TargetsConfig\n",
    "from jmp.models.gemnet.graph import (\n",
    "    CutoffsConfig,\n",
    "    GraphComputerConfig,\n",
    "    MaxNeighborsConfig,\n",
    ")\n",
    "from jmp.nn.energy_head import EnergyTargetConfig\n",
    "from jmp.nn.force_head import ForceTargetConfig\n",
    "from jmp.nn.stress_head import StressTargetConfig\n",
    "\n",
    "cwd = Path(\"/net/csefiles/coc-fung-cluster/nima/shared/experiment-data/\")\n",
    "env = {\n",
    "    \"HF_HOME\": \"/net/csefiles/coc-fung-cluster/nima/shared/cache/huggingface\",\n",
    "}\n",
    "\n",
    "config = Config.draft()\n",
    "\n",
    "config.name = \"jmp-s\"\n",
    "config.project = \"mptrj-alex-omat24\"\n",
    "\n",
    "config.pretrained_ckpt = CE.CachedPath(\n",
    "    uri=\"/net/csefiles/coc-fung-cluster/nima/shared/checkpoints/jmp-s.pt\"\n",
    ")\n",
    "config.graph_computer = GraphComputerConfig(\n",
    "    cutoffs=CutoffsConfig.from_constant(8.0),\n",
    "    max_neighbors=MaxNeighborsConfig(main=20, aeaint=20, aint=1000, qint=8),\n",
    "    pbc=True,\n",
    "    per_graph_radius_graph=True,\n",
    ")\n",
    "config.optimizer = nt.config.AdamWConfig(lr=5.0e-5, weight_decay=0.001)\n",
    "config.lr_scheduler = nt.config.LinearWarmupCosineDecayLRSchedulerConfig(\n",
    "    warmup_duration=nt.config.StepsConfig(value=5000),\n",
    "    warmup_start_lr_factor=0.001,\n",
    "    max_duration=nt.config.StepsConfig(value=500_000),\n",
    "    min_lr_factor=0.1,\n",
    ")\n",
    "config.targets = TargetsConfig(\n",
    "    energy=EnergyTargetConfig(max_atomic_number=120),\n",
    "    force=ForceTargetConfig(),\n",
    "    stress=StressTargetConfig(num_layers=5),\n",
    ")\n",
    "config.trainer.precision = \"16-mixed-auto\"\n",
    "config.trainer.set_float32_matmul_precision = \"medium\"\n",
    "config.with_project_root_(cwd)\n",
    "config = config.finalize()\n",
    "nu.display(config)\n",
    "\n",
    "data_config = MPTrjAlexOMAT24DataModuleConfig.draft()\n",
    "data_config.batch_size = 100\n",
    "data_config.num_workers = 8\n",
    "data_config.salex.local_path = Path(\"/storage/nima/salex-ocp/hf/\")\n",
    "data_config.omat24.local_path = Path(\"/storage/nima/omat24/hf/\")\n",
    "data_config.with_linear_reference_(\"mptrj-salex\")\n",
    "data_config = data_config.finalize()\n",
    "nu.display(data_config)"
   ]
  },
  {
   "cell_type": "code",
   "execution_count": 2,
   "metadata": {},
   "outputs": [],
   "source": [
    "from jmp.lightning_datamodule import MPTrjAlexOMAT24DataModule\n",
    "from jmp.lightning_module import Module\n",
    "\n",
    "\n",
    "def run(config: Config, data_config: MPTrjAlexOMAT24DataModuleConfig):\n",
    "    module = Module(config)\n",
    "    datamodule = MPTrjAlexOMAT24DataModule(data_config)\n",
    "    trainer = nt.Trainer(config)\n",
    "    trainer.fit(module, datamodule)"
   ]
  },
  {
   "cell_type": "code",
   "execution_count": 7,
   "metadata": {},
   "outputs": [
    {
     "data": {
      "application/vnd.jupyter.widget-view+json": {
       "model_id": "2156b0c6fe09468bb20f6a90ec91fd2e",
       "version_major": 2,
       "version_minor": 0
      },
      "text/plain": [
       "  0%|          | 0/1 [00:00<?, ?it/s]"
      ]
     },
     "metadata": {},
     "output_type": "display_data"
    },
    {
     "name": "stderr",
     "output_type": "stream",
     "text": [
      "Seed set to 0\n",
      "INFO:jmp.models.gemnet.layers.radial_basis_dynamic_cutoff:[RadialBasis] Using absolute cutoff of 12.0 Angstroms.\n",
      "INFO:jmp.models.gemnet.layers.radial_basis_dynamic_cutoff:[RadialBasis] Using absolute cutoff of 12.0 Angstroms.\n",
      "INFO:jmp.models.gemnet.layers.radial_basis_dynamic_cutoff:[RadialBasis] Using absolute cutoff of 12.0 Angstroms.\n",
      "INFO:jmp.models.gemnet.layers.radial_basis_dynamic_cutoff:[RadialBasis] Using absolute cutoff of 12.0 Angstroms.\n"
     ]
    },
    {
     "name": "stdout",
     "output_type": "stream",
     "text": [
      "Unrecognized arguments:  dict_keys(['ln', 'dropout', 'replace_scale_factors_with_ln', 'learnable_rbf', 'learnable_rbf_stds', 'unique_basis_per_layer', 'old_gaussian_implementation', 'edge_dropout'])\n"
     ]
    },
    {
     "name": "stderr",
     "output_type": "stream",
     "text": [
      "INFO:jmp.models.gemnet.layers.radial_basis_dynamic_cutoff:[RadialBasis] Using absolute cutoff of 12.0 Angstroms.\n",
      "INFO:jmp.models.gemnet.layers.radial_basis_dynamic_cutoff:[RadialBasis] Using absolute cutoff of 12.0 Angstroms.\n",
      "INFO:jmp.models.gemnet.layers.radial_basis_dynamic_cutoff:[RadialBasis] Using absolute cutoff of 12.0 Angstroms.\n",
      "CRITICAL:root:Found the following scale factors: [('int_blocks.0.trip_interaction.scale_rbf', 'int_blocks.0.trip_interaction.scale_rbf'), ('int_blocks.0.trip_interaction.scale_cbf_sum', 'int_blocks.0.trip_interaction.scale_cbf_sum'), ('int_blocks.0.quad_interaction.scale_rbf', 'int_blocks.0.quad_interaction.scale_rbf'), ('int_blocks.0.quad_interaction.scale_cbf', 'int_blocks.0.quad_interaction.scale_cbf'), ('int_blocks.0.quad_interaction.scale_sbf_sum', 'int_blocks.0.quad_interaction.scale_sbf_sum'), ('int_blocks.0.atom_edge_interaction.scale_rbf', 'int_blocks.0.atom_edge_interaction.scale_rbf'), ('int_blocks.0.atom_edge_interaction.scale_cbf_sum', 'int_blocks.0.atom_edge_interaction.scale_cbf_sum'), ('int_blocks.0.edge_atom_interaction.scale_rbf', 'int_blocks.0.edge_atom_interaction.scale_rbf'), ('int_blocks.0.edge_atom_interaction.scale_cbf_sum', 'int_blocks.0.edge_atom_interaction.scale_cbf_sum'), ('int_blocks.0.atom_interaction.scale_rbf_sum', 'int_blocks.0.atom_interaction.scale_rbf_sum'), ('int_blocks.0.atom_update.scale_sum', 'int_blocks.0.atom_update.scale_sum'), ('int_blocks.1.trip_interaction.scale_rbf', 'int_blocks.1.trip_interaction.scale_rbf'), ('int_blocks.1.trip_interaction.scale_cbf_sum', 'int_blocks.1.trip_interaction.scale_cbf_sum'), ('int_blocks.1.quad_interaction.scale_rbf', 'int_blocks.1.quad_interaction.scale_rbf'), ('int_blocks.1.quad_interaction.scale_cbf', 'int_blocks.1.quad_interaction.scale_cbf'), ('int_blocks.1.quad_interaction.scale_sbf_sum', 'int_blocks.1.quad_interaction.scale_sbf_sum'), ('int_blocks.1.atom_edge_interaction.scale_rbf', 'int_blocks.1.atom_edge_interaction.scale_rbf'), ('int_blocks.1.atom_edge_interaction.scale_cbf_sum', 'int_blocks.1.atom_edge_interaction.scale_cbf_sum'), ('int_blocks.1.edge_atom_interaction.scale_rbf', 'int_blocks.1.edge_atom_interaction.scale_rbf'), ('int_blocks.1.edge_atom_interaction.scale_cbf_sum', 'int_blocks.1.edge_atom_interaction.scale_cbf_sum'), ('int_blocks.1.atom_interaction.scale_rbf_sum', 'int_blocks.1.atom_interaction.scale_rbf_sum'), ('int_blocks.1.atom_update.scale_sum', 'int_blocks.1.atom_update.scale_sum'), ('int_blocks.2.trip_interaction.scale_rbf', 'int_blocks.2.trip_interaction.scale_rbf'), ('int_blocks.2.trip_interaction.scale_cbf_sum', 'int_blocks.2.trip_interaction.scale_cbf_sum'), ('int_blocks.2.quad_interaction.scale_rbf', 'int_blocks.2.quad_interaction.scale_rbf'), ('int_blocks.2.quad_interaction.scale_cbf', 'int_blocks.2.quad_interaction.scale_cbf'), ('int_blocks.2.quad_interaction.scale_sbf_sum', 'int_blocks.2.quad_interaction.scale_sbf_sum'), ('int_blocks.2.atom_edge_interaction.scale_rbf', 'int_blocks.2.atom_edge_interaction.scale_rbf'), ('int_blocks.2.atom_edge_interaction.scale_cbf_sum', 'int_blocks.2.atom_edge_interaction.scale_cbf_sum'), ('int_blocks.2.edge_atom_interaction.scale_rbf', 'int_blocks.2.edge_atom_interaction.scale_rbf'), ('int_blocks.2.edge_atom_interaction.scale_cbf_sum', 'int_blocks.2.edge_atom_interaction.scale_cbf_sum'), ('int_blocks.2.atom_interaction.scale_rbf_sum', 'int_blocks.2.atom_interaction.scale_rbf_sum'), ('int_blocks.2.atom_update.scale_sum', 'int_blocks.2.atom_update.scale_sum'), ('int_blocks.3.trip_interaction.scale_rbf', 'int_blocks.3.trip_interaction.scale_rbf'), ('int_blocks.3.trip_interaction.scale_cbf_sum', 'int_blocks.3.trip_interaction.scale_cbf_sum'), ('int_blocks.3.quad_interaction.scale_rbf', 'int_blocks.3.quad_interaction.scale_rbf'), ('int_blocks.3.quad_interaction.scale_cbf', 'int_blocks.3.quad_interaction.scale_cbf'), ('int_blocks.3.quad_interaction.scale_sbf_sum', 'int_blocks.3.quad_interaction.scale_sbf_sum'), ('int_blocks.3.atom_edge_interaction.scale_rbf', 'int_blocks.3.atom_edge_interaction.scale_rbf'), ('int_blocks.3.atom_edge_interaction.scale_cbf_sum', 'int_blocks.3.atom_edge_interaction.scale_cbf_sum'), ('int_blocks.3.edge_atom_interaction.scale_rbf', 'int_blocks.3.edge_atom_interaction.scale_rbf'), ('int_blocks.3.edge_atom_interaction.scale_cbf_sum', 'int_blocks.3.edge_atom_interaction.scale_cbf_sum'), ('int_blocks.3.atom_interaction.scale_rbf_sum', 'int_blocks.3.atom_interaction.scale_rbf_sum'), ('int_blocks.3.atom_update.scale_sum', 'int_blocks.3.atom_update.scale_sum'), ('out_blocks.0.scale_sum', 'out_blocks.0.scale_sum'), ('out_blocks.0.scale_rbf_F', 'out_blocks.0.scale_rbf_F'), ('out_blocks.1.scale_sum', 'out_blocks.1.scale_sum'), ('out_blocks.1.scale_rbf_F', 'out_blocks.1.scale_rbf_F'), ('out_blocks.2.scale_sum', 'out_blocks.2.scale_sum'), ('out_blocks.2.scale_rbf_F', 'out_blocks.2.scale_rbf_F'), ('out_blocks.3.scale_sum', 'out_blocks.3.scale_sum'), ('out_blocks.3.scale_rbf_F', 'out_blocks.3.scale_rbf_F'), ('out_blocks.4.scale_sum', 'out_blocks.4.scale_sum'), ('out_blocks.4.scale_rbf_F', 'out_blocks.4.scale_rbf_F')].\n",
      "CRITICAL:root:Loaded the following scale factors: ['int_blocks.0.atom_update.scale_sum', 'out_blocks.3.scale_rbf_F', 'int_blocks.3.atom_edge_interaction.scale_rbf', 'int_blocks.2.atom_edge_interaction.scale_cbf_sum', 'int_blocks.2.trip_interaction.scale_rbf', 'out_blocks.2.scale_rbf_F', 'int_blocks.0.trip_interaction.scale_cbf_sum', 'int_blocks.3.quad_interaction.scale_cbf', 'int_blocks.1.atom_update.scale_sum', 'out_blocks.2.scale_sum', 'out_blocks.4.scale_sum', 'int_blocks.0.atom_edge_interaction.scale_rbf', 'int_blocks.3.atom_update.scale_sum', 'out_blocks.1.scale_sum', 'int_blocks.2.quad_interaction.scale_sbf_sum', 'int_blocks.3.trip_interaction.scale_cbf_sum', 'int_blocks.3.atom_edge_interaction.scale_cbf_sum', 'int_blocks.1.quad_interaction.scale_cbf', 'out_blocks.4.scale_rbf_F', 'int_blocks.1.atom_edge_interaction.scale_rbf', 'int_blocks.1.trip_interaction.scale_cbf_sum', 'int_blocks.1.quad_interaction.scale_rbf', 'int_blocks.0.trip_interaction.scale_rbf', 'int_blocks.2.trip_interaction.scale_cbf_sum', 'int_blocks.0.atom_interaction.scale_rbf_sum', 'int_blocks.3.quad_interaction.scale_rbf', 'int_blocks.2.atom_edge_interaction.scale_rbf', 'int_blocks.2.quad_interaction.scale_cbf', 'int_blocks.0.quad_interaction.scale_sbf_sum', 'int_blocks.2.atom_interaction.scale_rbf_sum', 'int_blocks.3.quad_interaction.scale_sbf_sum', 'int_blocks.3.edge_atom_interaction.scale_cbf_sum', 'out_blocks.0.scale_rbf_F', 'int_blocks.0.edge_atom_interaction.scale_cbf_sum', 'int_blocks.0.atom_edge_interaction.scale_cbf_sum', 'out_blocks.3.scale_sum', 'int_blocks.0.quad_interaction.scale_rbf', 'int_blocks.1.edge_atom_interaction.scale_cbf_sum', 'int_blocks.2.edge_atom_interaction.scale_cbf_sum', 'out_blocks.1.scale_rbf_F', 'int_blocks.0.quad_interaction.scale_cbf', 'int_blocks.3.trip_interaction.scale_rbf', 'int_blocks.0.edge_atom_interaction.scale_rbf', 'int_blocks.1.atom_edge_interaction.scale_cbf_sum', 'int_blocks.3.edge_atom_interaction.scale_rbf', 'int_blocks.1.trip_interaction.scale_rbf', 'int_blocks.1.quad_interaction.scale_sbf_sum', 'int_blocks.2.atom_update.scale_sum', 'int_blocks.1.edge_atom_interaction.scale_rbf', 'int_blocks.2.edge_atom_interaction.scale_rbf', 'int_blocks.2.quad_interaction.scale_rbf', 'int_blocks.3.atom_interaction.scale_rbf_sum', 'int_blocks.1.atom_interaction.scale_rbf_sum', 'out_blocks.0.scale_sum'].\n",
      "Did not load the following scale factors: [].\n",
      "INFO:jmp.models.gemnet.backbone:Removed the following unnecessary state dict keys from the checkpoint: ['output.out_energy.0.0.weight', 'output.out_energy.0.0.bias', 'output.out_energy.0.2.weight', 'output.out_energy.0.2.bias', 'output.out_energy.0.4.weight', 'output.out_energy.0.4.bias', 'output.out_energy.0.6.weight', 'output.out_energy.0.6.bias', 'output.out_energy.0.8.weight', 'output.out_energy.1.0.weight', 'output.out_energy.1.0.bias', 'output.out_energy.1.2.weight', 'output.out_energy.1.2.bias', 'output.out_energy.1.4.weight', 'output.out_energy.1.4.bias', 'output.out_energy.1.6.weight', 'output.out_energy.1.6.bias', 'output.out_energy.1.8.weight', 'output.out_energy.2.0.weight', 'output.out_energy.2.0.bias', 'output.out_energy.2.2.weight', 'output.out_energy.2.2.bias', 'output.out_energy.2.4.weight', 'output.out_energy.2.4.bias', 'output.out_energy.2.6.weight', 'output.out_energy.2.6.bias', 'output.out_energy.2.8.weight', 'output.out_energy.3.0.weight', 'output.out_energy.3.0.bias', 'output.out_energy.3.2.weight', 'output.out_energy.3.2.bias', 'output.out_energy.3.4.weight', 'output.out_energy.3.4.bias', 'output.out_energy.3.6.weight', 'output.out_energy.3.6.bias', 'output.out_energy.3.8.weight', 'output.out_forces.0.0.weight', 'output.out_forces.0.0.bias', 'output.out_forces.0.2.weight', 'output.out_forces.0.2.bias', 'output.out_forces.0.4.weight', 'output.out_forces.0.4.bias', 'output.out_forces.0.6.weight', 'output.out_forces.0.6.bias', 'output.out_forces.0.8.weight', 'output.out_forces.1.0.weight', 'output.out_forces.1.0.bias', 'output.out_forces.1.2.weight', 'output.out_forces.1.2.bias', 'output.out_forces.1.4.weight', 'output.out_forces.1.4.bias', 'output.out_forces.1.6.weight', 'output.out_forces.1.6.bias', 'output.out_forces.1.8.weight', 'output.out_forces.2.0.weight', 'output.out_forces.2.0.bias', 'output.out_forces.2.2.weight', 'output.out_forces.2.2.bias', 'output.out_forces.2.4.weight', 'output.out_forces.2.4.bias', 'output.out_forces.2.6.weight', 'output.out_forces.2.6.bias', 'output.out_forces.2.8.weight', 'output.out_forces.3.0.weight', 'output.out_forces.3.0.bias', 'output.out_forces.3.2.weight', 'output.out_forces.3.2.bias', 'output.out_forces.3.4.weight', 'output.out_forces.3.4.bias', 'output.out_forces.3.6.weight', 'output.out_forces.3.6.bias', 'output.out_forces.3.8.weight', 'task_steps._module_dict._typed_moduledict_oc20.value', 'task_steps._module_dict._typed_moduledict_oc22.value', 'task_steps._module_dict._typed_moduledict_ani1x.value', 'task_steps._module_dict._typed_moduledict_transition1x.value']\n",
      "CRITICAL:nshtrainer.trainer.trainer:Auto-resolving precision='16-mixed-auto' to resolved_precision='bf16-mixed'.\n",
      "CRITICAL:nshtrainer.loggers.wandb:Using the `wandb-core` backend for WandB.\n",
      "INFO:nshtrainer.trainer.trainer:config.trainer.auto_determine_num_nodes ignored because no SLURM or LSF detected.\n",
      "CRITICAL:nshtrainer.trainer.trainer:LightningTrainer.__init__ with kwargs={'deterministic': None, 'fast_dev_run': 256, 'max_epochs': None, 'min_epochs': None, 'max_steps': -1, 'min_steps': None, 'max_time': None, 'limit_train_batches': None, 'limit_val_batches': None, 'limit_test_batches': None, 'limit_predict_batches': None, 'overfit_batches': 0.0, 'val_check_interval': None, 'num_sanity_val_steps': None, 'log_every_n_steps': None, 'inference_mode': True, 'callbacks': [<lightning.pytorch.callbacks.lr_monitor.LearningRateMonitor object at 0x7febf0114ad0>, <nshtrainer.callbacks.log_epoch.LogEpochCallback object at 0x7febeebb3990>, <nshtrainer.loggers.wandb.FinishWandbOnTeardownCallback object at 0x7febeebb38d0>, <nshtrainer.callbacks.wandb_watch.WandbWatchCallback object at 0x7febeebb3410>, <nshtrainer.callbacks.wandb_upload_code.WandbUploadCodeCallback object at 0x7febf1220ed0>, <nshtrainer._hf_hub.HFHubCallback object at 0x7febee5d0dd0>, <nshtrainer.callbacks.shared_parameters.SharedParametersCallback object at 0x7febeebb3450>, <nshtrainer.callbacks.rlp_sanity_checks.RLPSanityChecksCallback object at 0x7febeebb31d0>, <nshtrainer.callbacks.debug_flag.DebugFlagCallback object at 0x7febeebb3110>], 'plugins': [], 'logger': [<lightning.pytorch.loggers.wandb.WandbLogger object at 0x7febeebb2bd0>, <lightning.pytorch.loggers.tensorboard.TensorBoardLogger object at 0x7febf0f4f250>, <lightning.pytorch.loggers.csv_logs.CSVLogger object at 0x7febeeb9a910>], 'default_root_dir': PosixPath('/net/csefiles/coc-fung-cluster/nima/shared/repositories/jmp-backbone/configs/mptrj_alex_omat24/nshtrainer/moge19j9'), 'precision': 'bf16-mixed'}.\n",
      "Trainer will use only 1 of 8 GPUs because it is running inside an interactive / notebook environment. You may try to set `Trainer(devices=8)` but please note that multi-GPU inside interactive / notebook environments is considered experimental and unstable. Your mileage may vary.\n",
      "Using bfloat16 Automatic Mixed Precision (AMP)\n",
      "GPU available: True (cuda), used: True\n",
      "TPU available: False, using: 0 TPU cores\n",
      "HPU available: False, using: 0 HPUs\n",
      "Running in `fast_dev_run` mode: will run the requested loop using 256 batch(es). Logging and checkpointing is suppressed.\n",
      "CRITICAL:nshtrainer.trainer.trainer:LightningTrainer log directory: None.\n",
      "WARNING:nshtrainer._checkpoint.loader:No checkpoint candidates found for `last` checkpoint strategy.\n",
      "INFO:nshtrainer.trainer.checkpoint_connector:No checkpoint found for the current trainer state. Training will start from scratch.\n",
      "INFO:nshtrainer.trainer.checkpoint_connector:Loading checkpoint from: None\n"
     ]
    },
    {
     "data": {
      "application/vnd.jupyter.widget-view+json": {
       "model_id": "44d20d4432be4dfabe289c3ae66abf1b",
       "version_major": 2,
       "version_minor": 0
      },
      "text/plain": [
       "Loading dataset from disk:   0%|          | 0/212 [00:00<?, ?it/s]"
      ]
     },
     "metadata": {},
     "output_type": "display_data"
    },
    {
     "data": {
      "application/vnd.jupyter.widget-view+json": {
       "model_id": "a35165f97a8f4e2e94124ef669daa7e9",
       "version_major": 2,
       "version_minor": 0
      },
      "text/plain": [
       "Loading dataset from disk:   0%|          | 0/212 [00:00<?, ?it/s]"
      ]
     },
     "metadata": {},
     "output_type": "display_data"
    },
    {
     "name": "stderr",
     "output_type": "stream",
     "text": [
      "WARNING:nshtrainer.callbacks.wandb_upload_code:Wandb logger not found. Skipping code upload.\n",
      "CRITICAL:nshtrainer.callbacks.debug_flag:Fast dev run detected, setting debug flag to True.\n",
      "LOCAL_RANK: 0 - CUDA_VISIBLE_DEVICES: [0,1,2,3,4,5,6,7]\n",
      "Loading `train_dataloader` to estimate number of stepping batches.\n"
     ]
    },
    {
     "data": {
      "application/vnd.jupyter.widget-view+json": {
       "model_id": "53567079d9a4468eb964892369fd1e52",
       "version_major": 2,
       "version_minor": 0
      },
      "text/plain": [
       "Loading dataset from disk:   0%|          | 0/212 [00:00<?, ?it/s]"
      ]
     },
     "metadata": {},
     "output_type": "display_data"
    },
    {
     "name": "stderr",
     "output_type": "stream",
     "text": [
      "\n",
      "  | Name           | Type              | Params | Mode \n",
      "-------------------------------------------------------------\n",
      "0 | backbone       | GemNetOCBackbone  | 38.9 M | train\n",
      "1 | energy_head    | EnergyOutputHead  | 263 K  | train\n",
      "2 | force_head     | ForceOutputHead   | 1.1 M  | train\n",
      "3 | stress_head    | StressOutputHead  | 2.1 M  | train\n",
      "4 | graph_computer | GraphComputer     | 0      | train\n",
      "5 | train_metrics  | ForceFieldMetrics | 0      | train\n",
      "6 | val_metrics    | ForceFieldMetrics | 0      | train\n",
      "7 | test_metrics   | ForceFieldMetrics | 0      | train\n",
      "-------------------------------------------------------------\n",
      "42.3 M    Trainable params\n",
      "0         Non-trainable params\n",
      "42.3 M    Total params\n",
      "169.161   Total estimated model params size (MB)\n",
      "INFO:nshtrainer.trainer.signal_connector:No auto-requeue signals found. Reverting to default Lightning behavior.\n"
     ]
    },
    {
     "data": {
      "application/vnd.jupyter.widget-view+json": {
       "model_id": "9ddaef02f3ca4e02b7f47d13699d58ac",
       "version_major": 2,
       "version_minor": 0
      },
      "text/plain": [
       "Loading dataset from disk:   0%|          | 0/212 [00:00<?, ?it/s]"
      ]
     },
     "metadata": {},
     "output_type": "display_data"
    },
    {
     "data": {
      "application/vnd.jupyter.widget-view+json": {
       "model_id": "041482d7713d4397bd75f19707c5863e",
       "version_major": 2,
       "version_minor": 0
      },
      "text/plain": [
       "Training: |          | 0/? [00:00<?, ?it/s]"
      ]
     },
     "metadata": {},
     "output_type": "display_data"
    },
    {
     "data": {
      "application/vnd.jupyter.widget-view+json": {
       "model_id": "13347fc116944b009a3fd288a471777e",
       "version_major": 2,
       "version_minor": 0
      },
      "text/plain": [
       "Validation: |          | 0/? [00:00<?, ?it/s]"
      ]
     },
     "metadata": {},
     "output_type": "display_data"
    },
    {
     "name": "stderr",
     "output_type": "stream",
     "text": [
      "/net/csefiles/coc-fung-cluster/nima/miniforge3/envs/jmp-peft/lib/python3.11/site-packages/lightning/pytorch/trainer/call.py:54: Detected KeyboardInterrupt, attempting graceful shutdown...\n"
     ]
    },
    {
     "data": {
      "text/html": [
       "<script> (()=>{ if (customElements.get('treescope-container') === undefined) { class TreescopeContainer extends HTMLElement { constructor() { super(); this.attachShadow({mode: \"open\"}); this.defns = {}; this.state = {}; } } customElements.define(\"treescope-container\", TreescopeContainer); } if (customElements.get('treescope-run-here') === undefined) { class RunHere extends HTMLElement { constructor() { super() } connectedCallback() { const run = child => { const fn = new Function(child.textContent); child.textContent = \"\"; fn.call(this); this.remove(); }; const child = this.querySelector(\"script\"); if (child) { run(child); } else { new MutationObserver(()=>{ run(this.querySelector(\"script\")); }).observe(this, {childList: true}); } } } customElements.define(\"treescope-run-here\", RunHere); } })(); </script> <treescope-container class=\"treescope_out_f863bc8ea2cc4795a0800e416a812839\" ></treescope-container> <treescope-run-here><script type=\"application/octet-stream\"> const root = ( Array.from(document.getElementsByClassName( \"treescope_out_f863bc8ea2cc4795a0800e416a812839\")) .filter((elt) => !elt.dataset.setup) )[0]; root.dataset.setup = 1; const msg = document.createElement(\"span\"); msg.style = \"color: #cccccc; font-family: monospace;\"; msg.textContent = \"(Loading...)\"; root.state.loadingMsg = msg; root.shadowRoot.appendChild(msg); root.state.chain = new Promise((resolve, reject) => { const observer = new IntersectionObserver((entries) => { for (const entry of entries) { if (entry.isIntersecting) { resolve(); observer.disconnect(); return; } } }, {rootMargin: \"1000px\"}); window.setTimeout(() => { observer.observe(root); }, 0); }); root.state.deferring = false; const _insertNode = (node) => { for (let oldScript of node.querySelectorAll(\"script\")) { let newScript = document.createElement(\"script\"); newScript.type = oldScript.type; newScript.textContent = oldScript.textContent; oldScript.parentNode.replaceChild(newScript, oldScript); } if (root.state.loadingMsg) { root.state.loadingMsg.remove(); root.state.loadingMsg = null; } root.shadowRoot.appendChild(node); }; root.defns.insertContent = ((contentNode, compressed) => { if (compressed) { root.state.deferring = true; } if (root.state.deferring) { root.state.chain = (async () => { await root.state.chain; if (compressed) { const encoded = contentNode.textContent; const blob = new Blob([ Uint8Array.from(atob(encoded), (m) => m.codePointAt(0)) ]); const reader = blob.stream().pipeThrough( new DecompressionStream(\"deflate\") ).pipeThrough( new TextDecoderStream(\"utf-8\") ).getReader(); const parts = []; while (true) { const step = await reader.read(); if (step.done) { break; } parts.push(step.value); } const tpl = document.createElement('template'); tpl.innerHTML = parts.join(\"\"); _insertNode(tpl.content); } else { _insertNode(contentNode.content); } })(); } else { _insertNode(contentNode.content); } }); </script></treescope-run-here><div style=\"display:none\"> <script type=\"application/octet-stream\" >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</script> <treescope-run-here><script type=\"application/octet-stream\"> const root = ( Array.from(document.getElementsByClassName( \"treescope_out_f863bc8ea2cc4795a0800e416a812839\")) .filter((elt) => !elt.dataset['step0']) )[0]; root.dataset['step0'] = 1; root.defns.insertContent( this.parentNode.querySelector('script[type=\"application/octet-stream\"]'), true ); this.parentNode.remove(); </script></treescope-run-here> </div>"
      ],
      "text/plain": [
       "<IPython.core.display.HTML object>"
      ]
     },
     "metadata": {},
     "output_type": "display_data"
    },
    {
     "data": {
      "text/html": [
       "<treescope-run-here><script type=\"application/octet-stream\"> const root = ( Array.from(document.getElementsByClassName( \"treescope_out_f863bc8ea2cc4795a0800e416a812839\")) .filter((elt) => !elt.dataset.stolen) )[0]; root.dataset.stolen = 1; this.parentNode.replaceChild(root, this); </script></treescope-run-here>"
      ],
      "text/plain": [
       "[None]"
      ]
     },
     "execution_count": 7,
     "metadata": {},
     "output_type": "execute_result"
    }
   ],
   "source": [
    "import nshrunner as nr\n",
    "\n",
    "configs = [(config.fast_dev_run(256), data_config)]\n",
    "\n",
    "runner = nr.Runner(run, nr.RunnerConfig(working_dir=cwd, env=env))\n",
    "runner.local(configs)"
   ]
  },
  {
   "cell_type": "code",
   "execution_count": 3,
   "metadata": {},
   "outputs": [
    {
     "name": "stderr",
     "output_type": "stream",
     "text": [
      "Resolved the following modules from the provided values: ['jmp']\n",
      "Snapshotting modules=['jmp'] to /net/csefiles/coc-fung-cluster/nima/shared/experiment-data/nshrunner/46ddbad4-0a23-4e6a-bb8d-19aeaaaaa974/nshsnap\n",
      "Run the following command to submit the jobs:\n",
      "\n",
      "\n"
     ]
    },
    {
     "name": "stdout",
     "output_type": "stream",
     "text": [
      "screen -S nshrunner -L -Logfile /net/csefiles/coc-fung-cluster/nima/shared/experiment-data/nshrunner/46ddbad4-0a23-4e6a-bb8d-19aeaaaaa974/submit/logs/session.log -U bash /net/csefiles/coc-fung-cluster/nima/shared/experiment-data/nshrunner/46ddbad4-0a23-4e6a-bb8d-19aeaaaaa974/submit/submit.sh\n",
      "\n",
      "\n"
     ]
    },
    {
     "data": {
      "text/plain": [
       "Submission(command_parts=['screen', '-S', 'nshrunner', '-L', '-Logfile', '/net/csefiles/coc-fung-cluster/nima/shared/experiment-data/nshrunner/46ddbad4-0a23-4e6a-bb8d-19aeaaaaa974/submit/logs/session.log', '-U', 'bash', '/net/csefiles/coc-fung-cluster/nima/shared/experiment-data/nshrunner/46ddbad4-0a23-4e6a-bb8d-19aeaaaaa974/submit/submit.sh'], script_path=PosixPath('/net/csefiles/coc-fung-cluster/nima/shared/experiment-data/nshrunner/46ddbad4-0a23-4e6a-bb8d-19aeaaaaa974/submit/submit.sh'))"
      ]
     },
     "execution_count": 3,
     "metadata": {},
     "output_type": "execute_result"
    }
   ],
   "source": [
    "import nshrunner as nr\n",
    "\n",
    "configs = [(config, data_config)]\n",
    "\n",
    "runner = nr.Runner(run, nr.RunnerConfig(working_dir=cwd, env=env))\n",
    "runner.session(configs, snapshot=True, env=env)"
   ]
  }
 ],
 "metadata": {
  "kernelspec": {
   "display_name": "jmp-peft",
   "language": "python",
   "name": "python3"
  },
  "language_info": {
   "codemirror_mode": {
    "name": "ipython",
    "version": 3
   },
   "file_extension": ".py",
   "mimetype": "text/x-python",
   "name": "python",
   "nbconvert_exporter": "python",
   "pygments_lexer": "ipython3",
   "version": "3.11.9"
  }
 },
 "nbformat": 4,
 "nbformat_minor": 2
}
