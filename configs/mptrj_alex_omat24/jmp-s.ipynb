{
 "cells": [
  {
   "cell_type": "code",
   "execution_count": 1,
   "metadata": {},
   "outputs": [
    {
     "name": "stderr",
     "output_type": "stream",
     "text": [
      "Type checking the following modules: ('jmppeft',)\n"
     ]
    },
    {
     "data": {
      "text/html": [
       "<script> (()=>{ if (customElements.get('treescope-container') === undefined) { class TreescopeContainer extends HTMLElement { constructor() { super(); this.attachShadow({mode: \"open\"}); this.defns = {}; this.state = {}; } } customElements.define(\"treescope-container\", TreescopeContainer); } if (customElements.get('treescope-run-here') === undefined) { class RunHere extends HTMLElement { constructor() { super() } connectedCallback() { const run = child => { const fn = new Function(child.textContent); child.textContent = \"\"; fn.call(this); this.remove(); }; const child = this.querySelector(\"script\"); if (child) { run(child); } else { new MutationObserver(()=>{ run(this.querySelector(\"script\")); }).observe(this, {childList: true}); } } } customElements.define(\"treescope-run-here\", RunHere); } })(); </script> <treescope-container class=\"treescope_out_474caa592e11452999bee4ea4f232bf8\" ></treescope-container> <treescope-run-here><script type=\"application/octet-stream\"> const root = ( Array.from(document.getElementsByClassName( \"treescope_out_474caa592e11452999bee4ea4f232bf8\")) .filter((elt) => !elt.dataset.setup) )[0]; root.dataset.setup = 1; const msg = document.createElement(\"span\"); msg.style = \"color: #cccccc; font-family: monospace;\"; msg.textContent = \"(Loading...)\"; root.state.loadingMsg = msg; root.shadowRoot.appendChild(msg); root.state.chain = new Promise((resolve, reject) => { const observer = new IntersectionObserver((entries) => { for (const entry of entries) { if (entry.isIntersecting) { resolve(); observer.disconnect(); return; } } }, {rootMargin: \"1000px\"}); window.setTimeout(() => { observer.observe(root); }, 0); }); root.state.deferring = false; const _insertNode = (node) => { for (let oldScript of node.querySelectorAll(\"script\")) { let newScript = document.createElement(\"script\"); newScript.type = oldScript.type; newScript.textContent = oldScript.textContent; oldScript.parentNode.replaceChild(newScript, oldScript); } if (root.state.loadingMsg) { root.state.loadingMsg.remove(); root.state.loadingMsg = null; } root.shadowRoot.appendChild(node); }; root.defns.insertContent = ((contentNode, compressed) => { if (compressed) { root.state.deferring = true; } if (root.state.deferring) { root.state.chain = (async () => { await root.state.chain; if (compressed) { const encoded = contentNode.textContent; const blob = new Blob([ Uint8Array.from(atob(encoded), (m) => m.codePointAt(0)) ]); const reader = blob.stream().pipeThrough( new DecompressionStream(\"deflate\") ).pipeThrough( new TextDecoderStream(\"utf-8\") ).getReader(); const parts = []; while (true) { const step = await reader.read(); if (step.done) { break; } parts.push(step.value); } const tpl = document.createElement('template'); tpl.innerHTML = parts.join(\"\"); _insertNode(tpl.content); } else { _insertNode(contentNode.content); } })(); } else { _insertNode(contentNode.content); } }); </script></treescope-run-here><div style=\"display:none\"> <script type=\"application/octet-stream\" >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</script> <treescope-run-here><script type=\"application/octet-stream\"> const root = ( Array.from(document.getElementsByClassName( \"treescope_out_474caa592e11452999bee4ea4f232bf8\")) .filter((elt) => !elt.dataset['step0']) )[0]; root.dataset['step0'] = 1; root.defns.insertContent( this.parentNode.querySelector('script[type=\"application/octet-stream\"]'), true ); this.parentNode.remove(); </script></treescope-run-here> </div>"
      ],
      "text/plain": [
       "<IPython.core.display.HTML object>"
      ]
     },
     "metadata": {},
     "output_type": "display_data"
    },
    {
     "data": {
      "text/html": [
       "<script> (()=>{ if (customElements.get('treescope-container') === undefined) { class TreescopeContainer extends HTMLElement { constructor() { super(); this.attachShadow({mode: \"open\"}); this.defns = {}; this.state = {}; } } customElements.define(\"treescope-container\", TreescopeContainer); } if (customElements.get('treescope-run-here') === undefined) { class RunHere extends HTMLElement { constructor() { super() } connectedCallback() { const run = child => { const fn = new Function(child.textContent); child.textContent = \"\"; fn.call(this); this.remove(); }; const child = this.querySelector(\"script\"); if (child) { run(child); } else { new MutationObserver(()=>{ run(this.querySelector(\"script\")); }).observe(this, {childList: true}); } } } customElements.define(\"treescope-run-here\", RunHere); } })(); </script> <treescope-container class=\"treescope_out_ec4bd7786ada446c84ba1e5869e5a1a3\" ></treescope-container> <treescope-run-here><script type=\"application/octet-stream\"> const root = ( Array.from(document.getElementsByClassName( \"treescope_out_ec4bd7786ada446c84ba1e5869e5a1a3\")) .filter((elt) => !elt.dataset.setup) )[0]; root.dataset.setup = 1; const msg = document.createElement(\"span\"); msg.style = \"color: #cccccc; font-family: monospace;\"; msg.textContent = \"(Loading...)\"; root.state.loadingMsg = msg; root.shadowRoot.appendChild(msg); root.state.chain = new Promise((resolve, reject) => { const observer = new IntersectionObserver((entries) => { for (const entry of entries) { if (entry.isIntersecting) { resolve(); observer.disconnect(); return; } } }, {rootMargin: \"1000px\"}); window.setTimeout(() => { observer.observe(root); }, 0); }); root.state.deferring = false; const _insertNode = (node) => { for (let oldScript of node.querySelectorAll(\"script\")) { let newScript = document.createElement(\"script\"); newScript.type = oldScript.type; newScript.textContent = oldScript.textContent; oldScript.parentNode.replaceChild(newScript, oldScript); } if (root.state.loadingMsg) { root.state.loadingMsg.remove(); root.state.loadingMsg = null; } root.shadowRoot.appendChild(node); }; root.defns.insertContent = ((contentNode, compressed) => { if (compressed) { root.state.deferring = true; } if (root.state.deferring) { root.state.chain = (async () => { await root.state.chain; if (compressed) { const encoded = contentNode.textContent; const blob = new Blob([ Uint8Array.from(atob(encoded), (m) => m.codePointAt(0)) ]); const reader = blob.stream().pipeThrough( new DecompressionStream(\"deflate\") ).pipeThrough( new TextDecoderStream(\"utf-8\") ).getReader(); const parts = []; while (true) { const step = await reader.read(); if (step.done) { break; } parts.push(step.value); } const tpl = document.createElement('template'); tpl.innerHTML = parts.join(\"\"); _insertNode(tpl.content); } else { _insertNode(contentNode.content); } })(); } else { _insertNode(contentNode.content); } }); </script></treescope-run-here><div style=\"display:none\"> <script type=\"application/octet-stream\" >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</script> <treescope-run-here><script type=\"application/octet-stream\"> const root = ( Array.from(document.getElementsByClassName( \"treescope_out_ec4bd7786ada446c84ba1e5869e5a1a3\")) .filter((elt) => !elt.dataset['step0']) )[0]; root.dataset['step0'] = 1; root.defns.insertContent( this.parentNode.querySelector('script[type=\"application/octet-stream\"]'), true ); this.parentNode.remove(); </script></treescope-run-here> </div>"
      ],
      "text/plain": [
       "<IPython.core.display.HTML object>"
      ]
     },
     "metadata": {},
     "output_type": "display_data"
    }
   ],
   "source": [
    "from __future__ import annotations\n",
    "\n",
    "from pathlib import Path\n",
    "\n",
    "import jmp.configs as jc\n",
    "import nshconfig_extra as CE\n",
    "import nshtrainer as nt\n",
    "import nshutils as nu\n",
    "\n",
    "cwd = Path(\"/net/csefiles/coc-fung-cluster/nima/shared/experiment-data/\")\n",
    "env = {\n",
    "    \"HF_HOME\": \"/net/csefiles/coc-fung-cluster/nima/shared/cache/huggingface\",\n",
    "}\n",
    "\n",
    "config = jc.Config.draft()\n",
    "\n",
    "config.name = \"jmp-s\"\n",
    "config.project = \"mptrj-alex-omat24\"\n",
    "\n",
    "config.pretrained_ckpt = CE.CachedPath(\n",
    "    uri=\"/net/csefiles/coc-fung-cluster/nima/shared/checkpoints/jmp-s.pt\"\n",
    ")\n",
    "config.graph_computer = jc.GraphComputerConfig(\n",
    "    cutoffs=jc.CutoffsConfig.from_constant(8.0),\n",
    "    max_neighbors=jc.MaxNeighborsConfig(main=20, aeaint=20, aint=1000, qint=8),\n",
    "    pbc=True,\n",
    "    per_graph_radius_graph=True,\n",
    ")\n",
    "config.ignore_graph_generation_errors = True\n",
    "\n",
    "# Optimization and learning rate scheduling\n",
    "config.optimization = jc.OptimizationConfig.draft()\n",
    "config.optimization.optimizer = nt.config.AdamWConfig(lr=8.0e-5, weight_decay=0.001)\n",
    "config.optimization.separate_lr_multiplier = jc.SeparateLRMultiplierConfig(\n",
    "    backbone_multiplier=0.25, rest_multiplier=1.0\n",
    ")\n",
    "config.optimization.lr_scheduler = nt.config.LinearWarmupCosineDecayLRSchedulerConfig(\n",
    "    warmup_duration=nt.config.StepsConfig(value=5000),\n",
    "    warmup_start_lr_factor=0.001,\n",
    "    max_duration=nt.config.StepsConfig(value=1_000_000),\n",
    "    min_lr_factor=0.1,\n",
    ")\n",
    "\n",
    "# Heads\n",
    "config.targets = jc.TargetsConfig.draft()\n",
    "config.targets.energy = jc.EnergyTargetConfig(max_atomic_number=120)\n",
    "config.targets.force = jc.ForceTargetConfig()\n",
    "config.targets.stress = jc.StressTargetConfig(num_layers=5)\n",
    "config.targets.energy_loss_coefficient = 20.0\n",
    "config.targets.force_loss_coefficient = 20.0\n",
    "config.targets.stress_loss_coefficient = 1.0\n",
    "config.primary_metric = nt.config.MetricConfig(name=\"energy_mae\", mode=\"min\")\n",
    "\n",
    "# General trainer settings\n",
    "config.trainer.val_check_interval = 0.25\n",
    "config.trainer.precision = \"16-mixed-auto\"\n",
    "config.trainer.set_float32_matmul_precision = \"medium\"\n",
    "config.trainer.optimizer.log_grad_norm = True\n",
    "config.trainer.optimizer.gradient_clipping = nt.config.GradientClippingConfig(\n",
    "    value=100.0, algorithm=\"norm\"\n",
    ")\n",
    "config.trainer.hf_hub.enable_()\n",
    "\n",
    "\n",
    "config.with_project_root_(cwd)\n",
    "config = config.finalize()\n",
    "nu.display(config)\n",
    "\n",
    "data_config = jc.MPTrjAlexOMAT24DataModuleConfig.draft()\n",
    "data_config.batch_size = 120\n",
    "data_config.num_workers = 8\n",
    "data_config.salex.local_path = Path(\"/storage/nima/salex-ocp/hf/\")\n",
    "data_config.omat24.local_path = Path(\"/storage/nima/omat24/hf/\")\n",
    "data_config.with_linear_reference_(\"mptrj-salex\")\n",
    "data_config.subsample_val = 5_000\n",
    "data_config = data_config.finalize()\n",
    "nu.display(data_config)"
   ]
  },
  {
   "cell_type": "code",
   "execution_count": 2,
   "metadata": {},
   "outputs": [],
   "source": [
    "from jmp.lightning_datamodule import MPTrjAlexOMAT24DataModule\n",
    "from jmp.lightning_module import Module\n",
    "\n",
    "\n",
    "def run(config: jc.Config, data_config: jc.MPTrjAlexOMAT24DataModuleConfig):\n",
    "    module = Module(config)\n",
    "    datamodule = MPTrjAlexOMAT24DataModule(data_config)\n",
    "    trainer = nt.Trainer(config)\n",
    "    trainer.fit(module, datamodule)"
   ]
  },
  {
   "cell_type": "code",
   "execution_count": 7,
   "metadata": {},
   "outputs": [
    {
     "data": {
      "application/vnd.jupyter.widget-view+json": {
       "model_id": "2156b0c6fe09468bb20f6a90ec91fd2e",
       "version_major": 2,
       "version_minor": 0
      },
      "text/plain": [
       "  0%|          | 0/1 [00:00<?, ?it/s]"
      ]
     },
     "metadata": {},
     "output_type": "display_data"
    },
    {
     "name": "stderr",
     "output_type": "stream",
     "text": [
      "Seed set to 0\n",
      "INFO:jmp.models.gemnet.layers.radial_basis_dynamic_cutoff:[RadialBasis] Using absolute cutoff of 12.0 Angstroms.\n",
      "INFO:jmp.models.gemnet.layers.radial_basis_dynamic_cutoff:[RadialBasis] Using absolute cutoff of 12.0 Angstroms.\n",
      "INFO:jmp.models.gemnet.layers.radial_basis_dynamic_cutoff:[RadialBasis] Using absolute cutoff of 12.0 Angstroms.\n",
      "INFO:jmp.models.gemnet.layers.radial_basis_dynamic_cutoff:[RadialBasis] Using absolute cutoff of 12.0 Angstroms.\n"
     ]
    },
    {
     "name": "stdout",
     "output_type": "stream",
     "text": [
      "Unrecognized arguments:  dict_keys(['ln', 'dropout', 'replace_scale_factors_with_ln', 'learnable_rbf', 'learnable_rbf_stds', 'unique_basis_per_layer', 'old_gaussian_implementation', 'edge_dropout'])\n"
     ]
    },
    {
     "name": "stderr",
     "output_type": "stream",
     "text": [
      "INFO:jmp.models.gemnet.layers.radial_basis_dynamic_cutoff:[RadialBasis] Using absolute cutoff of 12.0 Angstroms.\n",
      "INFO:jmp.models.gemnet.layers.radial_basis_dynamic_cutoff:[RadialBasis] Using absolute cutoff of 12.0 Angstroms.\n",
      "INFO:jmp.models.gemnet.layers.radial_basis_dynamic_cutoff:[RadialBasis] Using absolute cutoff of 12.0 Angstroms.\n",
      "CRITICAL:root:Found the following scale factors: [('int_blocks.0.trip_interaction.scale_rbf', 'int_blocks.0.trip_interaction.scale_rbf'), ('int_blocks.0.trip_interaction.scale_cbf_sum', 'int_blocks.0.trip_interaction.scale_cbf_sum'), ('int_blocks.0.quad_interaction.scale_rbf', 'int_blocks.0.quad_interaction.scale_rbf'), ('int_blocks.0.quad_interaction.scale_cbf', 'int_blocks.0.quad_interaction.scale_cbf'), ('int_blocks.0.quad_interaction.scale_sbf_sum', 'int_blocks.0.quad_interaction.scale_sbf_sum'), ('int_blocks.0.atom_edge_interaction.scale_rbf', 'int_blocks.0.atom_edge_interaction.scale_rbf'), ('int_blocks.0.atom_edge_interaction.scale_cbf_sum', 'int_blocks.0.atom_edge_interaction.scale_cbf_sum'), ('int_blocks.0.edge_atom_interaction.scale_rbf', 'int_blocks.0.edge_atom_interaction.scale_rbf'), ('int_blocks.0.edge_atom_interaction.scale_cbf_sum', 'int_blocks.0.edge_atom_interaction.scale_cbf_sum'), ('int_blocks.0.atom_interaction.scale_rbf_sum', 'int_blocks.0.atom_interaction.scale_rbf_sum'), ('int_blocks.0.atom_update.scale_sum', 'int_blocks.0.atom_update.scale_sum'), ('int_blocks.1.trip_interaction.scale_rbf', 'int_blocks.1.trip_interaction.scale_rbf'), ('int_blocks.1.trip_interaction.scale_cbf_sum', 'int_blocks.1.trip_interaction.scale_cbf_sum'), ('int_blocks.1.quad_interaction.scale_rbf', 'int_blocks.1.quad_interaction.scale_rbf'), ('int_blocks.1.quad_interaction.scale_cbf', 'int_blocks.1.quad_interaction.scale_cbf'), ('int_blocks.1.quad_interaction.scale_sbf_sum', 'int_blocks.1.quad_interaction.scale_sbf_sum'), ('int_blocks.1.atom_edge_interaction.scale_rbf', 'int_blocks.1.atom_edge_interaction.scale_rbf'), ('int_blocks.1.atom_edge_interaction.scale_cbf_sum', 'int_blocks.1.atom_edge_interaction.scale_cbf_sum'), ('int_blocks.1.edge_atom_interaction.scale_rbf', 'int_blocks.1.edge_atom_interaction.scale_rbf'), ('int_blocks.1.edge_atom_interaction.scale_cbf_sum', 'int_blocks.1.edge_atom_interaction.scale_cbf_sum'), ('int_blocks.1.atom_interaction.scale_rbf_sum', 'int_blocks.1.atom_interaction.scale_rbf_sum'), ('int_blocks.1.atom_update.scale_sum', 'int_blocks.1.atom_update.scale_sum'), ('int_blocks.2.trip_interaction.scale_rbf', 'int_blocks.2.trip_interaction.scale_rbf'), ('int_blocks.2.trip_interaction.scale_cbf_sum', 'int_blocks.2.trip_interaction.scale_cbf_sum'), ('int_blocks.2.quad_interaction.scale_rbf', 'int_blocks.2.quad_interaction.scale_rbf'), ('int_blocks.2.quad_interaction.scale_cbf', 'int_blocks.2.quad_interaction.scale_cbf'), ('int_blocks.2.quad_interaction.scale_sbf_sum', 'int_blocks.2.quad_interaction.scale_sbf_sum'), ('int_blocks.2.atom_edge_interaction.scale_rbf', 'int_blocks.2.atom_edge_interaction.scale_rbf'), ('int_blocks.2.atom_edge_interaction.scale_cbf_sum', 'int_blocks.2.atom_edge_interaction.scale_cbf_sum'), ('int_blocks.2.edge_atom_interaction.scale_rbf', 'int_blocks.2.edge_atom_interaction.scale_rbf'), ('int_blocks.2.edge_atom_interaction.scale_cbf_sum', 'int_blocks.2.edge_atom_interaction.scale_cbf_sum'), ('int_blocks.2.atom_interaction.scale_rbf_sum', 'int_blocks.2.atom_interaction.scale_rbf_sum'), ('int_blocks.2.atom_update.scale_sum', 'int_blocks.2.atom_update.scale_sum'), ('int_blocks.3.trip_interaction.scale_rbf', 'int_blocks.3.trip_interaction.scale_rbf'), ('int_blocks.3.trip_interaction.scale_cbf_sum', 'int_blocks.3.trip_interaction.scale_cbf_sum'), ('int_blocks.3.quad_interaction.scale_rbf', 'int_blocks.3.quad_interaction.scale_rbf'), ('int_blocks.3.quad_interaction.scale_cbf', 'int_blocks.3.quad_interaction.scale_cbf'), ('int_blocks.3.quad_interaction.scale_sbf_sum', 'int_blocks.3.quad_interaction.scale_sbf_sum'), ('int_blocks.3.atom_edge_interaction.scale_rbf', 'int_blocks.3.atom_edge_interaction.scale_rbf'), ('int_blocks.3.atom_edge_interaction.scale_cbf_sum', 'int_blocks.3.atom_edge_interaction.scale_cbf_sum'), ('int_blocks.3.edge_atom_interaction.scale_rbf', 'int_blocks.3.edge_atom_interaction.scale_rbf'), ('int_blocks.3.edge_atom_interaction.scale_cbf_sum', 'int_blocks.3.edge_atom_interaction.scale_cbf_sum'), ('int_blocks.3.atom_interaction.scale_rbf_sum', 'int_blocks.3.atom_interaction.scale_rbf_sum'), ('int_blocks.3.atom_update.scale_sum', 'int_blocks.3.atom_update.scale_sum'), ('out_blocks.0.scale_sum', 'out_blocks.0.scale_sum'), ('out_blocks.0.scale_rbf_F', 'out_blocks.0.scale_rbf_F'), ('out_blocks.1.scale_sum', 'out_blocks.1.scale_sum'), ('out_blocks.1.scale_rbf_F', 'out_blocks.1.scale_rbf_F'), ('out_blocks.2.scale_sum', 'out_blocks.2.scale_sum'), ('out_blocks.2.scale_rbf_F', 'out_blocks.2.scale_rbf_F'), ('out_blocks.3.scale_sum', 'out_blocks.3.scale_sum'), ('out_blocks.3.scale_rbf_F', 'out_blocks.3.scale_rbf_F'), ('out_blocks.4.scale_sum', 'out_blocks.4.scale_sum'), ('out_blocks.4.scale_rbf_F', 'out_blocks.4.scale_rbf_F')].\n",
      "CRITICAL:root:Loaded the following scale factors: ['int_blocks.0.atom_update.scale_sum', 'out_blocks.3.scale_rbf_F', 'int_blocks.3.atom_edge_interaction.scale_rbf', 'int_blocks.2.atom_edge_interaction.scale_cbf_sum', 'int_blocks.2.trip_interaction.scale_rbf', 'out_blocks.2.scale_rbf_F', 'int_blocks.0.trip_interaction.scale_cbf_sum', 'int_blocks.3.quad_interaction.scale_cbf', 'int_blocks.1.atom_update.scale_sum', 'out_blocks.2.scale_sum', 'out_blocks.4.scale_sum', 'int_blocks.0.atom_edge_interaction.scale_rbf', 'int_blocks.3.atom_update.scale_sum', 'out_blocks.1.scale_sum', 'int_blocks.2.quad_interaction.scale_sbf_sum', 'int_blocks.3.trip_interaction.scale_cbf_sum', 'int_blocks.3.atom_edge_interaction.scale_cbf_sum', 'int_blocks.1.quad_interaction.scale_cbf', 'out_blocks.4.scale_rbf_F', 'int_blocks.1.atom_edge_interaction.scale_rbf', 'int_blocks.1.trip_interaction.scale_cbf_sum', 'int_blocks.1.quad_interaction.scale_rbf', 'int_blocks.0.trip_interaction.scale_rbf', 'int_blocks.2.trip_interaction.scale_cbf_sum', 'int_blocks.0.atom_interaction.scale_rbf_sum', 'int_blocks.3.quad_interaction.scale_rbf', 'int_blocks.2.atom_edge_interaction.scale_rbf', 'int_blocks.2.quad_interaction.scale_cbf', 'int_blocks.0.quad_interaction.scale_sbf_sum', 'int_blocks.2.atom_interaction.scale_rbf_sum', 'int_blocks.3.quad_interaction.scale_sbf_sum', 'int_blocks.3.edge_atom_interaction.scale_cbf_sum', 'out_blocks.0.scale_rbf_F', 'int_blocks.0.edge_atom_interaction.scale_cbf_sum', 'int_blocks.0.atom_edge_interaction.scale_cbf_sum', 'out_blocks.3.scale_sum', 'int_blocks.0.quad_interaction.scale_rbf', 'int_blocks.1.edge_atom_interaction.scale_cbf_sum', 'int_blocks.2.edge_atom_interaction.scale_cbf_sum', 'out_blocks.1.scale_rbf_F', 'int_blocks.0.quad_interaction.scale_cbf', 'int_blocks.3.trip_interaction.scale_rbf', 'int_blocks.0.edge_atom_interaction.scale_rbf', 'int_blocks.1.atom_edge_interaction.scale_cbf_sum', 'int_blocks.3.edge_atom_interaction.scale_rbf', 'int_blocks.1.trip_interaction.scale_rbf', 'int_blocks.1.quad_interaction.scale_sbf_sum', 'int_blocks.2.atom_update.scale_sum', 'int_blocks.1.edge_atom_interaction.scale_rbf', 'int_blocks.2.edge_atom_interaction.scale_rbf', 'int_blocks.2.quad_interaction.scale_rbf', 'int_blocks.3.atom_interaction.scale_rbf_sum', 'int_blocks.1.atom_interaction.scale_rbf_sum', 'out_blocks.0.scale_sum'].\n",
      "Did not load the following scale factors: [].\n",
      "INFO:jmp.models.gemnet.backbone:Removed the following unnecessary state dict keys from the checkpoint: ['output.out_energy.0.0.weight', 'output.out_energy.0.0.bias', 'output.out_energy.0.2.weight', 'output.out_energy.0.2.bias', 'output.out_energy.0.4.weight', 'output.out_energy.0.4.bias', 'output.out_energy.0.6.weight', 'output.out_energy.0.6.bias', 'output.out_energy.0.8.weight', 'output.out_energy.1.0.weight', 'output.out_energy.1.0.bias', 'output.out_energy.1.2.weight', 'output.out_energy.1.2.bias', 'output.out_energy.1.4.weight', 'output.out_energy.1.4.bias', 'output.out_energy.1.6.weight', 'output.out_energy.1.6.bias', 'output.out_energy.1.8.weight', 'output.out_energy.2.0.weight', 'output.out_energy.2.0.bias', 'output.out_energy.2.2.weight', 'output.out_energy.2.2.bias', 'output.out_energy.2.4.weight', 'output.out_energy.2.4.bias', 'output.out_energy.2.6.weight', 'output.out_energy.2.6.bias', 'output.out_energy.2.8.weight', 'output.out_energy.3.0.weight', 'output.out_energy.3.0.bias', 'output.out_energy.3.2.weight', 'output.out_energy.3.2.bias', 'output.out_energy.3.4.weight', 'output.out_energy.3.4.bias', 'output.out_energy.3.6.weight', 'output.out_energy.3.6.bias', 'output.out_energy.3.8.weight', 'output.out_forces.0.0.weight', 'output.out_forces.0.0.bias', 'output.out_forces.0.2.weight', 'output.out_forces.0.2.bias', 'output.out_forces.0.4.weight', 'output.out_forces.0.4.bias', 'output.out_forces.0.6.weight', 'output.out_forces.0.6.bias', 'output.out_forces.0.8.weight', 'output.out_forces.1.0.weight', 'output.out_forces.1.0.bias', 'output.out_forces.1.2.weight', 'output.out_forces.1.2.bias', 'output.out_forces.1.4.weight', 'output.out_forces.1.4.bias', 'output.out_forces.1.6.weight', 'output.out_forces.1.6.bias', 'output.out_forces.1.8.weight', 'output.out_forces.2.0.weight', 'output.out_forces.2.0.bias', 'output.out_forces.2.2.weight', 'output.out_forces.2.2.bias', 'output.out_forces.2.4.weight', 'output.out_forces.2.4.bias', 'output.out_forces.2.6.weight', 'output.out_forces.2.6.bias', 'output.out_forces.2.8.weight', 'output.out_forces.3.0.weight', 'output.out_forces.3.0.bias', 'output.out_forces.3.2.weight', 'output.out_forces.3.2.bias', 'output.out_forces.3.4.weight', 'output.out_forces.3.4.bias', 'output.out_forces.3.6.weight', 'output.out_forces.3.6.bias', 'output.out_forces.3.8.weight', 'task_steps._module_dict._typed_moduledict_oc20.value', 'task_steps._module_dict._typed_moduledict_oc22.value', 'task_steps._module_dict._typed_moduledict_ani1x.value', 'task_steps._module_dict._typed_moduledict_transition1x.value']\n",
      "CRITICAL:nshtrainer.trainer.trainer:Auto-resolving precision='16-mixed-auto' to resolved_precision='bf16-mixed'.\n",
      "CRITICAL:nshtrainer.loggers.wandb:Using the `wandb-core` backend for WandB.\n",
      "INFO:nshtrainer.trainer.trainer:config.trainer.auto_determine_num_nodes ignored because no SLURM or LSF detected.\n",
      "CRITICAL:nshtrainer.trainer.trainer:LightningTrainer.__init__ with kwargs={'deterministic': None, 'fast_dev_run': 256, 'max_epochs': None, 'min_epochs': None, 'max_steps': -1, 'min_steps': None, 'max_time': None, 'limit_train_batches': None, 'limit_val_batches': None, 'limit_test_batches': None, 'limit_predict_batches': None, 'overfit_batches': 0.0, 'val_check_interval': None, 'num_sanity_val_steps': None, 'log_every_n_steps': None, 'inference_mode': True, 'callbacks': [<lightning.pytorch.callbacks.lr_monitor.LearningRateMonitor object at 0x7febf0114ad0>, <nshtrainer.callbacks.log_epoch.LogEpochCallback object at 0x7febeebb3990>, <nshtrainer.loggers.wandb.FinishWandbOnTeardownCallback object at 0x7febeebb38d0>, <nshtrainer.callbacks.wandb_watch.WandbWatchCallback object at 0x7febeebb3410>, <nshtrainer.callbacks.wandb_upload_code.WandbUploadCodeCallback object at 0x7febf1220ed0>, <nshtrainer._hf_hub.HFHubCallback object at 0x7febee5d0dd0>, <nshtrainer.callbacks.shared_parameters.SharedParametersCallback object at 0x7febeebb3450>, <nshtrainer.callbacks.rlp_sanity_checks.RLPSanityChecksCallback object at 0x7febeebb31d0>, <nshtrainer.callbacks.debug_flag.DebugFlagCallback object at 0x7febeebb3110>], 'plugins': [], 'logger': [<lightning.pytorch.loggers.wandb.WandbLogger object at 0x7febeebb2bd0>, <lightning.pytorch.loggers.tensorboard.TensorBoardLogger object at 0x7febf0f4f250>, <lightning.pytorch.loggers.csv_logs.CSVLogger object at 0x7febeeb9a910>], 'default_root_dir': PosixPath('/net/csefiles/coc-fung-cluster/nima/shared/repositories/jmp-backbone/configs/mptrj_alex_omat24/nshtrainer/moge19j9'), 'precision': 'bf16-mixed'}.\n",
      "Trainer will use only 1 of 8 GPUs because it is running inside an interactive / notebook environment. You may try to set `Trainer(devices=8)` but please note that multi-GPU inside interactive / notebook environments is considered experimental and unstable. Your mileage may vary.\n",
      "Using bfloat16 Automatic Mixed Precision (AMP)\n",
      "GPU available: True (cuda), used: True\n",
      "TPU available: False, using: 0 TPU cores\n",
      "HPU available: False, using: 0 HPUs\n",
      "Running in `fast_dev_run` mode: will run the requested loop using 256 batch(es). Logging and checkpointing is suppressed.\n",
      "CRITICAL:nshtrainer.trainer.trainer:LightningTrainer log directory: None.\n",
      "WARNING:nshtrainer._checkpoint.loader:No checkpoint candidates found for `last` checkpoint strategy.\n",
      "INFO:nshtrainer.trainer.checkpoint_connector:No checkpoint found for the current trainer state. Training will start from scratch.\n",
      "INFO:nshtrainer.trainer.checkpoint_connector:Loading checkpoint from: None\n"
     ]
    },
    {
     "data": {
      "application/vnd.jupyter.widget-view+json": {
       "model_id": "44d20d4432be4dfabe289c3ae66abf1b",
       "version_major": 2,
       "version_minor": 0
      },
      "text/plain": [
       "Loading dataset from disk:   0%|          | 0/212 [00:00<?, ?it/s]"
      ]
     },
     "metadata": {},
     "output_type": "display_data"
    },
    {
     "data": {
      "application/vnd.jupyter.widget-view+json": {
       "model_id": "a35165f97a8f4e2e94124ef669daa7e9",
       "version_major": 2,
       "version_minor": 0
      },
      "text/plain": [
       "Loading dataset from disk:   0%|          | 0/212 [00:00<?, ?it/s]"
      ]
     },
     "metadata": {},
     "output_type": "display_data"
    },
    {
     "name": "stderr",
     "output_type": "stream",
     "text": [
      "WARNING:nshtrainer.callbacks.wandb_upload_code:Wandb logger not found. Skipping code upload.\n",
      "CRITICAL:nshtrainer.callbacks.debug_flag:Fast dev run detected, setting debug flag to True.\n",
      "LOCAL_RANK: 0 - CUDA_VISIBLE_DEVICES: [0,1,2,3,4,5,6,7]\n",
      "Loading `train_dataloader` to estimate number of stepping batches.\n"
     ]
    },
    {
     "data": {
      "application/vnd.jupyter.widget-view+json": {
       "model_id": "53567079d9a4468eb964892369fd1e52",
       "version_major": 2,
       "version_minor": 0
      },
      "text/plain": [
       "Loading dataset from disk:   0%|          | 0/212 [00:00<?, ?it/s]"
      ]
     },
     "metadata": {},
     "output_type": "display_data"
    },
    {
     "name": "stderr",
     "output_type": "stream",
     "text": [
      "\n",
      "  | Name           | Type              | Params | Mode \n",
      "-------------------------------------------------------------\n",
      "0 | backbone       | GemNetOCBackbone  | 38.9 M | train\n",
      "1 | energy_head    | EnergyOutputHead  | 263 K  | train\n",
      "2 | force_head     | ForceOutputHead   | 1.1 M  | train\n",
      "3 | stress_head    | StressOutputHead  | 2.1 M  | train\n",
      "4 | graph_computer | GraphComputer     | 0      | train\n",
      "5 | train_metrics  | ForceFieldMetrics | 0      | train\n",
      "6 | val_metrics    | ForceFieldMetrics | 0      | train\n",
      "7 | test_metrics   | ForceFieldMetrics | 0      | train\n",
      "-------------------------------------------------------------\n",
      "42.3 M    Trainable params\n",
      "0         Non-trainable params\n",
      "42.3 M    Total params\n",
      "169.161   Total estimated model params size (MB)\n",
      "INFO:nshtrainer.trainer.signal_connector:No auto-requeue signals found. Reverting to default Lightning behavior.\n"
     ]
    },
    {
     "data": {
      "application/vnd.jupyter.widget-view+json": {
       "model_id": "9ddaef02f3ca4e02b7f47d13699d58ac",
       "version_major": 2,
       "version_minor": 0
      },
      "text/plain": [
       "Loading dataset from disk:   0%|          | 0/212 [00:00<?, ?it/s]"
      ]
     },
     "metadata": {},
     "output_type": "display_data"
    },
    {
     "data": {
      "application/vnd.jupyter.widget-view+json": {
       "model_id": "041482d7713d4397bd75f19707c5863e",
       "version_major": 2,
       "version_minor": 0
      },
      "text/plain": [
       "Training: |          | 0/? [00:00<?, ?it/s]"
      ]
     },
     "metadata": {},
     "output_type": "display_data"
    },
    {
     "data": {
      "application/vnd.jupyter.widget-view+json": {
       "model_id": "13347fc116944b009a3fd288a471777e",
       "version_major": 2,
       "version_minor": 0
      },
      "text/plain": [
       "Validation: |          | 0/? [00:00<?, ?it/s]"
      ]
     },
     "metadata": {},
     "output_type": "display_data"
    },
    {
     "name": "stderr",
     "output_type": "stream",
     "text": [
      "/net/csefiles/coc-fung-cluster/nima/miniforge3/envs/jmp-peft/lib/python3.11/site-packages/lightning/pytorch/trainer/call.py:54: Detected KeyboardInterrupt, attempting graceful shutdown...\n"
     ]
    },
    {
     "data": {
      "text/html": [
       "<script> (()=>{ if (customElements.get('treescope-container') === undefined) { class TreescopeContainer extends HTMLElement { constructor() { super(); this.attachShadow({mode: \"open\"}); this.defns = {}; this.state = {}; } } customElements.define(\"treescope-container\", TreescopeContainer); } if (customElements.get('treescope-run-here') === undefined) { class RunHere extends HTMLElement { constructor() { super() } connectedCallback() { const run = child => { const fn = new Function(child.textContent); child.textContent = \"\"; fn.call(this); this.remove(); }; const child = this.querySelector(\"script\"); if (child) { run(child); } else { new MutationObserver(()=>{ run(this.querySelector(\"script\")); }).observe(this, {childList: true}); } } } customElements.define(\"treescope-run-here\", RunHere); } })(); </script> <treescope-container class=\"treescope_out_f863bc8ea2cc4795a0800e416a812839\" ></treescope-container> <treescope-run-here><script type=\"application/octet-stream\"> const root = ( Array.from(document.getElementsByClassName( \"treescope_out_f863bc8ea2cc4795a0800e416a812839\")) .filter((elt) => !elt.dataset.setup) )[0]; root.dataset.setup = 1; const msg = document.createElement(\"span\"); msg.style = \"color: #cccccc; font-family: monospace;\"; msg.textContent = \"(Loading...)\"; root.state.loadingMsg = msg; root.shadowRoot.appendChild(msg); root.state.chain = new Promise((resolve, reject) => { const observer = new IntersectionObserver((entries) => { for (const entry of entries) { if (entry.isIntersecting) { resolve(); observer.disconnect(); return; } } }, {rootMargin: \"1000px\"}); window.setTimeout(() => { observer.observe(root); }, 0); }); root.state.deferring = false; const _insertNode = (node) => { for (let oldScript of node.querySelectorAll(\"script\")) { let newScript = document.createElement(\"script\"); newScript.type = oldScript.type; newScript.textContent = oldScript.textContent; oldScript.parentNode.replaceChild(newScript, oldScript); } if (root.state.loadingMsg) { root.state.loadingMsg.remove(); root.state.loadingMsg = null; } root.shadowRoot.appendChild(node); }; root.defns.insertContent = ((contentNode, compressed) => { if (compressed) { root.state.deferring = true; } if (root.state.deferring) { root.state.chain = (async () => { await root.state.chain; if (compressed) { const encoded = contentNode.textContent; const blob = new Blob([ Uint8Array.from(atob(encoded), (m) => m.codePointAt(0)) ]); const reader = blob.stream().pipeThrough( new DecompressionStream(\"deflate\") ).pipeThrough( new TextDecoderStream(\"utf-8\") ).getReader(); const parts = []; while (true) { const step = await reader.read(); if (step.done) { break; } parts.push(step.value); } const tpl = document.createElement('template'); tpl.innerHTML = parts.join(\"\"); _insertNode(tpl.content); } else { _insertNode(contentNode.content); } })(); } else { _insertNode(contentNode.content); } }); </script></treescope-run-here><div style=\"display:none\"> <script type=\"application/octet-stream\" >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</script> <treescope-run-here><script type=\"application/octet-stream\"> const root = ( Array.from(document.getElementsByClassName( \"treescope_out_f863bc8ea2cc4795a0800e416a812839\")) .filter((elt) => !elt.dataset['step0']) )[0]; root.dataset['step0'] = 1; root.defns.insertContent( this.parentNode.querySelector('script[type=\"application/octet-stream\"]'), true ); this.parentNode.remove(); </script></treescope-run-here> </div>"
      ],
      "text/plain": [
       "<IPython.core.display.HTML object>"
      ]
     },
     "metadata": {},
     "output_type": "display_data"
    },
    {
     "data": {
      "text/html": [
       "<treescope-run-here><script type=\"application/octet-stream\"> const root = ( Array.from(document.getElementsByClassName( \"treescope_out_f863bc8ea2cc4795a0800e416a812839\")) .filter((elt) => !elt.dataset.stolen) )[0]; root.dataset.stolen = 1; this.parentNode.replaceChild(root, this); </script></treescope-run-here>"
      ],
      "text/plain": [
       "[None]"
      ]
     },
     "execution_count": 7,
     "metadata": {},
     "output_type": "execute_result"
    }
   ],
   "source": [
    "import nshrunner as nr\n",
    "\n",
    "configs = [(config.fast_dev_run(256), data_config)]\n",
    "\n",
    "runner = nr.Runner(run, nr.RunnerConfig(working_dir=cwd, env=env))\n",
    "runner.local(configs)"
   ]
  },
  {
   "cell_type": "code",
   "execution_count": 3,
   "metadata": {},
   "outputs": [
    {
     "name": "stderr",
     "output_type": "stream",
     "text": [
      "Resolved the following modules from the provided values: ['jmp']\n",
      "Snapshotting modules=['jmp'] to /net/csefiles/coc-fung-cluster/nima/shared/experiment-data/nshrunner/e26a592a-37d5-48d3-8d82-3003fc2d317c/nshsnap\n",
      "Run the following command to submit the jobs:\n",
      "\n",
      "\n"
     ]
    },
    {
     "name": "stdout",
     "output_type": "stream",
     "text": [
      "screen -S nshrunner -L -Logfile /net/csefiles/coc-fung-cluster/nima/shared/experiment-data/nshrunner/e26a592a-37d5-48d3-8d82-3003fc2d317c/submit/logs/session.log -U bash /net/csefiles/coc-fung-cluster/nima/shared/experiment-data/nshrunner/e26a592a-37d5-48d3-8d82-3003fc2d317c/submit/submit.sh\n",
      "\n",
      "\n"
     ]
    },
    {
     "data": {
      "text/plain": [
       "Submission(command_parts=['screen', '-S', 'nshrunner', '-L', '-Logfile', '/net/csefiles/coc-fung-cluster/nima/shared/experiment-data/nshrunner/e26a592a-37d5-48d3-8d82-3003fc2d317c/submit/logs/session.log', '-U', 'bash', '/net/csefiles/coc-fung-cluster/nima/shared/experiment-data/nshrunner/e26a592a-37d5-48d3-8d82-3003fc2d317c/submit/submit.sh'], script_path=PosixPath('/net/csefiles/coc-fung-cluster/nima/shared/experiment-data/nshrunner/e26a592a-37d5-48d3-8d82-3003fc2d317c/submit/submit.sh'))"
      ]
     },
     "execution_count": 3,
     "metadata": {},
     "output_type": "execute_result"
    }
   ],
   "source": [
    "import nshrunner as nr\n",
    "\n",
    "configs = [(config, data_config)]\n",
    "\n",
    "runner = nr.Runner(run, nr.RunnerConfig(working_dir=cwd, env=env))\n",
    "runner.session(configs, snapshot=True, env=env)"
   ]
  }
 ],
 "metadata": {
  "kernelspec": {
   "display_name": "jmp-peft",
   "language": "python",
   "name": "python3"
  },
  "language_info": {
   "codemirror_mode": {
    "name": "ipython",
    "version": 3
   },
   "file_extension": ".py",
   "mimetype": "text/x-python",
   "name": "python",
   "nbconvert_exporter": "python",
   "pygments_lexer": "ipython3",
   "version": "3.11.9"
  }
 },
 "nbformat": 4,
 "nbformat_minor": 2
}
