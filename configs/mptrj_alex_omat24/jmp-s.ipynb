{
 "cells": [
  {
   "cell_type": "code",
   "execution_count": 2,
   "metadata": {},
   "outputs": [
    {
     "data": {
      "text/html": [
       "<script> (()=>{ if (customElements.get('treescope-container') === undefined) { class TreescopeContainer extends HTMLElement { constructor() { super(); this.attachShadow({mode: \"open\"}); this.defns = {}; this.state = {}; } } customElements.define(\"treescope-container\", TreescopeContainer); } if (customElements.get('treescope-run-here') === undefined) { class RunHere extends HTMLElement { constructor() { super() } connectedCallback() { const run = child => { const fn = new Function(child.textContent); child.textContent = \"\"; fn.call(this); this.remove(); }; const child = this.querySelector(\"script\"); if (child) { run(child); } else { new MutationObserver(()=>{ run(this.querySelector(\"script\")); }).observe(this, {childList: true}); } } } customElements.define(\"treescope-run-here\", RunHere); } })(); </script> <treescope-container class=\"treescope_out_146d8538cf4f48dd9dbbbe54e42a31dc\" ></treescope-container> <treescope-run-here><script type=\"application/octet-stream\"> const root = ( Array.from(document.getElementsByClassName( \"treescope_out_146d8538cf4f48dd9dbbbe54e42a31dc\")) .filter((elt) => !elt.dataset.setup) )[0]; root.dataset.setup = 1; const msg = document.createElement(\"span\"); msg.style = \"color: #cccccc; font-family: monospace;\"; msg.textContent = \"(Loading...)\"; root.state.loadingMsg = msg; root.shadowRoot.appendChild(msg); root.state.chain = new Promise((resolve, reject) => { const observer = new IntersectionObserver((entries) => { for (const entry of entries) { if (entry.isIntersecting) { resolve(); observer.disconnect(); return; } } }, {rootMargin: \"1000px\"}); window.setTimeout(() => { observer.observe(root); }, 0); }); root.state.deferring = false; const _insertNode = (node) => { for (let oldScript of node.querySelectorAll(\"script\")) { let newScript = document.createElement(\"script\"); newScript.type = oldScript.type; newScript.textContent = oldScript.textContent; oldScript.parentNode.replaceChild(newScript, oldScript); } if (root.state.loadingMsg) { root.state.loadingMsg.remove(); root.state.loadingMsg = null; } root.shadowRoot.appendChild(node); }; root.defns.insertContent = ((contentNode, compressed) => { if (compressed) { root.state.deferring = true; } if (root.state.deferring) { root.state.chain = (async () => { await root.state.chain; if (compressed) { const encoded = contentNode.textContent; const blob = new Blob([ Uint8Array.from(atob(encoded), (m) => m.codePointAt(0)) ]); const reader = blob.stream().pipeThrough( new DecompressionStream(\"deflate\") ).pipeThrough( new TextDecoderStream(\"utf-8\") ).getReader(); const parts = []; while (true) { const step = await reader.read(); if (step.done) { break; } parts.push(step.value); } const tpl = document.createElement('template'); tpl.innerHTML = parts.join(\"\"); _insertNode(tpl.content); } else { _insertNode(contentNode.content); } })(); } else { _insertNode(contentNode.content); } }); </script></treescope-run-here><div style=\"display:none\"> <script type=\"application/octet-stream\" >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</script> <treescope-run-here><script type=\"application/octet-stream\"> const root = ( Array.from(document.getElementsByClassName( \"treescope_out_146d8538cf4f48dd9dbbbe54e42a31dc\")) .filter((elt) => !elt.dataset['step0']) )[0]; root.dataset['step0'] = 1; root.defns.insertContent( this.parentNode.querySelector('script[type=\"application/octet-stream\"]'), true ); this.parentNode.remove(); </script></treescope-run-here> </div>"
      ],
      "text/plain": [
       "<IPython.core.display.HTML object>"
      ]
     },
     "metadata": {},
     "output_type": "display_data"
    },
    {
     "data": {
      "text/html": [
       "<script> (()=>{ if (customElements.get('treescope-container') === undefined) { class TreescopeContainer extends HTMLElement { constructor() { super(); this.attachShadow({mode: \"open\"}); this.defns = {}; this.state = {}; } } customElements.define(\"treescope-container\", TreescopeContainer); } if (customElements.get('treescope-run-here') === undefined) { class RunHere extends HTMLElement { constructor() { super() } connectedCallback() { const run = child => { const fn = new Function(child.textContent); child.textContent = \"\"; fn.call(this); this.remove(); }; const child = this.querySelector(\"script\"); if (child) { run(child); } else { new MutationObserver(()=>{ run(this.querySelector(\"script\")); }).observe(this, {childList: true}); } } } customElements.define(\"treescope-run-here\", RunHere); } })(); </script> <treescope-container class=\"treescope_out_cad9722ce2404369ac8c0eeea5eb03bb\" ></treescope-container> <treescope-run-here><script type=\"application/octet-stream\"> const root = ( Array.from(document.getElementsByClassName( \"treescope_out_cad9722ce2404369ac8c0eeea5eb03bb\")) .filter((elt) => !elt.dataset.setup) )[0]; root.dataset.setup = 1; const msg = document.createElement(\"span\"); msg.style = \"color: #cccccc; font-family: monospace;\"; msg.textContent = \"(Loading...)\"; root.state.loadingMsg = msg; root.shadowRoot.appendChild(msg); root.state.chain = new Promise((resolve, reject) => { const observer = new IntersectionObserver((entries) => { for (const entry of entries) { if (entry.isIntersecting) { resolve(); observer.disconnect(); return; } } }, {rootMargin: \"1000px\"}); window.setTimeout(() => { observer.observe(root); }, 0); }); root.state.deferring = false; const _insertNode = (node) => { for (let oldScript of node.querySelectorAll(\"script\")) { let newScript = document.createElement(\"script\"); newScript.type = oldScript.type; newScript.textContent = oldScript.textContent; oldScript.parentNode.replaceChild(newScript, oldScript); } if (root.state.loadingMsg) { root.state.loadingMsg.remove(); root.state.loadingMsg = null; } root.shadowRoot.appendChild(node); }; root.defns.insertContent = ((contentNode, compressed) => { if (compressed) { root.state.deferring = true; } if (root.state.deferring) { root.state.chain = (async () => { await root.state.chain; if (compressed) { const encoded = contentNode.textContent; const blob = new Blob([ Uint8Array.from(atob(encoded), (m) => m.codePointAt(0)) ]); const reader = blob.stream().pipeThrough( new DecompressionStream(\"deflate\") ).pipeThrough( new TextDecoderStream(\"utf-8\") ).getReader(); const parts = []; while (true) { const step = await reader.read(); if (step.done) { break; } parts.push(step.value); } const tpl = document.createElement('template'); tpl.innerHTML = parts.join(\"\"); _insertNode(tpl.content); } else { _insertNode(contentNode.content); } })(); } else { _insertNode(contentNode.content); } }); </script></treescope-run-here><div style=\"display:none\"> <script type=\"application/octet-stream\" >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</script> <treescope-run-here><script type=\"application/octet-stream\"> const root = ( Array.from(document.getElementsByClassName( \"treescope_out_cad9722ce2404369ac8c0eeea5eb03bb\")) .filter((elt) => !elt.dataset['step0']) )[0]; root.dataset['step0'] = 1; root.defns.insertContent( this.parentNode.querySelector('script[type=\"application/octet-stream\"]'), true ); this.parentNode.remove(); </script></treescope-run-here> </div>"
      ],
      "text/plain": [
       "<IPython.core.display.HTML object>"
      ]
     },
     "metadata": {},
     "output_type": "display_data"
    }
   ],
   "source": [
    "from __future__ import annotations\n",
    "\n",
    "from pathlib import Path\n",
    "\n",
    "import jmp.config as JC\n",
    "import nshconfig_extra as CE\n",
    "import nshtrainer as nt\n",
    "import nshutils as nu\n",
    "\n",
    "cwd = Path(\"/net/csefiles/coc-fung-cluster/nima/shared/experiment-data/\")\n",
    "env = {\n",
    "    \"HF_HOME\": \"/net/csefiles/coc-fung-cluster/nima/shared/cache/huggingface\",\n",
    "}\n",
    "\n",
    "config = JC.Config.draft()\n",
    "\n",
    "config.name = \"jmp-s\"\n",
    "config.project = \"mptrj-alex-omat24\"\n",
    "\n",
    "config.pretrained_ckpt = CE.CachedPath(\n",
    "    uri=\"/net/csefiles/coc-fung-cluster/nima/shared/checkpoints/jmp-s.pt\"\n",
    ")\n",
    "config.graph_computer = JC.GraphComputerConfig(\n",
    "    cutoffs=JC.CutoffsConfig.from_constant(8.0),\n",
    "    max_neighbors=JC.MaxNeighborsConfig(main=20, aeaint=20, aint=1000, qint=8),\n",
    "    pbc=True,\n",
    "    per_graph_radius_graph=True,\n",
    ")\n",
    "\n",
    "# Optimization and learning rate scheduling\n",
    "config.optimization = JC.OptimizationConfig.draft()\n",
    "config.optimization.optimizer = nt.config.AdamWConfig(lr=8.0e-5, weight_decay=0.001)\n",
    "config.optimization.separate_lr_multiplier = JC.SeparateLRMultiplierConfig(\n",
    "    backbone_multiplier=0.25, rest_multiplier=1.0\n",
    ")\n",
    "config.optimization.lr_scheduler = nt.config.LinearWarmupCosineDecayLRSchedulerConfig(\n",
    "    warmup_duration=nt.config.StepsConfig(value=5000),\n",
    "    warmup_start_lr_factor=0.001,\n",
    "    max_duration=nt.config.StepsConfig(value=1_000_000),\n",
    "    min_lr_factor=0.1,\n",
    ")\n",
    "\n",
    "# Heads\n",
    "config.targets = JC.TargetsConfig.draft()\n",
    "config.targets.energy = JC.EnergyTargetConfig(max_atomic_number=120)\n",
    "config.targets.force = JC.ForceTargetConfig()\n",
    "config.targets.stress = JC.StressTargetConfig(num_layers=5)\n",
    "config.targets.energy_loss_coefficient = 1.0\n",
    "config.targets.force_loss_coefficient = 10.0\n",
    "config.targets.stress_loss_coefficient = 100.0\n",
    "\n",
    "config.trainer.precision = \"16-mixed-auto\"\n",
    "config.trainer.set_float32_matmul_precision = \"medium\"\n",
    "config.trainer.optimizer.log_grad_norm = True\n",
    "config.trainer.optimizer.gradient_clipping = nt.config.GradientClippingConfig(\n",
    "    value=100.0, algorithm=\"norm\"\n",
    ")\n",
    "\n",
    "config.with_project_root_(cwd)\n",
    "config = config.finalize()\n",
    "nu.display(config)\n",
    "\n",
    "data_config = JC.MPTrjAlexOMAT24DataModuleConfig.draft()\n",
    "data_config.batch_size = 120\n",
    "data_config.num_workers = 8\n",
    "data_config.salex.local_path = Path(\"/storage/nima/salex-ocp/hf/\")\n",
    "data_config.omat24.local_path = Path(\"/storage/nima/omat24/hf/\")\n",
    "data_config.with_linear_reference_(\"mptrj-salex\")\n",
    "data_config = data_config.finalize()\n",
    "nu.display(data_config)"
   ]
  },
  {
   "cell_type": "code",
   "execution_count": 3,
   "metadata": {},
   "outputs": [],
   "source": [
    "from jmp.lightning_datamodule import MPTrjAlexOMAT24DataModule\n",
    "from jmp.lightning_module import Module\n",
    "\n",
    "\n",
    "def run(config: JC.Config, data_config: JC.MPTrjAlexOMAT24DataModuleConfig):\n",
    "    module = Module(config)\n",
    "    datamodule = MPTrjAlexOMAT24DataModule(data_config)\n",
    "    trainer = nt.Trainer(config)\n",
    "    trainer.fit(module, datamodule)"
   ]
  },
  {
   "cell_type": "code",
   "execution_count": 7,
   "metadata": {},
   "outputs": [
    {
     "data": {
      "application/vnd.jupyter.widget-view+json": {
       "model_id": "2156b0c6fe09468bb20f6a90ec91fd2e",
       "version_major": 2,
       "version_minor": 0
      },
      "text/plain": [
       "  0%|          | 0/1 [00:00<?, ?it/s]"
      ]
     },
     "metadata": {},
     "output_type": "display_data"
    },
    {
     "name": "stderr",
     "output_type": "stream",
     "text": [
      "Seed set to 0\n",
      "INFO:jmp.models.gemnet.layers.radial_basis_dynamic_cutoff:[RadialBasis] Using absolute cutoff of 12.0 Angstroms.\n",
      "INFO:jmp.models.gemnet.layers.radial_basis_dynamic_cutoff:[RadialBasis] Using absolute cutoff of 12.0 Angstroms.\n",
      "INFO:jmp.models.gemnet.layers.radial_basis_dynamic_cutoff:[RadialBasis] Using absolute cutoff of 12.0 Angstroms.\n",
      "INFO:jmp.models.gemnet.layers.radial_basis_dynamic_cutoff:[RadialBasis] Using absolute cutoff of 12.0 Angstroms.\n"
     ]
    },
    {
     "name": "stdout",
     "output_type": "stream",
     "text": [
      "Unrecognized arguments:  dict_keys(['ln', 'dropout', 'replace_scale_factors_with_ln', 'learnable_rbf', 'learnable_rbf_stds', 'unique_basis_per_layer', 'old_gaussian_implementation', 'edge_dropout'])\n"
     ]
    },
    {
     "name": "stderr",
     "output_type": "stream",
     "text": [
      "INFO:jmp.models.gemnet.layers.radial_basis_dynamic_cutoff:[RadialBasis] Using absolute cutoff of 12.0 Angstroms.\n",
      "INFO:jmp.models.gemnet.layers.radial_basis_dynamic_cutoff:[RadialBasis] Using absolute cutoff of 12.0 Angstroms.\n",
      "INFO:jmp.models.gemnet.layers.radial_basis_dynamic_cutoff:[RadialBasis] Using absolute cutoff of 12.0 Angstroms.\n",
      "CRITICAL:root:Found the following scale factors: [('int_blocks.0.trip_interaction.scale_rbf', 'int_blocks.0.trip_interaction.scale_rbf'), ('int_blocks.0.trip_interaction.scale_cbf_sum', 'int_blocks.0.trip_interaction.scale_cbf_sum'), ('int_blocks.0.quad_interaction.scale_rbf', 'int_blocks.0.quad_interaction.scale_rbf'), ('int_blocks.0.quad_interaction.scale_cbf', 'int_blocks.0.quad_interaction.scale_cbf'), ('int_blocks.0.quad_interaction.scale_sbf_sum', 'int_blocks.0.quad_interaction.scale_sbf_sum'), ('int_blocks.0.atom_edge_interaction.scale_rbf', 'int_blocks.0.atom_edge_interaction.scale_rbf'), ('int_blocks.0.atom_edge_interaction.scale_cbf_sum', 'int_blocks.0.atom_edge_interaction.scale_cbf_sum'), ('int_blocks.0.edge_atom_interaction.scale_rbf', 'int_blocks.0.edge_atom_interaction.scale_rbf'), ('int_blocks.0.edge_atom_interaction.scale_cbf_sum', 'int_blocks.0.edge_atom_interaction.scale_cbf_sum'), ('int_blocks.0.atom_interaction.scale_rbf_sum', 'int_blocks.0.atom_interaction.scale_rbf_sum'), ('int_blocks.0.atom_update.scale_sum', 'int_blocks.0.atom_update.scale_sum'), ('int_blocks.1.trip_interaction.scale_rbf', 'int_blocks.1.trip_interaction.scale_rbf'), ('int_blocks.1.trip_interaction.scale_cbf_sum', 'int_blocks.1.trip_interaction.scale_cbf_sum'), ('int_blocks.1.quad_interaction.scale_rbf', 'int_blocks.1.quad_interaction.scale_rbf'), ('int_blocks.1.quad_interaction.scale_cbf', 'int_blocks.1.quad_interaction.scale_cbf'), ('int_blocks.1.quad_interaction.scale_sbf_sum', 'int_blocks.1.quad_interaction.scale_sbf_sum'), ('int_blocks.1.atom_edge_interaction.scale_rbf', 'int_blocks.1.atom_edge_interaction.scale_rbf'), ('int_blocks.1.atom_edge_interaction.scale_cbf_sum', 'int_blocks.1.atom_edge_interaction.scale_cbf_sum'), ('int_blocks.1.edge_atom_interaction.scale_rbf', 'int_blocks.1.edge_atom_interaction.scale_rbf'), ('int_blocks.1.edge_atom_interaction.scale_cbf_sum', 'int_blocks.1.edge_atom_interaction.scale_cbf_sum'), ('int_blocks.1.atom_interaction.scale_rbf_sum', 'int_blocks.1.atom_interaction.scale_rbf_sum'), ('int_blocks.1.atom_update.scale_sum', 'int_blocks.1.atom_update.scale_sum'), ('int_blocks.2.trip_interaction.scale_rbf', 'int_blocks.2.trip_interaction.scale_rbf'), ('int_blocks.2.trip_interaction.scale_cbf_sum', 'int_blocks.2.trip_interaction.scale_cbf_sum'), ('int_blocks.2.quad_interaction.scale_rbf', 'int_blocks.2.quad_interaction.scale_rbf'), ('int_blocks.2.quad_interaction.scale_cbf', 'int_blocks.2.quad_interaction.scale_cbf'), ('int_blocks.2.quad_interaction.scale_sbf_sum', 'int_blocks.2.quad_interaction.scale_sbf_sum'), ('int_blocks.2.atom_edge_interaction.scale_rbf', 'int_blocks.2.atom_edge_interaction.scale_rbf'), ('int_blocks.2.atom_edge_interaction.scale_cbf_sum', 'int_blocks.2.atom_edge_interaction.scale_cbf_sum'), ('int_blocks.2.edge_atom_interaction.scale_rbf', 'int_blocks.2.edge_atom_interaction.scale_rbf'), ('int_blocks.2.edge_atom_interaction.scale_cbf_sum', 'int_blocks.2.edge_atom_interaction.scale_cbf_sum'), ('int_blocks.2.atom_interaction.scale_rbf_sum', 'int_blocks.2.atom_interaction.scale_rbf_sum'), ('int_blocks.2.atom_update.scale_sum', 'int_blocks.2.atom_update.scale_sum'), ('int_blocks.3.trip_interaction.scale_rbf', 'int_blocks.3.trip_interaction.scale_rbf'), ('int_blocks.3.trip_interaction.scale_cbf_sum', 'int_blocks.3.trip_interaction.scale_cbf_sum'), ('int_blocks.3.quad_interaction.scale_rbf', 'int_blocks.3.quad_interaction.scale_rbf'), ('int_blocks.3.quad_interaction.scale_cbf', 'int_blocks.3.quad_interaction.scale_cbf'), ('int_blocks.3.quad_interaction.scale_sbf_sum', 'int_blocks.3.quad_interaction.scale_sbf_sum'), ('int_blocks.3.atom_edge_interaction.scale_rbf', 'int_blocks.3.atom_edge_interaction.scale_rbf'), ('int_blocks.3.atom_edge_interaction.scale_cbf_sum', 'int_blocks.3.atom_edge_interaction.scale_cbf_sum'), ('int_blocks.3.edge_atom_interaction.scale_rbf', 'int_blocks.3.edge_atom_interaction.scale_rbf'), ('int_blocks.3.edge_atom_interaction.scale_cbf_sum', 'int_blocks.3.edge_atom_interaction.scale_cbf_sum'), ('int_blocks.3.atom_interaction.scale_rbf_sum', 'int_blocks.3.atom_interaction.scale_rbf_sum'), ('int_blocks.3.atom_update.scale_sum', 'int_blocks.3.atom_update.scale_sum'), ('out_blocks.0.scale_sum', 'out_blocks.0.scale_sum'), ('out_blocks.0.scale_rbf_F', 'out_blocks.0.scale_rbf_F'), ('out_blocks.1.scale_sum', 'out_blocks.1.scale_sum'), ('out_blocks.1.scale_rbf_F', 'out_blocks.1.scale_rbf_F'), ('out_blocks.2.scale_sum', 'out_blocks.2.scale_sum'), ('out_blocks.2.scale_rbf_F', 'out_blocks.2.scale_rbf_F'), ('out_blocks.3.scale_sum', 'out_blocks.3.scale_sum'), ('out_blocks.3.scale_rbf_F', 'out_blocks.3.scale_rbf_F'), ('out_blocks.4.scale_sum', 'out_blocks.4.scale_sum'), ('out_blocks.4.scale_rbf_F', 'out_blocks.4.scale_rbf_F')].\n",
      "CRITICAL:root:Loaded the following scale factors: ['int_blocks.0.atom_update.scale_sum', 'out_blocks.3.scale_rbf_F', 'int_blocks.3.atom_edge_interaction.scale_rbf', 'int_blocks.2.atom_edge_interaction.scale_cbf_sum', 'int_blocks.2.trip_interaction.scale_rbf', 'out_blocks.2.scale_rbf_F', 'int_blocks.0.trip_interaction.scale_cbf_sum', 'int_blocks.3.quad_interaction.scale_cbf', 'int_blocks.1.atom_update.scale_sum', 'out_blocks.2.scale_sum', 'out_blocks.4.scale_sum', 'int_blocks.0.atom_edge_interaction.scale_rbf', 'int_blocks.3.atom_update.scale_sum', 'out_blocks.1.scale_sum', 'int_blocks.2.quad_interaction.scale_sbf_sum', 'int_blocks.3.trip_interaction.scale_cbf_sum', 'int_blocks.3.atom_edge_interaction.scale_cbf_sum', 'int_blocks.1.quad_interaction.scale_cbf', 'out_blocks.4.scale_rbf_F', 'int_blocks.1.atom_edge_interaction.scale_rbf', 'int_blocks.1.trip_interaction.scale_cbf_sum', 'int_blocks.1.quad_interaction.scale_rbf', 'int_blocks.0.trip_interaction.scale_rbf', 'int_blocks.2.trip_interaction.scale_cbf_sum', 'int_blocks.0.atom_interaction.scale_rbf_sum', 'int_blocks.3.quad_interaction.scale_rbf', 'int_blocks.2.atom_edge_interaction.scale_rbf', 'int_blocks.2.quad_interaction.scale_cbf', 'int_blocks.0.quad_interaction.scale_sbf_sum', 'int_blocks.2.atom_interaction.scale_rbf_sum', 'int_blocks.3.quad_interaction.scale_sbf_sum', 'int_blocks.3.edge_atom_interaction.scale_cbf_sum', 'out_blocks.0.scale_rbf_F', 'int_blocks.0.edge_atom_interaction.scale_cbf_sum', 'int_blocks.0.atom_edge_interaction.scale_cbf_sum', 'out_blocks.3.scale_sum', 'int_blocks.0.quad_interaction.scale_rbf', 'int_blocks.1.edge_atom_interaction.scale_cbf_sum', 'int_blocks.2.edge_atom_interaction.scale_cbf_sum', 'out_blocks.1.scale_rbf_F', 'int_blocks.0.quad_interaction.scale_cbf', 'int_blocks.3.trip_interaction.scale_rbf', 'int_blocks.0.edge_atom_interaction.scale_rbf', 'int_blocks.1.atom_edge_interaction.scale_cbf_sum', 'int_blocks.3.edge_atom_interaction.scale_rbf', 'int_blocks.1.trip_interaction.scale_rbf', 'int_blocks.1.quad_interaction.scale_sbf_sum', 'int_blocks.2.atom_update.scale_sum', 'int_blocks.1.edge_atom_interaction.scale_rbf', 'int_blocks.2.edge_atom_interaction.scale_rbf', 'int_blocks.2.quad_interaction.scale_rbf', 'int_blocks.3.atom_interaction.scale_rbf_sum', 'int_blocks.1.atom_interaction.scale_rbf_sum', 'out_blocks.0.scale_sum'].\n",
      "Did not load the following scale factors: [].\n",
      "INFO:jmp.models.gemnet.backbone:Removed the following unnecessary state dict keys from the checkpoint: ['output.out_energy.0.0.weight', 'output.out_energy.0.0.bias', 'output.out_energy.0.2.weight', 'output.out_energy.0.2.bias', 'output.out_energy.0.4.weight', 'output.out_energy.0.4.bias', 'output.out_energy.0.6.weight', 'output.out_energy.0.6.bias', 'output.out_energy.0.8.weight', 'output.out_energy.1.0.weight', 'output.out_energy.1.0.bias', 'output.out_energy.1.2.weight', 'output.out_energy.1.2.bias', 'output.out_energy.1.4.weight', 'output.out_energy.1.4.bias', 'output.out_energy.1.6.weight', 'output.out_energy.1.6.bias', 'output.out_energy.1.8.weight', 'output.out_energy.2.0.weight', 'output.out_energy.2.0.bias', 'output.out_energy.2.2.weight', 'output.out_energy.2.2.bias', 'output.out_energy.2.4.weight', 'output.out_energy.2.4.bias', 'output.out_energy.2.6.weight', 'output.out_energy.2.6.bias', 'output.out_energy.2.8.weight', 'output.out_energy.3.0.weight', 'output.out_energy.3.0.bias', 'output.out_energy.3.2.weight', 'output.out_energy.3.2.bias', 'output.out_energy.3.4.weight', 'output.out_energy.3.4.bias', 'output.out_energy.3.6.weight', 'output.out_energy.3.6.bias', 'output.out_energy.3.8.weight', 'output.out_forces.0.0.weight', 'output.out_forces.0.0.bias', 'output.out_forces.0.2.weight', 'output.out_forces.0.2.bias', 'output.out_forces.0.4.weight', 'output.out_forces.0.4.bias', 'output.out_forces.0.6.weight', 'output.out_forces.0.6.bias', 'output.out_forces.0.8.weight', 'output.out_forces.1.0.weight', 'output.out_forces.1.0.bias', 'output.out_forces.1.2.weight', 'output.out_forces.1.2.bias', 'output.out_forces.1.4.weight', 'output.out_forces.1.4.bias', 'output.out_forces.1.6.weight', 'output.out_forces.1.6.bias', 'output.out_forces.1.8.weight', 'output.out_forces.2.0.weight', 'output.out_forces.2.0.bias', 'output.out_forces.2.2.weight', 'output.out_forces.2.2.bias', 'output.out_forces.2.4.weight', 'output.out_forces.2.4.bias', 'output.out_forces.2.6.weight', 'output.out_forces.2.6.bias', 'output.out_forces.2.8.weight', 'output.out_forces.3.0.weight', 'output.out_forces.3.0.bias', 'output.out_forces.3.2.weight', 'output.out_forces.3.2.bias', 'output.out_forces.3.4.weight', 'output.out_forces.3.4.bias', 'output.out_forces.3.6.weight', 'output.out_forces.3.6.bias', 'output.out_forces.3.8.weight', 'task_steps._module_dict._typed_moduledict_oc20.value', 'task_steps._module_dict._typed_moduledict_oc22.value', 'task_steps._module_dict._typed_moduledict_ani1x.value', 'task_steps._module_dict._typed_moduledict_transition1x.value']\n",
      "CRITICAL:nshtrainer.trainer.trainer:Auto-resolving precision='16-mixed-auto' to resolved_precision='bf16-mixed'.\n",
      "CRITICAL:nshtrainer.loggers.wandb:Using the `wandb-core` backend for WandB.\n",
      "INFO:nshtrainer.trainer.trainer:config.trainer.auto_determine_num_nodes ignored because no SLURM or LSF detected.\n",
      "CRITICAL:nshtrainer.trainer.trainer:LightningTrainer.__init__ with kwargs={'deterministic': None, 'fast_dev_run': 256, 'max_epochs': None, 'min_epochs': None, 'max_steps': -1, 'min_steps': None, 'max_time': None, 'limit_train_batches': None, 'limit_val_batches': None, 'limit_test_batches': None, 'limit_predict_batches': None, 'overfit_batches': 0.0, 'val_check_interval': None, 'num_sanity_val_steps': None, 'log_every_n_steps': None, 'inference_mode': True, 'callbacks': [<lightning.pytorch.callbacks.lr_monitor.LearningRateMonitor object at 0x7febf0114ad0>, <nshtrainer.callbacks.log_epoch.LogEpochCallback object at 0x7febeebb3990>, <nshtrainer.loggers.wandb.FinishWandbOnTeardownCallback object at 0x7febeebb38d0>, <nshtrainer.callbacks.wandb_watch.WandbWatchCallback object at 0x7febeebb3410>, <nshtrainer.callbacks.wandb_upload_code.WandbUploadCodeCallback object at 0x7febf1220ed0>, <nshtrainer._hf_hub.HFHubCallback object at 0x7febee5d0dd0>, <nshtrainer.callbacks.shared_parameters.SharedParametersCallback object at 0x7febeebb3450>, <nshtrainer.callbacks.rlp_sanity_checks.RLPSanityChecksCallback object at 0x7febeebb31d0>, <nshtrainer.callbacks.debug_flag.DebugFlagCallback object at 0x7febeebb3110>], 'plugins': [], 'logger': [<lightning.pytorch.loggers.wandb.WandbLogger object at 0x7febeebb2bd0>, <lightning.pytorch.loggers.tensorboard.TensorBoardLogger object at 0x7febf0f4f250>, <lightning.pytorch.loggers.csv_logs.CSVLogger object at 0x7febeeb9a910>], 'default_root_dir': PosixPath('/net/csefiles/coc-fung-cluster/nima/shared/repositories/jmp-backbone/configs/mptrj_alex_omat24/nshtrainer/moge19j9'), 'precision': 'bf16-mixed'}.\n",
      "Trainer will use only 1 of 8 GPUs because it is running inside an interactive / notebook environment. You may try to set `Trainer(devices=8)` but please note that multi-GPU inside interactive / notebook environments is considered experimental and unstable. Your mileage may vary.\n",
      "Using bfloat16 Automatic Mixed Precision (AMP)\n",
      "GPU available: True (cuda), used: True\n",
      "TPU available: False, using: 0 TPU cores\n",
      "HPU available: False, using: 0 HPUs\n",
      "Running in `fast_dev_run` mode: will run the requested loop using 256 batch(es). Logging and checkpointing is suppressed.\n",
      "CRITICAL:nshtrainer.trainer.trainer:LightningTrainer log directory: None.\n",
      "WARNING:nshtrainer._checkpoint.loader:No checkpoint candidates found for `last` checkpoint strategy.\n",
      "INFO:nshtrainer.trainer.checkpoint_connector:No checkpoint found for the current trainer state. Training will start from scratch.\n",
      "INFO:nshtrainer.trainer.checkpoint_connector:Loading checkpoint from: None\n"
     ]
    },
    {
     "data": {
      "application/vnd.jupyter.widget-view+json": {
       "model_id": "44d20d4432be4dfabe289c3ae66abf1b",
       "version_major": 2,
       "version_minor": 0
      },
      "text/plain": [
       "Loading dataset from disk:   0%|          | 0/212 [00:00<?, ?it/s]"
      ]
     },
     "metadata": {},
     "output_type": "display_data"
    },
    {
     "data": {
      "application/vnd.jupyter.widget-view+json": {
       "model_id": "a35165f97a8f4e2e94124ef669daa7e9",
       "version_major": 2,
       "version_minor": 0
      },
      "text/plain": [
       "Loading dataset from disk:   0%|          | 0/212 [00:00<?, ?it/s]"
      ]
     },
     "metadata": {},
     "output_type": "display_data"
    },
    {
     "name": "stderr",
     "output_type": "stream",
     "text": [
      "WARNING:nshtrainer.callbacks.wandb_upload_code:Wandb logger not found. Skipping code upload.\n",
      "CRITICAL:nshtrainer.callbacks.debug_flag:Fast dev run detected, setting debug flag to True.\n",
      "LOCAL_RANK: 0 - CUDA_VISIBLE_DEVICES: [0,1,2,3,4,5,6,7]\n",
      "Loading `train_dataloader` to estimate number of stepping batches.\n"
     ]
    },
    {
     "data": {
      "application/vnd.jupyter.widget-view+json": {
       "model_id": "53567079d9a4468eb964892369fd1e52",
       "version_major": 2,
       "version_minor": 0
      },
      "text/plain": [
       "Loading dataset from disk:   0%|          | 0/212 [00:00<?, ?it/s]"
      ]
     },
     "metadata": {},
     "output_type": "display_data"
    },
    {
     "name": "stderr",
     "output_type": "stream",
     "text": [
      "\n",
      "  | Name           | Type              | Params | Mode \n",
      "-------------------------------------------------------------\n",
      "0 | backbone       | GemNetOCBackbone  | 38.9 M | train\n",
      "1 | energy_head    | EnergyOutputHead  | 263 K  | train\n",
      "2 | force_head     | ForceOutputHead   | 1.1 M  | train\n",
      "3 | stress_head    | StressOutputHead  | 2.1 M  | train\n",
      "4 | graph_computer | GraphComputer     | 0      | train\n",
      "5 | train_metrics  | ForceFieldMetrics | 0      | train\n",
      "6 | val_metrics    | ForceFieldMetrics | 0      | train\n",
      "7 | test_metrics   | ForceFieldMetrics | 0      | train\n",
      "-------------------------------------------------------------\n",
      "42.3 M    Trainable params\n",
      "0         Non-trainable params\n",
      "42.3 M    Total params\n",
      "169.161   Total estimated model params size (MB)\n",
      "INFO:nshtrainer.trainer.signal_connector:No auto-requeue signals found. Reverting to default Lightning behavior.\n"
     ]
    },
    {
     "data": {
      "application/vnd.jupyter.widget-view+json": {
       "model_id": "9ddaef02f3ca4e02b7f47d13699d58ac",
       "version_major": 2,
       "version_minor": 0
      },
      "text/plain": [
       "Loading dataset from disk:   0%|          | 0/212 [00:00<?, ?it/s]"
      ]
     },
     "metadata": {},
     "output_type": "display_data"
    },
    {
     "data": {
      "application/vnd.jupyter.widget-view+json": {
       "model_id": "041482d7713d4397bd75f19707c5863e",
       "version_major": 2,
       "version_minor": 0
      },
      "text/plain": [
       "Training: |          | 0/? [00:00<?, ?it/s]"
      ]
     },
     "metadata": {},
     "output_type": "display_data"
    },
    {
     "data": {
      "application/vnd.jupyter.widget-view+json": {
       "model_id": "13347fc116944b009a3fd288a471777e",
       "version_major": 2,
       "version_minor": 0
      },
      "text/plain": [
       "Validation: |          | 0/? [00:00<?, ?it/s]"
      ]
     },
     "metadata": {},
     "output_type": "display_data"
    },
    {
     "name": "stderr",
     "output_type": "stream",
     "text": [
      "/net/csefiles/coc-fung-cluster/nima/miniforge3/envs/jmp-peft/lib/python3.11/site-packages/lightning/pytorch/trainer/call.py:54: Detected KeyboardInterrupt, attempting graceful shutdown...\n"
     ]
    },
    {
     "data": {
      "text/html": [
       "<script> (()=>{ if (customElements.get('treescope-container') === undefined) { class TreescopeContainer extends HTMLElement { constructor() { super(); this.attachShadow({mode: \"open\"}); this.defns = {}; this.state = {}; } } customElements.define(\"treescope-container\", TreescopeContainer); } if (customElements.get('treescope-run-here') === undefined) { class RunHere extends HTMLElement { constructor() { super() } connectedCallback() { const run = child => { const fn = new Function(child.textContent); child.textContent = \"\"; fn.call(this); this.remove(); }; const child = this.querySelector(\"script\"); if (child) { run(child); } else { new MutationObserver(()=>{ run(this.querySelector(\"script\")); }).observe(this, {childList: true}); } } } customElements.define(\"treescope-run-here\", RunHere); } })(); </script> <treescope-container class=\"treescope_out_f863bc8ea2cc4795a0800e416a812839\" ></treescope-container> <treescope-run-here><script type=\"application/octet-stream\"> const root = ( Array.from(document.getElementsByClassName( \"treescope_out_f863bc8ea2cc4795a0800e416a812839\")) .filter((elt) => !elt.dataset.setup) )[0]; root.dataset.setup = 1; const msg = document.createElement(\"span\"); msg.style = \"color: #cccccc; font-family: monospace;\"; msg.textContent = \"(Loading...)\"; root.state.loadingMsg = msg; root.shadowRoot.appendChild(msg); root.state.chain = new Promise((resolve, reject) => { const observer = new IntersectionObserver((entries) => { for (const entry of entries) { if (entry.isIntersecting) { resolve(); observer.disconnect(); return; } } }, {rootMargin: \"1000px\"}); window.setTimeout(() => { observer.observe(root); }, 0); }); root.state.deferring = false; const _insertNode = (node) => { for (let oldScript of node.querySelectorAll(\"script\")) { let newScript = document.createElement(\"script\"); newScript.type = oldScript.type; newScript.textContent = oldScript.textContent; oldScript.parentNode.replaceChild(newScript, oldScript); } if (root.state.loadingMsg) { root.state.loadingMsg.remove(); root.state.loadingMsg = null; } root.shadowRoot.appendChild(node); }; root.defns.insertContent = ((contentNode, compressed) => { if (compressed) { root.state.deferring = true; } if (root.state.deferring) { root.state.chain = (async () => { await root.state.chain; if (compressed) { const encoded = contentNode.textContent; const blob = new Blob([ Uint8Array.from(atob(encoded), (m) => m.codePointAt(0)) ]); const reader = blob.stream().pipeThrough( new DecompressionStream(\"deflate\") ).pipeThrough( new TextDecoderStream(\"utf-8\") ).getReader(); const parts = []; while (true) { const step = await reader.read(); if (step.done) { break; } parts.push(step.value); } const tpl = document.createElement('template'); tpl.innerHTML = parts.join(\"\"); _insertNode(tpl.content); } else { _insertNode(contentNode.content); } })(); } else { _insertNode(contentNode.content); } }); </script></treescope-run-here><div style=\"display:none\"> <script type=\"application/octet-stream\" >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</script> <treescope-run-here><script type=\"application/octet-stream\"> const root = ( Array.from(document.getElementsByClassName( \"treescope_out_f863bc8ea2cc4795a0800e416a812839\")) .filter((elt) => !elt.dataset['step0']) )[0]; root.dataset['step0'] = 1; root.defns.insertContent( this.parentNode.querySelector('script[type=\"application/octet-stream\"]'), true ); this.parentNode.remove(); </script></treescope-run-here> </div>"
      ],
      "text/plain": [
       "<IPython.core.display.HTML object>"
      ]
     },
     "metadata": {},
     "output_type": "display_data"
    },
    {
     "data": {
      "text/html": [
       "<treescope-run-here><script type=\"application/octet-stream\"> const root = ( Array.from(document.getElementsByClassName( \"treescope_out_f863bc8ea2cc4795a0800e416a812839\")) .filter((elt) => !elt.dataset.stolen) )[0]; root.dataset.stolen = 1; this.parentNode.replaceChild(root, this); </script></treescope-run-here>"
      ],
      "text/plain": [
       "[None]"
      ]
     },
     "execution_count": 7,
     "metadata": {},
     "output_type": "execute_result"
    }
   ],
   "source": [
    "import nshrunner as nr\n",
    "\n",
    "configs = [(config.fast_dev_run(256), data_config)]\n",
    "\n",
    "runner = nr.Runner(run, nr.RunnerConfig(working_dir=cwd, env=env))\n",
    "runner.local(configs)"
   ]
  },
  {
   "cell_type": "code",
   "execution_count": 4,
   "metadata": {},
   "outputs": [
    {
     "name": "stderr",
     "output_type": "stream",
     "text": [
      "Resolved the following modules from the provided values: ['jmp']\n",
      "Snapshotting modules=['jmp'] to /net/csefiles/coc-fung-cluster/nima/shared/experiment-data/nshrunner/d3cb659c-513c-40f5-aa8e-d34c36e8e84e/nshsnap\n",
      "Run the following command to submit the jobs:\n",
      "\n",
      "\n"
     ]
    },
    {
     "name": "stdout",
     "output_type": "stream",
     "text": [
      "screen -S nshrunner -L -Logfile /net/csefiles/coc-fung-cluster/nima/shared/experiment-data/nshrunner/d3cb659c-513c-40f5-aa8e-d34c36e8e84e/submit/logs/session.log -U bash /net/csefiles/coc-fung-cluster/nima/shared/experiment-data/nshrunner/d3cb659c-513c-40f5-aa8e-d34c36e8e84e/submit/submit.sh\n",
      "\n",
      "\n"
     ]
    },
    {
     "data": {
      "text/plain": [
       "Submission(command_parts=['screen', '-S', 'nshrunner', '-L', '-Logfile', '/net/csefiles/coc-fung-cluster/nima/shared/experiment-data/nshrunner/d3cb659c-513c-40f5-aa8e-d34c36e8e84e/submit/logs/session.log', '-U', 'bash', '/net/csefiles/coc-fung-cluster/nima/shared/experiment-data/nshrunner/d3cb659c-513c-40f5-aa8e-d34c36e8e84e/submit/submit.sh'], script_path=PosixPath('/net/csefiles/coc-fung-cluster/nima/shared/experiment-data/nshrunner/d3cb659c-513c-40f5-aa8e-d34c36e8e84e/submit/submit.sh'))"
      ]
     },
     "execution_count": 4,
     "metadata": {},
     "output_type": "execute_result"
    }
   ],
   "source": [
    "import nshrunner as nr\n",
    "\n",
    "configs = [(config, data_config)]\n",
    "\n",
    "runner = nr.Runner(run, nr.RunnerConfig(working_dir=cwd, env=env))\n",
    "runner.session(configs, snapshot=True, env=env)"
   ]
  }
 ],
 "metadata": {
  "kernelspec": {
   "display_name": "jmp-peft",
   "language": "python",
   "name": "python3"
  },
  "language_info": {
   "codemirror_mode": {
    "name": "ipython",
    "version": 3
   },
   "file_extension": ".py",
   "mimetype": "text/x-python",
   "name": "python",
   "nbconvert_exporter": "python",
   "pygments_lexer": "ipython3",
   "version": "3.11.9"
  }
 },
 "nbformat": 4,
 "nbformat_minor": 2
}
