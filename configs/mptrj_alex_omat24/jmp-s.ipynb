{
 "cells": [
  {
   "cell_type": "code",
   "execution_count": 1,
   "metadata": {},
   "outputs": [
    {
     "name": "stderr",
     "output_type": "stream",
     "text": [
      "Type checking the following modules: ('jmppeft',)\n"
     ]
    },
    {
     "data": {
      "text/html": [
       "<script> (()=>{ if (customElements.get('treescope-container') === undefined) { class TreescopeContainer extends HTMLElement { constructor() { super(); this.attachShadow({mode: \"open\"}); this.defns = {}; this.state = {}; } } customElements.define(\"treescope-container\", TreescopeContainer); } if (customElements.get('treescope-run-here') === undefined) { class RunHere extends HTMLElement { constructor() { super() } connectedCallback() { const run = child => { const fn = new Function(child.textContent); child.textContent = \"\"; fn.call(this); this.remove(); }; const child = this.querySelector(\"script\"); if (child) { run(child); } else { new MutationObserver(()=>{ run(this.querySelector(\"script\")); }).observe(this, {childList: true}); } } } customElements.define(\"treescope-run-here\", RunHere); } })(); </script> <treescope-container class=\"treescope_out_3c8d791f86aa4ccf9469762724f9a5db\" ></treescope-container> <treescope-run-here><script type=\"application/octet-stream\"> const root = ( Array.from(document.getElementsByClassName( \"treescope_out_3c8d791f86aa4ccf9469762724f9a5db\")) .filter((elt) => !elt.dataset.setup) )[0]; root.dataset.setup = 1; const msg = document.createElement(\"span\"); msg.style = \"color: #cccccc; font-family: monospace;\"; msg.textContent = \"(Loading...)\"; root.state.loadingMsg = msg; root.shadowRoot.appendChild(msg); root.state.chain = new Promise((resolve, reject) => { const observer = new IntersectionObserver((entries) => { for (const entry of entries) { if (entry.isIntersecting) { resolve(); observer.disconnect(); return; } } }, {rootMargin: \"1000px\"}); window.setTimeout(() => { observer.observe(root); }, 0); }); root.state.deferring = false; const _insertNode = (node) => { for (let oldScript of node.querySelectorAll(\"script\")) { let newScript = document.createElement(\"script\"); newScript.type = oldScript.type; newScript.textContent = oldScript.textContent; oldScript.parentNode.replaceChild(newScript, oldScript); } if (root.state.loadingMsg) { root.state.loadingMsg.remove(); root.state.loadingMsg = null; } root.shadowRoot.appendChild(node); }; root.defns.insertContent = ((contentNode, compressed) => { if (compressed) { root.state.deferring = true; } if (root.state.deferring) { root.state.chain = (async () => { await root.state.chain; if (compressed) { const encoded = contentNode.textContent; const blob = new Blob([ Uint8Array.from(atob(encoded), (m) => m.codePointAt(0)) ]); const reader = blob.stream().pipeThrough( new DecompressionStream(\"deflate\") ).pipeThrough( new TextDecoderStream(\"utf-8\") ).getReader(); const parts = []; while (true) { const step = await reader.read(); if (step.done) { break; } parts.push(step.value); } const tpl = document.createElement('template'); tpl.innerHTML = parts.join(\"\"); _insertNode(tpl.content); } else { _insertNode(contentNode.content); } })(); } else { _insertNode(contentNode.content); } }); </script></treescope-run-here><div style=\"display:none\"> <script type=\"application/octet-stream\" >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</script> <treescope-run-here><script type=\"application/octet-stream\"> const root = ( Array.from(document.getElementsByClassName( \"treescope_out_3c8d791f86aa4ccf9469762724f9a5db\")) .filter((elt) => !elt.dataset['step0']) )[0]; root.dataset['step0'] = 1; root.defns.insertContent( this.parentNode.querySelector('script[type=\"application/octet-stream\"]'), true ); this.parentNode.remove(); </script></treescope-run-here> </div>"
      ],
      "text/plain": [
       "<IPython.core.display.HTML object>"
      ]
     },
     "metadata": {},
     "output_type": "display_data"
    },
    {
     "data": {
      "text/html": [
       "<script> (()=>{ if (customElements.get('treescope-container') === undefined) { class TreescopeContainer extends HTMLElement { constructor() { super(); this.attachShadow({mode: \"open\"}); this.defns = {}; this.state = {}; } } customElements.define(\"treescope-container\", TreescopeContainer); } if (customElements.get('treescope-run-here') === undefined) { class RunHere extends HTMLElement { constructor() { super() } connectedCallback() { const run = child => { const fn = new Function(child.textContent); child.textContent = \"\"; fn.call(this); this.remove(); }; const child = this.querySelector(\"script\"); if (child) { run(child); } else { new MutationObserver(()=>{ run(this.querySelector(\"script\")); }).observe(this, {childList: true}); } } } customElements.define(\"treescope-run-here\", RunHere); } })(); </script> <treescope-container class=\"treescope_out_4b88a102793248759274c1a7a536b334\" ></treescope-container> <treescope-run-here><script type=\"application/octet-stream\"> const root = ( Array.from(document.getElementsByClassName( \"treescope_out_4b88a102793248759274c1a7a536b334\")) .filter((elt) => !elt.dataset.setup) )[0]; root.dataset.setup = 1; const msg = document.createElement(\"span\"); msg.style = \"color: #cccccc; font-family: monospace;\"; msg.textContent = \"(Loading...)\"; root.state.loadingMsg = msg; root.shadowRoot.appendChild(msg); root.state.chain = new Promise((resolve, reject) => { const observer = new IntersectionObserver((entries) => { for (const entry of entries) { if (entry.isIntersecting) { resolve(); observer.disconnect(); return; } } }, {rootMargin: \"1000px\"}); window.setTimeout(() => { observer.observe(root); }, 0); }); root.state.deferring = false; const _insertNode = (node) => { for (let oldScript of node.querySelectorAll(\"script\")) { let newScript = document.createElement(\"script\"); newScript.type = oldScript.type; newScript.textContent = oldScript.textContent; oldScript.parentNode.replaceChild(newScript, oldScript); } if (root.state.loadingMsg) { root.state.loadingMsg.remove(); root.state.loadingMsg = null; } root.shadowRoot.appendChild(node); }; root.defns.insertContent = ((contentNode, compressed) => { if (compressed) { root.state.deferring = true; } if (root.state.deferring) { root.state.chain = (async () => { await root.state.chain; if (compressed) { const encoded = contentNode.textContent; const blob = new Blob([ Uint8Array.from(atob(encoded), (m) => m.codePointAt(0)) ]); const reader = blob.stream().pipeThrough( new DecompressionStream(\"deflate\") ).pipeThrough( new TextDecoderStream(\"utf-8\") ).getReader(); const parts = []; while (true) { const step = await reader.read(); if (step.done) { break; } parts.push(step.value); } const tpl = document.createElement('template'); tpl.innerHTML = parts.join(\"\"); _insertNode(tpl.content); } else { _insertNode(contentNode.content); } })(); } else { _insertNode(contentNode.content); } }); </script></treescope-run-here><div style=\"display:none\"> <script type=\"application/octet-stream\" >eNrtXQtT2zoW/iu+uTOXsG2MJMsvKMwGyqstfQC9tL17J+vYimNwbGM7BLrT/75HdngEQqo2UKxdw0xD7SPp6DvS0ffJjv0iyy9CtqbmKWOZGyesk8ZxrvxHSeIsyIM4WlZSFjp5cMZWlF4c5a2eMwjCi2VlEEdxljguHB/1g5y1iv8sK0kKR8Igy1tF1a38IoGjURzB4a7jnvhpPIy8lhuHcbpcFl1Rxv/rhmAA9QVe3l9WekEOZlHOonxFSRzPCyK/FbJevqwQt88biVirzwK/D0ewqvNqotwJwOerYuM/WmdBFnSDMMjBc2eYx1e2rSDK0yDKAreVBV9ZeXbs7rcXSyU8L67gaaXDCNpM4VjmpkGSK7x/qwtOkoSB63DElmI3Z7z3KXMGC2vN5uLqGgAK7WW54rFelCmrSt4PMtVn+T6g/Tb2WHNR7cdZrhbnoWssVzoJi3iX2y6vlRf66+9pZ3acyAsZnI6GYbhStqCCmwdxHMHR5ihOTxaVmz7ER3CIn5o4nAcuP5iwtBenAydymRrFo+ZiEV9ooHnnjNIqC71QNLII9QQ9pXnLazVkkZ/3ldVVBXGTma6nLB+mEeCusDBj1471hxH37HbVWT/o5dy/woD/8Q1+72mhCaMq8uKRmrLTIcvydhQMinBtpc6ANUtMFnkdK3caSoZZv4RxZUofL5tYLbsxo5fiPnAvykDmse+H5azsFDMHRmvC6+JHWJg/V9gZDPBxJLl3xf/VE3bBQW+kDe7Q2Fh1QyfL3sDkHNfbbFzV2RnAMGxcNv5tEfCE4V+M8bUXS9MmgBecKUWFq43J9NFQcqcLPWXnqw3UUOIInIFuR2A3a9hP72uTl7nsZQOmXZmwiozRcbrdlJ0VI6VIIL8bFnEQAv/HBm48GEDBGxZO8cO7ecvEWY7ivLncj89YujjFftK8M+qzqMPOEwgu84qiai8OPacLPYiga8t9J2uuhU6XhWuTZzplP8vm3D5zT5i3uKj8Y1G5v1VAEAagd8MCwU+vd20RDQddlt40sC2sG9cGGc9z/s02NKxjnRtMuHdP8ge8pvUCrL0gS0Ln4jLJ3zZU1pQCheXlLoP8wW544BY/K1PbKxN9C/NMP14QIK5XbQVRkf67YcxXjHvbLKJ5t2XPSU8y5vgwbKO7pR8omlc+8KLTC13aT3hYrFjLysK/iN51F57SvclC9zpp/AIneRx5w8M04wFMYli3WTql3SB7uGaLqVA01CryT3bfGH+YVq+7l7Pz/G4rapB1ekGa5Z046vDhP2VqzZpKKtH5bJoaKmVu98uI33aR92rgpD4wrdKNYkJ/m7M1SGnJRXeY50BxpiWg69PTBm1DadyyAiCBvk43/hfD1GvcYr8Lew6MisAJlYOLQTcOM+XdMOf99ZSNsiR8JhcwMVoj1j0BJlsUzwawtvUhDQPPjHIoHjgZ86747+8M8d+Vu8O8LF0QVKTabHC7l+X8mNKL6enuuqQ6crKOC9wVgL0q7/TyiaXkMk/PavNWmckmb0KvnDlps9XynNxpOREEtqBAizcP80Y4r0ud6HI0F9UqOFMYIAakvRUP8x/rypUHEJiAeb9NelI0qfwWDJI4zZ3oTt3dND6BBZ8fuU5G30f3RrEbeF6G+ZvKWRI45nVc4NheyqKxq5MqBuqcNHwwvnE1dcYL6cRUdZ3QbYLUAp6Pk/OCGqpZ7vDyV/4+middoDuQd0tPvDiHvnMvboJ3OnTCCJhzBzRnLziHSiamiVVME5AJTgoOj5w0gonXuUzsl7Ho9RwXa1MME+DZ/7nSnelYZvLsNQZpfKiF1CKtXovb5UKaOmnLTx0vgLA1saZ7zH+uxDCifaYg8M5w+8/LEZ5As5AvikPKGOU7rtxJrA8G/ETILzvzTS34LYAUOgmkqO/TvB/P4fe3UJK7oo0Jmn2PzUP4Ma2JcUdLg2vxNQ2KSQGkTqoqZUYNt7saTei86YYijd1bzwNubXC1qfzWTlPnQu2l8QAUrDvk4kjl8zBTz5wQZG5zcVHNYtC3xezkOpV/quVKyjWq4FraWFAWlcWrXYGsz1jOtw7YSNk4ODjgvTngx/hGQHESZDZ02WUHF5Hb/Pc/x+u3yy7zxI+v5WV64S1xHNOBE46Pjca7UJRrzyx1l5VhGjb5wrLMzy+N4l6PrHRh6TLocw/Z23t+e71d/Ox+aLfj4q/1/RH8u7PVbm+2Z/2sD9pt/yR+7e1urm+MPrfbh583XrX3dtc32lv++e7Om36ere8FzNe2Xn4ib3aNz2cHyTB4v6cf4lefdvf/3Ds72vuav7/Y2tp4duSfHAbrL1E/ePlh+GrT2z5GO92l3tmul5y+NvqnR0HwYbgXbfd3eh/z9kdj/W1K21u70cmm4X4cDqNn+/qpm52Mznpb4dLpub8ZW3731Wjbwjvtpai9r79J01d4/5n/Fe17qP2qh/235sZo+5j4KL4Y7pvmYBMbo51P9jvfT9jhyQVlu92vuttN323nTtv/sPt29NLJLrIPw93dT0ebW6P2+w/J7mfv49LSM988ND9pOeq9fn/aPtOhzjftt2Z7b9Qe+F/3D54NvxywzU/npGe4X9/S/Z0Lfbjefv11/TjZSrRg58PGJvoyfE8PzKi3/mZzZ2tv0A6eWWebpB/hvvms++fo0/FoJz17uf1xIzrubW76+bN37pcwNHV749Vo3erbdG9v+0Db/tL2B7v68foHOz/cZjv25vr67rb20qf7S5/di257G2L65+ul9odtp832NsL2ztfNd/6X3DfW3/vv3u2+XD8JPuhsa/3TxvqWG6Ckn8ZJBGMj+bL5En/FJwe9jV7ev3gd7XjOVrbTQ28H25tvjXWvffrnn4mTZwdfBp7nBDbpfbXpx+D41EgGqfEu/rxxEKTbg7NX29rB0YG2tUnc9Q+9w2c7YZxs061spDv+qWEFX9jB2zA5itZ3dpm3l7Lh0en2xgAfbaUnBwfnOjGOjrJRGzxaVIptwLy5UAzrBb5k/Rv+uZr9jhcnsFxfT8li81JV1RkWz8s5+zfUNXuTqF/sphWMqiR7UDcMj8hVmiXnmtzrhCl4GPPpC2ZjTsaPZZAeeBWcZHJm5oycIFci5yzwnTxOVag56cZO6qmjNMjZIeix5nVd0NlxXdcbasATmo0bDJRvpUErh8GAAVVtXu613imXsgHQyTtFvz1XCEKooAOQfIEZNAstNb3dGzSzce0cV5GXGYzvPjaU35UtJwghseWxwo1/KzIbUIAIqBRk4wAwY47HWfKzm9iNtwW/syHIGffljuDkdsxt8tJYe1Gu0C+CKBmOV5pGsSZ34/PG1ErGyzecLJducKIoPNnu5ErbmDx5izA21o4HiRry1F3QLN5hWEKHIVOhp1Bubfyx9/4wPW6H7PzdXvuQ0Jdgt1fYAbq9wG++WBr35mZjd6h9Y9b5xlqXR7nDyevqhN3N7b3GGkZo7NTzu/2+IlONNeWyB3eMLpnOpDsL16JlQYmjDT4SVxd+cCoWe7WLC8qVolptqNfdaijF0rnauCG5YPW9YcHl8m1hCBbFEIQU14e/x16vTQbo1scsmAHIDt/LZ2k2C2dLLpRv9Oo+mG+Y/AqcMwfmy+r9OUGyFPCyXDRmTPhHi22B5H1RLU7+fDznSVj9XocjOW0WldcaGmt//H5OzBV+mSvrx34/WCrcLY/KNcEKx9Vxl2cG49LoV0yyMHadsMNrmxaF8upYY+19nAXn78GoWSIP0i9OHZ8t8cCUIWnFbrLU75XnF2UMzTUUs6Nzbfcws2biqiCgAhzrjzBf4RWEQVe9wl6Ju8fMzRUnV9C52WMEuV2716PoDz9f+fHIzwzNLAdZxNOpN228jC8yNtYO0yETiO7zao2Acc9mh39s9FCT88cAaMy4hFxH5lEiM/EhY2J7pIVfPNPEIPUJrZncAwS0hPK+iJZn5eFypb8ykrnS8++xuUkrWehc6bWsXG6M+ffJ3B3DKrA5xmo292Bj4DukYdKq5nP/N7GRmdE9LgEQzzfAmBiQApc9Eq27onN//VJ+ddWt+xC+MngaljVjvxmpku3rX0H5F/r7u3CDza8Y1jPwbWkqtg2N2JTKijMWwBk/Nc4Sj2MigC+pwDgmxEaaRXRZcdYEcNYqgDPVCLaJJivMVABm+uQwW6pOIS/rSNrhrAvgrFcAZxjMmBANy4qzIYCz8eQ4mypkZtsgprQ4mwI4mxUYz1i3LWRqRFacLQGcrSfHWVepRXWsYVtWnG0BnO2aNv+8LBHRf/jpBSBWgcxZtmZY0iItpACfXAK2iGryBVC3pc0ZWEQLYlKB7KxhgizblBZoETGItQrQDUQQ0QFraZEW0YP46QWhoSJqU83G8u7TiShCrFcgeRDN1qhtS0uhsYgmxEYF9pJMU7cw1aTdTMIiqhCbNY3+eYRF9CC2KkCjLcsmBpZ3/xmLKEJsVyFr6IahIyQtuyMi0pCgCnAOU6OEYFNadkdEpCF5emmIkapzbQhrobRQC10nJBWQLAC0rRFsSIu0iDgkWhUGNaIWglVR3kwtog7J06tDWwXJgkyDSss+iIg6JFW4YEiJRQhocWmRFlGHxKgA+ygusOhEWh1ORNQhMSuw46Hr1NQseW/qICIqkVgV0C6ImBoi8hJqEZFI7ArIcWQiS7fkRVoTEYlaFW4gNYhFDWJIe1VLExGJGq5AmsY2xsiW994OTUQjak+vEalKTWRgzZT3ZlKhu0m1KiCtYRNEorxIi0hEjVbhBmkdw3oor0TURCSiptcXW34eYRFpqBkVYHemxW8mtaQV4ZqINNTMKtzur5vYsnVpt/A0EWmoWRW4Q1qjmFCKpN2X1kS0oWZXYLPUQgTEoby3HVARbUgrcG8pVnUY1diSN31QEXFIcRUGNdZtpBvyDmoRcUhJBZAmmBgGkTdRUxFxSKtwdym1iAkrorSbeFTo24a0CuTDoEgz5f0WOBURh7QKd5dSyNKaJe9VLSoiEmkVRKKFNAQ6Ud4xLSIS6dOLRKQaloUpNeUd0yIikVpV+AqRplkawvIiLSISaRXuMrUtbFEdSZs9dBGRqKNKIK3rhmHJ+6gDEY2o4ypcqjU0rFm6tNlDF9GIOqlAnuZPVNIxkfZxB7qIRtSfXCNiohoaBemiy4u0iEbUaQX4NH/cgU6wvEgLPZNGr8BFcYRs08amvNxDRCPqVbjHFNlYM5AmL9IiGlE3K7DDRG3NMqm8O0y6iEbUrQpkD9PSTcjU8iItohF1uwJ7eci0TWrI+01EQ0QjGqgCY1rTiW5Z8t7wYYhoRANXAGkD2bZuIHkfiCeiEQ1ShYvjNtGJpsv79ThDRCQaFfgmoq4SQzdNQ977EAwRlWjQSrAPjT9SWtrdPENEJRpVUIk60jQL9Iu0SAs9u9SoAtJYM4kh74PbDBGVaJhVyB6mqRmWJm+eFlGJRhVUIsE6oZom75gWUYmGXQVGbSP4lffJxyIi0azC42oIpti25E3TpohINCvxuBpKTQx5WlruYYqoRLMCKpGoFuIbH/LexmSKqERTqwLUmOqQPjRp7zc1RVSiSauw90FtaiNNl1YmmiIy0dSrkKv5FwNMROVdFkV0omlU4H51k2JsIypv/hB6y4VZAaqn6QaltrxPYTJFdKJZhTtObWoC+5D3acimiE40K/CqC6zZum0Tabc+LBGdaKEKDGlkUtug8l5MtER0olWFG04J38xD8j5HxRKRiRapxtM9qGnI+8UAS0QlWlr9dI+fR1hEHFq0RvjnERbRhFb9hJo5EBaRgpZRI/zzCItIQKt+pcUcCAu94rAKlwh1SjUNy7txZIlIP8uuwttRTR3b8j6s1BaRfjaqwmaoRfgGnbw3gtki2s/GVdjiNxA1NdAk0kItIv7sSlwj1KmBZX67si2i/uwKXCMs7o+W+dWStogKtGsVOAfCIirQrlXgHAiLqEC7VoFzICyiAu1aBc6BsIgKtK0a4Z9HWOgV9/U77ud5x73YS+5RjfEcGAu93h7hGuM5MBZ6sT0iNcZzYCz0TntUX+GbB2Oht9mjWt3Ng7HQe+xRre/mwVjoDfaoVnjzYCz07npUa7x5MBZ6ez2qVd48GAu9tx7VOm8OjLGQzsO1zpsHYyGdh2udNw/GQjoP1zpvHoyFdB6udd48GAvpPFzrvHkwFtJ5uNZ582AspPNwrfPmwVhI5+Fa582DsZDOwxXSebPQe15FhIVUHn44lVd+/C3pkPwuVr98IN7GbMoodePBACporEXOgK1OMcjyNIj8xtofv58Tc2WQ5OlxxwnZeSceODmh5WG5Isa7el+w+LmHHc6i3Z0MSOeWZR2exwrPY06qIh6TYevFoed0AYQI0IHSodNl4dqLIEqGuZJfJNBnt8/ck2583phappPHvh/yoktFoSnepfEw8mBgJLe8Ox06IUewk0BOCs4ba8eDRA0Dv59HMIg6HNNB7A1Dpk6C8xJOZCzfiKNe4DdfLI19/hWDoUDwvtFQnPz54XB/yCFdN2YPiX6vIzYlo2DgZP3Y7wdLhbsyzsjCcXXc5ZnBuDSq9FLHIj6ZvGmxO2EXoziF8ofpkMkYpHHfZgdpbFTFda6OzaPE5jGnUxi7TtjhTs2M2ts4YjIJoTIc152bHbZruyrOqjpEjxmiiY9FCTPTI/GrxxvPNa+ueXXNq2teXfPqmlfXvLombTWvrnn1/zmvfsxMlARRZ8AGcXrxP7Z+XHfsvlBdW1Qx/9SBefjAPOZE6gVhzkDJDJww7GQXWc4G2f9Y5KZ18b4YTrOt4jSrw/arw/aYkzAbdjNnkAAkZ064OutF9wh+ZOJtEz27L3oTRlWcbXV8Hi0+Uxn1TFguS3jB2dp/ATNiYcQ=</script> <treescope-run-here><script type=\"application/octet-stream\"> const root = ( Array.from(document.getElementsByClassName( \"treescope_out_4b88a102793248759274c1a7a536b334\")) .filter((elt) => !elt.dataset['step0']) )[0]; root.dataset['step0'] = 1; root.defns.insertContent( this.parentNode.querySelector('script[type=\"application/octet-stream\"]'), true ); this.parentNode.remove(); </script></treescope-run-here> </div>"
      ],
      "text/plain": [
       "<IPython.core.display.HTML object>"
      ]
     },
     "metadata": {},
     "output_type": "display_data"
    }
   ],
   "source": [
    "from pathlib import Path\n",
    "\n",
    "import jmp.config as JC\n",
    "import nshconfig_extra as CE\n",
    "import nshtrainer as nt\n",
    "import nshutils as nu\n",
    "\n",
    "cwd = Path(\"/net/csefiles/coc-fung-cluster/nima/shared/experiment-data/\")\n",
    "env = {\n",
    "    \"HF_HOME\": \"/net/csefiles/coc-fung-cluster/nima/shared/cache/huggingface\",\n",
    "}\n",
    "\n",
    "config = JC.Config.draft()\n",
    "\n",
    "config.name = \"jmp-s\"\n",
    "config.project = \"mptrj-alex-omat24\"\n",
    "\n",
    "config.pretrained_ckpt = CE.CachedPath(\n",
    "    uri=\"/net/csefiles/coc-fung-cluster/nima/shared/checkpoints/jmp-s.pt\"\n",
    ")\n",
    "config.graph_computer = JC.GraphComputerConfig(\n",
    "    cutoffs=JC.CutoffsConfig.from_constant(8.0),\n",
    "    max_neighbors=JC.MaxNeighborsConfig(main=20, aeaint=20, aint=1000, qint=8),\n",
    "    pbc=True,\n",
    "    per_graph_radius_graph=True,\n",
    ")\n",
    "\n",
    "# Optimization and learning rate scheduling\n",
    "config.optimization = JC.OptimizationConfig.draft()\n",
    "config.optimization.optimizer = nt.config.AdamWConfig(lr=5.0e-5, weight_decay=0.001)\n",
    "config.optimization.lr_scheduler = nt.config.LinearWarmupCosineDecayLRSchedulerConfig(\n",
    "    warmup_duration=nt.config.StepsConfig(value=5000),\n",
    "    warmup_start_lr_factor=0.001,\n",
    "    max_duration=nt.config.StepsConfig(value=500_000),\n",
    "    min_lr_factor=0.1,\n",
    ")\n",
    "\n",
    "# Heads\n",
    "config.targets = JC.TargetsConfig.draft()\n",
    "config.targets.energy = JC.EnergyTargetConfig(max_atomic_number=120)\n",
    "config.targets.force = JC.ForceTargetConfig()\n",
    "config.targets.stress = JC.StressTargetConfig(num_layers=5)\n",
    "config.targets.energy_loss_coefficient = 1.0\n",
    "config.targets.force_loss_coefficient = 10.0\n",
    "config.targets.stress_loss_coefficient = 100.0\n",
    "\n",
    "config.trainer.precision = \"16-mixed-auto\"\n",
    "config.trainer.set_float32_matmul_precision = \"medium\"\n",
    "config.with_project_root_(cwd)\n",
    "config = config.finalize()\n",
    "nu.display(config)\n",
    "\n",
    "data_config = JC.MPTrjAlexOMAT24DataModuleConfig.draft()\n",
    "data_config.batch_size = 120\n",
    "data_config.num_workers = 8\n",
    "data_config.salex.local_path = Path(\"/storage/nima/salex-ocp/hf/\")\n",
    "data_config.omat24.local_path = Path(\"/storage/nima/omat24/hf/\")\n",
    "data_config.with_linear_reference_(\"mptrj-salex\")\n",
    "data_config = data_config.finalize()\n",
    "nu.display(data_config)"
   ]
  },
  {
   "cell_type": "code",
   "execution_count": 2,
   "metadata": {},
   "outputs": [],
   "source": [
    "from jmp.lightning_datamodule import MPTrjAlexOMAT24DataModule\n",
    "from jmp.lightning_module import Module\n",
    "\n",
    "\n",
    "def run(config: Config, data_config: MPTrjAlexOMAT24DataModuleConfig):\n",
    "    module = Module(config)\n",
    "    datamodule = MPTrjAlexOMAT24DataModule(data_config)\n",
    "    trainer = nt.Trainer(config)\n",
    "    trainer.fit(module, datamodule)"
   ]
  },
  {
   "cell_type": "code",
   "execution_count": 7,
   "metadata": {},
   "outputs": [
    {
     "data": {
      "application/vnd.jupyter.widget-view+json": {
       "model_id": "2156b0c6fe09468bb20f6a90ec91fd2e",
       "version_major": 2,
       "version_minor": 0
      },
      "text/plain": [
       "  0%|          | 0/1 [00:00<?, ?it/s]"
      ]
     },
     "metadata": {},
     "output_type": "display_data"
    },
    {
     "name": "stderr",
     "output_type": "stream",
     "text": [
      "Seed set to 0\n",
      "INFO:jmp.models.gemnet.layers.radial_basis_dynamic_cutoff:[RadialBasis] Using absolute cutoff of 12.0 Angstroms.\n",
      "INFO:jmp.models.gemnet.layers.radial_basis_dynamic_cutoff:[RadialBasis] Using absolute cutoff of 12.0 Angstroms.\n",
      "INFO:jmp.models.gemnet.layers.radial_basis_dynamic_cutoff:[RadialBasis] Using absolute cutoff of 12.0 Angstroms.\n",
      "INFO:jmp.models.gemnet.layers.radial_basis_dynamic_cutoff:[RadialBasis] Using absolute cutoff of 12.0 Angstroms.\n"
     ]
    },
    {
     "name": "stdout",
     "output_type": "stream",
     "text": [
      "Unrecognized arguments:  dict_keys(['ln', 'dropout', 'replace_scale_factors_with_ln', 'learnable_rbf', 'learnable_rbf_stds', 'unique_basis_per_layer', 'old_gaussian_implementation', 'edge_dropout'])\n"
     ]
    },
    {
     "name": "stderr",
     "output_type": "stream",
     "text": [
      "INFO:jmp.models.gemnet.layers.radial_basis_dynamic_cutoff:[RadialBasis] Using absolute cutoff of 12.0 Angstroms.\n",
      "INFO:jmp.models.gemnet.layers.radial_basis_dynamic_cutoff:[RadialBasis] Using absolute cutoff of 12.0 Angstroms.\n",
      "INFO:jmp.models.gemnet.layers.radial_basis_dynamic_cutoff:[RadialBasis] Using absolute cutoff of 12.0 Angstroms.\n",
      "CRITICAL:root:Found the following scale factors: [('int_blocks.0.trip_interaction.scale_rbf', 'int_blocks.0.trip_interaction.scale_rbf'), ('int_blocks.0.trip_interaction.scale_cbf_sum', 'int_blocks.0.trip_interaction.scale_cbf_sum'), ('int_blocks.0.quad_interaction.scale_rbf', 'int_blocks.0.quad_interaction.scale_rbf'), ('int_blocks.0.quad_interaction.scale_cbf', 'int_blocks.0.quad_interaction.scale_cbf'), ('int_blocks.0.quad_interaction.scale_sbf_sum', 'int_blocks.0.quad_interaction.scale_sbf_sum'), ('int_blocks.0.atom_edge_interaction.scale_rbf', 'int_blocks.0.atom_edge_interaction.scale_rbf'), ('int_blocks.0.atom_edge_interaction.scale_cbf_sum', 'int_blocks.0.atom_edge_interaction.scale_cbf_sum'), ('int_blocks.0.edge_atom_interaction.scale_rbf', 'int_blocks.0.edge_atom_interaction.scale_rbf'), ('int_blocks.0.edge_atom_interaction.scale_cbf_sum', 'int_blocks.0.edge_atom_interaction.scale_cbf_sum'), ('int_blocks.0.atom_interaction.scale_rbf_sum', 'int_blocks.0.atom_interaction.scale_rbf_sum'), ('int_blocks.0.atom_update.scale_sum', 'int_blocks.0.atom_update.scale_sum'), ('int_blocks.1.trip_interaction.scale_rbf', 'int_blocks.1.trip_interaction.scale_rbf'), ('int_blocks.1.trip_interaction.scale_cbf_sum', 'int_blocks.1.trip_interaction.scale_cbf_sum'), ('int_blocks.1.quad_interaction.scale_rbf', 'int_blocks.1.quad_interaction.scale_rbf'), ('int_blocks.1.quad_interaction.scale_cbf', 'int_blocks.1.quad_interaction.scale_cbf'), ('int_blocks.1.quad_interaction.scale_sbf_sum', 'int_blocks.1.quad_interaction.scale_sbf_sum'), ('int_blocks.1.atom_edge_interaction.scale_rbf', 'int_blocks.1.atom_edge_interaction.scale_rbf'), ('int_blocks.1.atom_edge_interaction.scale_cbf_sum', 'int_blocks.1.atom_edge_interaction.scale_cbf_sum'), ('int_blocks.1.edge_atom_interaction.scale_rbf', 'int_blocks.1.edge_atom_interaction.scale_rbf'), ('int_blocks.1.edge_atom_interaction.scale_cbf_sum', 'int_blocks.1.edge_atom_interaction.scale_cbf_sum'), ('int_blocks.1.atom_interaction.scale_rbf_sum', 'int_blocks.1.atom_interaction.scale_rbf_sum'), ('int_blocks.1.atom_update.scale_sum', 'int_blocks.1.atom_update.scale_sum'), ('int_blocks.2.trip_interaction.scale_rbf', 'int_blocks.2.trip_interaction.scale_rbf'), ('int_blocks.2.trip_interaction.scale_cbf_sum', 'int_blocks.2.trip_interaction.scale_cbf_sum'), ('int_blocks.2.quad_interaction.scale_rbf', 'int_blocks.2.quad_interaction.scale_rbf'), ('int_blocks.2.quad_interaction.scale_cbf', 'int_blocks.2.quad_interaction.scale_cbf'), ('int_blocks.2.quad_interaction.scale_sbf_sum', 'int_blocks.2.quad_interaction.scale_sbf_sum'), ('int_blocks.2.atom_edge_interaction.scale_rbf', 'int_blocks.2.atom_edge_interaction.scale_rbf'), ('int_blocks.2.atom_edge_interaction.scale_cbf_sum', 'int_blocks.2.atom_edge_interaction.scale_cbf_sum'), ('int_blocks.2.edge_atom_interaction.scale_rbf', 'int_blocks.2.edge_atom_interaction.scale_rbf'), ('int_blocks.2.edge_atom_interaction.scale_cbf_sum', 'int_blocks.2.edge_atom_interaction.scale_cbf_sum'), ('int_blocks.2.atom_interaction.scale_rbf_sum', 'int_blocks.2.atom_interaction.scale_rbf_sum'), ('int_blocks.2.atom_update.scale_sum', 'int_blocks.2.atom_update.scale_sum'), ('int_blocks.3.trip_interaction.scale_rbf', 'int_blocks.3.trip_interaction.scale_rbf'), ('int_blocks.3.trip_interaction.scale_cbf_sum', 'int_blocks.3.trip_interaction.scale_cbf_sum'), ('int_blocks.3.quad_interaction.scale_rbf', 'int_blocks.3.quad_interaction.scale_rbf'), ('int_blocks.3.quad_interaction.scale_cbf', 'int_blocks.3.quad_interaction.scale_cbf'), ('int_blocks.3.quad_interaction.scale_sbf_sum', 'int_blocks.3.quad_interaction.scale_sbf_sum'), ('int_blocks.3.atom_edge_interaction.scale_rbf', 'int_blocks.3.atom_edge_interaction.scale_rbf'), ('int_blocks.3.atom_edge_interaction.scale_cbf_sum', 'int_blocks.3.atom_edge_interaction.scale_cbf_sum'), ('int_blocks.3.edge_atom_interaction.scale_rbf', 'int_blocks.3.edge_atom_interaction.scale_rbf'), ('int_blocks.3.edge_atom_interaction.scale_cbf_sum', 'int_blocks.3.edge_atom_interaction.scale_cbf_sum'), ('int_blocks.3.atom_interaction.scale_rbf_sum', 'int_blocks.3.atom_interaction.scale_rbf_sum'), ('int_blocks.3.atom_update.scale_sum', 'int_blocks.3.atom_update.scale_sum'), ('out_blocks.0.scale_sum', 'out_blocks.0.scale_sum'), ('out_blocks.0.scale_rbf_F', 'out_blocks.0.scale_rbf_F'), ('out_blocks.1.scale_sum', 'out_blocks.1.scale_sum'), ('out_blocks.1.scale_rbf_F', 'out_blocks.1.scale_rbf_F'), ('out_blocks.2.scale_sum', 'out_blocks.2.scale_sum'), ('out_blocks.2.scale_rbf_F', 'out_blocks.2.scale_rbf_F'), ('out_blocks.3.scale_sum', 'out_blocks.3.scale_sum'), ('out_blocks.3.scale_rbf_F', 'out_blocks.3.scale_rbf_F'), ('out_blocks.4.scale_sum', 'out_blocks.4.scale_sum'), ('out_blocks.4.scale_rbf_F', 'out_blocks.4.scale_rbf_F')].\n",
      "CRITICAL:root:Loaded the following scale factors: ['int_blocks.0.atom_update.scale_sum', 'out_blocks.3.scale_rbf_F', 'int_blocks.3.atom_edge_interaction.scale_rbf', 'int_blocks.2.atom_edge_interaction.scale_cbf_sum', 'int_blocks.2.trip_interaction.scale_rbf', 'out_blocks.2.scale_rbf_F', 'int_blocks.0.trip_interaction.scale_cbf_sum', 'int_blocks.3.quad_interaction.scale_cbf', 'int_blocks.1.atom_update.scale_sum', 'out_blocks.2.scale_sum', 'out_blocks.4.scale_sum', 'int_blocks.0.atom_edge_interaction.scale_rbf', 'int_blocks.3.atom_update.scale_sum', 'out_blocks.1.scale_sum', 'int_blocks.2.quad_interaction.scale_sbf_sum', 'int_blocks.3.trip_interaction.scale_cbf_sum', 'int_blocks.3.atom_edge_interaction.scale_cbf_sum', 'int_blocks.1.quad_interaction.scale_cbf', 'out_blocks.4.scale_rbf_F', 'int_blocks.1.atom_edge_interaction.scale_rbf', 'int_blocks.1.trip_interaction.scale_cbf_sum', 'int_blocks.1.quad_interaction.scale_rbf', 'int_blocks.0.trip_interaction.scale_rbf', 'int_blocks.2.trip_interaction.scale_cbf_sum', 'int_blocks.0.atom_interaction.scale_rbf_sum', 'int_blocks.3.quad_interaction.scale_rbf', 'int_blocks.2.atom_edge_interaction.scale_rbf', 'int_blocks.2.quad_interaction.scale_cbf', 'int_blocks.0.quad_interaction.scale_sbf_sum', 'int_blocks.2.atom_interaction.scale_rbf_sum', 'int_blocks.3.quad_interaction.scale_sbf_sum', 'int_blocks.3.edge_atom_interaction.scale_cbf_sum', 'out_blocks.0.scale_rbf_F', 'int_blocks.0.edge_atom_interaction.scale_cbf_sum', 'int_blocks.0.atom_edge_interaction.scale_cbf_sum', 'out_blocks.3.scale_sum', 'int_blocks.0.quad_interaction.scale_rbf', 'int_blocks.1.edge_atom_interaction.scale_cbf_sum', 'int_blocks.2.edge_atom_interaction.scale_cbf_sum', 'out_blocks.1.scale_rbf_F', 'int_blocks.0.quad_interaction.scale_cbf', 'int_blocks.3.trip_interaction.scale_rbf', 'int_blocks.0.edge_atom_interaction.scale_rbf', 'int_blocks.1.atom_edge_interaction.scale_cbf_sum', 'int_blocks.3.edge_atom_interaction.scale_rbf', 'int_blocks.1.trip_interaction.scale_rbf', 'int_blocks.1.quad_interaction.scale_sbf_sum', 'int_blocks.2.atom_update.scale_sum', 'int_blocks.1.edge_atom_interaction.scale_rbf', 'int_blocks.2.edge_atom_interaction.scale_rbf', 'int_blocks.2.quad_interaction.scale_rbf', 'int_blocks.3.atom_interaction.scale_rbf_sum', 'int_blocks.1.atom_interaction.scale_rbf_sum', 'out_blocks.0.scale_sum'].\n",
      "Did not load the following scale factors: [].\n",
      "INFO:jmp.models.gemnet.backbone:Removed the following unnecessary state dict keys from the checkpoint: ['output.out_energy.0.0.weight', 'output.out_energy.0.0.bias', 'output.out_energy.0.2.weight', 'output.out_energy.0.2.bias', 'output.out_energy.0.4.weight', 'output.out_energy.0.4.bias', 'output.out_energy.0.6.weight', 'output.out_energy.0.6.bias', 'output.out_energy.0.8.weight', 'output.out_energy.1.0.weight', 'output.out_energy.1.0.bias', 'output.out_energy.1.2.weight', 'output.out_energy.1.2.bias', 'output.out_energy.1.4.weight', 'output.out_energy.1.4.bias', 'output.out_energy.1.6.weight', 'output.out_energy.1.6.bias', 'output.out_energy.1.8.weight', 'output.out_energy.2.0.weight', 'output.out_energy.2.0.bias', 'output.out_energy.2.2.weight', 'output.out_energy.2.2.bias', 'output.out_energy.2.4.weight', 'output.out_energy.2.4.bias', 'output.out_energy.2.6.weight', 'output.out_energy.2.6.bias', 'output.out_energy.2.8.weight', 'output.out_energy.3.0.weight', 'output.out_energy.3.0.bias', 'output.out_energy.3.2.weight', 'output.out_energy.3.2.bias', 'output.out_energy.3.4.weight', 'output.out_energy.3.4.bias', 'output.out_energy.3.6.weight', 'output.out_energy.3.6.bias', 'output.out_energy.3.8.weight', 'output.out_forces.0.0.weight', 'output.out_forces.0.0.bias', 'output.out_forces.0.2.weight', 'output.out_forces.0.2.bias', 'output.out_forces.0.4.weight', 'output.out_forces.0.4.bias', 'output.out_forces.0.6.weight', 'output.out_forces.0.6.bias', 'output.out_forces.0.8.weight', 'output.out_forces.1.0.weight', 'output.out_forces.1.0.bias', 'output.out_forces.1.2.weight', 'output.out_forces.1.2.bias', 'output.out_forces.1.4.weight', 'output.out_forces.1.4.bias', 'output.out_forces.1.6.weight', 'output.out_forces.1.6.bias', 'output.out_forces.1.8.weight', 'output.out_forces.2.0.weight', 'output.out_forces.2.0.bias', 'output.out_forces.2.2.weight', 'output.out_forces.2.2.bias', 'output.out_forces.2.4.weight', 'output.out_forces.2.4.bias', 'output.out_forces.2.6.weight', 'output.out_forces.2.6.bias', 'output.out_forces.2.8.weight', 'output.out_forces.3.0.weight', 'output.out_forces.3.0.bias', 'output.out_forces.3.2.weight', 'output.out_forces.3.2.bias', 'output.out_forces.3.4.weight', 'output.out_forces.3.4.bias', 'output.out_forces.3.6.weight', 'output.out_forces.3.6.bias', 'output.out_forces.3.8.weight', 'task_steps._module_dict._typed_moduledict_oc20.value', 'task_steps._module_dict._typed_moduledict_oc22.value', 'task_steps._module_dict._typed_moduledict_ani1x.value', 'task_steps._module_dict._typed_moduledict_transition1x.value']\n",
      "CRITICAL:nshtrainer.trainer.trainer:Auto-resolving precision='16-mixed-auto' to resolved_precision='bf16-mixed'.\n",
      "CRITICAL:nshtrainer.loggers.wandb:Using the `wandb-core` backend for WandB.\n",
      "INFO:nshtrainer.trainer.trainer:config.trainer.auto_determine_num_nodes ignored because no SLURM or LSF detected.\n",
      "CRITICAL:nshtrainer.trainer.trainer:LightningTrainer.__init__ with kwargs={'deterministic': None, 'fast_dev_run': 256, 'max_epochs': None, 'min_epochs': None, 'max_steps': -1, 'min_steps': None, 'max_time': None, 'limit_train_batches': None, 'limit_val_batches': None, 'limit_test_batches': None, 'limit_predict_batches': None, 'overfit_batches': 0.0, 'val_check_interval': None, 'num_sanity_val_steps': None, 'log_every_n_steps': None, 'inference_mode': True, 'callbacks': [<lightning.pytorch.callbacks.lr_monitor.LearningRateMonitor object at 0x7febf0114ad0>, <nshtrainer.callbacks.log_epoch.LogEpochCallback object at 0x7febeebb3990>, <nshtrainer.loggers.wandb.FinishWandbOnTeardownCallback object at 0x7febeebb38d0>, <nshtrainer.callbacks.wandb_watch.WandbWatchCallback object at 0x7febeebb3410>, <nshtrainer.callbacks.wandb_upload_code.WandbUploadCodeCallback object at 0x7febf1220ed0>, <nshtrainer._hf_hub.HFHubCallback object at 0x7febee5d0dd0>, <nshtrainer.callbacks.shared_parameters.SharedParametersCallback object at 0x7febeebb3450>, <nshtrainer.callbacks.rlp_sanity_checks.RLPSanityChecksCallback object at 0x7febeebb31d0>, <nshtrainer.callbacks.debug_flag.DebugFlagCallback object at 0x7febeebb3110>], 'plugins': [], 'logger': [<lightning.pytorch.loggers.wandb.WandbLogger object at 0x7febeebb2bd0>, <lightning.pytorch.loggers.tensorboard.TensorBoardLogger object at 0x7febf0f4f250>, <lightning.pytorch.loggers.csv_logs.CSVLogger object at 0x7febeeb9a910>], 'default_root_dir': PosixPath('/net/csefiles/coc-fung-cluster/nima/shared/repositories/jmp-backbone/configs/mptrj_alex_omat24/nshtrainer/moge19j9'), 'precision': 'bf16-mixed'}.\n",
      "Trainer will use only 1 of 8 GPUs because it is running inside an interactive / notebook environment. You may try to set `Trainer(devices=8)` but please note that multi-GPU inside interactive / notebook environments is considered experimental and unstable. Your mileage may vary.\n",
      "Using bfloat16 Automatic Mixed Precision (AMP)\n",
      "GPU available: True (cuda), used: True\n",
      "TPU available: False, using: 0 TPU cores\n",
      "HPU available: False, using: 0 HPUs\n",
      "Running in `fast_dev_run` mode: will run the requested loop using 256 batch(es). Logging and checkpointing is suppressed.\n",
      "CRITICAL:nshtrainer.trainer.trainer:LightningTrainer log directory: None.\n",
      "WARNING:nshtrainer._checkpoint.loader:No checkpoint candidates found for `last` checkpoint strategy.\n",
      "INFO:nshtrainer.trainer.checkpoint_connector:No checkpoint found for the current trainer state. Training will start from scratch.\n",
      "INFO:nshtrainer.trainer.checkpoint_connector:Loading checkpoint from: None\n"
     ]
    },
    {
     "data": {
      "application/vnd.jupyter.widget-view+json": {
       "model_id": "44d20d4432be4dfabe289c3ae66abf1b",
       "version_major": 2,
       "version_minor": 0
      },
      "text/plain": [
       "Loading dataset from disk:   0%|          | 0/212 [00:00<?, ?it/s]"
      ]
     },
     "metadata": {},
     "output_type": "display_data"
    },
    {
     "data": {
      "application/vnd.jupyter.widget-view+json": {
       "model_id": "a35165f97a8f4e2e94124ef669daa7e9",
       "version_major": 2,
       "version_minor": 0
      },
      "text/plain": [
       "Loading dataset from disk:   0%|          | 0/212 [00:00<?, ?it/s]"
      ]
     },
     "metadata": {},
     "output_type": "display_data"
    },
    {
     "name": "stderr",
     "output_type": "stream",
     "text": [
      "WARNING:nshtrainer.callbacks.wandb_upload_code:Wandb logger not found. Skipping code upload.\n",
      "CRITICAL:nshtrainer.callbacks.debug_flag:Fast dev run detected, setting debug flag to True.\n",
      "LOCAL_RANK: 0 - CUDA_VISIBLE_DEVICES: [0,1,2,3,4,5,6,7]\n",
      "Loading `train_dataloader` to estimate number of stepping batches.\n"
     ]
    },
    {
     "data": {
      "application/vnd.jupyter.widget-view+json": {
       "model_id": "53567079d9a4468eb964892369fd1e52",
       "version_major": 2,
       "version_minor": 0
      },
      "text/plain": [
       "Loading dataset from disk:   0%|          | 0/212 [00:00<?, ?it/s]"
      ]
     },
     "metadata": {},
     "output_type": "display_data"
    },
    {
     "name": "stderr",
     "output_type": "stream",
     "text": [
      "\n",
      "  | Name           | Type              | Params | Mode \n",
      "-------------------------------------------------------------\n",
      "0 | backbone       | GemNetOCBackbone  | 38.9 M | train\n",
      "1 | energy_head    | EnergyOutputHead  | 263 K  | train\n",
      "2 | force_head     | ForceOutputHead   | 1.1 M  | train\n",
      "3 | stress_head    | StressOutputHead  | 2.1 M  | train\n",
      "4 | graph_computer | GraphComputer     | 0      | train\n",
      "5 | train_metrics  | ForceFieldMetrics | 0      | train\n",
      "6 | val_metrics    | ForceFieldMetrics | 0      | train\n",
      "7 | test_metrics   | ForceFieldMetrics | 0      | train\n",
      "-------------------------------------------------------------\n",
      "42.3 M    Trainable params\n",
      "0         Non-trainable params\n",
      "42.3 M    Total params\n",
      "169.161   Total estimated model params size (MB)\n",
      "INFO:nshtrainer.trainer.signal_connector:No auto-requeue signals found. Reverting to default Lightning behavior.\n"
     ]
    },
    {
     "data": {
      "application/vnd.jupyter.widget-view+json": {
       "model_id": "9ddaef02f3ca4e02b7f47d13699d58ac",
       "version_major": 2,
       "version_minor": 0
      },
      "text/plain": [
       "Loading dataset from disk:   0%|          | 0/212 [00:00<?, ?it/s]"
      ]
     },
     "metadata": {},
     "output_type": "display_data"
    },
    {
     "data": {
      "application/vnd.jupyter.widget-view+json": {
       "model_id": "041482d7713d4397bd75f19707c5863e",
       "version_major": 2,
       "version_minor": 0
      },
      "text/plain": [
       "Training: |          | 0/? [00:00<?, ?it/s]"
      ]
     },
     "metadata": {},
     "output_type": "display_data"
    },
    {
     "data": {
      "application/vnd.jupyter.widget-view+json": {
       "model_id": "13347fc116944b009a3fd288a471777e",
       "version_major": 2,
       "version_minor": 0
      },
      "text/plain": [
       "Validation: |          | 0/? [00:00<?, ?it/s]"
      ]
     },
     "metadata": {},
     "output_type": "display_data"
    },
    {
     "name": "stderr",
     "output_type": "stream",
     "text": [
      "/net/csefiles/coc-fung-cluster/nima/miniforge3/envs/jmp-peft/lib/python3.11/site-packages/lightning/pytorch/trainer/call.py:54: Detected KeyboardInterrupt, attempting graceful shutdown...\n"
     ]
    },
    {
     "data": {
      "text/html": [
       "<script> (()=>{ if (customElements.get('treescope-container') === undefined) { class TreescopeContainer extends HTMLElement { constructor() { super(); this.attachShadow({mode: \"open\"}); this.defns = {}; this.state = {}; } } customElements.define(\"treescope-container\", TreescopeContainer); } if (customElements.get('treescope-run-here') === undefined) { class RunHere extends HTMLElement { constructor() { super() } connectedCallback() { const run = child => { const fn = new Function(child.textContent); child.textContent = \"\"; fn.call(this); this.remove(); }; const child = this.querySelector(\"script\"); if (child) { run(child); } else { new MutationObserver(()=>{ run(this.querySelector(\"script\")); }).observe(this, {childList: true}); } } } customElements.define(\"treescope-run-here\", RunHere); } })(); </script> <treescope-container class=\"treescope_out_f863bc8ea2cc4795a0800e416a812839\" ></treescope-container> <treescope-run-here><script type=\"application/octet-stream\"> const root = ( Array.from(document.getElementsByClassName( \"treescope_out_f863bc8ea2cc4795a0800e416a812839\")) .filter((elt) => !elt.dataset.setup) )[0]; root.dataset.setup = 1; const msg = document.createElement(\"span\"); msg.style = \"color: #cccccc; font-family: monospace;\"; msg.textContent = \"(Loading...)\"; root.state.loadingMsg = msg; root.shadowRoot.appendChild(msg); root.state.chain = new Promise((resolve, reject) => { const observer = new IntersectionObserver((entries) => { for (const entry of entries) { if (entry.isIntersecting) { resolve(); observer.disconnect(); return; } } }, {rootMargin: \"1000px\"}); window.setTimeout(() => { observer.observe(root); }, 0); }); root.state.deferring = false; const _insertNode = (node) => { for (let oldScript of node.querySelectorAll(\"script\")) { let newScript = document.createElement(\"script\"); newScript.type = oldScript.type; newScript.textContent = oldScript.textContent; oldScript.parentNode.replaceChild(newScript, oldScript); } if (root.state.loadingMsg) { root.state.loadingMsg.remove(); root.state.loadingMsg = null; } root.shadowRoot.appendChild(node); }; root.defns.insertContent = ((contentNode, compressed) => { if (compressed) { root.state.deferring = true; } if (root.state.deferring) { root.state.chain = (async () => { await root.state.chain; if (compressed) { const encoded = contentNode.textContent; const blob = new Blob([ Uint8Array.from(atob(encoded), (m) => m.codePointAt(0)) ]); const reader = blob.stream().pipeThrough( new DecompressionStream(\"deflate\") ).pipeThrough( new TextDecoderStream(\"utf-8\") ).getReader(); const parts = []; while (true) { const step = await reader.read(); if (step.done) { break; } parts.push(step.value); } const tpl = document.createElement('template'); tpl.innerHTML = parts.join(\"\"); _insertNode(tpl.content); } else { _insertNode(contentNode.content); } })(); } else { _insertNode(contentNode.content); } }); </script></treescope-run-here><div style=\"display:none\"> <script type=\"application/octet-stream\" >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</script> <treescope-run-here><script type=\"application/octet-stream\"> const root = ( Array.from(document.getElementsByClassName( \"treescope_out_f863bc8ea2cc4795a0800e416a812839\")) .filter((elt) => !elt.dataset['step0']) )[0]; root.dataset['step0'] = 1; root.defns.insertContent( this.parentNode.querySelector('script[type=\"application/octet-stream\"]'), true ); this.parentNode.remove(); </script></treescope-run-here> </div>"
      ],
      "text/plain": [
       "<IPython.core.display.HTML object>"
      ]
     },
     "metadata": {},
     "output_type": "display_data"
    },
    {
     "data": {
      "text/html": [
       "<treescope-run-here><script type=\"application/octet-stream\"> const root = ( Array.from(document.getElementsByClassName( \"treescope_out_f863bc8ea2cc4795a0800e416a812839\")) .filter((elt) => !elt.dataset.stolen) )[0]; root.dataset.stolen = 1; this.parentNode.replaceChild(root, this); </script></treescope-run-here>"
      ],
      "text/plain": [
       "[None]"
      ]
     },
     "execution_count": 7,
     "metadata": {},
     "output_type": "execute_result"
    }
   ],
   "source": [
    "import nshrunner as nr\n",
    "\n",
    "configs = [(config.fast_dev_run(256), data_config)]\n",
    "\n",
    "runner = nr.Runner(run, nr.RunnerConfig(working_dir=cwd, env=env))\n",
    "runner.local(configs)"
   ]
  },
  {
   "cell_type": "code",
   "execution_count": 3,
   "metadata": {},
   "outputs": [
    {
     "name": "stderr",
     "output_type": "stream",
     "text": [
      "Resolved the following modules from the provided values: ['jmp']\n",
      "Snapshotting modules=['jmp'] to /net/csefiles/coc-fung-cluster/nima/shared/experiment-data/nshrunner/ad0e148b-99f4-4b21-a167-65e96a98d212/nshsnap\n",
      "Run the following command to submit the jobs:\n",
      "\n",
      "\n"
     ]
    },
    {
     "name": "stdout",
     "output_type": "stream",
     "text": [
      "screen -S nshrunner -L -Logfile /net/csefiles/coc-fung-cluster/nima/shared/experiment-data/nshrunner/ad0e148b-99f4-4b21-a167-65e96a98d212/submit/logs/session.log -U bash /net/csefiles/coc-fung-cluster/nima/shared/experiment-data/nshrunner/ad0e148b-99f4-4b21-a167-65e96a98d212/submit/submit.sh\n",
      "\n",
      "\n"
     ]
    },
    {
     "data": {
      "text/plain": [
       "Submission(command_parts=['screen', '-S', 'nshrunner', '-L', '-Logfile', '/net/csefiles/coc-fung-cluster/nima/shared/experiment-data/nshrunner/ad0e148b-99f4-4b21-a167-65e96a98d212/submit/logs/session.log', '-U', 'bash', '/net/csefiles/coc-fung-cluster/nima/shared/experiment-data/nshrunner/ad0e148b-99f4-4b21-a167-65e96a98d212/submit/submit.sh'], script_path=PosixPath('/net/csefiles/coc-fung-cluster/nima/shared/experiment-data/nshrunner/ad0e148b-99f4-4b21-a167-65e96a98d212/submit/submit.sh'))"
      ]
     },
     "execution_count": 3,
     "metadata": {},
     "output_type": "execute_result"
    }
   ],
   "source": [
    "import nshrunner as nr\n",
    "\n",
    "configs = [(config, data_config)]\n",
    "\n",
    "runner = nr.Runner(run, nr.RunnerConfig(working_dir=cwd, env=env))\n",
    "runner.session(configs, snapshot=True, env=env)"
   ]
  }
 ],
 "metadata": {
  "kernelspec": {
   "display_name": "jmp-peft",
   "language": "python",
   "name": "python3"
  },
  "language_info": {
   "codemirror_mode": {
    "name": "ipython",
    "version": 3
   },
   "file_extension": ".py",
   "mimetype": "text/x-python",
   "name": "python",
   "nbconvert_exporter": "python",
   "pygments_lexer": "ipython3",
   "version": "3.11.9"
  }
 },
 "nbformat": 4,
 "nbformat_minor": 2
}
