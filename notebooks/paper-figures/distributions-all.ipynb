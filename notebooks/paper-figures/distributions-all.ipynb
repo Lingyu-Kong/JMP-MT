{
 "cells": [
  {
   "cell_type": "code",
   "execution_count": 1,
   "metadata": {},
   "outputs": [],
   "source": [
    "from __future__ import annotations\n",
    "\n",
    "import datasets\n",
    "from tqdm import tqdm\n",
    "\n",
    "\n",
    "def process(\n",
    "    dataset_name: str,\n",
    "    *,\n",
    "    id_column: str,\n",
    "    natoms_column: str,\n",
    "    atomic_numbers_column: str,\n",
    "    split: str = \"train\",\n",
    "    count: int = 10_000,\n",
    "):\n",
    "    ids = set()\n",
    "\n",
    "    natoms = []\n",
    "    atomic_numbers = []\n",
    "\n",
    "    i = 0\n",
    "    pbar = tqdm(total=count)\n",
    "    for data_dict in datasets.load_dataset(dataset_name, split=split, streaming=True):\n",
    "        if i >= count:\n",
    "            break\n",
    "\n",
    "        id = data_dict[id_column]\n",
    "        if id in ids:\n",
    "            continue\n",
    "\n",
    "        i += 1\n",
    "        pbar.update(1)\n",
    "\n",
    "        ids.add(id)\n",
    "        natoms.append(data_dict[natoms_column])\n",
    "        atomic_numbers.append(data_dict[atomic_numbers_column])\n",
    "\n",
    "    return {\"natoms\": natoms, \"atomic_numbers\": atomic_numbers}\n",
    "\n",
    "\n",
    "stats = {}"
   ]
  },
  {
   "cell_type": "code",
   "execution_count": null,
   "metadata": {},
   "outputs": [],
   "source": [
    "stats[\"mptrj\"] = process(\n",
    "    \"nimashoghi/mptrj\",\n",
    "    id_column=\"mp_id\",\n",
    "    natoms_column=\"num_atoms\",\n",
    "    atomic_numbers_column=\"numbers\",\n",
    ")"
   ]
  },
  {
   "cell_type": "code",
   "execution_count": 5,
   "metadata": {},
   "outputs": [
    {
     "name": "stderr",
     "output_type": "stream",
     "text": [
      "\n",
      "\u001b[A"
     ]
    },
    {
     "name": "stderr",
     "output_type": "stream",
     "text": [
      "\u001b[A\n",
      "\u001b[A\n",
      "\u001b[A\n",
      "\u001b[A\n",
      "\u001b[A\n",
      "\u001b[A\n",
      "\u001b[A\n",
      "\u001b[A\n",
      "\u001b[A\n",
      "\u001b[A\n",
      "\u001b[A\n",
      "\u001b[A\n",
      "\u001b[A\n",
      "\u001b[A\n",
      "\u001b[A\n",
      "\u001b[A\n",
      "\u001b[A\n",
      "\u001b[A\n",
      "\u001b[A\n",
      "\u001b[A\n",
      "\u001b[A\n",
      "\u001b[A\n",
      "\u001b[A\n",
      "\u001b[A\n",
      "  0%|          | 0/10000 [00:27<?, ?it/s]\n",
      "\n",
      "\u001b[A\n",
      "\u001b[A\n",
      "\u001b[A\n",
      "\u001b[A\n",
      "\u001b[A\n",
      "\u001b[A\n",
      "\u001b[A\n",
      "\u001b[A\n",
      "\u001b[A\n",
      "\u001b[A\n",
      "\u001b[A\n",
      "\u001b[A\n",
      "\u001b[A\n",
      "\u001b[A\n",
      "\u001b[A\n",
      "\u001b[A\n",
      "\u001b[A\n",
      "\u001b[A\n",
      "\u001b[A\n",
      "\u001b[A\n",
      "\u001b[A\n",
      "\u001b[A\n",
      "\u001b[A\n",
      "\u001b[A\n",
      "\u001b[A\n",
      "\u001b[A\n",
      "\u001b[A\n",
      "\u001b[A\n",
      "\u001b[A\n",
      "\u001b[A\n",
      "\u001b[A\n",
      "\u001b[A\n",
      "\u001b[A\n",
      "\u001b[A\n",
      "\u001b[A\n",
      "\u001b[A\n",
      "\u001b[A\n",
      "\u001b[A\n",
      "\u001b[A\n",
      "\u001b[A\n",
      "\u001b[A\n",
      "100%|██████████| 10000/10000 [00:09<00:00, 1063.91it/s]\n"
     ]
    }
   ],
   "source": [
    "stats[\"wbm\"] = process(\n",
    "    \"nimashoghi/wbm\",\n",
    "    id_column=\"material_id\",\n",
    "    natoms_column=\"num_atoms\",\n",
    "    atomic_numbers_column=\"atomic_numbers\",\n",
    ")"
   ]
  },
  {
   "cell_type": "code",
   "execution_count": 7,
   "metadata": {},
   "outputs": [
    {
     "data": {
      "text/plain": [
       "dict_keys(['natoms', 'atomic_numbers'])"
      ]
     },
     "execution_count": 7,
     "metadata": {},
     "output_type": "execute_result"
    }
   ],
   "source": [
    "stats[\"wbm\"].keys()"
   ]
  },
  {
   "cell_type": "code",
   "execution_count": 9,
   "metadata": {},
   "outputs": [
    {
     "data": {
      "image/png": "[encoded data removed]",
      "text/plain": [
       "<Figure size 640x480 with 1 Axes>"
      ]
     },
     "metadata": {},
     "output_type": "display_data"
    }
   ],
   "source": [
    "import matplotlib.pyplot as plt\n",
    "import numpy as np\n",
    "from ase.data import chemical_symbols\n",
    "\n",
    "# Create a mapping from atomic number to symbol\n",
    "atomic_number_to_symbol = {num: symbol for num, symbol in enumerate(chemical_symbols)}\n",
    "\n",
    "# Initialize plot\n",
    "fig, ax = plt.subplots()\n",
    "\n",
    "# Colors for each dataset\n",
    "colors = {\"mptrj\": \"blue\", \"wbm\": \"orange\"}\n",
    "\n",
    "for dataset, s in stats.items():\n",
    "    atomic_numbers_flat = np.concatenate(s[\"atomic_numbers\"])\n",
    "    # Compute unique atomic numbers and their densities\n",
    "    unique_atomic_numbers, counts = np.unique(atomic_numbers_flat, return_counts=True)\n",
    "    densities = counts / len(atomic_numbers_flat)\n",
    "\n",
    "    # Sort the atomic numbers and densities by atomic number\n",
    "    sorted_indices = np.argsort(unique_atomic_numbers)\n",
    "    sorted_atomic_numbers = unique_atomic_numbers[sorted_indices]\n",
    "    sorted_densities = densities[sorted_indices]\n",
    "\n",
    "    # Convert atomic numbers to symbols\n",
    "    sorted_atomic_symbols = [\n",
    "        atomic_number_to_symbol[num] for num in sorted_atomic_numbers\n",
    "    ]\n",
    "\n",
    "    # Plot the barplot with atomic symbols on the x-axis\n",
    "    ax.bar(\n",
    "        sorted_atomic_symbols,\n",
    "        sorted_densities,\n",
    "        color=colors[dataset],\n",
    "        alpha=0.6,\n",
    "        label=dataset.upper(),\n",
    "    )\n",
    "\n",
    "\n",
    "# Show the plot\n",
    "plt.show()"
   ]
  }
 ],
 "metadata": {
  "kernelspec": {
   "display_name": "jmp-peft",
   "language": "python",
   "name": "python3"
  },
  "language_info": {
   "codemirror_mode": {
    "name": "ipython",
    "version": 3
   },
   "file_extension": ".py",
   "mimetype": "text/x-python",
   "name": "python",
   "nbconvert_exporter": "python",
   "pygments_lexer": "ipython3",
   "version": "3.11.6"
  }
 },
 "nbformat": 4,
 "nbformat_minor": 2
}
