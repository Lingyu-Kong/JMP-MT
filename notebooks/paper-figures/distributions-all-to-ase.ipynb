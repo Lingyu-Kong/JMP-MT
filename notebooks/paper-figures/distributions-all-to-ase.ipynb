{
 "cells": [
  {
   "cell_type": "code",
   "execution_count": 1,
   "metadata": {},
   "outputs": [],
   "source": [
    "from __future__ import annotations\n",
    "\n",
    "from typing import Any\n",
    "\n",
    "import ase\n",
    "import datasets\n",
    "import numpy as np\n",
    "from tqdm.auto import tqdm\n",
    "\n",
    "\n",
    "def process(\n",
    "    dataset_name: str,\n",
    "    *,\n",
    "    id_column: str,\n",
    "    atomic_numbers_column: str,\n",
    "    pos_column: str,\n",
    "    cell_column: str | None,\n",
    "    pbc_column: str | None,\n",
    "    extra_columns: list[str] | None = None,\n",
    "    split: str = \"train\",\n",
    "    count: int = 10_000,\n",
    "):\n",
    "    ids = set()\n",
    "\n",
    "    atoms_list: list[ase.Atoms] = []\n",
    "\n",
    "    i = 0\n",
    "    pbar = tqdm(total=count)\n",
    "    printed = False\n",
    "    for data_dict in datasets.load_dataset(dataset_name, split=split, streaming=True):\n",
    "        if not printed:\n",
    "            print({k: type(v) for k, v in data_dict.items()})\n",
    "            printed = True\n",
    "        if i >= count:\n",
    "            break\n",
    "\n",
    "        if (id := data_dict[id_column]) in ids:\n",
    "            continue\n",
    "\n",
    "        try:\n",
    "            atoms_kwargs: dict[str, Any] = {}\n",
    "            atoms_kwargs[\"numbers\"] = np.array(\n",
    "                data_dict[atomic_numbers_column], dtype=int\n",
    "            )\n",
    "            atoms_kwargs[\"positions\"] = np.array(\n",
    "                data_dict[pos_column], dtype=float\n",
    "            ).reshape(-1, 3)\n",
    "            if cell_column is not None:\n",
    "                atoms_kwargs[\"cell\"] = np.array(\n",
    "                    data_dict[cell_column], dtype=float\n",
    "                ).reshape(3, 3)\n",
    "                atoms_kwargs[\"pbc\"] = (\n",
    "                    True if pbc_column is None else data_dict[pbc_column]\n",
    "                )\n",
    "\n",
    "            if extra_columns:\n",
    "                info: dict[str, Any] = {}\n",
    "                for col in extra_columns:\n",
    "                    info[col] = data_dict[col]\n",
    "                atoms_kwargs[\"info\"] = info\n",
    "\n",
    "            atoms = ase.Atoms(**atoms_kwargs)\n",
    "            atoms_list.append(atoms)\n",
    "        finally:\n",
    "            i += 1\n",
    "            pbar.update(1)\n",
    "            ids.add(id)\n",
    "\n",
    "    return atoms_list\n",
    "\n",
    "\n",
    "stats = {}"
   ]
  },
  {
   "cell_type": "code",
   "execution_count": 2,
   "metadata": {},
   "outputs": [
    {
     "data": {
      "application/vnd.jupyter.widget-view+json": {
       "model_id": "f5eb607640c84b379f893bc9d7813932",
       "version_major": 2,
       "version_minor": 0
      },
      "text/plain": [
       "  0%|          | 0/10000 [00:00<?, ?it/s]"
      ]
     },
     "metadata": {},
     "output_type": "display_data"
    },
    {
     "name": "stdout",
     "output_type": "stream",
     "text": [
      "{'numbers': <class 'list'>, 'positions': <class 'list'>, 'forces': <class 'list'>, 'cell': <class 'list'>, 'pbc': <class 'list'>, 'energy': <class 'float'>, 'stress': <class 'list'>, 'e_per_atom_relaxed': <class 'float'>, 'mp_id': <class 'str'>, 'energy_per_atom': <class 'float'>, 'ef_per_atom_relaxed': <class 'float'>, 'corrected_total_energy': <class 'float'>, 'ef_per_atom': <class 'float'>, 'task_id': <class 'str'>, 'calc_id': <class 'int'>, 'ionic_step': <class 'int'>, 'filename': <class 'str'>, 'extxyz_id': <class 'int'>, 'num_atoms': <class 'int'>, 'corrected_total_energy_relaxed': <class 'float'>, 'energy_referenced': <class 'float'>, 'corrected_total_energy_referenced': <class 'float'>, 'corrected_total_energy_relaxed_referenced': <class 'float'>, 'composition': <class 'list'>}\n"
     ]
    }
   ],
   "source": [
    "stats[\"mptrj\"] = process(\n",
    "    \"nimashoghi/mptrj\",\n",
    "    id_column=\"mp_id\",\n",
    "    atomic_numbers_column=\"numbers\",\n",
    "    pos_column=\"positions\",\n",
    "    cell_column=\"cell\",\n",
    "    pbc_column=\"pbc\",\n",
    "    extra_columns=[\n",
    "        \"corrected_total_energy\",\n",
    "        \"forces\",\n",
    "        \"stress\",\n",
    "    ],\n",
    ")"
   ]
  },
  {
   "cell_type": "code",
   "execution_count": 3,
   "metadata": {},
   "outputs": [
    {
     "data": {
      "application/vnd.jupyter.widget-view+json": {
       "model_id": "583d26688dd0486ca61b64bcf67eed5d",
       "version_major": 2,
       "version_minor": 0
      },
      "text/plain": [
       "  0%|          | 0/10000 [00:00<?, ?it/s]"
      ]
     },
     "metadata": {},
     "output_type": "display_data"
    },
    {
     "name": "stdout",
     "output_type": "stream",
     "text": [
      "{'formula': <class 'str'>, 'n_sites': <class 'float'>, 'volume': <class 'float'>, 'uncorrected_energy': <class 'float'>, 'e_form_per_atom_wbm': <class 'float'>, 'e_above_hull_wbm': <class 'float'>, 'bandgap_pbe': <class 'float'>, 'wyckoff_spglib_initial_structure': <class 'str'>, 'uncorrected_energy_from_cse': <class 'float'>, 'e_correction_per_atom_mp2020': <class 'float'>, 'e_correction_per_atom_mp_legacy': <class 'float'>, 'e_form_per_atom_uncorrected': <class 'float'>, 'e_form_per_atom_mp2020_corrected': <class 'float'>, 'e_above_hull_mp2020_corrected_ppd_mp': <class 'float'>, 'site_stats_fingerprint_init_final_norm_diff': <class 'float'>, 'wyckoff_spglib': <class 'str'>, 'unique_prototype': <class 'bool'>, 'formula_from_cse': <class 'str'>, 'initial_structure': <class 'dict'>, 'id': <class 'str'>, 'material_id': <class 'str'>, 'frac_pos': <class 'list'>, 'cart_pos': <class 'list'>, 'pos': <class 'list'>, 'cell': <class 'list'>, 'num_atoms': <class 'int'>, 'atomic_numbers': <class 'list'>, 'composition': <class 'list'>}\n"
     ]
    }
   ],
   "source": [
    "stats[\"wbm\"] = process(\n",
    "    \"nimashoghi/wbm\",\n",
    "    id_column=\"material_id\",\n",
    "    atomic_numbers_column=\"atomic_numbers\",\n",
    "    pos_column=\"cart_pos\",\n",
    "    cell_column=\"cell\",\n",
    "    pbc_column=None,\n",
    "    extra_columns=[\"uncorrected_energy\", \"e_correction_per_atom_mp2020\"],\n",
    ")"
   ]
  },
  {
   "cell_type": "code",
   "execution_count": 4,
   "metadata": {},
   "outputs": [
    {
     "data": {
      "application/vnd.jupyter.widget-view+json": {
       "model_id": "bbf8c00d4b3d42c59bc867a199889fc8",
       "version_major": 2,
       "version_minor": 0
      },
      "text/plain": [
       "  0%|          | 0/10000 [00:00<?, ?it/s]"
      ]
     },
     "metadata": {},
     "output_type": "display_data"
    },
    {
     "name": "stdout",
     "output_type": "stream",
     "text": [
      "{'sid': <class 'str'>, 'fid': <class 'str'>, 'reference_energy': <class 'float'>, 'num_atoms': <class 'int'>, 'atomic_numbers': <class 'list'>, 'pos': <class 'list'>, 'energy': <class 'float'>, 'forces': <class 'list'>, 'cell': <class 'list'>, 'fixed': <class 'list'>, 'tags': <class 'list'>}\n"
     ]
    }
   ],
   "source": [
    "stats[\"oc20\"] = process(\n",
    "    \"nimashoghi/oc20-s2ef\",\n",
    "    id_column=\"sid\",\n",
    "    atomic_numbers_column=\"atomic_numbers\",\n",
    "    pos_column=\"pos\",\n",
    "    cell_column=\"cell\",\n",
    "    pbc_column=None,\n",
    "    extra_columns=[\"energy\", \"forces\"],\n",
    "    split=\"2M\",\n",
    ")"
   ]
  },
  {
   "cell_type": "code",
   "execution_count": 5,
   "metadata": {},
   "outputs": [
    {
     "data": {
      "application/vnd.jupyter.widget-view+json": {
       "model_id": "a5b77e4bd7f9473ead769dcbad405b4b",
       "version_major": 2,
       "version_minor": 0
      },
      "text/plain": [
       "  0%|          | 0/10000 [00:00<?, ?it/s]"
      ]
     },
     "metadata": {},
     "output_type": "display_data"
    },
    {
     "data": {
      "application/vnd.jupyter.widget-view+json": {
       "model_id": "7afeeedc82df4ac0b9f8b88266fd8711",
       "version_major": 2,
       "version_minor": 0
      },
      "text/plain": [
       "Resolving data files:   0%|          | 0/82 [00:00<?, ?it/s]"
      ]
     },
     "metadata": {},
     "output_type": "display_data"
    },
    {
     "data": {
      "application/vnd.jupyter.widget-view+json": {
       "model_id": "6be1948a7e434fc4bd4b599c87e0ab50",
       "version_major": 2,
       "version_minor": 0
      },
      "text/plain": [
       "Resolving data files:   0%|          | 0/82 [00:00<?, ?it/s]"
      ]
     },
     "metadata": {},
     "output_type": "display_data"
    },
    {
     "name": "stdout",
     "output_type": "stream",
     "text": [
      "{'pos': <class 'list'>, 'cell': <class 'list'>, 'atomic_numbers': <class 'list'>, 'natoms': <class 'int'>, 'fixed': <class 'list'>, 'tags': <class 'list'>, 'sid': <class 'int'>, 'fid': <class 'int'>, 'id': <class 'str'>, 'oc22': <class 'int'>, 'composition': <class 'list'>, 'y': <class 'float'>, 'force': <class 'list'>}\n"
     ]
    }
   ],
   "source": [
    "stats[\"oc22\"] = process(\n",
    "    \"nimashoghi/oc22\",\n",
    "    id_column=\"sid\",\n",
    "    atomic_numbers_column=\"atomic_numbers\",\n",
    "    pos_column=\"pos\",\n",
    "    cell_column=\"cell\",\n",
    "    pbc_column=None,\n",
    "    extra_columns=[\"y\", \"force\"],\n",
    ")"
   ]
  },
  {
   "cell_type": "code",
   "execution_count": 7,
   "metadata": {},
   "outputs": [
    {
     "data": {
      "application/vnd.jupyter.widget-view+json": {
       "model_id": "25250b24a9fd4216b807bbd0ce3722d7",
       "version_major": 2,
       "version_minor": 0
      },
      "text/plain": [
       "  0%|          | 0/10000 [00:00<?, ?it/s]"
      ]
     },
     "metadata": {},
     "output_type": "display_data"
    },
    {
     "name": "stdout",
     "output_type": "stream",
     "text": [
      "{'y': <class 'float'>, 'pos': <class 'list'>, 'atomic_numbers': <class 'list'>, 'sid': <class 'int'>, 'fid': <class 'int'>, 'natoms': <class 'int'>, 'tags': <class 'list'>, 'force': <class 'list'>, 'pbc': <class 'list'>, 'id': <class 'str'>}\n"
     ]
    }
   ],
   "source": [
    "stats[\"ani1x\"] = process(\n",
    "    \"nimashoghi/ani1x\",\n",
    "    id_column=\"sid\",\n",
    "    atomic_numbers_column=\"atomic_numbers\",\n",
    "    pos_column=\"pos\",\n",
    "    cell_column=None,\n",
    "    pbc_column=None,\n",
    "    extra_columns=[\"y\", \"force\"],\n",
    ")"
   ]
  },
  {
   "cell_type": "code",
   "execution_count": 9,
   "metadata": {},
   "outputs": [
    {
     "data": {
      "application/vnd.jupyter.widget-view+json": {
       "model_id": "7cf260e7b96d4c648945dfca31bdfeb2",
       "version_major": 2,
       "version_minor": 0
      },
      "text/plain": [
       "  0%|          | 0/9000 [00:00<?, ?it/s]"
      ]
     },
     "metadata": {},
     "output_type": "display_data"
    },
    {
     "name": "stdout",
     "output_type": "stream",
     "text": [
      "{'y': <class 'float'>, 'pos': <class 'list'>, 'atomic_numbers': <class 'list'>, 'sid': <class 'int'>, 'fid': <class 'int'>, 'natoms': <class 'int'>, 'tags': <class 'list'>, 'force': <class 'list'>, 'pbc': <class 'list'>, 'id': <class 'str'>}\n"
     ]
    }
   ],
   "source": [
    "stats[\"trans1x\"] = process(\n",
    "    \"nimashoghi/transition1x\",\n",
    "    id_column=\"sid\",\n",
    "    atomic_numbers_column=\"atomic_numbers\",\n",
    "    pos_column=\"pos\",\n",
    "    cell_column=None,\n",
    "    pbc_column=None,\n",
    "    extra_columns=[\"y\", \"force\"],\n",
    "    count=9000,\n",
    ")"
   ]
  },
  {
   "cell_type": "code",
   "execution_count": 10,
   "metadata": {},
   "outputs": [
    {
     "name": "stdout",
     "output_type": "stream",
     "text": [
      "  \u001b[31m×\u001b[0m could not find pixi.toml or pyproject.toml which is configured to use pixi\n",
      "\n"
     ]
    }
   ],
   "source": [
    "import pickle\n",
    "\n",
    "!mkdir -p /mnt/shared/jmp-distributions-all-11-4\n",
    "with open(\"/mnt/shared/jmp-distributions-all-11-4/ase_atoms_list.pkl\", \"wb\") as f:\n",
    "    pickle.dump(stats, f)"
   ]
  }
 ],
 "metadata": {
  "kernelspec": {
   "display_name": "jmp-peft",
   "language": "python",
   "name": "python3"
  },
  "language_info": {
   "codemirror_mode": {
    "name": "ipython",
    "version": 3
   },
   "file_extension": ".py",
   "mimetype": "text/x-python",
   "name": "python",
   "nbconvert_exporter": "python",
   "pygments_lexer": "ipython3",
   "version": "3.11.6"
  }
 },
 "nbformat": 4,
 "nbformat_minor": 2
}
