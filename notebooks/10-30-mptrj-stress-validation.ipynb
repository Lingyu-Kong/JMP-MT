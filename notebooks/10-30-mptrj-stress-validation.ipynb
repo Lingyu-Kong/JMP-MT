{
 "cells": [
  {
   "cell_type": "code",
   "execution_count": 11,
   "metadata": {},
   "outputs": [
    {
     "name": "stderr",
     "output_type": "stream",
     "text": [
      "Reading ASE Atoms from zip_filename='/root/.cache/matbench-discovery/mp/2024-09-03-mp-trj.extxyz.zip':   5%|▍         | 7264/145923 [00:15<05:04, 455.94it/s]\n"
     ]
    },
    {
     "ename": "KeyboardInterrupt",
     "evalue": "",
     "output_type": "error",
     "traceback": [
      "\u001b[0;31m---------------------------------------------------------------------------\u001b[0m",
      "\u001b[0;31mKeyboardInterrupt\u001b[0m                         Traceback (most recent call last)",
      "Cell \u001b[0;32mIn[11], line 5\u001b[0m\n\u001b[1;32m      1\u001b[0m \u001b[38;5;28;01mfrom\u001b[39;00m \u001b[38;5;21;01m__future__\u001b[39;00m \u001b[38;5;28;01mimport\u001b[39;00m annotations\n\u001b[1;32m      3\u001b[0m \u001b[38;5;28;01mfrom\u001b[39;00m \u001b[38;5;21;01mmatbench_discovery\u001b[39;00m\u001b[38;5;21;01m.\u001b[39;00m\u001b[38;5;21;01mdata\u001b[39;00m \u001b[38;5;28;01mimport\u001b[39;00m DataFiles, ase_atoms_from_zip\n\u001b[0;32m----> 5\u001b[0m ase_atoms \u001b[38;5;241m=\u001b[39m \u001b[43mase_atoms_from_zip\u001b[49m\u001b[43m(\u001b[49m\u001b[43mDataFiles\u001b[49m\u001b[38;5;241;43m.\u001b[39;49m\u001b[43mmp_trj_extxyz\u001b[49m\u001b[38;5;241;43m.\u001b[39;49m\u001b[43mpath\u001b[49m\u001b[43m)\u001b[49m\n\u001b[1;32m      6\u001b[0m \u001b[38;5;28mlen\u001b[39m(ase_atoms)\n",
      "File \u001b[0;32m/opt/conda/envs/jmp-peft/lib/python3.11/site-packages/matbench_discovery/data.py:113\u001b[0m, in \u001b[0;36mase_atoms_from_zip\u001b[0;34m(zip_filename, file_filter, filename_to_info, limit)\u001b[0m\n\u001b[1;32m    111\u001b[0m \u001b[38;5;28;01mwith\u001b[39;00m zip_file\u001b[38;5;241m.\u001b[39mopen(filename) \u001b[38;5;28;01mas\u001b[39;00m file:\n\u001b[1;32m    112\u001b[0m     content \u001b[38;5;241m=\u001b[39m io\u001b[38;5;241m.\u001b[39mTextIOWrapper(file, encoding\u001b[38;5;241m=\u001b[39m\u001b[38;5;124m\"\u001b[39m\u001b[38;5;124mutf-8\u001b[39m\u001b[38;5;124m\"\u001b[39m)\u001b[38;5;241m.\u001b[39mread()\n\u001b[0;32m--> 113\u001b[0m     atoms \u001b[38;5;241m=\u001b[39m \u001b[43mase\u001b[49m\u001b[38;5;241;43m.\u001b[39;49m\u001b[43mio\u001b[49m\u001b[38;5;241;43m.\u001b[39;49m\u001b[43mread\u001b[49m\u001b[43m(\u001b[49m\n\u001b[1;32m    114\u001b[0m \u001b[43m        \u001b[49m\u001b[43mio\u001b[49m\u001b[38;5;241;43m.\u001b[39;49m\u001b[43mStringIO\u001b[49m\u001b[43m(\u001b[49m\u001b[43mcontent\u001b[49m\u001b[43m)\u001b[49m\u001b[43m,\u001b[49m\u001b[43m \u001b[49m\u001b[38;5;28;43mformat\u001b[39;49m\u001b[38;5;241;43m=\u001b[39;49m\u001b[38;5;124;43m\"\u001b[39;49m\u001b[38;5;124;43mextxyz\u001b[39;49m\u001b[38;5;124;43m\"\u001b[39;49m\u001b[43m,\u001b[49m\u001b[43m \u001b[49m\u001b[43mindex\u001b[49m\u001b[38;5;241;43m=\u001b[39;49m\u001b[38;5;28;43mslice\u001b[39;49m\u001b[43m(\u001b[49m\u001b[38;5;28;43;01mNone\u001b[39;49;00m\u001b[43m)\u001b[49m\n\u001b[1;32m    115\u001b[0m \u001b[43m    \u001b[49m\u001b[43m)\u001b[49m  \u001b[38;5;66;03m# reads multiple Atoms objects as frames if file contains trajectory\u001b[39;00m\n\u001b[1;32m    116\u001b[0m     \u001b[38;5;28;01mif\u001b[39;00m \u001b[38;5;28misinstance\u001b[39m(atoms, Atoms):\n\u001b[1;32m    117\u001b[0m         atoms \u001b[38;5;241m=\u001b[39m [atoms]  \u001b[38;5;66;03m# Wrap single Atoms object in a list\u001b[39;00m\n",
      "File \u001b[0;32m/opt/conda/envs/jmp-peft/lib/python3.11/site-packages/ase/io/formats.py:797\u001b[0m, in \u001b[0;36mread\u001b[0;34m(filename, index, format, parallel, do_not_split_by_at_sign, **kwargs)\u001b[0m\n\u001b[1;32m    795\u001b[0m io \u001b[38;5;241m=\u001b[39m get_ioformat(\u001b[38;5;28mformat\u001b[39m)\n\u001b[1;32m    796\u001b[0m \u001b[38;5;28;01mif\u001b[39;00m \u001b[38;5;28misinstance\u001b[39m(index, (\u001b[38;5;28mslice\u001b[39m, \u001b[38;5;28mstr\u001b[39m)):\n\u001b[0;32m--> 797\u001b[0m     \u001b[38;5;28;01mreturn\u001b[39;00m \u001b[38;5;28mlist\u001b[39m(_iread(filename, index, \u001b[38;5;28mformat\u001b[39m, io, parallel\u001b[38;5;241m=\u001b[39mparallel,\n\u001b[1;32m    798\u001b[0m                        \u001b[38;5;241m*\u001b[39m\u001b[38;5;241m*\u001b[39mkwargs))\n\u001b[1;32m    799\u001b[0m \u001b[38;5;28;01melse\u001b[39;00m:\n\u001b[1;32m    800\u001b[0m     \u001b[38;5;28;01mreturn\u001b[39;00m \u001b[38;5;28mnext\u001b[39m(_iread(filename, \u001b[38;5;28mslice\u001b[39m(index, \u001b[38;5;28;01mNone\u001b[39;00m), \u001b[38;5;28mformat\u001b[39m, io,\n\u001b[1;32m    801\u001b[0m                        parallel\u001b[38;5;241m=\u001b[39mparallel, \u001b[38;5;241m*\u001b[39m\u001b[38;5;241m*\u001b[39mkwargs))\n",
      "File \u001b[0;32m/opt/conda/envs/jmp-peft/lib/python3.11/site-packages/ase/parallel.py:302\u001b[0m, in \u001b[0;36mparallel_generator.<locals>.new_generator\u001b[0;34m(*args, **kwargs)\u001b[0m\n\u001b[1;32m    296\u001b[0m \u001b[38;5;129m@functools\u001b[39m\u001b[38;5;241m.\u001b[39mwraps(generator)\n\u001b[1;32m    297\u001b[0m \u001b[38;5;28;01mdef\u001b[39;00m \u001b[38;5;21mnew_generator\u001b[39m(\u001b[38;5;241m*\u001b[39margs, \u001b[38;5;241m*\u001b[39m\u001b[38;5;241m*\u001b[39mkwargs):\n\u001b[1;32m    298\u001b[0m     \u001b[38;5;28;01mif\u001b[39;00m (world\u001b[38;5;241m.\u001b[39msize \u001b[38;5;241m==\u001b[39m \u001b[38;5;241m1\u001b[39m \u001b[38;5;129;01mor\u001b[39;00m\n\u001b[1;32m    299\u001b[0m         args \u001b[38;5;129;01mand\u001b[39;00m \u001b[38;5;28mgetattr\u001b[39m(args[\u001b[38;5;241m0\u001b[39m], \u001b[38;5;124m'\u001b[39m\u001b[38;5;124mserial\u001b[39m\u001b[38;5;124m'\u001b[39m, \u001b[38;5;28;01mFalse\u001b[39;00m) \u001b[38;5;129;01mor\u001b[39;00m\n\u001b[1;32m    300\u001b[0m             \u001b[38;5;129;01mnot\u001b[39;00m kwargs\u001b[38;5;241m.\u001b[39mpop(\u001b[38;5;124m'\u001b[39m\u001b[38;5;124mparallel\u001b[39m\u001b[38;5;124m'\u001b[39m, \u001b[38;5;28;01mTrue\u001b[39;00m)):\n\u001b[1;32m    301\u001b[0m         \u001b[38;5;66;03m# Disable:\u001b[39;00m\n\u001b[0;32m--> 302\u001b[0m \u001b[43m        \u001b[49m\u001b[38;5;28;43;01mfor\u001b[39;49;00m\u001b[43m \u001b[49m\u001b[43mresult\u001b[49m\u001b[43m \u001b[49m\u001b[38;5;129;43;01min\u001b[39;49;00m\u001b[43m \u001b[49m\u001b[43mgenerator\u001b[49m\u001b[43m(\u001b[49m\u001b[38;5;241;43m*\u001b[39;49m\u001b[43margs\u001b[49m\u001b[43m,\u001b[49m\u001b[43m \u001b[49m\u001b[38;5;241;43m*\u001b[39;49m\u001b[38;5;241;43m*\u001b[39;49m\u001b[43mkwargs\u001b[49m\u001b[43m)\u001b[49m\u001b[43m:\u001b[49m\n\u001b[1;32m    303\u001b[0m \u001b[43m            \u001b[49m\u001b[38;5;28;43;01myield\u001b[39;49;00m\u001b[43m \u001b[49m\u001b[43mresult\u001b[49m\n\u001b[1;32m    304\u001b[0m         \u001b[38;5;28;01mreturn\u001b[39;00m\n",
      "File \u001b[0;32m/opt/conda/envs/jmp-peft/lib/python3.11/site-packages/ase/io/formats.py:866\u001b[0m, in \u001b[0;36m_iread\u001b[0;34m(filename, index, format, io, parallel, full_output, **kwargs)\u001b[0m\n\u001b[1;32m    864\u001b[0m \u001b[38;5;66;03m# Make sure fd is closed in case loop doesn't finish:\u001b[39;00m\n\u001b[1;32m    865\u001b[0m \u001b[38;5;28;01mtry\u001b[39;00m:\n\u001b[0;32m--> 866\u001b[0m \u001b[43m    \u001b[49m\u001b[38;5;28;43;01mfor\u001b[39;49;00m\u001b[43m \u001b[49m\u001b[43mdct\u001b[49m\u001b[43m \u001b[49m\u001b[38;5;129;43;01min\u001b[39;49;00m\u001b[43m \u001b[49m\u001b[43mio\u001b[49m\u001b[38;5;241;43m.\u001b[39;49m\u001b[43mread\u001b[49m\u001b[43m(\u001b[49m\u001b[43mfd\u001b[49m\u001b[43m,\u001b[49m\u001b[43m \u001b[49m\u001b[38;5;241;43m*\u001b[39;49m\u001b[43margs\u001b[49m\u001b[43m,\u001b[49m\u001b[43m \u001b[49m\u001b[38;5;241;43m*\u001b[39;49m\u001b[38;5;241;43m*\u001b[39;49m\u001b[43mkwargs\u001b[49m\u001b[43m)\u001b[49m\u001b[43m:\u001b[49m\n\u001b[1;32m    867\u001b[0m \u001b[43m        \u001b[49m\u001b[38;5;28;43;01mif\u001b[39;49;00m\u001b[43m \u001b[49m\u001b[38;5;129;43;01mnot\u001b[39;49;00m\u001b[43m \u001b[49m\u001b[38;5;28;43misinstance\u001b[39;49m\u001b[43m(\u001b[49m\u001b[43mdct\u001b[49m\u001b[43m,\u001b[49m\u001b[43m \u001b[49m\u001b[38;5;28;43mdict\u001b[39;49m\u001b[43m)\u001b[49m\u001b[43m:\u001b[49m\n\u001b[1;32m    868\u001b[0m \u001b[43m            \u001b[49m\u001b[43mdct\u001b[49m\u001b[43m \u001b[49m\u001b[38;5;241;43m=\u001b[39;49m\u001b[43m \u001b[49m\u001b[43m{\u001b[49m\u001b[38;5;124;43m'\u001b[39;49m\u001b[38;5;124;43matoms\u001b[39;49m\u001b[38;5;124;43m'\u001b[39;49m\u001b[43m:\u001b[49m\u001b[43m \u001b[49m\u001b[43mdct\u001b[49m\u001b[43m}\u001b[49m\n",
      "File \u001b[0;32m/opt/conda/envs/jmp-peft/lib/python3.11/site-packages/ase/io/formats.py:624\u001b[0m, in \u001b[0;36mwrap_read_function\u001b[0;34m(read, filename, index, **kwargs)\u001b[0m\n\u001b[1;32m    622\u001b[0m     \u001b[38;5;28;01myield\u001b[39;00m read(filename, \u001b[38;5;241m*\u001b[39m\u001b[38;5;241m*\u001b[39mkwargs)\n\u001b[1;32m    623\u001b[0m \u001b[38;5;28;01melse\u001b[39;00m:\n\u001b[0;32m--> 624\u001b[0m     \u001b[38;5;28;01myield from\u001b[39;00m read(filename, index, \u001b[38;5;241m*\u001b[39m\u001b[38;5;241m*\u001b[39mkwargs)\n",
      "File \u001b[0;32m/opt/conda/envs/jmp-peft/lib/python3.11/site-packages/ase/io/extxyz.py:726\u001b[0m, in \u001b[0;36mread_xyz\u001b[0;34m(fileobj, index, properties_parser)\u001b[0m\n\u001b[1;32m    724\u001b[0m \u001b[38;5;66;03m# check for consistency with frame index table\u001b[39;00m\n\u001b[1;32m    725\u001b[0m \u001b[38;5;28;01massert\u001b[39;00m \u001b[38;5;28mint\u001b[39m(fileobj\u001b[38;5;241m.\u001b[39mreadline()) \u001b[38;5;241m==\u001b[39m natoms\n\u001b[0;32m--> 726\u001b[0m \u001b[38;5;28;01myield\u001b[39;00m \u001b[43m_read_xyz_frame\u001b[49m\u001b[43m(\u001b[49m\u001b[43mfileobj\u001b[49m\u001b[43m,\u001b[49m\u001b[43m \u001b[49m\u001b[43mnatoms\u001b[49m\u001b[43m,\u001b[49m\u001b[43m \u001b[49m\u001b[43mproperties_parser\u001b[49m\u001b[43m,\u001b[49m\u001b[43m \u001b[49m\u001b[43mnvec\u001b[49m\u001b[43m)\u001b[49m\n",
      "File \u001b[0;32m/opt/conda/envs/jmp-peft/lib/python3.11/site-packages/ase/io/extxyz.py:424\u001b[0m, in \u001b[0;36m_read_xyz_frame\u001b[0;34m(lines, natoms, properties_parser, nvec)\u001b[0m\n\u001b[1;32m    421\u001b[0m         \u001b[38;5;28;01mraise\u001b[39;00m XYZError(\u001b[38;5;124m'\u001b[39m\u001b[38;5;124mase.io.extxyz: Frame has \u001b[39m\u001b[38;5;132;01m{}\u001b[39;00m\u001b[38;5;124m atoms, expected \u001b[39m\u001b[38;5;132;01m{}\u001b[39;00m\u001b[38;5;124m'\u001b[39m\n\u001b[1;32m    422\u001b[0m                        \u001b[38;5;241m.\u001b[39mformat(\u001b[38;5;28mlen\u001b[39m(data), natoms))\n\u001b[1;32m    423\u001b[0m     vals \u001b[38;5;241m=\u001b[39m line\u001b[38;5;241m.\u001b[39msplit()\n\u001b[0;32m--> 424\u001b[0m     row \u001b[38;5;241m=\u001b[39m \u001b[38;5;28mtuple\u001b[39m(conv(val) \u001b[38;5;28;01mfor\u001b[39;00m conv, val \u001b[38;5;129;01min\u001b[39;00m \u001b[38;5;28mzip\u001b[39m(convs, vals))\n\u001b[1;32m    425\u001b[0m     data\u001b[38;5;241m.\u001b[39mappend(row)\n\u001b[1;32m    427\u001b[0m \u001b[38;5;28;01mtry\u001b[39;00m:\n",
      "File \u001b[0;32m/opt/conda/envs/jmp-peft/lib/python3.11/site-packages/ase/io/extxyz.py:424\u001b[0m, in \u001b[0;36m<genexpr>\u001b[0;34m(.0)\u001b[0m\n\u001b[1;32m    421\u001b[0m         \u001b[38;5;28;01mraise\u001b[39;00m XYZError(\u001b[38;5;124m'\u001b[39m\u001b[38;5;124mase.io.extxyz: Frame has \u001b[39m\u001b[38;5;132;01m{}\u001b[39;00m\u001b[38;5;124m atoms, expected \u001b[39m\u001b[38;5;132;01m{}\u001b[39;00m\u001b[38;5;124m'\u001b[39m\n\u001b[1;32m    422\u001b[0m                        \u001b[38;5;241m.\u001b[39mformat(\u001b[38;5;28mlen\u001b[39m(data), natoms))\n\u001b[1;32m    423\u001b[0m     vals \u001b[38;5;241m=\u001b[39m line\u001b[38;5;241m.\u001b[39msplit()\n\u001b[0;32m--> 424\u001b[0m     row \u001b[38;5;241m=\u001b[39m \u001b[38;5;28mtuple\u001b[39m(\u001b[43mconv\u001b[49m\u001b[43m(\u001b[49m\u001b[43mval\u001b[49m\u001b[43m)\u001b[49m \u001b[38;5;28;01mfor\u001b[39;00m conv, val \u001b[38;5;129;01min\u001b[39;00m \u001b[38;5;28mzip\u001b[39m(convs, vals))\n\u001b[1;32m    425\u001b[0m     data\u001b[38;5;241m.\u001b[39mappend(row)\n\u001b[1;32m    427\u001b[0m \u001b[38;5;28;01mtry\u001b[39;00m:\n",
      "\u001b[0;31mKeyboardInterrupt\u001b[0m: "
     ]
    }
   ],
   "source": [
    "from __future__ import annotations\n",
    "\n",
    "from matbench_discovery.data import DataFiles, ase_atoms_from_zip\n",
    "\n",
    "ase_atoms = ase_atoms_from_zip(DataFiles.mp_trj_extxyz.path)\n",
    "len(ase_atoms)"
   ]
  },
  {
   "cell_type": "code",
   "execution_count": null,
   "metadata": {},
   "outputs": [
    {
     "data": {
      "text/plain": [
       "array([ 0.00263887,  0.0008488 , -0.00119941, -0.        , -0.        ,\n",
       "       -0.        ])"
      ]
     },
     "execution_count": 10,
     "metadata": {},
     "output_type": "execute_result"
    }
   ],
   "source": [
    "ase_atoms[0].get_stress()"
   ]
  },
  {
   "cell_type": "code",
   "execution_count": 12,
   "metadata": {},
   "outputs": [
    {
     "data": {
      "text/html": [
       "<div>\n",
       "<style scoped>\n",
       "    .dataframe tbody tr th:only-of-type {\n",
       "        vertical-align: middle;\n",
       "    }\n",
       "\n",
       "    .dataframe tbody tr th {\n",
       "        vertical-align: top;\n",
       "    }\n",
       "\n",
       "    .dataframe thead th {\n",
       "        text-align: right;\n",
       "    }\n",
       "</style>\n",
       "<table border=\"1\" class=\"dataframe\">\n",
       "  <thead>\n",
       "    <tr style=\"text-align: right;\">\n",
       "      <th></th>\n",
       "      <th>structure_id</th>\n",
       "      <th>positions</th>\n",
       "      <th>cell</th>\n",
       "      <th>atomic_numbers</th>\n",
       "      <th>energy</th>\n",
       "      <th>y</th>\n",
       "      <th>stress</th>\n",
       "      <th>forces</th>\n",
       "    </tr>\n",
       "  </thead>\n",
       "  <tbody>\n",
       "    <tr>\n",
       "      <th>0</th>\n",
       "      <td>mp-770503-0-2</td>\n",
       "      <td>[[-7.122789774563877, -5.048264316828707, -4.9...</td>\n",
       "      <td>[[-7.8013173, -4.50105389, 0.00836265000000000...</td>\n",
       "      <td>[3, 3, 3, 3, 3, 3, 3, 3, 3, 3, 3, 3, 3, 3, 3, ...</td>\n",
       "      <td>-585.579917</td>\n",
       "      <td>-585.579917</td>\n",
       "      <td>[[[0.000167021485974, -0.00013598156231400002,...</td>\n",
       "      <td>[[0.05488963, 0.040321130000000004, 0.00015947...</td>\n",
       "    </tr>\n",
       "    <tr>\n",
       "      <th>1</th>\n",
       "      <td>mp-770503-1-0</td>\n",
       "      <td>[[-7.092490665893987, -5.033007204845125, -4.9...</td>\n",
       "      <td>[[-7.7606371, -4.47912837, -0.00198596], [-2.5...</td>\n",
       "      <td>[3, 3, 3, 3, 3, 3, 3, 3, 3, 3, 3, 3, 3, 3, 3, ...</td>\n",
       "      <td>-585.295617</td>\n",
       "      <td>-585.295617</td>\n",
       "      <td>[[[-0.011510691830462001, -0.000249249998293, ...</td>\n",
       "      <td>[[0.0636803, 0.02808716, 0.017273610000000002]...</td>\n",
       "    </tr>\n",
       "    <tr>\n",
       "      <th>2</th>\n",
       "      <td>mp-770503-1-2</td>\n",
       "      <td>[[-7.112740627570031, -5.0442725147542, -4.975...</td>\n",
       "      <td>[[-7.7858518199999995, -4.49279932, 0.00289702...</td>\n",
       "      <td>[3, 3, 3, 3, 3, 3, 3, 3, 3, 3, 3, 3, 3, 3, 3, ...</td>\n",
       "      <td>-585.474111</td>\n",
       "      <td>-585.474111</td>\n",
       "      <td>[[[-0.004551843114748, -0.000487820574743, 0.0...</td>\n",
       "      <td>[[0.05757644, 0.04383206, 0.00396587], [-0.082...</td>\n",
       "    </tr>\n",
       "    <tr>\n",
       "      <th>3</th>\n",
       "      <td>mp-770840-0-2</td>\n",
       "      <td>[[1.473155175, 0.9019634041674981, 0.658619789...</td>\n",
       "      <td>[[2.94631035, -5.19398904, -0.1357224], [2.946...</td>\n",
       "      <td>[3, 3, 23, 23, 31, 31, 8, 8, 8, 8, 8, 8, 8, 8]</td>\n",
       "      <td>-91.977830</td>\n",
       "      <td>-91.977830</td>\n",
       "      <td>[[[-0.005387615171721, -0.0, -0.0], [-0.0, -0....</td>\n",
       "      <td>[[0.0, 0.08051365, 0.05879162], [0.0, -0.08051...</td>\n",
       "    </tr>\n",
       "    <tr>\n",
       "      <th>4</th>\n",
       "      <td>mp-770840-1-0</td>\n",
       "      <td>[[1.441250665, 0.876922092454337, 0.6403344543...</td>\n",
       "      <td>[[2.88250133, -5.17889585, -0.0928662300000000...</td>\n",
       "      <td>[3, 3, 23, 23, 31, 31, 8, 8, 8, 8, 8, 8, 8, 8]</td>\n",
       "      <td>-91.857566</td>\n",
       "      <td>-91.857566</td>\n",
       "      <td>[[[-0.042385308640998, -0.0, -0.0], [-0.0, -0....</td>\n",
       "      <td>[[0.0, 0.08401638, 0.06134933], [0.0, -0.08401...</td>\n",
       "    </tr>\n",
       "    <tr>\n",
       "      <th>...</th>\n",
       "      <td>...</td>\n",
       "      <td>...</td>\n",
       "      <td>...</td>\n",
       "      <td>...</td>\n",
       "      <td>...</td>\n",
       "      <td>...</td>\n",
       "      <td>...</td>\n",
       "      <td>...</td>\n",
       "    </tr>\n",
       "    <tr>\n",
       "      <th>187682</th>\n",
       "      <td>mvc-3920-1-0</td>\n",
       "      <td>[[3.749999866187181e-09, 6.453198907499999, -2...</td>\n",
       "      <td>[[9.93534927, 0.0, -3.51267677], [-4.96767463,...</td>\n",
       "      <td>[20, 20, 20, 20, 20, 20, 20, 20, 20, 20, 20, 2...</td>\n",
       "      <td>-566.215143</td>\n",
       "      <td>-566.215143</td>\n",
       "      <td>[[[0.0047802886901290005, -0.0, -1.62279237272...</td>\n",
       "      <td>[[0.0, 0.0, 0.0], [0.0, 0.0, 0.0], [0.0, 0.0, ...</td>\n",
       "    </tr>\n",
       "    <tr>\n",
       "      <th>187683</th>\n",
       "      <td>mvc-3920-1-1</td>\n",
       "      <td>[[0.0, 6.4364407425, -2.62766620875], [0.0, 2....</td>\n",
       "      <td>[[9.90954838, 0.0, -3.50355478], [-4.95477419,...</td>\n",
       "      <td>[20, 20, 20, 20, 20, 20, 20, 20, 20, 20, 20, 2...</td>\n",
       "      <td>-566.239913</td>\n",
       "      <td>-566.239913</td>\n",
       "      <td>[[[-0.005338404198988, -0.0, 1.747622555247312...</td>\n",
       "      <td>[[0.0, 0.0, 0.0], [0.0, 0.0, 0.0], [0.0, 0.0, ...</td>\n",
       "    </tr>\n",
       "    <tr>\n",
       "      <th>187684</th>\n",
       "      <td>mp-1186-0-1</td>\n",
       "      <td>[[1.8454599717879332, 1.065476792678565, 5.154...</td>\n",
       "      <td>[[3.69091991, 0.0, 0.0], [-1.84545996, 3.19643...</td>\n",
       "      <td>[16, 16, 40]</td>\n",
       "      <td>-21.359857</td>\n",
       "      <td>-21.359857</td>\n",
       "      <td>[[[-2.3152054223259324e-05, -0.0, -0.0], [-0.0...</td>\n",
       "      <td>[[0.0, 0.0, -9.375e-05], [0.0, 0.0, 9.375e-05]...</td>\n",
       "    </tr>\n",
       "    <tr>\n",
       "      <th>187685</th>\n",
       "      <td>mp-1186-1-0</td>\n",
       "      <td>[[1.8400000184, 1.0623244860434211, 4.38749999...</td>\n",
       "      <td>[[3.68, 0.0, 0.0], [-1.8399999999999999, 3.186...</td>\n",
       "      <td>[16, 16, 40]</td>\n",
       "      <td>-21.322418</td>\n",
       "      <td>-21.322418</td>\n",
       "      <td>[[[-0.002906930702605, -0.0, -0.0], [-0.0, -0....</td>\n",
       "      <td>[[0.0, 0.0, 0.09422701], [0.0, 0.0, -0.0942270...</td>\n",
       "    </tr>\n",
       "    <tr>\n",
       "      <th>187686</th>\n",
       "      <td>mp-1186-1-8</td>\n",
       "      <td>[[1.838724908387249, 1.061588299384116, 5.0756...</td>\n",
       "      <td>[[3.67744978, 0.0, 0.0], [-1.83872489, 3.18476...</td>\n",
       "      <td>[16, 16, 40]</td>\n",
       "      <td>-21.355411</td>\n",
       "      <td>-21.355411</td>\n",
       "      <td>[[[-0.004521541262025, -0.0, -0.0], [-0.0, -0....</td>\n",
       "      <td>[[0.0, 0.0, -0.05629617], [0.0, 0.0, 0.0562961...</td>\n",
       "    </tr>\n",
       "  </tbody>\n",
       "</table>\n",
       "<p>187687 rows × 8 columns</p>\n",
       "</div>"
      ],
      "text/plain": [
       "         structure_id                                          positions  \\\n",
       "0       mp-770503-0-2  [[-7.122789774563877, -5.048264316828707, -4.9...   \n",
       "1       mp-770503-1-0  [[-7.092490665893987, -5.033007204845125, -4.9...   \n",
       "2       mp-770503-1-2  [[-7.112740627570031, -5.0442725147542, -4.975...   \n",
       "3       mp-770840-0-2  [[1.473155175, 0.9019634041674981, 0.658619789...   \n",
       "4       mp-770840-1-0  [[1.441250665, 0.876922092454337, 0.6403344543...   \n",
       "...               ...                                                ...   \n",
       "187682   mvc-3920-1-0  [[3.749999866187181e-09, 6.453198907499999, -2...   \n",
       "187683   mvc-3920-1-1  [[0.0, 6.4364407425, -2.62766620875], [0.0, 2....   \n",
       "187684    mp-1186-0-1  [[1.8454599717879332, 1.065476792678565, 5.154...   \n",
       "187685    mp-1186-1-0  [[1.8400000184, 1.0623244860434211, 4.38749999...   \n",
       "187686    mp-1186-1-8  [[1.838724908387249, 1.061588299384116, 5.0756...   \n",
       "\n",
       "                                                     cell  \\\n",
       "0       [[-7.8013173, -4.50105389, 0.00836265000000000...   \n",
       "1       [[-7.7606371, -4.47912837, -0.00198596], [-2.5...   \n",
       "2       [[-7.7858518199999995, -4.49279932, 0.00289702...   \n",
       "3       [[2.94631035, -5.19398904, -0.1357224], [2.946...   \n",
       "4       [[2.88250133, -5.17889585, -0.0928662300000000...   \n",
       "...                                                   ...   \n",
       "187682  [[9.93534927, 0.0, -3.51267677], [-4.96767463,...   \n",
       "187683  [[9.90954838, 0.0, -3.50355478], [-4.95477419,...   \n",
       "187684  [[3.69091991, 0.0, 0.0], [-1.84545996, 3.19643...   \n",
       "187685  [[3.68, 0.0, 0.0], [-1.8399999999999999, 3.186...   \n",
       "187686  [[3.67744978, 0.0, 0.0], [-1.83872489, 3.18476...   \n",
       "\n",
       "                                           atomic_numbers      energy  \\\n",
       "0       [3, 3, 3, 3, 3, 3, 3, 3, 3, 3, 3, 3, 3, 3, 3, ... -585.579917   \n",
       "1       [3, 3, 3, 3, 3, 3, 3, 3, 3, 3, 3, 3, 3, 3, 3, ... -585.295617   \n",
       "2       [3, 3, 3, 3, 3, 3, 3, 3, 3, 3, 3, 3, 3, 3, 3, ... -585.474111   \n",
       "3          [3, 3, 23, 23, 31, 31, 8, 8, 8, 8, 8, 8, 8, 8]  -91.977830   \n",
       "4          [3, 3, 23, 23, 31, 31, 8, 8, 8, 8, 8, 8, 8, 8]  -91.857566   \n",
       "...                                                   ...         ...   \n",
       "187682  [20, 20, 20, 20, 20, 20, 20, 20, 20, 20, 20, 2... -566.215143   \n",
       "187683  [20, 20, 20, 20, 20, 20, 20, 20, 20, 20, 20, 2... -566.239913   \n",
       "187684                                       [16, 16, 40]  -21.359857   \n",
       "187685                                       [16, 16, 40]  -21.322418   \n",
       "187686                                       [16, 16, 40]  -21.355411   \n",
       "\n",
       "                 y                                             stress  \\\n",
       "0      -585.579917  [[[0.000167021485974, -0.00013598156231400002,...   \n",
       "1      -585.295617  [[[-0.011510691830462001, -0.000249249998293, ...   \n",
       "2      -585.474111  [[[-0.004551843114748, -0.000487820574743, 0.0...   \n",
       "3       -91.977830  [[[-0.005387615171721, -0.0, -0.0], [-0.0, -0....   \n",
       "4       -91.857566  [[[-0.042385308640998, -0.0, -0.0], [-0.0, -0....   \n",
       "...            ...                                                ...   \n",
       "187682 -566.215143  [[[0.0047802886901290005, -0.0, -1.62279237272...   \n",
       "187683 -566.239913  [[[-0.005338404198988, -0.0, 1.747622555247312...   \n",
       "187684  -21.359857  [[[-2.3152054223259324e-05, -0.0, -0.0], [-0.0...   \n",
       "187685  -21.322418  [[[-0.002906930702605, -0.0, -0.0], [-0.0, -0....   \n",
       "187686  -21.355411  [[[-0.004521541262025, -0.0, -0.0], [-0.0, -0....   \n",
       "\n",
       "                                                   forces  \n",
       "0       [[0.05488963, 0.040321130000000004, 0.00015947...  \n",
       "1       [[0.0636803, 0.02808716, 0.017273610000000002]...  \n",
       "2       [[0.05757644, 0.04383206, 0.00396587], [-0.082...  \n",
       "3       [[0.0, 0.08051365, 0.05879162], [0.0, -0.08051...  \n",
       "4       [[0.0, 0.08401638, 0.06134933], [0.0, -0.08401...  \n",
       "...                                                   ...  \n",
       "187682  [[0.0, 0.0, 0.0], [0.0, 0.0, 0.0], [0.0, 0.0, ...  \n",
       "187683  [[0.0, 0.0, 0.0], [0.0, 0.0, 0.0], [0.0, 0.0, ...  \n",
       "187684  [[0.0, 0.0, -9.375e-05], [0.0, 0.0, 9.375e-05]...  \n",
       "187685  [[0.0, 0.0, 0.09422701], [0.0, 0.0, -0.0942270...  \n",
       "187686  [[0.0, 0.0, -0.05629617], [0.0, 0.0, 0.0562961...  \n",
       "\n",
       "[187687 rows x 8 columns]"
      ]
     },
     "execution_count": 12,
     "metadata": {},
     "output_type": "execute_result"
    }
   ],
   "source": [
    "import pandas as pd\n",
    "\n",
    "df = pd.read_json(\"/mnt/datasets/matbench-discovery-traj/megnet-133k.json\")\n",
    "df"
   ]
  },
  {
   "cell_type": "code",
   "execution_count": 22,
   "metadata": {},
   "outputs": [
    {
     "name": "stdout",
     "output_type": "stream",
     "text": [
      "187687 187687\n"
     ]
    }
   ],
   "source": [
    "structure_ids = set(df[\"structure_id\"])\n",
    "print(len(structure_ids), len(df))"
   ]
  },
  {
   "cell_type": "code",
   "execution_count": null,
   "metadata": {},
   "outputs": [
    {
     "name": "stdout",
     "output_type": "stream",
     "text": [
      "found mvc-10108-0-2\n"
     ]
    }
   ],
   "source": [
    "for atoms in ase_atoms:\n",
    "    if atoms.info[\"frame_id\"] in structure_ids:\n",
    "        print(\"found\", atoms.info[\"frame_id\"])\n",
    "        break"
   ]
  },
  {
   "cell_type": "code",
   "execution_count": null,
   "metadata": {},
   "outputs": [
    {
     "data": {
      "text/html": [
       "<pre style=\"white-space:pre;overflow-x:auto;line-height:normal;font-family:Menlo,'DejaVu Sans Mono',consolas,'Courier New',monospace\"><span style=\"color: #800080; text-decoration-color: #800080; font-weight: bold\">Atoms</span><span style=\"font-weight: bold\">(</span><span style=\"color: #808000; text-decoration-color: #808000\">symbols</span>=<span style=\"color: #008000; text-decoration-color: #008000\">'Mo8P8O36'</span>, <span style=\"color: #808000; text-decoration-color: #808000\">pbc</span>=<span style=\"color: #00ff00; text-decoration-color: #00ff00; font-style: italic\">True</span>, <span style=\"color: #808000; text-decoration-color: #808000\">cell</span>=<span style=\"font-weight: bold\">[[</span><span style=\"color: #008080; text-decoration-color: #008080; font-weight: bold\">6.54698741</span>, <span style=\"color: #008080; text-decoration-color: #008080; font-weight: bold\">-4.56e-06</span>, <span style=\"color: #008080; text-decoration-color: #008080; font-weight: bold\">2.967e-05</span><span style=\"font-weight: bold\">]</span>, <span style=\"font-weight: bold\">[</span><span style=\"color: #008080; text-decoration-color: #008080; font-weight: bold\">-1.11e-06</span>, <span style=\"color: #008080; text-decoration-color: #008080; font-weight: bold\">7.9678114</span>, <span style=\"color: #008080; text-decoration-color: #008080; font-weight: bold\">-0.00100587</span><span style=\"font-weight: bold\">]</span>, \n",
       "<span style=\"font-weight: bold\">[</span><span style=\"color: #008080; text-decoration-color: #008080; font-weight: bold\">-9.87e-06</span>, <span style=\"color: #008080; text-decoration-color: #008080; font-weight: bold\">-0.00201687</span>, <span style=\"color: #008080; text-decoration-color: #008080; font-weight: bold\">14.51581708</span><span style=\"font-weight: bold\">]]</span>, <span style=\"color: #808000; text-decoration-color: #808000\">calculator</span>=<span style=\"color: #800080; text-decoration-color: #800080; font-weight: bold\">SinglePointCalculator</span><span style=\"font-weight: bold\">(</span><span style=\"color: #808000; text-decoration-color: #808000\">...</span><span style=\"font-weight: bold\">))</span>\n",
       "<span style=\"font-weight: bold\">{</span>\n",
       "    <span style=\"color: #008000; text-decoration-color: #008000\">'material_id'</span>: <span style=\"color: #008000; text-decoration-color: #008000\">'mp-1040930'</span>,\n",
       "    <span style=\"color: #008000; text-decoration-color: #008000\">'formula'</span>: <span style=\"color: #008000; text-decoration-color: #008000\">'Mo8 P8 O36'</span>,\n",
       "    <span style=\"color: #008000; text-decoration-color: #008000\">'task_id'</span>: <span style=\"color: #008000; text-decoration-color: #008000\">'mvc-10108'</span>,\n",
       "    <span style=\"color: #008000; text-decoration-color: #008000\">'calc_id'</span>: <span style=\"color: #008080; text-decoration-color: #008080; font-weight: bold\">0</span>,\n",
       "    <span style=\"color: #008000; text-decoration-color: #008000\">'ionic_step'</span>: <span style=\"color: #008080; text-decoration-color: #008080; font-weight: bold\">2</span>,\n",
       "    <span style=\"color: #008000; text-decoration-color: #008000\">'frame_id'</span>: <span style=\"color: #008000; text-decoration-color: #008000\">'mvc-10108-0-2'</span>,\n",
       "    <span style=\"color: #008000; text-decoration-color: #008000\">'mp2020_corrected_energy'</span>: <span style=\"color: #008080; text-decoration-color: #008080; font-weight: bold\">-431.0254076</span>\n",
       "<span style=\"font-weight: bold\">}</span>\n",
       "array<span style=\"font-weight: bold\">[</span><span style=\"color: #008080; text-decoration-color: #008080; font-weight: bold\">3</span>, <span style=\"color: #008080; text-decoration-color: #008080; font-weight: bold\">3</span><span style=\"font-weight: bold\">]</span> <span style=\"color: #808000; text-decoration-color: #808000\">n</span>=<span style=\"color: #008080; text-decoration-color: #008080; font-weight: bold\">9</span> x∈<span style=\"font-weight: bold\">[</span><span style=\"color: #008080; text-decoration-color: #008080; font-weight: bold\">-0.002</span>, <span style=\"color: #008080; text-decoration-color: #008080; font-weight: bold\">5.080e-06</span><span style=\"font-weight: bold\">]</span> <span style=\"color: #808000; text-decoration-color: #808000\">μ</span>=<span style=\"color: #008080; text-decoration-color: #008080; font-weight: bold\">-0.000</span> <span style=\"color: #808000; text-decoration-color: #808000\">σ</span>=<span style=\"color: #008080; text-decoration-color: #008080; font-weight: bold\">0.001</span> <span style=\"font-weight: bold\">[[</span><span style=\"color: #008080; text-decoration-color: #008080; font-weight: bold\">-0.000</span>, <span style=\"color: #008080; text-decoration-color: #008080; font-weight: bold\">1.477e-06</span>, <span style=\"color: #008080; text-decoration-color: #008080; font-weight: bold\">5.080e-06</span><span style=\"font-weight: bold\">]</span>, <span style=\"font-weight: bold\">[</span><span style=\"color: #008080; text-decoration-color: #008080; font-weight: bold\">1.477e-06</span>, <span style=\"color: #008080; text-decoration-color: #008080; font-weight: bold\">-0.000</span>, \n",
       "<span style=\"color: #008080; text-decoration-color: #008080; font-weight: bold\">-9.697e-06</span><span style=\"font-weight: bold\">]</span>, <span style=\"font-weight: bold\">[</span><span style=\"color: #008080; text-decoration-color: #008080; font-weight: bold\">5.080e-06</span>, <span style=\"color: #008080; text-decoration-color: #008080; font-weight: bold\">-9.697e-06</span>, <span style=\"color: #008080; text-decoration-color: #008080; font-weight: bold\">-0.002</span><span style=\"font-weight: bold\">]]</span> array<span style=\"font-weight: bold\">[</span><span style=\"color: #008080; text-decoration-color: #008080; font-weight: bold\">3</span>, <span style=\"color: #008080; text-decoration-color: #008080; font-weight: bold\">3</span><span style=\"font-weight: bold\">]</span> <span style=\"color: #808000; text-decoration-color: #808000\">n</span>=<span style=\"color: #008080; text-decoration-color: #008080; font-weight: bold\">9</span> x∈<span style=\"font-weight: bold\">[</span><span style=\"color: #008080; text-decoration-color: #008080; font-weight: bold\">-0.002</span>, <span style=\"color: #008080; text-decoration-color: #008080; font-weight: bold\">5.080e-06</span><span style=\"font-weight: bold\">]</span> <span style=\"color: #808000; text-decoration-color: #808000\">μ</span>=<span style=\"color: #008080; text-decoration-color: #008080; font-weight: bold\">-0.000</span> <span style=\"color: #808000; text-decoration-color: #808000\">σ</span>=<span style=\"color: #008080; text-decoration-color: #008080; font-weight: bold\">0.001</span> <span style=\"font-weight: bold\">[[</span><span style=\"color: #008080; text-decoration-color: #008080; font-weight: bold\">-0.000</span>, \n",
       "<span style=\"color: #008080; text-decoration-color: #008080; font-weight: bold\">1.477e-06</span>, <span style=\"color: #008080; text-decoration-color: #008080; font-weight: bold\">5.080e-06</span><span style=\"font-weight: bold\">]</span>, <span style=\"font-weight: bold\">[</span><span style=\"color: #008080; text-decoration-color: #008080; font-weight: bold\">1.477e-06</span>, <span style=\"color: #008080; text-decoration-color: #008080; font-weight: bold\">-0.000</span>, <span style=\"color: #008080; text-decoration-color: #008080; font-weight: bold\">-9.697e-06</span><span style=\"font-weight: bold\">]</span>, <span style=\"font-weight: bold\">[</span><span style=\"color: #008080; text-decoration-color: #008080; font-weight: bold\">5.080e-06</span>, <span style=\"color: #008080; text-decoration-color: #008080; font-weight: bold\">-9.697e-06</span>, <span style=\"color: #008080; text-decoration-color: #008080; font-weight: bold\">-0.002</span><span style=\"font-weight: bold\">]]</span>\n",
       "</pre>\n"
      ],
      "text/plain": [
       "\u001b[1;35mAtoms\u001b[0m\u001b[1m(\u001b[0m\u001b[33msymbols\u001b[0m=\u001b[32m'Mo8P8O36'\u001b[0m, \u001b[33mpbc\u001b[0m=\u001b[3;92mTrue\u001b[0m, \u001b[33mcell\u001b[0m=\u001b[1m[\u001b[0m\u001b[1m[\u001b[0m\u001b[1;36m6.54698741\u001b[0m, \u001b[1;36m-4.56e-06\u001b[0m, \u001b[1;36m2.967e-05\u001b[0m\u001b[1m]\u001b[0m, \u001b[1m[\u001b[0m\u001b[1;36m-1.11e-06\u001b[0m, \u001b[1;36m7.9678114\u001b[0m, \u001b[1;36m-0.00100587\u001b[0m\u001b[1m]\u001b[0m, \n",
       "\u001b[1m[\u001b[0m\u001b[1;36m-9.87e-06\u001b[0m, \u001b[1;36m-0.00201687\u001b[0m, \u001b[1;36m14.51581708\u001b[0m\u001b[1m]\u001b[0m\u001b[1m]\u001b[0m, \u001b[33mcalculator\u001b[0m=\u001b[1;35mSinglePointCalculator\u001b[0m\u001b[1m(\u001b[0m\u001b[33m...\u001b[0m\u001b[1m)\u001b[0m\u001b[1m)\u001b[0m\n",
       "\u001b[1m{\u001b[0m\n",
       "    \u001b[32m'material_id'\u001b[0m: \u001b[32m'mp-1040930'\u001b[0m,\n",
       "    \u001b[32m'formula'\u001b[0m: \u001b[32m'Mo8 P8 O36'\u001b[0m,\n",
       "    \u001b[32m'task_id'\u001b[0m: \u001b[32m'mvc-10108'\u001b[0m,\n",
       "    \u001b[32m'calc_id'\u001b[0m: \u001b[1;36m0\u001b[0m,\n",
       "    \u001b[32m'ionic_step'\u001b[0m: \u001b[1;36m2\u001b[0m,\n",
       "    \u001b[32m'frame_id'\u001b[0m: \u001b[32m'mvc-10108-0-2'\u001b[0m,\n",
       "    \u001b[32m'mp2020_corrected_energy'\u001b[0m: \u001b[1;36m-431.0254076\u001b[0m\n",
       "\u001b[1m}\u001b[0m\n",
       "array\u001b[1m[\u001b[0m\u001b[1;36m3\u001b[0m, \u001b[1;36m3\u001b[0m\u001b[1m]\u001b[0m \u001b[33mn\u001b[0m=\u001b[1;36m9\u001b[0m x∈\u001b[1m[\u001b[0m\u001b[1;36m-0.002\u001b[0m, \u001b[1;36m5.080e-06\u001b[0m\u001b[1m]\u001b[0m \u001b[33mμ\u001b[0m=\u001b[1;36m-0.000\u001b[0m \u001b[33mσ\u001b[0m=\u001b[1;36m0\u001b[0m\u001b[1;36m.001\u001b[0m \u001b[1m[\u001b[0m\u001b[1m[\u001b[0m\u001b[1;36m-0.000\u001b[0m, \u001b[1;36m1.477e-06\u001b[0m, \u001b[1;36m5.080e-06\u001b[0m\u001b[1m]\u001b[0m, \u001b[1m[\u001b[0m\u001b[1;36m1.477e-06\u001b[0m, \u001b[1;36m-0.000\u001b[0m, \n",
       "\u001b[1;36m-9.697e-06\u001b[0m\u001b[1m]\u001b[0m, \u001b[1m[\u001b[0m\u001b[1;36m5.080e-06\u001b[0m, \u001b[1;36m-9.697e-06\u001b[0m, \u001b[1;36m-0.002\u001b[0m\u001b[1m]\u001b[0m\u001b[1m]\u001b[0m array\u001b[1m[\u001b[0m\u001b[1;36m3\u001b[0m, \u001b[1;36m3\u001b[0m\u001b[1m]\u001b[0m \u001b[33mn\u001b[0m=\u001b[1;36m9\u001b[0m x∈\u001b[1m[\u001b[0m\u001b[1;36m-0.002\u001b[0m, \u001b[1;36m5.080e-06\u001b[0m\u001b[1m]\u001b[0m \u001b[33mμ\u001b[0m=\u001b[1;36m-0.000\u001b[0m \u001b[33mσ\u001b[0m=\u001b[1;36m0\u001b[0m\u001b[1;36m.001\u001b[0m \u001b[1m[\u001b[0m\u001b[1m[\u001b[0m\u001b[1;36m-0.000\u001b[0m, \n",
       "\u001b[1;36m1.477e-06\u001b[0m, \u001b[1;36m5.080e-06\u001b[0m\u001b[1m]\u001b[0m, \u001b[1m[\u001b[0m\u001b[1;36m1.477e-06\u001b[0m, \u001b[1;36m-0.000\u001b[0m, \u001b[1;36m-9.697e-06\u001b[0m\u001b[1m]\u001b[0m, \u001b[1m[\u001b[0m\u001b[1;36m5.080e-06\u001b[0m, \u001b[1;36m-9.697e-06\u001b[0m, \u001b[1;36m-0.002\u001b[0m\u001b[1m]\u001b[0m\u001b[1m]\u001b[0m\n"
      ]
     },
     "metadata": {},
     "output_type": "display_data"
    }
   ],
   "source": [
    "import nshutils as nu\n",
    "import numpy as np\n",
    "import rich\n",
    "\n",
    "nu.pretty()\n",
    "\n",
    "rich.print(\n",
    "    atoms,\n",
    "    atoms.info,\n",
    "    v1 := np.array(atoms.get_stress(voigt=False)),\n",
    "    v2 := np.array(\n",
    "        df[df[\"structure_id\"] == atoms.info[\"frame_id\"]].iloc[0][\"stress\"]\n",
    "    ).reshape(v1.shape),\n",
    ")\n",
    "\n",
    "# df[df[\"structure_id\"] == atoms.info[\"frame_id\"]]\n",
    "np.testing.assert_allclose(v1, v2, atol=1e-6)"
   ]
  },
  {
   "cell_type": "code",
   "execution_count": null,
   "metadata": {},
   "outputs": [
    {
     "data": {
      "text/plain": [
       "False"
      ]
     },
     "execution_count": 23,
     "metadata": {},
     "output_type": "execute_result"
    }
   ],
   "source": [
    "\"mp-1012897-0-0\" in structure_ids"
   ]
  },
  {
   "cell_type": "code",
   "execution_count": 24,
   "metadata": {},
   "outputs": [
    {
     "name": "stdout",
     "output_type": "stream",
     "text": [
      "<bigjson.obj.Object object at 0x7e7242ea3090>\n"
     ]
    }
   ],
   "source": [
    "import bigjson\n",
    "\n",
    "p = \"/mnt/shared/mptrj-og/mptrj.json\"\n",
    "with open(p, \"rb\") as f:\n",
    "    data = bigjson.load(f)\n",
    "    print(data)\n",
    "\n",
    "iter_ = iter(data.iteritems())"
   ]
  },
  {
   "cell_type": "code",
   "execution_count": 27,
   "metadata": {},
   "outputs": [
    {
     "data": {
      "text/plain": [
       "('mp-10068', <bigjson.obj.Object at 0x7e7265ff1610>)"
      ]
     },
     "execution_count": 27,
     "metadata": {},
     "output_type": "execute_result"
    }
   ],
   "source": [
    "item = next(iter_)\n",
    "item"
   ]
  },
  {
   "cell_type": "code",
   "execution_count": 29,
   "metadata": {},
   "outputs": [
    {
     "name": "stdout",
     "output_type": "stream",
     "text": [
      "dict_keys(['mp-910115-0-0', 'mp-10068-0-2', 'mp-10068-1-4', 'mp-10068-1-2', 'mp-10068-1-0', 'mp-1077557-0-0', 'mp-1077557-1-3', 'mp-1077557-1-2', 'mp-1077557-1-1', 'mp-1077557-1-0', 'mp-1798834-0-0'])\n"
     ]
    }
   ],
   "source": [
    "mp_key, data = item\n",
    "print(data.to_python().keys())"
   ]
  },
  {
   "cell_type": "code",
   "execution_count": 30,
   "metadata": {},
   "outputs": [
    {
     "name": "stdout",
     "output_type": "stream",
     "text": [
      "mp-910115-0-0 False\n",
      "mp-10068-0-2 True\n",
      "mp-10068-1-4 True\n",
      "mp-10068-1-2 False\n",
      "mp-10068-1-0 True\n",
      "mp-1077557-0-0 False\n",
      "mp-1077557-1-3 False\n",
      "mp-1077557-1-2 False\n",
      "mp-1077557-1-1 False\n",
      "mp-1077557-1-0 False\n",
      "mp-1798834-0-0 False\n"
     ]
    }
   ],
   "source": [
    "for k in data.to_python().keys():\n",
    "    print(k, k in structure_ids)"
   ]
  },
  {
   "cell_type": "code",
   "execution_count": 41,
   "metadata": {},
   "outputs": [],
   "source": [
    "import nshutils as nu\n",
    "import numpy as np\n",
    "import rich\n",
    "\n",
    "nu.pretty()"
   ]
  },
  {
   "cell_type": "code",
   "execution_count": 42,
   "metadata": {},
   "outputs": [
    {
     "data": {
      "text/html": [
       "<pre style=\"white-space:pre;overflow-x:auto;line-height:normal;font-family:Menlo,'DejaVu Sans Mono',consolas,'Courier New',monospace\">array<span style=\"font-weight: bold\">[</span><span style=\"color: #008080; text-decoration-color: #008080; font-weight: bold\">3</span>, <span style=\"color: #008080; text-decoration-color: #008080; font-weight: bold\">3</span><span style=\"font-weight: bold\">]</span> <span style=\"color: #808000; text-decoration-color: #808000\">n</span>=<span style=\"color: #008080; text-decoration-color: #008080; font-weight: bold\">9</span> x∈<span style=\"font-weight: bold\">[</span><span style=\"color: #008080; text-decoration-color: #008080; font-weight: bold\">-15.015</span>, <span style=\"color: #008080; text-decoration-color: #008080; font-weight: bold\">-0.378</span><span style=\"font-weight: bold\">]</span> <span style=\"color: #808000; text-decoration-color: #808000\">μ</span>=<span style=\"color: #008080; text-decoration-color: #008080; font-weight: bold\">-4.803</span> <span style=\"color: #808000; text-decoration-color: #808000\">σ</span>=<span style=\"color: #008080; text-decoration-color: #008080; font-weight: bold\">5.570</span> <span style=\"font-weight: bold\">[[</span><span style=\"color: #008080; text-decoration-color: #008080; font-weight: bold\">-13.687</span>, <span style=\"color: #008080; text-decoration-color: #008080; font-weight: bold\">-0.616</span>, <span style=\"color: #008080; text-decoration-color: #008080; font-weight: bold\">-0.378</span><span style=\"font-weight: bold\">]</span>, <span style=\"font-weight: bold\">[</span><span style=\"color: #008080; text-decoration-color: #008080; font-weight: bold\">-0.616</span>, <span style=\"color: #008080; text-decoration-color: #008080; font-weight: bold\">-7.882</span>, <span style=\"color: #008080; text-decoration-color: #008080; font-weight: bold\">-2.326</span><span style=\"font-weight: bold\">]</span>, <span style=\"font-weight: bold\">[</span><span style=\"color: #008080; text-decoration-color: #008080; font-weight: bold\">-0.378</span>,\n",
       "<span style=\"color: #008080; text-decoration-color: #008080; font-weight: bold\">-2.326</span>, <span style=\"color: #008080; text-decoration-color: #008080; font-weight: bold\">-15.015</span><span style=\"font-weight: bold\">]]</span>\n",
       "</pre>\n"
      ],
      "text/plain": [
       "array\u001b[1m[\u001b[0m\u001b[1;36m3\u001b[0m, \u001b[1;36m3\u001b[0m\u001b[1m]\u001b[0m \u001b[33mn\u001b[0m=\u001b[1;36m9\u001b[0m x∈\u001b[1m[\u001b[0m\u001b[1;36m-15.015\u001b[0m, \u001b[1;36m-0.378\u001b[0m\u001b[1m]\u001b[0m \u001b[33mμ\u001b[0m=\u001b[1;36m-4.803\u001b[0m \u001b[33mσ\u001b[0m=\u001b[1;36m5\u001b[0m\u001b[1;36m.570\u001b[0m \u001b[1m[\u001b[0m\u001b[1m[\u001b[0m\u001b[1;36m-13.687\u001b[0m, \u001b[1;36m-0.616\u001b[0m, \u001b[1;36m-0.378\u001b[0m\u001b[1m]\u001b[0m, \u001b[1m[\u001b[0m\u001b[1;36m-0.616\u001b[0m, \u001b[1;36m-7.882\u001b[0m, \u001b[1;36m-2.326\u001b[0m\u001b[1m]\u001b[0m, \u001b[1m[\u001b[0m\u001b[1;36m-0.378\u001b[0m,\n",
       "\u001b[1;36m-2.326\u001b[0m, \u001b[1;36m-15.015\u001b[0m\u001b[1m]\u001b[0m\u001b[1m]\u001b[0m\n"
      ]
     },
     "metadata": {},
     "output_type": "display_data"
    }
   ],
   "source": [
    "og = np.array(data[\"mp-10068-1-4\"].to_python()[\"stress\"])\n",
    "rich.print(og)"
   ]
  },
  {
   "cell_type": "code",
   "execution_count": 43,
   "metadata": {},
   "outputs": [
    {
     "data": {
      "text/html": [
       "<pre style=\"white-space:pre;overflow-x:auto;line-height:normal;font-family:Menlo,'DejaVu Sans Mono',consolas,'Courier New',monospace\">array<span style=\"font-weight: bold\">[</span><span style=\"color: #008080; text-decoration-color: #008080; font-weight: bold\">3</span>, <span style=\"color: #008080; text-decoration-color: #008080; font-weight: bold\">3</span><span style=\"font-weight: bold\">]</span> <span style=\"color: #808000; text-decoration-color: #808000\">n</span>=<span style=\"color: #008080; text-decoration-color: #008080; font-weight: bold\">9</span> x∈<span style=\"font-weight: bold\">[</span><span style=\"color: #008080; text-decoration-color: #008080; font-weight: bold\">0.000</span>, <span style=\"color: #008080; text-decoration-color: #008080; font-weight: bold\">0.009</span><span style=\"font-weight: bold\">]</span> <span style=\"color: #808000; text-decoration-color: #808000\">μ</span>=<span style=\"color: #008080; text-decoration-color: #008080; font-weight: bold\">0.003</span> <span style=\"color: #808000; text-decoration-color: #808000\">σ</span>=<span style=\"color: #008080; text-decoration-color: #008080; font-weight: bold\">0.003</span> <span style=\"font-weight: bold\">[[</span><span style=\"color: #008080; text-decoration-color: #008080; font-weight: bold\">0.009</span>, <span style=\"color: #008080; text-decoration-color: #008080; font-weight: bold\">0.000</span>, <span style=\"color: #008080; text-decoration-color: #008080; font-weight: bold\">0.000</span><span style=\"font-weight: bold\">]</span>, <span style=\"font-weight: bold\">[</span><span style=\"color: #008080; text-decoration-color: #008080; font-weight: bold\">0.000</span>, <span style=\"color: #008080; text-decoration-color: #008080; font-weight: bold\">0.005</span>, <span style=\"color: #008080; text-decoration-color: #008080; font-weight: bold\">0.001</span><span style=\"font-weight: bold\">]</span>, <span style=\"font-weight: bold\">[</span><span style=\"color: #008080; text-decoration-color: #008080; font-weight: bold\">0.000</span>, <span style=\"color: #008080; text-decoration-color: #008080; font-weight: bold\">0.001</span>, \n",
       "<span style=\"color: #008080; text-decoration-color: #008080; font-weight: bold\">0.009</span><span style=\"font-weight: bold\">]]</span>\n",
       "</pre>\n"
      ],
      "text/plain": [
       "array\u001b[1m[\u001b[0m\u001b[1;36m3\u001b[0m, \u001b[1;36m3\u001b[0m\u001b[1m]\u001b[0m \u001b[33mn\u001b[0m=\u001b[1;36m9\u001b[0m x∈\u001b[1m[\u001b[0m\u001b[1;36m0.000\u001b[0m, \u001b[1;36m0.009\u001b[0m\u001b[1m]\u001b[0m \u001b[33mμ\u001b[0m=\u001b[1;36m0\u001b[0m\u001b[1;36m.003\u001b[0m \u001b[33mσ\u001b[0m=\u001b[1;36m0\u001b[0m\u001b[1;36m.003\u001b[0m \u001b[1m[\u001b[0m\u001b[1m[\u001b[0m\u001b[1;36m0.009\u001b[0m, \u001b[1;36m0.000\u001b[0m, \u001b[1;36m0.000\u001b[0m\u001b[1m]\u001b[0m, \u001b[1m[\u001b[0m\u001b[1;36m0.000\u001b[0m, \u001b[1;36m0.005\u001b[0m, \u001b[1;36m0.001\u001b[0m\u001b[1m]\u001b[0m, \u001b[1m[\u001b[0m\u001b[1;36m0.000\u001b[0m, \u001b[1;36m0.001\u001b[0m, \n",
       "\u001b[1;36m0.009\u001b[0m\u001b[1m]\u001b[0m\u001b[1m]\u001b[0m\n"
      ]
     },
     "metadata": {},
     "output_type": "display_data"
    }
   ],
   "source": [
    "new = df[df[\"structure_id\"] == \"mp-10068-1-4\"].iloc[0][\"stress\"]\n",
    "new = np.array(new).reshape(og.shape)\n",
    "rich.print(new)"
   ]
  },
  {
   "cell_type": "code",
   "execution_count": null,
   "metadata": {},
   "outputs": [
    {
     "data": {
      "text/plain": [
       "-1602.1766208015931"
      ]
     },
     "execution_count": 45,
     "metadata": {},
     "output_type": "execute_result"
    }
   ],
   "source": [
    "(og / new).mean().item()"
   ]
  }
 ],
 "metadata": {
  "kernelspec": {
   "display_name": "jmp-peft",
   "language": "python",
   "name": "python3"
  },
  "language_info": {
   "codemirror_mode": {
    "name": "ipython",
    "version": 3
   },
   "file_extension": ".py",
   "mimetype": "text/x-python",
   "name": "python",
   "nbconvert_exporter": "python",
   "pygments_lexer": "ipython3",
   "version": "3.11.6"
  }
 },
 "nbformat": 4,
 "nbformat_minor": 2
}
