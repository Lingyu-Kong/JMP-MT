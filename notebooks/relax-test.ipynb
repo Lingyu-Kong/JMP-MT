{
 "cells": [
  {
   "cell_type": "code",
   "execution_count": 1,
   "metadata": {},
   "outputs": [
    {
     "name": "stderr",
     "output_type": "stream",
     "text": [
      "Type checking the following modules: ('jmppeft',)\n"
     ]
    },
    {
     "data": {
      "text/html": [
       "<script> (()=>{ if (customElements.get('treescope-container') === undefined) { class TreescopeContainer extends HTMLElement { constructor() { super(); this.attachShadow({mode: \"open\"}); this.defns = {}; this.state = {}; } } customElements.define(\"treescope-container\", TreescopeContainer); } if (customElements.get('treescope-run-here') === undefined) { class RunHere extends HTMLElement { constructor() { super() } connectedCallback() { const run = child => { const fn = new Function(child.textContent); child.textContent = \"\"; fn.call(this); this.remove(); }; const child = this.querySelector(\"script\"); if (child) { run(child); } else { new MutationObserver(()=>{ run(this.querySelector(\"script\")); }).observe(this, {childList: true}); } } } customElements.define(\"treescope-run-here\", RunHere); } })(); </script> <treescope-container class=\"treescope_out_203586819eb84a4e8bf579de93daff4e\" ></treescope-container> <treescope-run-here><script type=\"application/octet-stream\"> const root = ( Array.from(document.getElementsByClassName( \"treescope_out_203586819eb84a4e8bf579de93daff4e\")) .filter((elt) => !elt.dataset.setup) )[0]; root.dataset.setup = 1; const msg = document.createElement(\"span\"); msg.style = \"color: #cccccc; font-family: monospace;\"; msg.textContent = \"(Loading...)\"; root.state.loadingMsg = msg; root.shadowRoot.appendChild(msg); root.state.chain = new Promise((resolve, reject) => { const observer = new IntersectionObserver((entries) => { for (const entry of entries) { if (entry.isIntersecting) { resolve(); observer.disconnect(); return; } } }, {rootMargin: \"1000px\"}); window.setTimeout(() => { observer.observe(root); }, 0); }); root.state.deferring = false; const _insertNode = (node) => { for (let oldScript of node.querySelectorAll(\"script\")) { let newScript = document.createElement(\"script\"); newScript.type = oldScript.type; newScript.textContent = oldScript.textContent; oldScript.parentNode.replaceChild(newScript, oldScript); } if (root.state.loadingMsg) { root.state.loadingMsg.remove(); root.state.loadingMsg = null; } root.shadowRoot.appendChild(node); }; root.defns.insertContent = ((contentNode, compressed) => { if (compressed) { root.state.deferring = true; } if (root.state.deferring) { root.state.chain = (async () => { await root.state.chain; if (compressed) { const encoded = contentNode.textContent; const blob = new Blob([ Uint8Array.from(atob(encoded), (m) => m.codePointAt(0)) ]); const reader = blob.stream().pipeThrough( new DecompressionStream(\"deflate\") ).pipeThrough( new TextDecoderStream(\"utf-8\") ).getReader(); const parts = []; while (true) { const step = await reader.read(); if (step.done) { break; } parts.push(step.value); } const tpl = document.createElement('template'); tpl.innerHTML = parts.join(\"\"); _insertNode(tpl.content); } else { _insertNode(contentNode.content); } })(); } else { _insertNode(contentNode.content); } }); </script></treescope-run-here><div style=\"display:none\"> <script type=\"application/octet-stream\" >eNrtGglT4sj6r2QzVSs8JRwK3tQLyOWMJ87ozNsttpN0QkvSHTsdELf87+/rJFwKOLOrs7olVkno/rq/+4S9QAxdXNYExzgwmY87nDGh/Kn4LCCCMLqjcOwiQfp4V7EZFRkbecQd7igeoyzwkQnrgy4ROBN92FF8DisuCUQmujojhj6sUkZh2UBmz+EspFbGZC7jO/HRXSX5ZLgAAPcRS3R3FJsIAKMCU7Gr+MiyCHUyLrbFjlIwuxIJxZkuJk4XVvJaUV5DBSJA8/hY8pDpk4AYxCUCKEehYGPYDKGCExoQMxOQOxzvJuTe72Vj8eyNxZPhIQWcHNYCkxNfKJK//RXk+y4xkZRYlpkCS+45Rt5KOZVK75dBoIAvEIqFbRoo+4rokkBzsDgHaR8zC6fSWpcFQov2gTUslI6PqWRZN+Wt8tD/fp+300TUcjFs09B1d2MMGpDZZozCamrAeC+tTNPALmFJbs0sC2LKRR9zm3EPURNrlA1S6Ui/gCD1aEfJxIf2lPVCGu4htpJ6QLXmYuqIrrK/r+QkyFLSORYhpyB3BbsBnhDWDamk7OHVQZfYQtIXAciHe/hbgCEFVkUtNtA4vglxIHRKvEhddY48nIplkpZ37D5C5IdBNxbj7hweRyj2YzaWcPn9NEgqYkUK5jhu7JWdyHPAWn15l1zBrlhTcB8MPNGkpC76rPXwUApd5aokKAHWTBcFwSdwzuTelDq+s+OBGaoj5PdpkCeYf2Tj5b3sPAewSF+JLtxXZ8OHqghkAKf4dl/NqQqjQAywTQFumdnP5zUlz4y4VMHt4oAVRYwOMgyO+5GlRAHkQ2mrgHI5oD8BMJnnwcEpCBS9JJsPQNAOZSK102V9zNNz4GfBO4Muph1864NysRUd1WzmWsgADiiwttNFQarsIgO75dmdTsxnjM7sYrOHrXRa+U9aWYwVJAgGaE1B5OBl2xMIGnoG5tMA21v5YmkCEMg450zjWM8X80UJMEPeguAP8prHBUBbJPBdNBwF+YeASlmJpLCzY2CIH3iKAjN67c7FFwf6TF5G+iQhgF7HuAiNwr/hMpkxFuKMtPkYs4V4L8DIAbOlj08/kzbHNMij8w+N4GcojDLWjrLyW6FomCv/JHmzhxYSWfoJREo9SsQhD6QCfQZ5G/M5eEnwfGgjV4gQZaL4Eyyy8efBOmFP4FvxGItGgo5NeCA6jHak+c9xrWWupBWK0pvmqkr52+THGn9IouTKQ9yBSismI3Lo+7+JDUKaPzRCIaDEmReAJtvzjFZV1AdQIEgoX+cD/4bzG5b6oPpdOUJgFQS5SnvoGcwNlJNQSH4tpRqfhHd/CI6RGWCjB5VsdDzwILd1IQxDnUkFHCcowNa4/v2Ac/Jv97GZx6ejAjWnbWPvIZexf8zhYn64m5zUBijomFC7gmDH55EtZlLJKE4vw/ngzCzKadErfcRTmYyFBMogCoqNSqD09LJEIus6jujImqNrlXygYJAYFO0ZFoofY2VMASiGYOuXWUoilMovxPMZF4g+utvgrAcJX65MgtHT0p06NiXPkZrvNVklAWFWx4Qa2+KYJqTOdjFw5yzgs9UbY9dJEumMq5rINVPQakGdn/dvo9JQCwSS58f0vhglBpQ7EHdjSiwmgHdJxbTwbkLkUqicO9Bz2uQWLplxk63ITaBNQBwIHiBOwfE6o8A+0oVtIzO/PgfQhzr7z3HfyZM2U0avREjJUianRWF10tzuRK0p4hmHI4uA2lL59aKFnTWFgUU7WMkBdSWzuxZbuA9oIV5ES0oi5UekPAqszyb4GZWPmLnXovoWhOQiH0LU02Xej8fwxRji4i7CMVNmL4B5DjrmoUgYjQEmzdc8Ucw2QNpsV6UsueEhq3Smz5sP+D3IFt7zjKMN2W0qv+ico6Fmc+ZBB2uGsjnSpB8GWh+50Oam0mktYNDfRt4p+1T5rsWZVPao35lL1RUlraTHU4Ggi7GQowM8UKrtdlty05ZrchAQbUKbDSybuD2kZuqP/yb528SjOPHjuTwOLxKTlCP3kJusDZIp1IbsPQNu7ighd1MysezI/eyA2XZh14DUVdpYs3LbjSNHr+jRq3Wm6yx6qpwP4H+zrus1fdmr4um602MfrVatUh181fWLr9VD/ahVqep157bV/NQVQeWIYGe9fnBV+NQqfe23/ZCcHhUv8odXrfMvR/3LoztxOqzXq6uXTu+CVA5yXXJwFh7WrMZ1rmlk7X7L8m8+lro3l4SchUe00W3an4X+uVQ55ht6vUV7tZL5OQzp6nnxxgx6g75dd7M3t06NbTnG4aCxlW/qWaqfFz9xfpg/X3XucudWTj+0887xZnXQuC44OTYMzzc3vVq+NGhebZ84jo8vesMN3DLuiqbBTxoC6c5Z63hwgIJhcBa2WleXtfpAPz3zW1+tz9nsqrN5sXm1LnL2x9MbvV+EOz/px5v60UD3nLvz9mr4rY1rV7cFu2TeHW+cN4fFsKJ/vKtc+3V/nTTPqrXct/B0o71J7cqnWrN+5OlkdatfK3Rpvru5anwZXF0Pmrx/0Phcpdd2reaI1RPzm+tuFrerh4PKVnd74+io0V5vfNMdr1W8rpxti4sGbm7XKpVWY/3A2TjPfjWHht4AnX75mNXPGkjHR1VXb97VTpxvwilVTp2Tk9ZBpUfOirheuapW6ibJ+V3OfAq24X+rHeTv8r22XbVFd/iRNi1UD5p27thr1I5LFUu/+fLFRyJof/MsC5Htgn23vfGZXN+UfI+XTtjXapvwhtc/bKy3L9vr9VrBrJzZF6tNl/mNjXowKCLnprRFvuH2setf0kqzha0jjsPLm0bVy1/Wea/dvi0WSpeXwUAHitJKNAYUqZXIrFdkyvoD/o29H1nMh3Q9ccloeKlp2hKItdhnf4e7lg+JutE0Laqo4mIP7gbzoKaSimuu2VknuOAFk+4LYElNJtcCCA/yCllkysoMDRARCkV94iDBuAY3+wZD3NIGnAh8Af1YanIXMJvcNRmoQZ2QUqcqUDlKAywXxMNQqqZGs9ZH5zj2oJx8dPR+TSnkcrmoHIDgC5VBKuql5uOdKjPVCXGyixxFMDl9VJUPSh0RFwKbYIoE/iWKbFACUCilIBoTkBlGlqySV6dll4wFnxgIyop7NBGcHcc8LF7U8l6cofcI9cMk06hRTjbYrTr3kiR9w2acuoGI6PAs3tlMq85uPigY1fK152uyT76N0ps2MDwNeIQT5eTtXG5eVo5AjDZxUnvZhOzpWx/V8OqyfbUcIcR8f7G8Xql4EsfpJAzMExXmSyS1MmmMVhRGq9La91d+0N2jeXB6RRl3bfuqlhCkKlFu3lenejpI76Nt2Yw/bDthOzJwCKBdeE4EUp7l7G9qOwhdEXQs8kDj0xNstXzKAnJ7ClSkfv1wW9jczVIssmYAenBxkDWZmbFDaENMNwQP5Vn5zUE27hKyUObIoQ/jBCBBZRnZiRhQ5mWBS2ww1guyCRVZADW7OahhsF/Y2iwUYmTphNG1x7Yyrs/VsjJPHDPFs/pT1a1NifYJ1U+DPo8ZzHwZALKB0PqrK3blBS4xtLE6FWZcY1MoCBq82017s2hv5LaMAs796ojdB/c/aW1qGdIm8aC/nWtL8YRfLcdKrbfOa/HT29TumNWndDsG/Oua/X4FQOlj4o6HbucpIP4ORi3ntFzhbQp9zN5TQh8D/gyhA5qODFnBMqEXc7m3KfMxd0/JfAz4M2S+VIbLQuHYHTu9AeJOsP/n/VuNPAkH3x2AEvjnUs+PiUVd8v30u1aeXSsv6UImdl1omFwxP88nPwZQy8dQ5L3NmDfF4VN6nAJ9jY71rqufoqsXz1gdlzmSdPxDXZqF+1n5q6/ZPmqZ6tZeZVwdc/9dUXUM/Qp6qW1rWS/17Cn03Uz+xWYy8/Y2hyIvNgP7/jhs9nzRkZe90LwLBIs5kUYQcZKlQVdwRCiArROTrZeGdjYagka/nskCdvFo7qVJIt/k8Gss3UWaHgP8s15Xytu5grWF/uKg6y8n84HhdYLQCLD4l5VjE8YWaX4C8RoL5XfFPL9ifo4jdQKMrWWjt43CW9VYxNrTaovAXrdTvSvpJZT0kg7GEe0t/RbhjRWgwM7C6hP2XqP7vKvg1WYfxl2rI3/Ku0w/+TcW0sZMLYxmY4hXmW3elfJmHMjCfWLif1mpHTO1SE/x7mt0nHdlvH6HETeW17FIIH9Rt1RTdeQG+C2NcKc5W6SuaZjX6EHv2nkh7cydeS8VyuiERfrl/wMQejDR</script> <treescope-run-here><script type=\"application/octet-stream\"> const root = ( Array.from(document.getElementsByClassName( \"treescope_out_203586819eb84a4e8bf579de93daff4e\")) .filter((elt) => !elt.dataset['step0']) )[0]; root.dataset['step0'] = 1; root.defns.insertContent( this.parentNode.querySelector('script[type=\"application/octet-stream\"]'), true ); this.parentNode.remove(); </script></treescope-run-here> </div>"
      ],
      "text/plain": [
       "<IPython.core.display.HTML object>"
      ]
     },
     "metadata": {},
     "output_type": "display_data"
    }
   ],
   "source": [
    "from __future__ import annotations\n",
    "\n",
    "from pathlib import Path\n",
    "\n",
    "import jmp.config as jc\n",
    "import nshutils as nu\n",
    "\n",
    "ckpt_path = Path(\n",
    "    \"/net/csefiles/coc-fung-cluster/nima/shared/experiment-data/nshtrainer/3ico36yf/checkpoint/last/epoch0-step28722.ckpt\"\n",
    ")\n",
    "assert ckpt_path.exists()\n",
    "\n",
    "config = jc.RelaxWBMConfig.draft()\n",
    "config.ckpt_path = ckpt_path\n",
    "config.relaxer = jc.RelaxerConfig.draft()\n",
    "config.relaxer.results_dir = Path.cwd() / f\"results/{config.ckpt_path.stem}\"\n",
    "config.relaxer.optimizer = \"FIRE\"\n",
    "config.relaxer.force_max = 0.02\n",
    "config.relaxer.max_steps = 500\n",
    "config = config.finalize()\n",
    "nu.display(config)"
   ]
  },
  {
   "cell_type": "code",
   "execution_count": 2,
   "metadata": {},
   "outputs": [
    {
     "name": "stderr",
     "output_type": "stream",
     "text": [
      "Run the following command to submit the jobs:\n",
      "\n",
      "\n"
     ]
    },
    {
     "name": "stdout",
     "output_type": "stream",
     "text": [
      "screen -S nshrunner -L -Logfile /net/csefiles/coc-fung-cluster/nima/shared/repositories/jmp-backbone/notebooks/nshrunner/43c0c01e-4545-46b0-a807-945ffa885e14/submit/logs/session.log -U bash /net/csefiles/coc-fung-cluster/nima/shared/repositories/jmp-backbone/notebooks/nshrunner/43c0c01e-4545-46b0-a807-945ffa885e14/submit/submit.sh\n",
      "\n",
      "\n"
     ]
    },
    {
     "data": {
      "text/plain": [
       "Submission(command_parts=['screen', '-S', 'nshrunner', '-L', '-Logfile', '/net/csefiles/coc-fung-cluster/nima/shared/repositories/jmp-backbone/notebooks/nshrunner/43c0c01e-4545-46b0-a807-945ffa885e14/submit/logs/session.log', '-U', 'bash', '/net/csefiles/coc-fung-cluster/nima/shared/repositories/jmp-backbone/notebooks/nshrunner/43c0c01e-4545-46b0-a807-945ffa885e14/submit/submit.sh'], script_path=PosixPath('/net/csefiles/coc-fung-cluster/nima/shared/repositories/jmp-backbone/notebooks/nshrunner/43c0c01e-4545-46b0-a807-945ffa885e14/submit/submit.sh'))"
      ]
     },
     "execution_count": 2,
     "metadata": {},
     "output_type": "execute_result"
    }
   ],
   "source": [
    "import nshrunner as nr\n",
    "from jmp.relaxation.wbm import relax_wbm_run_fn\n",
    "\n",
    "distributed_configs = config.subset_(100).distributed(1)\n",
    "run_args = [(config,) for config in distributed_configs]\n",
    "\n",
    "runner = nr.Runner(relax_wbm_run_fn, nr.RunnerConfig(working_dir=Path.cwd()))\n",
    "# runner.local(run_args)\n",
    "runner.session(run_args, snapshot=False)"
   ]
  },
  {
   "cell_type": "code",
   "execution_count": 6,
   "metadata": {},
   "outputs": [
    {
     "name": "stdout",
     "output_type": "stream",
     "text": [
      "{'material_id': 'wbm-1-41276', 'structure': Structure Summary\n",
      "Lattice\n",
      "    abc : 6.001263319974705 6.001263319980634 6.00126332\n",
      " angles : 106.30192959032767 106.30192962018585 116.01471298949055\n",
      " volume : 164.73623908558795\n",
      "      A : 5.7599875637 0.0 -1.6845488125\n",
      "      B : -3.2350806214 4.7656804464 -1.6845488095\n",
      "      C : 0.0 0.0 6.00126332\n",
      "    pbc : True True True\n",
      "PeriodicSite: Gd (0.1381, 2.979, 2.816) [0.375, 0.625, 0.75]\n",
      "PeriodicSite: Gd (2.387, 1.787, -0.1842) [0.625, 0.375, 0.25]\n",
      "PeriodicSite: Si (4.636, 0.5957, 2.816) [0.875, 0.125, 0.75]\n",
      "PeriodicSite: Si (-2.111, 4.17, -0.1843) [0.125, 0.875, 0.25]\n",
      "PeriodicSite: O (4.04, 1.389, 1.494) [0.865, 0.2915, 0.5735]\n",
      "PeriodicSite: O (-1.119, 4.123, -1.507) [0.2915, 0.865, 0.07352]\n",
      "PeriodicSite: O (0.9739, 1.039, 1.701) [0.2915, 0.218, 0.4265]\n",
      "PeriodicSite: O (0.3126, 1.389, 4.702) [0.218, 0.2915, 0.9265]\n",
      "PeriodicSite: O (1.551, 3.727, 0.9311) [0.7085, 0.782, 0.5735]\n",
      "PeriodicSite: O (2.212, 3.376, -2.07) [0.782, 0.7085, 0.07351]\n",
      "PeriodicSite: O (-1.515, 3.376, 1.139) [0.135, 0.7085, 0.4265]\n",
      "PeriodicSite: O (3.644, 0.6432, 4.139) [0.7085, 0.135, 0.9265], 'energy': -5.454281806945801, 'metadata': {'material_id': 'wbm-1-41276', 'formula': 'Gd2 O8 Si2', 'n_sites': 12.0, 'volume': 158.38, 'uncorrected_energy': -111.909, 'e_form_per_atom_wbm': -3.256, 'e_above_hull_wbm': 0.089, 'bandgap_pbe': 0.0, 'wyckoff_spglib_initial_structure': 'AB4C_tI24_141_a_h_b:Gd-O-Si', 'uncorrected_energy_from_cse': -111.906164, 'e_correction_per_atom_mp2020': -0.458, 'e_correction_per_atom_mp_legacy': -0.468193, 'e_form_per_atom_uncorrected': -2.77748, 'e_form_per_atom_mp2020_corrected': -3.23548, 'e_above_hull_mp2020_corrected_ppd_mp': 0.092507, 'site_stats_fingerprint_init_final_norm_diff': 0.11992, 'wyckoff_spglib': 'AB4C_tI24_141_a_h_b:Gd-O-Si', 'unique_prototype': True, 'formula_from_cse': 'Gd2 O8 Si2', '__row_idx__': 4}}\n",
      "\n",
      "{'material_id': 'wbm-1-45977', 'structure': Structure Summary\n",
      "Lattice\n",
      "    abc : 4.25300325 4.5722356600000005 5.29069319\n",
      " angles : 90.0 90.0 89.99999999999999\n",
      " volume : 102.88140780177845\n",
      "      A : 4.25300325 0.0 2.604213408e-16\n",
      "      B : 7.352715725e-16 4.5722356600000005 2.799686883e-16\n",
      "      C : 0.0 0.0 5.29069319\n",
      "    pbc : True True True\n",
      "PeriodicSite: Ni (1.062, 1.687, 3.969) [0.2498, 0.3689, 0.7502]\n",
      "PeriodicSite: Ni (3.188, 2.886, 1.321) [0.7497, 0.6312, 0.2498]\n",
      "PeriodicSite: Ni (1.064, 3.892, 5.283) [0.2502, 0.8513, 0.9986]\n",
      "PeriodicSite: Ni (3.19, 0.6814, 0.005981) [0.75, 0.149, 0.00113]\n",
      "PeriodicSite: Ni (1.063, 3.887, 2.654) [0.2499, 0.8502, 0.5016]\n",
      "PeriodicSite: Ni (3.19, 0.6823, 2.633) [0.7501, 0.1492, 0.4977]\n",
      "PeriodicSite: P (3.193, 3.309, 3.962) [0.7507, 0.7238, 0.7488]\n",
      "PeriodicSite: P (1.067, 1.264, 1.337) [0.2508, 0.2764, 0.2527], 'energy': -0.5259681344032288, 'metadata': {'material_id': 'wbm-1-45977', 'formula': 'Ni6 P2', 'n_sites': 8.0, 'volume': 88.27, 'uncorrected_energy': -47.736, 'e_form_per_atom_wbm': -0.281, 'e_above_hull_wbm': 0.14, 'bandgap_pbe': 0.0, 'wyckoff_spglib_initial_structure': 'A3B_oP8_59_ae_b:Ni-P', 'uncorrected_energy_from_cse': -47.73629, 'e_correction_per_atom_mp2020': 0.0, 'e_correction_per_atom_mp_legacy': 0.0, 'e_form_per_atom_uncorrected': -0.278636, 'e_form_per_atom_mp2020_corrected': -0.278636, 'e_above_hull_mp2020_corrected_ppd_mp': 0.162046, 'site_stats_fingerprint_init_final_norm_diff': 2.122082, 'wyckoff_spglib': 'A3B_oP8_59_ae_b:Ni-P', 'unique_prototype': True, 'formula_from_cse': 'Ni6 P2', '__row_idx__': 31}}\n",
      "\n",
      "{'material_id': 'wbm-3-51031', 'structure': Structure Summary\n",
      "Lattice\n",
      "    abc : 6.42837356 6.739475999993831 6.73947601\n",
      " angles : 112.82606953985271 90.0 89.99999999999999\n",
      " volume : 269.11425747323665\n",
      "      A : 6.42837356 0.0 3.936243552e-16\n",
      "      B : 9.989152374e-16 6.2116856425 -2.6144785777\n",
      "      C : 0.0 0.0 6.73947601\n",
      "    pbc : True True True\n",
      "PeriodicSite: K (1.549, 2.844, 4.168) [0.2409, 0.4579, 0.7962]\n",
      "PeriodicSite: K (4.763, 1.273, 3.13) [0.7409, 0.2049, 0.5439]\n",
      "PeriodicSite: K (4.762, 3.365, -0.04434) [0.7408, 0.5418, 0.2036]\n",
      "PeriodicSite: K (1.549, 4.937, 0.994) [0.241, 0.7948, 0.4558]\n",
      "PeriodicSite: Gd (4.764, 5.67, 3.77) [0.7411, 0.9128, 0.9134]\n",
      "PeriodicSite: Gd (1.55, 0.5392, 0.3538) [0.2411, 0.0868, 0.08616]\n",
      "PeriodicSite: O (3.159, 0.804, 5.531) [0.4913, 0.1294, 0.871]\n",
      "PeriodicSite: O (6.368, 0.8049, 5.532) [0.9906, 0.1296, 0.8711]\n",
      "PeriodicSite: O (4.733, 3.951, 2.622) [0.7363, 0.636, 0.6358]\n",
      "PeriodicSite: O (1.52, 2.258, 1.502) [0.2364, 0.3635, 0.3638]\n",
      "PeriodicSite: O (6.373, 5.405, -1.408) [0.9914, 0.8702, 0.1286]\n",
      "PeriodicSite: O (3.154, 5.404, -1.408) [0.4906, 0.87, 0.1285], 'energy': -1.7957521677017212, 'metadata': {'material_id': 'wbm-3-51031', 'formula': 'Gd2 K4 O6', 'n_sites': 12.0, 'volume': 242.23, 'uncorrected_energy': -86.027, 'e_form_per_atom_wbm': -2.337, 'e_above_hull_wbm': 0.134, 'bandgap_pbe': 0.0, 'wyckoff_spglib_initial_structure': 'AB2C3_oC24_63_c_g_ce:Gd-K-O', 'uncorrected_energy_from_cse': -86.015356, 'e_correction_per_atom_mp2020': -0.3435, 'e_correction_per_atom_mp_legacy': -0.351145, 'e_form_per_atom_uncorrected': -1.978446, 'e_form_per_atom_mp2020_corrected': -2.321946, 'e_above_hull_mp2020_corrected_ppd_mp': 0.139024, 'site_stats_fingerprint_init_final_norm_diff': 0.916055, 'wyckoff_spglib': 'AB2C3_oC24_36_a_b_ab:Gd-K-O', 'unique_prototype': True, 'formula_from_cse': 'Gd2 K4 O6', '__row_idx__': 12}}\n",
      "\n",
      "{'material_id': 'wbm-1-58536', 'structure': Structure Summary\n",
      "Lattice\n",
      "    abc : 4.172567660024469 4.172570460001854 4.17249763\n",
      " angles : 60.00068187026393 89.99940568933891 120.00035925941427\n",
      " volume : 51.36745308003309\n",
      "      A : 4.1725676598 0.0 4.32807e-05\n",
      "      B : -2.0863295279 2.9504519521 2.0862422254\n",
      "      C : 0.0 0.0 4.17249763\n",
      "    pbc : True True True\n",
      "PeriodicSite: Ti (4.173, 1.475e-05, 4.173) [1.0, 5e-06, 1.0]\n",
      "PeriodicSite: In (2.086, 0.0, 2.086) [0.5, 0.0, 0.5]\n",
      "PeriodicSite: Ni (2.514e-05, 1.475, 2.086) [0.25, 0.5, 0.25], 'energy': 1.8462893962860107, 'metadata': {'material_id': 'wbm-1-58536', 'formula': 'In1 Ni1 Ti1', 'n_sites': 3.0, 'volume': 54.14, 'uncorrected_energy': -16.873, 'e_form_per_atom_wbm': -0.149, 'e_above_hull_wbm': 0.19, 'bandgap_pbe': 0.0, 'wyckoff_spglib_initial_structure': 'ABC_cF12_216_a_c_b:In-Ni-Ti', 'uncorrected_energy_from_cse': -16.873282, 'e_correction_per_atom_mp2020': 0.0, 'e_correction_per_atom_mp_legacy': 0.0, 'e_form_per_atom_uncorrected': -0.148661, 'e_form_per_atom_mp2020_corrected': -0.148661, 'e_above_hull_mp2020_corrected_ppd_mp': 0.190547, 'site_stats_fingerprint_init_final_norm_diff': 0.006825, 'wyckoff_spglib': 'ABC_cF12_216_a_c_b:In-Ni-Ti', 'unique_prototype': True, 'formula_from_cse': 'In1 Ni1 Ti1', '__row_idx__': 54}}\n",
      "\n"
     ]
    },
    {
     "ename": "KeyboardInterrupt",
     "evalue": "",
     "output_type": "error",
     "traceback": [
      "\u001b[0;31m---------------------------------------------------------------------------\u001b[0m",
      "\u001b[0;31mKeyboardInterrupt\u001b[0m                         Traceback (most recent call last)",
      "Cell \u001b[0;32mIn[6], line 6\u001b[0m\n\u001b[1;32m      4\u001b[0m \u001b[38;5;28;01mfor\u001b[39;00m result_path \u001b[38;5;129;01min\u001b[39;00m results:\n\u001b[1;32m      5\u001b[0m     \u001b[38;5;28;01mwith\u001b[39;00m result_path\u001b[38;5;241m.\u001b[39mopen(\u001b[38;5;124m\"\u001b[39m\u001b[38;5;124mrb\u001b[39m\u001b[38;5;124m\"\u001b[39m) \u001b[38;5;28;01mas\u001b[39;00m f:\n\u001b[0;32m----> 6\u001b[0m         result \u001b[38;5;241m=\u001b[39m \u001b[43mdill\u001b[49m\u001b[38;5;241;43m.\u001b[39;49m\u001b[43mload\u001b[49m\u001b[43m(\u001b[49m\u001b[43mf\u001b[49m\u001b[43m)\u001b[49m\n\u001b[1;32m      7\u001b[0m     \u001b[38;5;28mprint\u001b[39m(result)\n\u001b[1;32m      8\u001b[0m     \u001b[38;5;28mprint\u001b[39m()\n",
      "File \u001b[0;32m/net/csefiles/coc-fung-cluster/nima/miniforge3/envs/jmp-peft/lib/python3.11/site-packages/dill/_dill.py:289\u001b[0m, in \u001b[0;36mload\u001b[0;34m(file, ignore, **kwds)\u001b[0m\n\u001b[1;32m    283\u001b[0m \u001b[38;5;28;01mdef\u001b[39;00m \u001b[38;5;21mload\u001b[39m(file, ignore\u001b[38;5;241m=\u001b[39m\u001b[38;5;28;01mNone\u001b[39;00m, \u001b[38;5;241m*\u001b[39m\u001b[38;5;241m*\u001b[39mkwds):\n\u001b[1;32m    284\u001b[0m \u001b[38;5;250m    \u001b[39m\u001b[38;5;124;03m\"\"\"\u001b[39;00m\n\u001b[1;32m    285\u001b[0m \u001b[38;5;124;03m    Unpickle an object from a file.\u001b[39;00m\n\u001b[1;32m    286\u001b[0m \n\u001b[1;32m    287\u001b[0m \u001b[38;5;124;03m    See :func:`loads` for keyword arguments.\u001b[39;00m\n\u001b[1;32m    288\u001b[0m \u001b[38;5;124;03m    \"\"\"\u001b[39;00m\n\u001b[0;32m--> 289\u001b[0m     \u001b[38;5;28;01mreturn\u001b[39;00m \u001b[43mUnpickler\u001b[49m\u001b[43m(\u001b[49m\u001b[43mfile\u001b[49m\u001b[43m,\u001b[49m\u001b[43m \u001b[49m\u001b[43mignore\u001b[49m\u001b[38;5;241;43m=\u001b[39;49m\u001b[43mignore\u001b[49m\u001b[43m,\u001b[49m\u001b[43m \u001b[49m\u001b[38;5;241;43m*\u001b[39;49m\u001b[38;5;241;43m*\u001b[39;49m\u001b[43mkwds\u001b[49m\u001b[43m)\u001b[49m\u001b[38;5;241;43m.\u001b[39;49m\u001b[43mload\u001b[49m\u001b[43m(\u001b[49m\u001b[43m)\u001b[49m\n",
      "File \u001b[0;32m/net/csefiles/coc-fung-cluster/nima/miniforge3/envs/jmp-peft/lib/python3.11/site-packages/dill/_dill.py:444\u001b[0m, in \u001b[0;36mUnpickler.load\u001b[0;34m(self)\u001b[0m\n\u001b[1;32m    443\u001b[0m \u001b[38;5;28;01mdef\u001b[39;00m \u001b[38;5;21mload\u001b[39m(\u001b[38;5;28mself\u001b[39m): \u001b[38;5;66;03m#NOTE: if settings change, need to update attributes\u001b[39;00m\n\u001b[0;32m--> 444\u001b[0m     obj \u001b[38;5;241m=\u001b[39m \u001b[43mStockUnpickler\u001b[49m\u001b[38;5;241;43m.\u001b[39;49m\u001b[43mload\u001b[49m\u001b[43m(\u001b[49m\u001b[38;5;28;43mself\u001b[39;49m\u001b[43m)\u001b[49m\n\u001b[1;32m    445\u001b[0m     \u001b[38;5;28;01mif\u001b[39;00m \u001b[38;5;28mtype\u001b[39m(obj)\u001b[38;5;241m.\u001b[39m\u001b[38;5;18m__module__\u001b[39m \u001b[38;5;241m==\u001b[39m \u001b[38;5;28mgetattr\u001b[39m(_main_module, \u001b[38;5;124m'\u001b[39m\u001b[38;5;124m__name__\u001b[39m\u001b[38;5;124m'\u001b[39m, \u001b[38;5;124m'\u001b[39m\u001b[38;5;124m__main__\u001b[39m\u001b[38;5;124m'\u001b[39m):\n\u001b[1;32m    446\u001b[0m         \u001b[38;5;28;01mif\u001b[39;00m \u001b[38;5;129;01mnot\u001b[39;00m \u001b[38;5;28mself\u001b[39m\u001b[38;5;241m.\u001b[39m_ignore:\n\u001b[1;32m    447\u001b[0m             \u001b[38;5;66;03m# point obj class to main\u001b[39;00m\n",
      "File \u001b[0;32m/net/csefiles/coc-fung-cluster/nima/miniforge3/envs/jmp-peft/lib/python3.11/site-packages/torch/storage.py:370\u001b[0m, in \u001b[0;36m_load_from_bytes\u001b[0;34m(b)\u001b[0m\n\u001b[1;32m    366\u001b[0m     \u001b[38;5;129m@_share_memory_lock_protected\u001b[39m\n\u001b[1;32m    367\u001b[0m     \u001b[38;5;28;01mdef\u001b[39;00m \u001b[38;5;21m_share_filename_cpu_\u001b[39m(\u001b[38;5;28mself\u001b[39m, \u001b[38;5;241m*\u001b[39margs, \u001b[38;5;241m*\u001b[39m\u001b[38;5;241m*\u001b[39mkwargs):\n\u001b[1;32m    368\u001b[0m         \u001b[38;5;28;01mreturn\u001b[39;00m \u001b[38;5;28msuper\u001b[39m()\u001b[38;5;241m.\u001b[39m_share_filename_cpu_(\u001b[38;5;241m*\u001b[39margs, \u001b[38;5;241m*\u001b[39m\u001b[38;5;241m*\u001b[39mkwargs)\n\u001b[0;32m--> 370\u001b[0m \u001b[38;5;28;01mdef\u001b[39;00m \u001b[38;5;21m_load_from_bytes\u001b[39m(b):\n\u001b[1;32m    371\u001b[0m     \u001b[38;5;28;01mreturn\u001b[39;00m torch\u001b[38;5;241m.\u001b[39mload(io\u001b[38;5;241m.\u001b[39mBytesIO(b))\n\u001b[1;32m    374\u001b[0m _StorageBase\u001b[38;5;241m.\u001b[39mtype \u001b[38;5;241m=\u001b[39m _type  \u001b[38;5;66;03m# type: ignore[assignment]\u001b[39;00m\n",
      "\u001b[0;31mKeyboardInterrupt\u001b[0m: "
     ]
    }
   ],
   "source": [
    "import dill\n",
    "\n",
    "results = list(config.relaxer.results_dir.glob(\"*.dill\"))\n",
    "for result_path in results:\n",
    "    with result_path.open(\"rb\") as f:\n",
    "        result = dill.load(f)\n",
    "    print(result)\n",
    "    print()"
   ]
  }
 ],
 "metadata": {
  "kernelspec": {
   "display_name": "jmp-peft",
   "language": "python",
   "name": "python3"
  },
  "language_info": {
   "codemirror_mode": {
    "name": "ipython",
    "version": 3
   },
   "file_extension": ".py",
   "mimetype": "text/x-python",
   "name": "python",
   "nbconvert_exporter": "python",
   "pygments_lexer": "ipython3",
   "version": "3.11.9"
  }
 },
 "nbformat": 4,
 "nbformat_minor": 2
}
