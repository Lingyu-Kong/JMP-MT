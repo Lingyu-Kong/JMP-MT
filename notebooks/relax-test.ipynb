{
 "cells": [
  {
   "cell_type": "code",
   "execution_count": 2,
   "metadata": {},
   "outputs": [
    {
     "name": "stderr",
     "output_type": "stream",
     "text": [
      "Type checking the following modules: ('jmppeft',)\n"
     ]
    },
    {
     "data": {
      "text/html": [
       "<script> (()=>{ if (customElements.get('treescope-container') === undefined) { class TreescopeContainer extends HTMLElement { constructor() { super(); this.attachShadow({mode: \"open\"}); this.defns = {}; this.state = {}; } } customElements.define(\"treescope-container\", TreescopeContainer); } if (customElements.get('treescope-run-here') === undefined) { class RunHere extends HTMLElement { constructor() { super() } connectedCallback() { const run = child => { const fn = new Function(child.textContent); child.textContent = \"\"; fn.call(this); this.remove(); }; const child = this.querySelector(\"script\"); if (child) { run(child); } else { new MutationObserver(()=>{ run(this.querySelector(\"script\")); }).observe(this, {childList: true}); } } } customElements.define(\"treescope-run-here\", RunHere); } })(); </script> <treescope-container class=\"treescope_out_cdd908ef2a9c43ae9156e9b25a2d4641\" ></treescope-container> <treescope-run-here><script type=\"application/octet-stream\"> const root = ( Array.from(document.getElementsByClassName( \"treescope_out_cdd908ef2a9c43ae9156e9b25a2d4641\")) .filter((elt) => !elt.dataset.setup) )[0]; root.dataset.setup = 1; const msg = document.createElement(\"span\"); msg.style = \"color: #cccccc; font-family: monospace;\"; msg.textContent = \"(Loading...)\"; root.state.loadingMsg = msg; root.shadowRoot.appendChild(msg); root.state.chain = new Promise((resolve, reject) => { const observer = new IntersectionObserver((entries) => { for (const entry of entries) { if (entry.isIntersecting) { resolve(); observer.disconnect(); return; } } }, {rootMargin: \"1000px\"}); window.setTimeout(() => { observer.observe(root); }, 0); }); root.state.deferring = false; const _insertNode = (node) => { for (let oldScript of node.querySelectorAll(\"script\")) { let newScript = document.createElement(\"script\"); newScript.type = oldScript.type; newScript.textContent = oldScript.textContent; oldScript.parentNode.replaceChild(newScript, oldScript); } if (root.state.loadingMsg) { root.state.loadingMsg.remove(); root.state.loadingMsg = null; } root.shadowRoot.appendChild(node); }; root.defns.insertContent = ((contentNode, compressed) => { if (compressed) { root.state.deferring = true; } if (root.state.deferring) { root.state.chain = (async () => { await root.state.chain; if (compressed) { const encoded = contentNode.textContent; const blob = new Blob([ Uint8Array.from(atob(encoded), (m) => m.codePointAt(0)) ]); const reader = blob.stream().pipeThrough( new DecompressionStream(\"deflate\") ).pipeThrough( new TextDecoderStream(\"utf-8\") ).getReader(); const parts = []; while (true) { const step = await reader.read(); if (step.done) { break; } parts.push(step.value); } const tpl = document.createElement('template'); tpl.innerHTML = parts.join(\"\"); _insertNode(tpl.content); } else { _insertNode(contentNode.content); } })(); } else { _insertNode(contentNode.content); } }); </script></treescope-run-here><div style=\"display:none\"> <script type=\"application/octet-stream\" >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</script> <treescope-run-here><script type=\"application/octet-stream\"> const root = ( Array.from(document.getElementsByClassName( \"treescope_out_cdd908ef2a9c43ae9156e9b25a2d4641\")) .filter((elt) => !elt.dataset['step0']) )[0]; root.dataset['step0'] = 1; root.defns.insertContent( this.parentNode.querySelector('script[type=\"application/octet-stream\"]'), true ); this.parentNode.remove(); </script></treescope-run-here> </div>"
      ],
      "text/plain": [
       "<IPython.core.display.HTML object>"
      ]
     },
     "metadata": {},
     "output_type": "display_data"
    }
   ],
   "source": [
    "from __future__ import annotations\n",
    "\n",
    "from pathlib import Path\n",
    "\n",
    "import jmp.config as jc\n",
    "import nshutils as nu\n",
    "\n",
    "ckpt_path = Path(\n",
    "    \"/net/csefiles/coc-fung-cluster/nima/shared/experiment-data/nshtrainer/3ico36yf/checkpoint/last/epoch0-step57444.ckpt\"\n",
    ")\n",
    "assert ckpt_path.exists()\n",
    "\n",
    "config = jc.RelaxWBMConfig.draft()\n",
    "config.ckpt_path = ckpt_path\n",
    "config.relaxer = jc.RelaxerConfig.draft()\n",
    "config.relaxer.optimizer = \"FIRE\"\n",
    "config.relaxer.force_max = 0.02\n",
    "config.relaxer.max_steps = 500\n",
    "config = config.finalize()\n",
    "nu.display(config)"
   ]
  },
  {
   "cell_type": "code",
   "execution_count": 4,
   "metadata": {},
   "outputs": [
    {
     "data": {
      "application/vnd.jupyter.widget-view+json": {
       "model_id": "fbf7ca0982ae4af0a2928547641ff500",
       "version_major": 2,
       "version_minor": 0
      },
      "text/plain": [
       "  0%|          | 0/1 [00:00<?, ?it/s]"
      ]
     },
     "metadata": {},
     "output_type": "display_data"
    },
    {
     "name": "stderr",
     "output_type": "stream",
     "text": [
      "Seed set to 0\n",
      "INFO:jmp.models.gemnet.layers.radial_basis_dynamic_cutoff:[RadialBasis] Using absolute cutoff of 12.0 Angstroms.\n",
      "INFO:jmp.models.gemnet.layers.radial_basis_dynamic_cutoff:[RadialBasis] Using absolute cutoff of 12.0 Angstroms.\n",
      "INFO:jmp.models.gemnet.layers.radial_basis_dynamic_cutoff:[RadialBasis] Using absolute cutoff of 12.0 Angstroms.\n",
      "INFO:jmp.models.gemnet.layers.radial_basis_dynamic_cutoff:[RadialBasis] Using absolute cutoff of 12.0 Angstroms.\n",
      "INFO:jmp.models.gemnet.layers.radial_basis_dynamic_cutoff:[RadialBasis] Using absolute cutoff of 12.0 Angstroms.\n",
      "INFO:jmp.models.gemnet.layers.radial_basis_dynamic_cutoff:[RadialBasis] Using absolute cutoff of 12.0 Angstroms.\n"
     ]
    },
    {
     "name": "stdout",
     "output_type": "stream",
     "text": [
      "Unrecognized arguments:  dict_keys(['ln', 'dropout', 'replace_scale_factors_with_ln', 'learnable_rbf', 'learnable_rbf_stds', 'unique_basis_per_layer', 'old_gaussian_implementation', 'edge_dropout'])\n"
     ]
    },
    {
     "name": "stderr",
     "output_type": "stream",
     "text": [
      "INFO:jmp.models.gemnet.layers.radial_basis_dynamic_cutoff:[RadialBasis] Using absolute cutoff of 12.0 Angstroms.\n",
      "CRITICAL:root:Found the following scale factors: [('int_blocks.0.trip_interaction.scale_rbf', 'int_blocks.0.trip_interaction.scale_rbf'), ('int_blocks.0.trip_interaction.scale_cbf_sum', 'int_blocks.0.trip_interaction.scale_cbf_sum'), ('int_blocks.0.quad_interaction.scale_rbf', 'int_blocks.0.quad_interaction.scale_rbf'), ('int_blocks.0.quad_interaction.scale_cbf', 'int_blocks.0.quad_interaction.scale_cbf'), ('int_blocks.0.quad_interaction.scale_sbf_sum', 'int_blocks.0.quad_interaction.scale_sbf_sum'), ('int_blocks.0.atom_edge_interaction.scale_rbf', 'int_blocks.0.atom_edge_interaction.scale_rbf'), ('int_blocks.0.atom_edge_interaction.scale_cbf_sum', 'int_blocks.0.atom_edge_interaction.scale_cbf_sum'), ('int_blocks.0.edge_atom_interaction.scale_rbf', 'int_blocks.0.edge_atom_interaction.scale_rbf'), ('int_blocks.0.edge_atom_interaction.scale_cbf_sum', 'int_blocks.0.edge_atom_interaction.scale_cbf_sum'), ('int_blocks.0.atom_interaction.scale_rbf_sum', 'int_blocks.0.atom_interaction.scale_rbf_sum'), ('int_blocks.0.atom_update.scale_sum', 'int_blocks.0.atom_update.scale_sum'), ('int_blocks.1.trip_interaction.scale_rbf', 'int_blocks.1.trip_interaction.scale_rbf'), ('int_blocks.1.trip_interaction.scale_cbf_sum', 'int_blocks.1.trip_interaction.scale_cbf_sum'), ('int_blocks.1.quad_interaction.scale_rbf', 'int_blocks.1.quad_interaction.scale_rbf'), ('int_blocks.1.quad_interaction.scale_cbf', 'int_blocks.1.quad_interaction.scale_cbf'), ('int_blocks.1.quad_interaction.scale_sbf_sum', 'int_blocks.1.quad_interaction.scale_sbf_sum'), ('int_blocks.1.atom_edge_interaction.scale_rbf', 'int_blocks.1.atom_edge_interaction.scale_rbf'), ('int_blocks.1.atom_edge_interaction.scale_cbf_sum', 'int_blocks.1.atom_edge_interaction.scale_cbf_sum'), ('int_blocks.1.edge_atom_interaction.scale_rbf', 'int_blocks.1.edge_atom_interaction.scale_rbf'), ('int_blocks.1.edge_atom_interaction.scale_cbf_sum', 'int_blocks.1.edge_atom_interaction.scale_cbf_sum'), ('int_blocks.1.atom_interaction.scale_rbf_sum', 'int_blocks.1.atom_interaction.scale_rbf_sum'), ('int_blocks.1.atom_update.scale_sum', 'int_blocks.1.atom_update.scale_sum'), ('int_blocks.2.trip_interaction.scale_rbf', 'int_blocks.2.trip_interaction.scale_rbf'), ('int_blocks.2.trip_interaction.scale_cbf_sum', 'int_blocks.2.trip_interaction.scale_cbf_sum'), ('int_blocks.2.quad_interaction.scale_rbf', 'int_blocks.2.quad_interaction.scale_rbf'), ('int_blocks.2.quad_interaction.scale_cbf', 'int_blocks.2.quad_interaction.scale_cbf'), ('int_blocks.2.quad_interaction.scale_sbf_sum', 'int_blocks.2.quad_interaction.scale_sbf_sum'), ('int_blocks.2.atom_edge_interaction.scale_rbf', 'int_blocks.2.atom_edge_interaction.scale_rbf'), ('int_blocks.2.atom_edge_interaction.scale_cbf_sum', 'int_blocks.2.atom_edge_interaction.scale_cbf_sum'), ('int_blocks.2.edge_atom_interaction.scale_rbf', 'int_blocks.2.edge_atom_interaction.scale_rbf'), ('int_blocks.2.edge_atom_interaction.scale_cbf_sum', 'int_blocks.2.edge_atom_interaction.scale_cbf_sum'), ('int_blocks.2.atom_interaction.scale_rbf_sum', 'int_blocks.2.atom_interaction.scale_rbf_sum'), ('int_blocks.2.atom_update.scale_sum', 'int_blocks.2.atom_update.scale_sum'), ('int_blocks.3.trip_interaction.scale_rbf', 'int_blocks.3.trip_interaction.scale_rbf'), ('int_blocks.3.trip_interaction.scale_cbf_sum', 'int_blocks.3.trip_interaction.scale_cbf_sum'), ('int_blocks.3.quad_interaction.scale_rbf', 'int_blocks.3.quad_interaction.scale_rbf'), ('int_blocks.3.quad_interaction.scale_cbf', 'int_blocks.3.quad_interaction.scale_cbf'), ('int_blocks.3.quad_interaction.scale_sbf_sum', 'int_blocks.3.quad_interaction.scale_sbf_sum'), ('int_blocks.3.atom_edge_interaction.scale_rbf', 'int_blocks.3.atom_edge_interaction.scale_rbf'), ('int_blocks.3.atom_edge_interaction.scale_cbf_sum', 'int_blocks.3.atom_edge_interaction.scale_cbf_sum'), ('int_blocks.3.edge_atom_interaction.scale_rbf', 'int_blocks.3.edge_atom_interaction.scale_rbf'), ('int_blocks.3.edge_atom_interaction.scale_cbf_sum', 'int_blocks.3.edge_atom_interaction.scale_cbf_sum'), ('int_blocks.3.atom_interaction.scale_rbf_sum', 'int_blocks.3.atom_interaction.scale_rbf_sum'), ('int_blocks.3.atom_update.scale_sum', 'int_blocks.3.atom_update.scale_sum'), ('out_blocks.0.scale_sum', 'out_blocks.0.scale_sum'), ('out_blocks.0.scale_rbf_F', 'out_blocks.0.scale_rbf_F'), ('out_blocks.1.scale_sum', 'out_blocks.1.scale_sum'), ('out_blocks.1.scale_rbf_F', 'out_blocks.1.scale_rbf_F'), ('out_blocks.2.scale_sum', 'out_blocks.2.scale_sum'), ('out_blocks.2.scale_rbf_F', 'out_blocks.2.scale_rbf_F'), ('out_blocks.3.scale_sum', 'out_blocks.3.scale_sum'), ('out_blocks.3.scale_rbf_F', 'out_blocks.3.scale_rbf_F'), ('out_blocks.4.scale_sum', 'out_blocks.4.scale_sum'), ('out_blocks.4.scale_rbf_F', 'out_blocks.4.scale_rbf_F')].\n",
      "CRITICAL:root:Loaded the following scale factors: ['int_blocks.3.atom_edge_interaction.scale_cbf_sum', 'int_blocks.0.trip_interaction.scale_cbf_sum', 'int_blocks.0.trip_interaction.scale_rbf', 'int_blocks.2.atom_edge_interaction.scale_rbf', 'int_blocks.1.atom_edge_interaction.scale_rbf', 'int_blocks.0.quad_interaction.scale_rbf', 'int_blocks.1.atom_interaction.scale_rbf_sum', 'int_blocks.0.atom_edge_interaction.scale_cbf_sum', 'out_blocks.3.scale_sum', 'int_blocks.1.trip_interaction.scale_cbf_sum', 'out_blocks.1.scale_rbf_F', 'int_blocks.3.quad_interaction.scale_rbf', 'int_blocks.2.atom_edge_interaction.scale_cbf_sum', 'int_blocks.3.atom_interaction.scale_rbf_sum', 'out_blocks.0.scale_sum', 'int_blocks.0.quad_interaction.scale_sbf_sum', 'int_blocks.2.atom_interaction.scale_rbf_sum', 'int_blocks.3.trip_interaction.scale_rbf', 'out_blocks.0.scale_rbf_F', 'out_blocks.3.scale_rbf_F', 'int_blocks.1.quad_interaction.scale_sbf_sum', 'int_blocks.1.edge_atom_interaction.scale_rbf', 'int_blocks.0.edge_atom_interaction.scale_cbf_sum', 'int_blocks.0.atom_update.scale_sum', 'int_blocks.2.quad_interaction.scale_sbf_sum', 'int_blocks.3.quad_interaction.scale_cbf', 'int_blocks.3.quad_interaction.scale_sbf_sum', 'out_blocks.2.scale_sum', 'int_blocks.0.quad_interaction.scale_cbf', 'int_blocks.2.edge_atom_interaction.scale_rbf', 'out_blocks.4.scale_sum', 'int_blocks.3.edge_atom_interaction.scale_rbf', 'out_blocks.4.scale_rbf_F', 'out_blocks.2.scale_rbf_F', 'int_blocks.3.atom_update.scale_sum', 'int_blocks.1.atom_update.scale_sum', 'out_blocks.1.scale_sum', 'int_blocks.1.trip_interaction.scale_rbf', 'int_blocks.1.atom_edge_interaction.scale_cbf_sum', 'int_blocks.2.quad_interaction.scale_rbf', 'int_blocks.1.quad_interaction.scale_cbf', 'int_blocks.2.edge_atom_interaction.scale_cbf_sum', 'int_blocks.1.quad_interaction.scale_rbf', 'int_blocks.2.quad_interaction.scale_cbf', 'int_blocks.3.edge_atom_interaction.scale_cbf_sum', 'int_blocks.2.trip_interaction.scale_rbf', 'int_blocks.2.trip_interaction.scale_cbf_sum', 'int_blocks.3.trip_interaction.scale_cbf_sum', 'int_blocks.2.atom_update.scale_sum', 'int_blocks.0.atom_edge_interaction.scale_rbf', 'int_blocks.3.atom_edge_interaction.scale_rbf', 'int_blocks.0.edge_atom_interaction.scale_rbf', 'int_blocks.1.edge_atom_interaction.scale_cbf_sum', 'int_blocks.0.atom_interaction.scale_rbf_sum'].\n",
      "Did not load the following scale factors: [].\n",
      "INFO:jmp.models.gemnet.backbone:Removed the following unnecessary state dict keys from the checkpoint: ['output.out_energy.0.0.weight', 'output.out_energy.0.0.bias', 'output.out_energy.0.2.weight', 'output.out_energy.0.2.bias', 'output.out_energy.0.4.weight', 'output.out_energy.0.4.bias', 'output.out_energy.0.6.weight', 'output.out_energy.0.6.bias', 'output.out_energy.0.8.weight', 'output.out_energy.1.0.weight', 'output.out_energy.1.0.bias', 'output.out_energy.1.2.weight', 'output.out_energy.1.2.bias', 'output.out_energy.1.4.weight', 'output.out_energy.1.4.bias', 'output.out_energy.1.6.weight', 'output.out_energy.1.6.bias', 'output.out_energy.1.8.weight', 'output.out_energy.2.0.weight', 'output.out_energy.2.0.bias', 'output.out_energy.2.2.weight', 'output.out_energy.2.2.bias', 'output.out_energy.2.4.weight', 'output.out_energy.2.4.bias', 'output.out_energy.2.6.weight', 'output.out_energy.2.6.bias', 'output.out_energy.2.8.weight', 'output.out_energy.3.0.weight', 'output.out_energy.3.0.bias', 'output.out_energy.3.2.weight', 'output.out_energy.3.2.bias', 'output.out_energy.3.4.weight', 'output.out_energy.3.4.bias', 'output.out_energy.3.6.weight', 'output.out_energy.3.6.bias', 'output.out_energy.3.8.weight', 'output.out_forces.0.0.weight', 'output.out_forces.0.0.bias', 'output.out_forces.0.2.weight', 'output.out_forces.0.2.bias', 'output.out_forces.0.4.weight', 'output.out_forces.0.4.bias', 'output.out_forces.0.6.weight', 'output.out_forces.0.6.bias', 'output.out_forces.0.8.weight', 'output.out_forces.1.0.weight', 'output.out_forces.1.0.bias', 'output.out_forces.1.2.weight', 'output.out_forces.1.2.bias', 'output.out_forces.1.4.weight', 'output.out_forces.1.4.bias', 'output.out_forces.1.6.weight', 'output.out_forces.1.6.bias', 'output.out_forces.1.8.weight', 'output.out_forces.2.0.weight', 'output.out_forces.2.0.bias', 'output.out_forces.2.2.weight', 'output.out_forces.2.2.bias', 'output.out_forces.2.4.weight', 'output.out_forces.2.4.bias', 'output.out_forces.2.6.weight', 'output.out_forces.2.6.bias', 'output.out_forces.2.8.weight', 'output.out_forces.3.0.weight', 'output.out_forces.3.0.bias', 'output.out_forces.3.2.weight', 'output.out_forces.3.2.bias', 'output.out_forces.3.4.weight', 'output.out_forces.3.4.bias', 'output.out_forces.3.6.weight', 'output.out_forces.3.6.bias', 'output.out_forces.3.8.weight', 'task_steps._module_dict._typed_moduledict_oc20.value', 'task_steps._module_dict._typed_moduledict_oc22.value', 'task_steps._module_dict._typed_moduledict_ani1x.value', 'task_steps._module_dict._typed_moduledict_transition1x.value']\n",
      "INFO:jmp.relaxation.wbm:Subset the dataset to 100 rows.\n"
     ]
    },
    {
     "data": {
      "application/vnd.jupyter.widget-view+json": {
       "model_id": "d36a6ae389e34dc4a2e284d1c62eb85d",
       "version_major": 2,
       "version_minor": 0
      },
      "text/plain": [
       "Relaxing WBM:   0%|          | 0/100 [00:00<?, ?it/s]"
      ]
     },
     "metadata": {},
     "output_type": "display_data"
    },
    {
     "data": {
      "text/html": [
       "<script> (()=>{ if (customElements.get('treescope-container') === undefined) { class TreescopeContainer extends HTMLElement { constructor() { super(); this.attachShadow({mode: \"open\"}); this.defns = {}; this.state = {}; } } customElements.define(\"treescope-container\", TreescopeContainer); } if (customElements.get('treescope-run-here') === undefined) { class RunHere extends HTMLElement { constructor() { super() } connectedCallback() { const run = child => { const fn = new Function(child.textContent); child.textContent = \"\"; fn.call(this); this.remove(); }; const child = this.querySelector(\"script\"); if (child) { run(child); } else { new MutationObserver(()=>{ run(this.querySelector(\"script\")); }).observe(this, {childList: true}); } } } customElements.define(\"treescope-run-here\", RunHere); } })(); </script> <treescope-container class=\"treescope_out_088befbffceb470da022c99cd0ba8462\" ></treescope-container> <treescope-run-here><script type=\"application/octet-stream\"> const root = ( Array.from(document.getElementsByClassName( \"treescope_out_088befbffceb470da022c99cd0ba8462\")) .filter((elt) => !elt.dataset.setup) )[0]; root.dataset.setup = 1; const msg = document.createElement(\"span\"); msg.style = \"color: #cccccc; font-family: monospace;\"; msg.textContent = \"(Loading...)\"; root.state.loadingMsg = msg; root.shadowRoot.appendChild(msg); root.state.chain = new Promise((resolve, reject) => { const observer = new IntersectionObserver((entries) => { for (const entry of entries) { if (entry.isIntersecting) { resolve(); observer.disconnect(); return; } } }, {rootMargin: \"1000px\"}); window.setTimeout(() => { observer.observe(root); }, 0); }); root.state.deferring = false; const _insertNode = (node) => { for (let oldScript of node.querySelectorAll(\"script\")) { let newScript = document.createElement(\"script\"); newScript.type = oldScript.type; newScript.textContent = oldScript.textContent; oldScript.parentNode.replaceChild(newScript, oldScript); } if (root.state.loadingMsg) { root.state.loadingMsg.remove(); root.state.loadingMsg = null; } root.shadowRoot.appendChild(node); }; root.defns.insertContent = ((contentNode, compressed) => { if (compressed) { root.state.deferring = true; } if (root.state.deferring) { root.state.chain = (async () => { await root.state.chain; if (compressed) { const encoded = contentNode.textContent; const blob = new Blob([ Uint8Array.from(atob(encoded), (m) => m.codePointAt(0)) ]); const reader = blob.stream().pipeThrough( new DecompressionStream(\"deflate\") ).pipeThrough( new TextDecoderStream(\"utf-8\") ).getReader(); const parts = []; while (true) { const step = await reader.read(); if (step.done) { break; } parts.push(step.value); } const tpl = document.createElement('template'); tpl.innerHTML = parts.join(\"\"); _insertNode(tpl.content); } else { _insertNode(contentNode.content); } })(); } else { _insertNode(contentNode.content); } }); </script></treescope-run-here><div style=\"display:none\"> <script type=\"application/octet-stream\" >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</script> <treescope-run-here><script type=\"application/octet-stream\"> const root = ( Array.from(document.getElementsByClassName( \"treescope_out_088befbffceb470da022c99cd0ba8462\")) .filter((elt) => !elt.dataset['step0']) )[0]; root.dataset['step0'] = 1; root.defns.insertContent( this.parentNode.querySelector('script[type=\"application/octet-stream\"]'), true ); this.parentNode.remove(); </script></treescope-run-here> </div>"
      ],
      "text/plain": [
       "<IPython.core.display.HTML object>"
      ]
     },
     "metadata": {},
     "output_type": "display_data"
    },
    {
     "data": {
      "text/html": [
       "<treescope-run-here><script type=\"application/octet-stream\"> const root = ( Array.from(document.getElementsByClassName( \"treescope_out_088befbffceb470da022c99cd0ba8462\")) .filter((elt) => !elt.dataset.stolen) )[0]; root.dataset.stolen = 1; this.parentNode.replaceChild(root, this); </script></treescope-run-here>"
      ],
      "text/plain": [
       "[None]"
      ]
     },
     "execution_count": 4,
     "metadata": {},
     "output_type": "execute_result"
    }
   ],
   "source": [
    "import nshrunner as nr\n",
    "from jmp.relaxation.wbm import relax_wbm_run_fn\n",
    "\n",
    "\n",
    "def update_lm_config(config: jc.Config):\n",
    "    config.energy_referencer = jc.PerAtomReferencerConfig.linear_reference(\n",
    "        \"mptrj-salex\"\n",
    "    )\n",
    "    return config\n",
    "\n",
    "\n",
    "results_dir = Path.cwd() / f\"results/{config.ckpt_path.stem}\"\n",
    "results_dir.mkdir(parents=True, exist_ok=True)\n",
    "distributed_configs = config.subset_(10_000).distributed(1)\n",
    "run_args = [(config, results_dir, update_lm_config) for config in distributed_configs]\n",
    "\n",
    "runner = nr.Runner(relax_wbm_run_fn, nr.RunnerConfig(working_dir=Path.cwd()))\n",
    "runner.local(run_args)\n",
    "# runner.session(run_args, snapshot=False)"
   ]
  }
 ],
 "metadata": {
  "kernelspec": {
   "display_name": "jmp-peft",
   "language": "python",
   "name": "python3"
  },
  "language_info": {
   "codemirror_mode": {
    "name": "ipython",
    "version": 3
   },
   "file_extension": ".py",
   "mimetype": "text/x-python",
   "name": "python",
   "nbconvert_exporter": "python",
   "pygments_lexer": "ipython3",
   "version": "3.11.9"
  }
 },
 "nbformat": 4,
 "nbformat_minor": 2
}
