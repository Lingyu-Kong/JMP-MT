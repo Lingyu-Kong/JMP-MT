{
 "cells": [
  {
   "cell_type": "code",
   "execution_count": 1,
   "metadata": {},
   "outputs": [
    {
     "name": "stderr",
     "output_type": "stream",
     "text": [
      "Type checking the following modules: ('jmppeft',)\n"
     ]
    },
    {
     "data": {
      "text/html": [
       "<script> (()=>{ if (customElements.get('treescope-container') === undefined) { class TreescopeContainer extends HTMLElement { constructor() { super(); this.attachShadow({mode: \"open\"}); this.defns = {}; this.state = {}; } } customElements.define(\"treescope-container\", TreescopeContainer); } if (customElements.get('treescope-run-here') === undefined) { class RunHere extends HTMLElement { constructor() { super() } connectedCallback() { const run = child => { const fn = new Function(child.textContent); child.textContent = \"\"; fn.call(this); this.remove(); }; const child = this.querySelector(\"script\"); if (child) { run(child); } else { new MutationObserver(()=>{ run(this.querySelector(\"script\")); }).observe(this, {childList: true}); } } } customElements.define(\"treescope-run-here\", RunHere); } })(); </script> <treescope-container class=\"treescope_out_884f13c790f74f5e8e0e97868d84c9c9\" ></treescope-container> <treescope-run-here><script type=\"application/octet-stream\"> const root = ( Array.from(document.getElementsByClassName( \"treescope_out_884f13c790f74f5e8e0e97868d84c9c9\")) .filter((elt) => !elt.dataset.setup) )[0]; root.dataset.setup = 1; const msg = document.createElement(\"span\"); msg.style = \"color: #cccccc; font-family: monospace;\"; msg.textContent = \"(Loading...)\"; root.state.loadingMsg = msg; root.shadowRoot.appendChild(msg); root.state.chain = new Promise((resolve, reject) => { const observer = new IntersectionObserver((entries) => { for (const entry of entries) { if (entry.isIntersecting) { resolve(); observer.disconnect(); return; } } }, {rootMargin: \"1000px\"}); window.setTimeout(() => { observer.observe(root); }, 0); }); root.state.deferring = false; const _insertNode = (node) => { for (let oldScript of node.querySelectorAll(\"script\")) { let newScript = document.createElement(\"script\"); newScript.type = oldScript.type; newScript.textContent = oldScript.textContent; oldScript.parentNode.replaceChild(newScript, oldScript); } if (root.state.loadingMsg) { root.state.loadingMsg.remove(); root.state.loadingMsg = null; } root.shadowRoot.appendChild(node); }; root.defns.insertContent = ((contentNode, compressed) => { if (compressed) { root.state.deferring = true; } if (root.state.deferring) { root.state.chain = (async () => { await root.state.chain; if (compressed) { const encoded = contentNode.textContent; const blob = new Blob([ Uint8Array.from(atob(encoded), (m) => m.codePointAt(0)) ]); const reader = blob.stream().pipeThrough( new DecompressionStream(\"deflate\") ).pipeThrough( new TextDecoderStream(\"utf-8\") ).getReader(); const parts = []; while (true) { const step = await reader.read(); if (step.done) { break; } parts.push(step.value); } const tpl = document.createElement('template'); tpl.innerHTML = parts.join(\"\"); _insertNode(tpl.content); } else { _insertNode(contentNode.content); } })(); } else { _insertNode(contentNode.content); } }); </script></treescope-run-here><div style=\"display:none\"> <script type=\"application/octet-stream\" >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</script> <treescope-run-here><script type=\"application/octet-stream\"> const root = ( Array.from(document.getElementsByClassName( \"treescope_out_884f13c790f74f5e8e0e97868d84c9c9\")) .filter((elt) => !elt.dataset['step0']) )[0]; root.dataset['step0'] = 1; root.defns.insertContent( this.parentNode.querySelector('script[type=\"application/octet-stream\"]'), true ); this.parentNode.remove(); </script></treescope-run-here> </div>"
      ],
      "text/plain": [
       "<IPython.core.display.HTML object>"
      ]
     },
     "metadata": {},
     "output_type": "display_data"
    }
   ],
   "source": [
    "from __future__ import annotations\n",
    "\n",
    "from pathlib import Path\n",
    "\n",
    "import jmp.config as jc\n",
    "import nshutils as nu\n",
    "\n",
    "ckpt_path = Path(\n",
    "    \"/net/csefiles/coc-fung-cluster/nima/shared/experiment-data/nshtrainer/3ico36yf/checkpoint/last/epoch0-step28722.ckpt\"\n",
    ")\n",
    "assert ckpt_path.exists()\n",
    "\n",
    "config = jc.RelaxWBMConfig.draft()\n",
    "config.ckpt_path = ckpt_path\n",
    "config.relaxer = jc.RelaxerConfig.draft()\n",
    "config.relaxer.optimizer = \"FIRE\"\n",
    "config.relaxer.force_max = 0.02\n",
    "config.relaxer.max_steps = 500\n",
    "config = config.finalize()\n",
    "nu.display(config)"
   ]
  },
  {
   "cell_type": "code",
   "execution_count": 2,
   "metadata": {},
   "outputs": [
    {
     "data": {
      "application/vnd.jupyter.widget-view+json": {
       "model_id": "403c823dc6e8478799888cfc01ae459f",
       "version_major": 2,
       "version_minor": 0
      },
      "text/plain": [
       "  0%|          | 0/1 [00:00<?, ?it/s]"
      ]
     },
     "metadata": {},
     "output_type": "display_data"
    },
    {
     "name": "stderr",
     "output_type": "stream",
     "text": [
      "Seed set to 0\n"
     ]
    },
    {
     "name": "stdout",
     "output_type": "stream",
     "text": [
      "Unrecognized arguments:  dict_keys(['ln', 'dropout', 'replace_scale_factors_with_ln', 'learnable_rbf', 'learnable_rbf_stds', 'unique_basis_per_layer', 'old_gaussian_implementation', 'edge_dropout'])\n"
     ]
    },
    {
     "name": "stderr",
     "output_type": "stream",
     "text": [
      "CRITICAL:root:Found the following scale factors: [('int_blocks.0.trip_interaction.scale_rbf', 'int_blocks.0.trip_interaction.scale_rbf'), ('int_blocks.0.trip_interaction.scale_cbf_sum', 'int_blocks.0.trip_interaction.scale_cbf_sum'), ('int_blocks.0.quad_interaction.scale_rbf', 'int_blocks.0.quad_interaction.scale_rbf'), ('int_blocks.0.quad_interaction.scale_cbf', 'int_blocks.0.quad_interaction.scale_cbf'), ('int_blocks.0.quad_interaction.scale_sbf_sum', 'int_blocks.0.quad_interaction.scale_sbf_sum'), ('int_blocks.0.atom_edge_interaction.scale_rbf', 'int_blocks.0.atom_edge_interaction.scale_rbf'), ('int_blocks.0.atom_edge_interaction.scale_cbf_sum', 'int_blocks.0.atom_edge_interaction.scale_cbf_sum'), ('int_blocks.0.edge_atom_interaction.scale_rbf', 'int_blocks.0.edge_atom_interaction.scale_rbf'), ('int_blocks.0.edge_atom_interaction.scale_cbf_sum', 'int_blocks.0.edge_atom_interaction.scale_cbf_sum'), ('int_blocks.0.atom_interaction.scale_rbf_sum', 'int_blocks.0.atom_interaction.scale_rbf_sum'), ('int_blocks.0.atom_update.scale_sum', 'int_blocks.0.atom_update.scale_sum'), ('int_blocks.1.trip_interaction.scale_rbf', 'int_blocks.1.trip_interaction.scale_rbf'), ('int_blocks.1.trip_interaction.scale_cbf_sum', 'int_blocks.1.trip_interaction.scale_cbf_sum'), ('int_blocks.1.quad_interaction.scale_rbf', 'int_blocks.1.quad_interaction.scale_rbf'), ('int_blocks.1.quad_interaction.scale_cbf', 'int_blocks.1.quad_interaction.scale_cbf'), ('int_blocks.1.quad_interaction.scale_sbf_sum', 'int_blocks.1.quad_interaction.scale_sbf_sum'), ('int_blocks.1.atom_edge_interaction.scale_rbf', 'int_blocks.1.atom_edge_interaction.scale_rbf'), ('int_blocks.1.atom_edge_interaction.scale_cbf_sum', 'int_blocks.1.atom_edge_interaction.scale_cbf_sum'), ('int_blocks.1.edge_atom_interaction.scale_rbf', 'int_blocks.1.edge_atom_interaction.scale_rbf'), ('int_blocks.1.edge_atom_interaction.scale_cbf_sum', 'int_blocks.1.edge_atom_interaction.scale_cbf_sum'), ('int_blocks.1.atom_interaction.scale_rbf_sum', 'int_blocks.1.atom_interaction.scale_rbf_sum'), ('int_blocks.1.atom_update.scale_sum', 'int_blocks.1.atom_update.scale_sum'), ('int_blocks.2.trip_interaction.scale_rbf', 'int_blocks.2.trip_interaction.scale_rbf'), ('int_blocks.2.trip_interaction.scale_cbf_sum', 'int_blocks.2.trip_interaction.scale_cbf_sum'), ('int_blocks.2.quad_interaction.scale_rbf', 'int_blocks.2.quad_interaction.scale_rbf'), ('int_blocks.2.quad_interaction.scale_cbf', 'int_blocks.2.quad_interaction.scale_cbf'), ('int_blocks.2.quad_interaction.scale_sbf_sum', 'int_blocks.2.quad_interaction.scale_sbf_sum'), ('int_blocks.2.atom_edge_interaction.scale_rbf', 'int_blocks.2.atom_edge_interaction.scale_rbf'), ('int_blocks.2.atom_edge_interaction.scale_cbf_sum', 'int_blocks.2.atom_edge_interaction.scale_cbf_sum'), ('int_blocks.2.edge_atom_interaction.scale_rbf', 'int_blocks.2.edge_atom_interaction.scale_rbf'), ('int_blocks.2.edge_atom_interaction.scale_cbf_sum', 'int_blocks.2.edge_atom_interaction.scale_cbf_sum'), ('int_blocks.2.atom_interaction.scale_rbf_sum', 'int_blocks.2.atom_interaction.scale_rbf_sum'), ('int_blocks.2.atom_update.scale_sum', 'int_blocks.2.atom_update.scale_sum'), ('int_blocks.3.trip_interaction.scale_rbf', 'int_blocks.3.trip_interaction.scale_rbf'), ('int_blocks.3.trip_interaction.scale_cbf_sum', 'int_blocks.3.trip_interaction.scale_cbf_sum'), ('int_blocks.3.quad_interaction.scale_rbf', 'int_blocks.3.quad_interaction.scale_rbf'), ('int_blocks.3.quad_interaction.scale_cbf', 'int_blocks.3.quad_interaction.scale_cbf'), ('int_blocks.3.quad_interaction.scale_sbf_sum', 'int_blocks.3.quad_interaction.scale_sbf_sum'), ('int_blocks.3.atom_edge_interaction.scale_rbf', 'int_blocks.3.atom_edge_interaction.scale_rbf'), ('int_blocks.3.atom_edge_interaction.scale_cbf_sum', 'int_blocks.3.atom_edge_interaction.scale_cbf_sum'), ('int_blocks.3.edge_atom_interaction.scale_rbf', 'int_blocks.3.edge_atom_interaction.scale_rbf'), ('int_blocks.3.edge_atom_interaction.scale_cbf_sum', 'int_blocks.3.edge_atom_interaction.scale_cbf_sum'), ('int_blocks.3.atom_interaction.scale_rbf_sum', 'int_blocks.3.atom_interaction.scale_rbf_sum'), ('int_blocks.3.atom_update.scale_sum', 'int_blocks.3.atom_update.scale_sum'), ('out_blocks.0.scale_sum', 'out_blocks.0.scale_sum'), ('out_blocks.0.scale_rbf_F', 'out_blocks.0.scale_rbf_F'), ('out_blocks.1.scale_sum', 'out_blocks.1.scale_sum'), ('out_blocks.1.scale_rbf_F', 'out_blocks.1.scale_rbf_F'), ('out_blocks.2.scale_sum', 'out_blocks.2.scale_sum'), ('out_blocks.2.scale_rbf_F', 'out_blocks.2.scale_rbf_F'), ('out_blocks.3.scale_sum', 'out_blocks.3.scale_sum'), ('out_blocks.3.scale_rbf_F', 'out_blocks.3.scale_rbf_F'), ('out_blocks.4.scale_sum', 'out_blocks.4.scale_sum'), ('out_blocks.4.scale_rbf_F', 'out_blocks.4.scale_rbf_F')].\n",
      "CRITICAL:root:Loaded the following scale factors: ['int_blocks.2.edge_atom_interaction.scale_cbf_sum', 'int_blocks.1.quad_interaction.scale_rbf', 'int_blocks.1.atom_update.scale_sum', 'int_blocks.1.atom_interaction.scale_rbf_sum', 'int_blocks.0.edge_atom_interaction.scale_cbf_sum', 'int_blocks.3.quad_interaction.scale_sbf_sum', 'int_blocks.1.edge_atom_interaction.scale_rbf', 'out_blocks.2.scale_sum', 'int_blocks.0.atom_interaction.scale_rbf_sum', 'int_blocks.1.edge_atom_interaction.scale_cbf_sum', 'out_blocks.1.scale_rbf_F', 'int_blocks.3.atom_update.scale_sum', 'int_blocks.0.trip_interaction.scale_rbf', 'int_blocks.2.trip_interaction.scale_cbf_sum', 'int_blocks.3.edge_atom_interaction.scale_rbf', 'out_blocks.3.scale_rbf_F', 'out_blocks.4.scale_sum', 'int_blocks.2.atom_edge_interaction.scale_cbf_sum', 'int_blocks.1.quad_interaction.scale_sbf_sum', 'int_blocks.1.atom_edge_interaction.scale_cbf_sum', 'int_blocks.1.atom_edge_interaction.scale_rbf', 'int_blocks.0.quad_interaction.scale_sbf_sum', 'int_blocks.3.atom_edge_interaction.scale_cbf_sum', 'int_blocks.3.atom_interaction.scale_rbf_sum', 'int_blocks.3.quad_interaction.scale_rbf', 'out_blocks.4.scale_rbf_F', 'int_blocks.3.quad_interaction.scale_cbf', 'int_blocks.2.quad_interaction.scale_cbf', 'int_blocks.0.trip_interaction.scale_cbf_sum', 'int_blocks.0.edge_atom_interaction.scale_rbf', 'int_blocks.3.trip_interaction.scale_rbf', 'int_blocks.3.trip_interaction.scale_cbf_sum', 'out_blocks.3.scale_sum', 'int_blocks.0.quad_interaction.scale_rbf', 'int_blocks.3.atom_edge_interaction.scale_rbf', 'int_blocks.1.trip_interaction.scale_cbf_sum', 'int_blocks.1.quad_interaction.scale_cbf', 'int_blocks.2.trip_interaction.scale_rbf', 'int_blocks.2.atom_interaction.scale_rbf_sum', 'int_blocks.1.trip_interaction.scale_rbf', 'out_blocks.0.scale_rbf_F', 'out_blocks.2.scale_rbf_F', 'int_blocks.2.edge_atom_interaction.scale_rbf', 'int_blocks.0.atom_edge_interaction.scale_rbf', 'int_blocks.0.atom_edge_interaction.scale_cbf_sum', 'int_blocks.2.atom_edge_interaction.scale_rbf', 'int_blocks.0.atom_update.scale_sum', 'int_blocks.2.quad_interaction.scale_rbf', 'int_blocks.2.atom_update.scale_sum', 'out_blocks.0.scale_sum', 'int_blocks.2.quad_interaction.scale_sbf_sum', 'int_blocks.3.edge_atom_interaction.scale_cbf_sum', 'int_blocks.0.quad_interaction.scale_cbf', 'out_blocks.1.scale_sum'].\n",
      "Did not load the following scale factors: [].\n",
      "INFO:jmp.models.gemnet.backbone:Removed the following unnecessary state dict keys from the checkpoint: ['output.out_energy.0.0.weight', 'output.out_energy.0.0.bias', 'output.out_energy.0.2.weight', 'output.out_energy.0.2.bias', 'output.out_energy.0.4.weight', 'output.out_energy.0.4.bias', 'output.out_energy.0.6.weight', 'output.out_energy.0.6.bias', 'output.out_energy.0.8.weight', 'output.out_energy.1.0.weight', 'output.out_energy.1.0.bias', 'output.out_energy.1.2.weight', 'output.out_energy.1.2.bias', 'output.out_energy.1.4.weight', 'output.out_energy.1.4.bias', 'output.out_energy.1.6.weight', 'output.out_energy.1.6.bias', 'output.out_energy.1.8.weight', 'output.out_energy.2.0.weight', 'output.out_energy.2.0.bias', 'output.out_energy.2.2.weight', 'output.out_energy.2.2.bias', 'output.out_energy.2.4.weight', 'output.out_energy.2.4.bias', 'output.out_energy.2.6.weight', 'output.out_energy.2.6.bias', 'output.out_energy.2.8.weight', 'output.out_energy.3.0.weight', 'output.out_energy.3.0.bias', 'output.out_energy.3.2.weight', 'output.out_energy.3.2.bias', 'output.out_energy.3.4.weight', 'output.out_energy.3.4.bias', 'output.out_energy.3.6.weight', 'output.out_energy.3.6.bias', 'output.out_energy.3.8.weight', 'output.out_forces.0.0.weight', 'output.out_forces.0.0.bias', 'output.out_forces.0.2.weight', 'output.out_forces.0.2.bias', 'output.out_forces.0.4.weight', 'output.out_forces.0.4.bias', 'output.out_forces.0.6.weight', 'output.out_forces.0.6.bias', 'output.out_forces.0.8.weight', 'output.out_forces.1.0.weight', 'output.out_forces.1.0.bias', 'output.out_forces.1.2.weight', 'output.out_forces.1.2.bias', 'output.out_forces.1.4.weight', 'output.out_forces.1.4.bias', 'output.out_forces.1.6.weight', 'output.out_forces.1.6.bias', 'output.out_forces.1.8.weight', 'output.out_forces.2.0.weight', 'output.out_forces.2.0.bias', 'output.out_forces.2.2.weight', 'output.out_forces.2.2.bias', 'output.out_forces.2.4.weight', 'output.out_forces.2.4.bias', 'output.out_forces.2.6.weight', 'output.out_forces.2.6.bias', 'output.out_forces.2.8.weight', 'output.out_forces.3.0.weight', 'output.out_forces.3.0.bias', 'output.out_forces.3.2.weight', 'output.out_forces.3.2.bias', 'output.out_forces.3.4.weight', 'output.out_forces.3.4.bias', 'output.out_forces.3.6.weight', 'output.out_forces.3.6.bias', 'output.out_forces.3.8.weight', 'task_steps._module_dict._typed_moduledict_oc20.value', 'task_steps._module_dict._typed_moduledict_oc22.value', 'task_steps._module_dict._typed_moduledict_ani1x.value', 'task_steps._module_dict._typed_moduledict_transition1x.value']\n",
      "INFO:jmp.relaxation.wbm:Subset the dataset to 100 rows.\n"
     ]
    },
    {
     "data": {
      "application/vnd.jupyter.widget-view+json": {
       "model_id": "50aa51df3d2b4b0b8fc6e2ea0907cfe3",
       "version_major": 2,
       "version_minor": 0
      },
      "text/plain": [
       "Relaxing WBM:   0%|          | 0/100 [00:00<?, ?it/s]"
      ]
     },
     "metadata": {},
     "output_type": "display_data"
    },
    {
     "data": {
      "text/html": [
       "<script> (()=>{ if (customElements.get('treescope-container') === undefined) { class TreescopeContainer extends HTMLElement { constructor() { super(); this.attachShadow({mode: \"open\"}); this.defns = {}; this.state = {}; } } customElements.define(\"treescope-container\", TreescopeContainer); } if (customElements.get('treescope-run-here') === undefined) { class RunHere extends HTMLElement { constructor() { super() } connectedCallback() { const run = child => { const fn = new Function(child.textContent); child.textContent = \"\"; fn.call(this); this.remove(); }; const child = this.querySelector(\"script\"); if (child) { run(child); } else { new MutationObserver(()=>{ run(this.querySelector(\"script\")); }).observe(this, {childList: true}); } } } customElements.define(\"treescope-run-here\", RunHere); } })(); </script> <treescope-container class=\"treescope_out_d53eae4600824e0490930e5e36d01758\" ></treescope-container> <treescope-run-here><script type=\"application/octet-stream\"> const root = ( Array.from(document.getElementsByClassName( \"treescope_out_d53eae4600824e0490930e5e36d01758\")) .filter((elt) => !elt.dataset.setup) )[0]; root.dataset.setup = 1; const msg = document.createElement(\"span\"); msg.style = \"color: #cccccc; font-family: monospace;\"; msg.textContent = \"(Loading...)\"; root.state.loadingMsg = msg; root.shadowRoot.appendChild(msg); root.state.chain = new Promise((resolve, reject) => { const observer = new IntersectionObserver((entries) => { for (const entry of entries) { if (entry.isIntersecting) { resolve(); observer.disconnect(); return; } } }, {rootMargin: \"1000px\"}); window.setTimeout(() => { observer.observe(root); }, 0); }); root.state.deferring = false; const _insertNode = (node) => { for (let oldScript of node.querySelectorAll(\"script\")) { let newScript = document.createElement(\"script\"); newScript.type = oldScript.type; newScript.textContent = oldScript.textContent; oldScript.parentNode.replaceChild(newScript, oldScript); } if (root.state.loadingMsg) { root.state.loadingMsg.remove(); root.state.loadingMsg = null; } root.shadowRoot.appendChild(node); }; root.defns.insertContent = ((contentNode, compressed) => { if (compressed) { root.state.deferring = true; } if (root.state.deferring) { root.state.chain = (async () => { await root.state.chain; if (compressed) { const encoded = contentNode.textContent; const blob = new Blob([ Uint8Array.from(atob(encoded), (m) => m.codePointAt(0)) ]); const reader = blob.stream().pipeThrough( new DecompressionStream(\"deflate\") ).pipeThrough( new TextDecoderStream(\"utf-8\") ).getReader(); const parts = []; while (true) { const step = await reader.read(); if (step.done) { break; } parts.push(step.value); } const tpl = document.createElement('template'); tpl.innerHTML = parts.join(\"\"); _insertNode(tpl.content); } else { _insertNode(contentNode.content); } })(); } else { _insertNode(contentNode.content); } }); </script></treescope-run-here><div style=\"display:none\"> <script type=\"application/octet-stream\" >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</script> <treescope-run-here><script type=\"application/octet-stream\"> const root = ( Array.from(document.getElementsByClassName( \"treescope_out_d53eae4600824e0490930e5e36d01758\")) .filter((elt) => !elt.dataset['step0']) )[0]; root.dataset['step0'] = 1; root.defns.insertContent( this.parentNode.querySelector('script[type=\"application/octet-stream\"]'), true ); this.parentNode.remove(); </script></treescope-run-here> </div>"
      ],
      "text/plain": [
       "<IPython.core.display.HTML object>"
      ]
     },
     "metadata": {},
     "output_type": "display_data"
    },
    {
     "data": {
      "text/html": [
       "<treescope-run-here><script type=\"application/octet-stream\"> const root = ( Array.from(document.getElementsByClassName( \"treescope_out_d53eae4600824e0490930e5e36d01758\")) .filter((elt) => !elt.dataset.stolen) )[0]; root.dataset.stolen = 1; this.parentNode.replaceChild(root, this); </script></treescope-run-here>"
      ],
      "text/plain": [
       "[None]"
      ]
     },
     "execution_count": 2,
     "metadata": {},
     "output_type": "execute_result"
    }
   ],
   "source": [
    "import nshrunner as nr\n",
    "from jmp.relaxation.wbm import relax_wbm_run_fn\n",
    "\n",
    "\n",
    "def update_lm_config(config: jc.Config):\n",
    "    config.energy_referencer = jc.PerAtomReferencerConfig.linear_reference(\n",
    "        \"mptrj-salex\"\n",
    "    )\n",
    "    return config\n",
    "\n",
    "\n",
    "results_dir = Path.cwd() / f\"results/{config.ckpt_path.stem}\"\n",
    "distributed_configs = config.subset_(100).distributed(1)\n",
    "run_args = [(config, results_dir, update_lm_config) for config in distributed_configs]\n",
    "\n",
    "runner = nr.Runner(relax_wbm_run_fn, nr.RunnerConfig(working_dir=Path.cwd()))\n",
    "runner.local(run_args)\n",
    "# runner.session(run_args, snapshot=False)"
   ]
  }
 ],
 "metadata": {
  "kernelspec": {
   "display_name": "jmp-peft",
   "language": "python",
   "name": "python3"
  },
  "language_info": {
   "codemirror_mode": {
    "name": "ipython",
    "version": 3
   },
   "file_extension": ".py",
   "mimetype": "text/x-python",
   "name": "python",
   "nbconvert_exporter": "python",
   "pygments_lexer": "ipython3",
   "version": "3.11.9"
  }
 },
 "nbformat": 4,
 "nbformat_minor": 2
}
