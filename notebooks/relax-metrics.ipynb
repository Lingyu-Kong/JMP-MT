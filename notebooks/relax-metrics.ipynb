{
 "cells": [
  {
   "cell_type": "code",
   "execution_count": 9,
   "metadata": {},
   "outputs": [
    {
     "data": {
      "application/vnd.jupyter.widget-view+json": {
       "model_id": "7f6e1a0885604622b154c6db7b173e7d",
       "version_major": 2,
       "version_minor": 0
      },
      "text/plain": [
       "  0%|          | 0/100 [00:00<?, ?it/s]"
      ]
     },
     "metadata": {},
     "output_type": "display_data"
    },
    {
     "data": {
      "text/html": [
       "<pre style=\"white-space:pre;overflow-x:auto;line-height:normal;font-family:Menlo,'DejaVu Sans Mono',consolas,'Courier New',monospace\"><span style=\"font-weight: bold\">{</span>\n",
       "    <span style=\"color: #008000; text-decoration-color: #008000\">'F1'</span>: <span style=\"color: #008080; text-decoration-color: #008080; font-weight: bold\">0.5</span>,\n",
       "    <span style=\"color: #008000; text-decoration-color: #008000\">'DAF'</span>: <span style=\"color: #008080; text-decoration-color: #008080; font-weight: bold\">4.292929292929292</span>,\n",
       "    <span style=\"color: #008000; text-decoration-color: #008000\">'Precision'</span>: <span style=\"color: #008080; text-decoration-color: #008080; font-weight: bold\">0.5555555555555556</span>,\n",
       "    <span style=\"color: #008000; text-decoration-color: #008000\">'Recall'</span>: <span style=\"color: #008080; text-decoration-color: #008080; font-weight: bold\">0.45454545454545453</span>,\n",
       "    <span style=\"color: #008000; text-decoration-color: #008000\">'Accuracy'</span>: <span style=\"color: #008080; text-decoration-color: #008080; font-weight: bold\">0.8823529411764706</span>,\n",
       "    <span style=\"color: #008000; text-decoration-color: #008000\">'TPR'</span>: <span style=\"color: #008080; text-decoration-color: #008080; font-weight: bold\">0.45454545454545453</span>,\n",
       "    <span style=\"color: #008000; text-decoration-color: #008000\">'FPR'</span>: <span style=\"color: #008080; text-decoration-color: #008080; font-weight: bold\">0.05405405405405406</span>,\n",
       "    <span style=\"color: #008000; text-decoration-color: #008000\">'TNR'</span>: <span style=\"color: #008080; text-decoration-color: #008080; font-weight: bold\">0.9459459459459459</span>,\n",
       "    <span style=\"color: #008000; text-decoration-color: #008000\">'FNR'</span>: <span style=\"color: #008080; text-decoration-color: #008080; font-weight: bold\">0.5454545454545454</span>,\n",
       "    <span style=\"color: #008000; text-decoration-color: #008000\">'TP'</span>: <span style=\"color: #008080; text-decoration-color: #008080; font-weight: bold\">5</span>,\n",
       "    <span style=\"color: #008000; text-decoration-color: #008000\">'FP'</span>: <span style=\"color: #008080; text-decoration-color: #008080; font-weight: bold\">4</span>,\n",
       "    <span style=\"color: #008000; text-decoration-color: #008000\">'TN'</span>: <span style=\"color: #008080; text-decoration-color: #008080; font-weight: bold\">70</span>,\n",
       "    <span style=\"color: #008000; text-decoration-color: #008000\">'FN'</span>: <span style=\"color: #008080; text-decoration-color: #008080; font-weight: bold\">6</span>,\n",
       "    <span style=\"color: #008000; text-decoration-color: #008000\">'MAE'</span>: <span style=\"color: #008080; text-decoration-color: #008080; font-weight: bold\">0.1614175737040884</span>,\n",
       "    <span style=\"color: #008000; text-decoration-color: #008000\">'RMSE'</span>: <span style=\"color: #008080; text-decoration-color: #008080; font-weight: bold\">0.26664921886092974</span>,\n",
       "    <span style=\"color: #008000; text-decoration-color: #008000\">'R2'</span>: <span style=\"color: #008080; text-decoration-color: #008080; font-weight: bold\">-0.6451545642797809</span>\n",
       "<span style=\"font-weight: bold\">}</span>\n",
       "</pre>\n"
      ],
      "text/plain": [
       "\u001b[1m{\u001b[0m\n",
       "    \u001b[32m'F1'\u001b[0m: \u001b[1;36m0.5\u001b[0m,\n",
       "    \u001b[32m'DAF'\u001b[0m: \u001b[1;36m4.292929292929292\u001b[0m,\n",
       "    \u001b[32m'Precision'\u001b[0m: \u001b[1;36m0.5555555555555556\u001b[0m,\n",
       "    \u001b[32m'Recall'\u001b[0m: \u001b[1;36m0.45454545454545453\u001b[0m,\n",
       "    \u001b[32m'Accuracy'\u001b[0m: \u001b[1;36m0.8823529411764706\u001b[0m,\n",
       "    \u001b[32m'TPR'\u001b[0m: \u001b[1;36m0.45454545454545453\u001b[0m,\n",
       "    \u001b[32m'FPR'\u001b[0m: \u001b[1;36m0.05405405405405406\u001b[0m,\n",
       "    \u001b[32m'TNR'\u001b[0m: \u001b[1;36m0.9459459459459459\u001b[0m,\n",
       "    \u001b[32m'FNR'\u001b[0m: \u001b[1;36m0.5454545454545454\u001b[0m,\n",
       "    \u001b[32m'TP'\u001b[0m: \u001b[1;36m5\u001b[0m,\n",
       "    \u001b[32m'FP'\u001b[0m: \u001b[1;36m4\u001b[0m,\n",
       "    \u001b[32m'TN'\u001b[0m: \u001b[1;36m70\u001b[0m,\n",
       "    \u001b[32m'FN'\u001b[0m: \u001b[1;36m6\u001b[0m,\n",
       "    \u001b[32m'MAE'\u001b[0m: \u001b[1;36m0.1614175737040884\u001b[0m,\n",
       "    \u001b[32m'RMSE'\u001b[0m: \u001b[1;36m0.26664921886092974\u001b[0m,\n",
       "    \u001b[32m'R2'\u001b[0m: \u001b[1;36m-0.6451545642797809\u001b[0m\n",
       "\u001b[1m}\u001b[0m\n"
      ]
     },
     "metadata": {},
     "output_type": "display_data"
    }
   ],
   "source": [
    "from __future__ import annotations\n",
    "\n",
    "from pathlib import Path\n",
    "\n",
    "import dill\n",
    "import numpy as np\n",
    "import rich\n",
    "from matbench_discovery.enums import MbdKey\n",
    "from matbench_discovery.metrics import stable_metrics\n",
    "from pymatviz import Key\n",
    "from tqdm.auto import tqdm\n",
    "\n",
    "results_dir = Path(\n",
    "    \"/net/csefiles/coc-fung-cluster/nima/shared/repositories/jmp-backbone/notebooks/results/epoch0-step28722\"\n",
    ")\n",
    "results = list(results_dir.glob(\"*.dill\"))\n",
    "\n",
    "predicted_eform_list: list[float] = []\n",
    "true_eform_list: list[float] = []\n",
    "\n",
    "predicted_ehull_list: list[float] = []\n",
    "true_ehull_list: list[float] = []\n",
    "\n",
    "for result_path in tqdm(results):\n",
    "    with result_path.open(\"rb\") as f:\n",
    "        result = dill.load(f)\n",
    "\n",
    "    # Ignore non-unique prototypes\n",
    "    if not result[\"metadata\"][Key.uniq_proto.value]:\n",
    "        continue\n",
    "\n",
    "    eform_pred = result[\"energy\"]\n",
    "    predicted_eform_list.append(eform_pred)\n",
    "\n",
    "    eform_true = result[\"metadata\"][MbdKey.e_form_wbm.value]\n",
    "    true_eform_list.append(eform_true)\n",
    "\n",
    "    hull_true = result[\"metadata\"][MbdKey.each_true.value]\n",
    "    true_ehull_list.append(hull_true)\n",
    "\n",
    "    hull_pred = hull_true + (eform_pred - eform_true)\n",
    "    predicted_ehull_list.append(hull_pred)\n",
    "\n",
    "predicted_eform = np.array(predicted_eform_list)\n",
    "true_eform = np.array(true_eform_list)\n",
    "\n",
    "predicted_ehull = np.array(predicted_ehull_list)\n",
    "true_ehull = np.array(true_ehull_list)\n",
    "\n",
    "rich.print(stable_metrics(true_ehull, predicted_ehull))"
   ]
  }
 ],
 "metadata": {
  "kernelspec": {
   "display_name": "jmp-peft",
   "language": "python",
   "name": "python3"
  },
  "language_info": {
   "codemirror_mode": {
    "name": "ipython",
    "version": 3
   },
   "file_extension": ".py",
   "mimetype": "text/x-python",
   "name": "python",
   "nbconvert_exporter": "python",
   "pygments_lexer": "ipython3",
   "version": "3.11.9"
  }
 },
 "nbformat": 4,
 "nbformat_minor": 2
}
