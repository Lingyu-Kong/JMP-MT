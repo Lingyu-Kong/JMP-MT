{
 "cells": [
  {
   "cell_type": "code",
   "execution_count": 1,
   "metadata": {},
   "outputs": [
    {
     "name": "stdout",
     "output_type": "stream",
     "text": [
      "Found 900 results\n"
     ]
    },
    {
     "data": {
      "application/vnd.jupyter.widget-view+json": {
       "model_id": "a16bea5b133345bca1cf549e3cd8b62b",
       "version_major": 2,
       "version_minor": 0
      },
      "text/plain": [
       "  0%|          | 0/900 [00:00<?, ?it/s]"
      ]
     },
     "metadata": {},
     "output_type": "display_data"
    },
    {
     "data": {
      "text/html": [
       "<pre style=\"white-space:pre;overflow-x:auto;line-height:normal;font-family:Menlo,'DejaVu Sans Mono',consolas,'Courier New',monospace\"><span style=\"font-weight: bold\">{</span>\n",
       "    <span style=\"color: #008000; text-decoration-color: #008000\">'F1'</span>: <span style=\"color: #008080; text-decoration-color: #008080; font-weight: bold\">0.5821596244131455</span>,\n",
       "    <span style=\"color: #008000; text-decoration-color: #008000\">'DAF'</span>: <span style=\"color: #008080; text-decoration-color: #008080; font-weight: bold\">4.266259432267337</span>,\n",
       "    <span style=\"color: #008000; text-decoration-color: #008000\">'Precision'</span>: <span style=\"color: #008080; text-decoration-color: #008080; font-weight: bold\">0.6739130434782609</span>,\n",
       "    <span style=\"color: #008000; text-decoration-color: #008000\">'Recall'</span>: <span style=\"color: #008080; text-decoration-color: #008080; font-weight: bold\">0.512396694214876</span>,\n",
       "    <span style=\"color: #008000; text-decoration-color: #008000\">'Accuracy'</span>: <span style=\"color: #008080; text-decoration-color: #008080; font-weight: bold\">0.8838120104438643</span>,\n",
       "    <span style=\"color: #008000; text-decoration-color: #008000\">'TPR'</span>: <span style=\"color: #008080; text-decoration-color: #008080; font-weight: bold\">0.512396694214876</span>,\n",
       "    <span style=\"color: #008000; text-decoration-color: #008000\">'FPR'</span>: <span style=\"color: #008080; text-decoration-color: #008080; font-weight: bold\">0.046511627906976744</span>,\n",
       "    <span style=\"color: #008000; text-decoration-color: #008000\">'TNR'</span>: <span style=\"color: #008080; text-decoration-color: #008080; font-weight: bold\">0.9534883720930233</span>,\n",
       "    <span style=\"color: #008000; text-decoration-color: #008000\">'FNR'</span>: <span style=\"color: #008080; text-decoration-color: #008080; font-weight: bold\">0.48760330578512395</span>,\n",
       "    <span style=\"color: #008000; text-decoration-color: #008000\">'TP'</span>: <span style=\"color: #008080; text-decoration-color: #008080; font-weight: bold\">62</span>,\n",
       "    <span style=\"color: #008000; text-decoration-color: #008000\">'FP'</span>: <span style=\"color: #008080; text-decoration-color: #008080; font-weight: bold\">30</span>,\n",
       "    <span style=\"color: #008000; text-decoration-color: #008000\">'TN'</span>: <span style=\"color: #008080; text-decoration-color: #008080; font-weight: bold\">615</span>,\n",
       "    <span style=\"color: #008000; text-decoration-color: #008000\">'FN'</span>: <span style=\"color: #008080; text-decoration-color: #008080; font-weight: bold\">59</span>,\n",
       "    <span style=\"color: #008000; text-decoration-color: #008000\">'MAE'</span>: <span style=\"color: #008080; text-decoration-color: #008080; font-weight: bold\">0.17895551253438688</span>,\n",
       "    <span style=\"color: #008000; text-decoration-color: #008000\">'RMSE'</span>: <span style=\"color: #008080; text-decoration-color: #008080; font-weight: bold\">0.2930696514331469</span>,\n",
       "    <span style=\"color: #008000; text-decoration-color: #008000\">'R2'</span>: <span style=\"color: #008080; text-decoration-color: #008080; font-weight: bold\">-1.4161107520383238</span>\n",
       "<span style=\"font-weight: bold\">}</span>\n",
       "</pre>\n"
      ],
      "text/plain": [
       "\u001b[1m{\u001b[0m\n",
       "    \u001b[32m'F1'\u001b[0m: \u001b[1;36m0.5821596244131455\u001b[0m,\n",
       "    \u001b[32m'DAF'\u001b[0m: \u001b[1;36m4.266259432267337\u001b[0m,\n",
       "    \u001b[32m'Precision'\u001b[0m: \u001b[1;36m0.6739130434782609\u001b[0m,\n",
       "    \u001b[32m'Recall'\u001b[0m: \u001b[1;36m0.512396694214876\u001b[0m,\n",
       "    \u001b[32m'Accuracy'\u001b[0m: \u001b[1;36m0.8838120104438643\u001b[0m,\n",
       "    \u001b[32m'TPR'\u001b[0m: \u001b[1;36m0.512396694214876\u001b[0m,\n",
       "    \u001b[32m'FPR'\u001b[0m: \u001b[1;36m0.046511627906976744\u001b[0m,\n",
       "    \u001b[32m'TNR'\u001b[0m: \u001b[1;36m0.9534883720930233\u001b[0m,\n",
       "    \u001b[32m'FNR'\u001b[0m: \u001b[1;36m0.48760330578512395\u001b[0m,\n",
       "    \u001b[32m'TP'\u001b[0m: \u001b[1;36m62\u001b[0m,\n",
       "    \u001b[32m'FP'\u001b[0m: \u001b[1;36m30\u001b[0m,\n",
       "    \u001b[32m'TN'\u001b[0m: \u001b[1;36m615\u001b[0m,\n",
       "    \u001b[32m'FN'\u001b[0m: \u001b[1;36m59\u001b[0m,\n",
       "    \u001b[32m'MAE'\u001b[0m: \u001b[1;36m0.17895551253438688\u001b[0m,\n",
       "    \u001b[32m'RMSE'\u001b[0m: \u001b[1;36m0.2930696514331469\u001b[0m,\n",
       "    \u001b[32m'R2'\u001b[0m: \u001b[1;36m-1.4161107520383238\u001b[0m\n",
       "\u001b[1m}\u001b[0m\n"
      ]
     },
     "metadata": {},
     "output_type": "display_data"
    }
   ],
   "source": [
    "from __future__ import annotations\n",
    "\n",
    "from pathlib import Path\n",
    "\n",
    "import dill\n",
    "import numpy as np\n",
    "import rich\n",
    "from matbench_discovery.enums import MbdKey\n",
    "from matbench_discovery.metrics import stable_metrics\n",
    "from pymatviz import Key\n",
    "from tqdm.auto import tqdm\n",
    "\n",
    "results_dir = Path(\n",
    "    \"/net/csefiles/coc-fung-cluster/nima/shared/repositories/jmp-backbone/notebooks/results/epoch0-step57444/\"\n",
    ")\n",
    "results = list(results_dir.glob(\"*.dill\"))\n",
    "print(f\"Found {len(results)} results\")\n",
    "\n",
    "predicted_eform_list: list[float] = []\n",
    "true_eform_list: list[float] = []\n",
    "\n",
    "predicted_ehull_list: list[float] = []\n",
    "true_ehull_list: list[float] = []\n",
    "\n",
    "for result_path in tqdm(results):\n",
    "    with result_path.open(\"rb\") as f:\n",
    "        result = dill.load(f)\n",
    "\n",
    "    # Ignore non-unique prototypes\n",
    "    if not result[\"metadata\"][Key.uniq_proto.value]:\n",
    "        continue\n",
    "\n",
    "    eform_pred = result[\"energy\"]\n",
    "    predicted_eform_list.append(eform_pred)\n",
    "\n",
    "    eform_true = result[\"metadata\"][MbdKey.e_form_wbm.value]\n",
    "    true_eform_list.append(eform_true)\n",
    "\n",
    "    hull_true = result[\"metadata\"][MbdKey.each_true.value]\n",
    "    true_ehull_list.append(hull_true)\n",
    "\n",
    "    hull_pred = hull_true + (eform_pred - eform_true)\n",
    "    predicted_ehull_list.append(hull_pred)\n",
    "\n",
    "predicted_eform = np.array(predicted_eform_list)\n",
    "true_eform = np.array(true_eform_list)\n",
    "\n",
    "predicted_ehull = np.array(predicted_ehull_list)\n",
    "true_ehull = np.array(true_ehull_list)\n",
    "\n",
    "rich.print(stable_metrics(true_ehull, predicted_ehull))"
   ]
  }
 ],
 "metadata": {
  "kernelspec": {
   "display_name": "jmp-peft",
   "language": "python",
   "name": "python3"
  },
  "language_info": {
   "codemirror_mode": {
    "name": "ipython",
    "version": 3
   },
   "file_extension": ".py",
   "mimetype": "text/x-python",
   "name": "python",
   "nbconvert_exporter": "python",
   "pygments_lexer": "ipython3",
   "version": "3.11.9"
  }
 },
 "nbformat": 4,
 "nbformat_minor": 2
}
